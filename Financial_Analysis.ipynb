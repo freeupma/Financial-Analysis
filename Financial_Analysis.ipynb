{
  "nbformat": 4,
  "nbformat_minor": 0,
  "metadata": {
    "colab": {
      "provenance": []
    },
    "kernelspec": {
      "name": "python3",
      "display_name": "Python 3"
    },
    "language_info": {
      "name": "python"
    }
  },
  "cells": [
    {
      "cell_type": "code",
      "execution_count": null,
      "metadata": {
        "id": "2wo_Tj8b7Q0v"
      },
      "outputs": [],
      "source": []
    },
    {
      "cell_type": "code",
      "source": [],
      "metadata": {
        "id": "6gAf_0iMTIIs"
      },
      "execution_count": null,
      "outputs": []
    },
    {
      "cell_type": "markdown",
      "source": [
        "   * Which individuals are are likely to have or use bank accounts in Rwanda, Kenya, Uganda and Tanzania?\n",
        "  * Which demographic factors are likely to have driven the outcome?\n",
        "*   Does their geographical location have influence on the count of this accounts\n",
        "*   Does the level of education affect this?\n",
        "\n"
      ],
      "metadata": {
        "id": "sn5dpIFl22_1"
      }
    },
    {
      "cell_type": "code",
      "execution_count": null,
      "metadata": {
        "id": "laoA22-XKAyH"
      },
      "outputs": [],
      "source": [
        "# Import the libraries\n",
        "import pandas as pd\n",
        "import numpy as np\n",
        "import matplotlib.pyplot as plt\n",
        "import pylab\n",
        "import sys\n",
        "import seaborn as sns\n",
        "import plotly.express as px\n",
        "from scipy import stats\n",
        "\n",
        "\n",
        "%matplotlib inline"
      ]
    },
    {
      "cell_type": "code",
      "source": [
        "# Load the financial dataset\n",
        "# Preview the top rows and their respective columns\n",
        "#Dataset='https://bit.ly/FinancialDataset'\n",
        "fin_data=pd.read_csv('/Financial Dataset - 1(2).csv')\n",
        "fin_data.head()"
      ],
      "metadata": {
        "colab": {
          "base_uri": "https://localhost:8080/",
          "height": 427
        },
        "id": "JdmH2-MZTe5m",
        "outputId": "f17f629e-ce94-4429-9835-1ff1d4de7937"
      },
      "execution_count": null,
      "outputs": [
        {
          "output_type": "execute_result",
          "data": {
            "text/plain": [
              "  country  year    uniqueid Has a Bank account Type of Location  \\\n",
              "0   Kenya  2018  uniqueid_1                Yes            Rural   \n",
              "1   Kenya  2018  uniqueid_2                 No            Rural   \n",
              "2   Kenya  2018  uniqueid_3                Yes            Urban   \n",
              "3   Kenya  2018  uniqueid_4                 No            Rural   \n",
              "4   Kenya  2018  uniqueid_5                 No            Urban   \n",
              "\n",
              "  Cell Phone Access  household_size  Respondent Age gender_of_respondent  \\\n",
              "0               Yes             3.0            24.0               Female   \n",
              "1                No             5.0            70.0               Female   \n",
              "2               Yes             5.0            26.0                 Male   \n",
              "3               Yes             5.0            34.0               Female   \n",
              "4                No             8.0            26.0                 Male   \n",
              "\n",
              "  The relathip with head           marital_status  \\\n",
              "0                 Spouse  Married/Living together   \n",
              "1      Head of Household                  Widowed   \n",
              "2         Other relative     Single/Never Married   \n",
              "3      Head of Household  Married/Living together   \n",
              "4                  Child     Single/Never Married   \n",
              "\n",
              "               Level of Educuation                Type of Job  \n",
              "0              Secondary education              Self employed  \n",
              "1              No formal education       Government Dependent  \n",
              "2  Vocational/Specialised training              Self employed  \n",
              "3                Primary education  Formally employed Private  \n",
              "4                Primary education        Informally employed  "
            ],
            "text/html": [
              "\n",
              "  <div id=\"df-3785193c-9efd-4dab-a551-46e9629d09b4\">\n",
              "    <div class=\"colab-df-container\">\n",
              "      <div>\n",
              "<style scoped>\n",
              "    .dataframe tbody tr th:only-of-type {\n",
              "        vertical-align: middle;\n",
              "    }\n",
              "\n",
              "    .dataframe tbody tr th {\n",
              "        vertical-align: top;\n",
              "    }\n",
              "\n",
              "    .dataframe thead th {\n",
              "        text-align: right;\n",
              "    }\n",
              "</style>\n",
              "<table border=\"1\" class=\"dataframe\">\n",
              "  <thead>\n",
              "    <tr style=\"text-align: right;\">\n",
              "      <th></th>\n",
              "      <th>country</th>\n",
              "      <th>year</th>\n",
              "      <th>uniqueid</th>\n",
              "      <th>Has a Bank account</th>\n",
              "      <th>Type of Location</th>\n",
              "      <th>Cell Phone Access</th>\n",
              "      <th>household_size</th>\n",
              "      <th>Respondent Age</th>\n",
              "      <th>gender_of_respondent</th>\n",
              "      <th>The relathip with head</th>\n",
              "      <th>marital_status</th>\n",
              "      <th>Level of Educuation</th>\n",
              "      <th>Type of Job</th>\n",
              "    </tr>\n",
              "  </thead>\n",
              "  <tbody>\n",
              "    <tr>\n",
              "      <th>0</th>\n",
              "      <td>Kenya</td>\n",
              "      <td>2018</td>\n",
              "      <td>uniqueid_1</td>\n",
              "      <td>Yes</td>\n",
              "      <td>Rural</td>\n",
              "      <td>Yes</td>\n",
              "      <td>3.0</td>\n",
              "      <td>24.0</td>\n",
              "      <td>Female</td>\n",
              "      <td>Spouse</td>\n",
              "      <td>Married/Living together</td>\n",
              "      <td>Secondary education</td>\n",
              "      <td>Self employed</td>\n",
              "    </tr>\n",
              "    <tr>\n",
              "      <th>1</th>\n",
              "      <td>Kenya</td>\n",
              "      <td>2018</td>\n",
              "      <td>uniqueid_2</td>\n",
              "      <td>No</td>\n",
              "      <td>Rural</td>\n",
              "      <td>No</td>\n",
              "      <td>5.0</td>\n",
              "      <td>70.0</td>\n",
              "      <td>Female</td>\n",
              "      <td>Head of Household</td>\n",
              "      <td>Widowed</td>\n",
              "      <td>No formal education</td>\n",
              "      <td>Government Dependent</td>\n",
              "    </tr>\n",
              "    <tr>\n",
              "      <th>2</th>\n",
              "      <td>Kenya</td>\n",
              "      <td>2018</td>\n",
              "      <td>uniqueid_3</td>\n",
              "      <td>Yes</td>\n",
              "      <td>Urban</td>\n",
              "      <td>Yes</td>\n",
              "      <td>5.0</td>\n",
              "      <td>26.0</td>\n",
              "      <td>Male</td>\n",
              "      <td>Other relative</td>\n",
              "      <td>Single/Never Married</td>\n",
              "      <td>Vocational/Specialised training</td>\n",
              "      <td>Self employed</td>\n",
              "    </tr>\n",
              "    <tr>\n",
              "      <th>3</th>\n",
              "      <td>Kenya</td>\n",
              "      <td>2018</td>\n",
              "      <td>uniqueid_4</td>\n",
              "      <td>No</td>\n",
              "      <td>Rural</td>\n",
              "      <td>Yes</td>\n",
              "      <td>5.0</td>\n",
              "      <td>34.0</td>\n",
              "      <td>Female</td>\n",
              "      <td>Head of Household</td>\n",
              "      <td>Married/Living together</td>\n",
              "      <td>Primary education</td>\n",
              "      <td>Formally employed Private</td>\n",
              "    </tr>\n",
              "    <tr>\n",
              "      <th>4</th>\n",
              "      <td>Kenya</td>\n",
              "      <td>2018</td>\n",
              "      <td>uniqueid_5</td>\n",
              "      <td>No</td>\n",
              "      <td>Urban</td>\n",
              "      <td>No</td>\n",
              "      <td>8.0</td>\n",
              "      <td>26.0</td>\n",
              "      <td>Male</td>\n",
              "      <td>Child</td>\n",
              "      <td>Single/Never Married</td>\n",
              "      <td>Primary education</td>\n",
              "      <td>Informally employed</td>\n",
              "    </tr>\n",
              "  </tbody>\n",
              "</table>\n",
              "</div>\n",
              "      <button class=\"colab-df-convert\" onclick=\"convertToInteractive('df-3785193c-9efd-4dab-a551-46e9629d09b4')\"\n",
              "              title=\"Convert this dataframe to an interactive table.\"\n",
              "              style=\"display:none;\">\n",
              "        \n",
              "  <svg xmlns=\"http://www.w3.org/2000/svg\" height=\"24px\"viewBox=\"0 0 24 24\"\n",
              "       width=\"24px\">\n",
              "    <path d=\"M0 0h24v24H0V0z\" fill=\"none\"/>\n",
              "    <path d=\"M18.56 5.44l.94 2.06.94-2.06 2.06-.94-2.06-.94-.94-2.06-.94 2.06-2.06.94zm-11 1L8.5 8.5l.94-2.06 2.06-.94-2.06-.94L8.5 2.5l-.94 2.06-2.06.94zm10 10l.94 2.06.94-2.06 2.06-.94-2.06-.94-.94-2.06-.94 2.06-2.06.94z\"/><path d=\"M17.41 7.96l-1.37-1.37c-.4-.4-.92-.59-1.43-.59-.52 0-1.04.2-1.43.59L10.3 9.45l-7.72 7.72c-.78.78-.78 2.05 0 2.83L4 21.41c.39.39.9.59 1.41.59.51 0 1.02-.2 1.41-.59l7.78-7.78 2.81-2.81c.8-.78.8-2.07 0-2.86zM5.41 20L4 18.59l7.72-7.72 1.47 1.35L5.41 20z\"/>\n",
              "  </svg>\n",
              "      </button>\n",
              "      \n",
              "  <style>\n",
              "    .colab-df-container {\n",
              "      display:flex;\n",
              "      flex-wrap:wrap;\n",
              "      gap: 12px;\n",
              "    }\n",
              "\n",
              "    .colab-df-convert {\n",
              "      background-color: #E8F0FE;\n",
              "      border: none;\n",
              "      border-radius: 50%;\n",
              "      cursor: pointer;\n",
              "      display: none;\n",
              "      fill: #1967D2;\n",
              "      height: 32px;\n",
              "      padding: 0 0 0 0;\n",
              "      width: 32px;\n",
              "    }\n",
              "\n",
              "    .colab-df-convert:hover {\n",
              "      background-color: #E2EBFA;\n",
              "      box-shadow: 0px 1px 2px rgba(60, 64, 67, 0.3), 0px 1px 3px 1px rgba(60, 64, 67, 0.15);\n",
              "      fill: #174EA6;\n",
              "    }\n",
              "\n",
              "    [theme=dark] .colab-df-convert {\n",
              "      background-color: #3B4455;\n",
              "      fill: #D2E3FC;\n",
              "    }\n",
              "\n",
              "    [theme=dark] .colab-df-convert:hover {\n",
              "      background-color: #434B5C;\n",
              "      box-shadow: 0px 1px 3px 1px rgba(0, 0, 0, 0.15);\n",
              "      filter: drop-shadow(0px 1px 2px rgba(0, 0, 0, 0.3));\n",
              "      fill: #FFFFFF;\n",
              "    }\n",
              "  </style>\n",
              "\n",
              "      <script>\n",
              "        const buttonEl =\n",
              "          document.querySelector('#df-3785193c-9efd-4dab-a551-46e9629d09b4 button.colab-df-convert');\n",
              "        buttonEl.style.display =\n",
              "          google.colab.kernel.accessAllowed ? 'block' : 'none';\n",
              "\n",
              "        async function convertToInteractive(key) {\n",
              "          const element = document.querySelector('#df-3785193c-9efd-4dab-a551-46e9629d09b4');\n",
              "          const dataTable =\n",
              "            await google.colab.kernel.invokeFunction('convertToInteractive',\n",
              "                                                     [key], {});\n",
              "          if (!dataTable) return;\n",
              "\n",
              "          const docLinkHtml = 'Like what you see? Visit the ' +\n",
              "            '<a target=\"_blank\" href=https://colab.research.google.com/notebooks/data_table.ipynb>data table notebook</a>'\n",
              "            + ' to learn more about interactive tables.';\n",
              "          element.innerHTML = '';\n",
              "          dataTable['output_type'] = 'display_data';\n",
              "          await google.colab.output.renderOutput(dataTable, element);\n",
              "          const docLink = document.createElement('div');\n",
              "          docLink.innerHTML = docLinkHtml;\n",
              "          element.appendChild(docLink);\n",
              "        }\n",
              "      </script>\n",
              "    </div>\n",
              "  </div>\n",
              "  "
            ]
          },
          "metadata": {},
          "execution_count": 6
        }
      ]
    },
    {
      "cell_type": "markdown",
      "source": [
        "**Observation**\n",
        "\n",
        "*   Gets the first 5 rows in the dataset\n",
        "\n",
        "*   Know that i have the right data to work on"
      ],
      "metadata": {
        "id": "e806xWXWF1HN"
      }
    },
    {
      "cell_type": "code",
      "source": [
        "#from google.colab import drive\n",
        "#drive.mount('/content/drive')"
      ],
      "metadata": {
        "id": "sOyGalTl8hiA"
      },
      "execution_count": null,
      "outputs": []
    },
    {
      "cell_type": "code",
      "source": [
        "# Check the number of rows and columns\n",
        "fin_data.shape"
      ],
      "metadata": {
        "id": "KvZCu1J26a5e",
        "colab": {
          "base_uri": "https://localhost:8080/"
        },
        "outputId": "4f4e4eab-0a41-4bf5-bdb1-c461e15f1791"
      },
      "execution_count": null,
      "outputs": [
        {
          "output_type": "execute_result",
          "data": {
            "text/plain": [
              "(23524, 13)"
            ]
          },
          "metadata": {},
          "execution_count": 8
        }
      ]
    },
    {
      "cell_type": "markdown",
      "source": [
        "**Observation**\n",
        "\n",
        "\n",
        "*   There are 23,524 rows and 13 columns in our dataset\n",
        "\n",
        "\n"
      ],
      "metadata": {
        "id": "uQ6WPKTr6mpC"
      }
    },
    {
      "cell_type": "code",
      "source": [
        "# Get the information about the dataframe\n",
        "fin_data.info()"
      ],
      "metadata": {
        "id": "QWxbRXLyVeUR",
        "colab": {
          "base_uri": "https://localhost:8080/"
        },
        "outputId": "475e82a3-a67d-4629-ab51-11987adef06b"
      },
      "execution_count": null,
      "outputs": [
        {
          "output_type": "stream",
          "name": "stdout",
          "text": [
            "<class 'pandas.core.frame.DataFrame'>\n",
            "RangeIndex: 23524 entries, 0 to 23523\n",
            "Data columns (total 13 columns):\n",
            " #   Column                  Non-Null Count  Dtype  \n",
            "---  ------                  --------------  -----  \n",
            " 0   country                 23510 non-null  object \n",
            " 1   year                    23524 non-null  int64  \n",
            " 2   uniqueid                23524 non-null  object \n",
            " 3   Has a Bank account      23488 non-null  object \n",
            " 4   Type of Location        23509 non-null  object \n",
            " 5   Cell Phone Access       23513 non-null  object \n",
            " 6   household_size          23496 non-null  float64\n",
            " 7   Respondent Age          23490 non-null  float64\n",
            " 8   gender_of_respondent    23490 non-null  object \n",
            " 9   The relathip with head  23520 non-null  object \n",
            " 10  marital_status          23492 non-null  object \n",
            " 11  Level of Educuation     23495 non-null  object \n",
            " 12  Type of Job             23494 non-null  object \n",
            "dtypes: float64(2), int64(1), object(10)\n",
            "memory usage: 2.3+ MB\n"
          ]
        }
      ]
    },
    {
      "cell_type": "markdown",
      "source": [
        "**Observation**\n",
        "\n",
        "\n",
        "\n",
        "*   The dataset has 23524 rows and 13 columns: from index 0 to 23,524\n",
        "*   The memory size is 2.3+ MB\n",
        "\n",
        "\n",
        "*   We have null values in 11 out of the 13 columns\n",
        "*   The data type of each column has been outlined\n",
        "\n",
        "\n"
      ],
      "metadata": {
        "id": "QrA7IhvwWCTW"
      }
    },
    {
      "cell_type": "code",
      "source": [
        "# Fix the messy column titles\n",
        "fin_data.columns=fin_data.columns.str.strip().str.lower().str.replace(' ', '_')\n",
        "#fin_data.columns\n",
        "fin_data.rename(columns= {'the_relathip_with_head' : 'the_relationship_with_head'}, inplace=True)\n",
        "fin_data.head()"
      ],
      "metadata": {
        "id": "aqpRsWr0zSfy",
        "colab": {
          "base_uri": "https://localhost:8080/",
          "height": 374
        },
        "outputId": "5fb4d473-ba7f-4bca-daa0-6e69ad558611"
      },
      "execution_count": null,
      "outputs": [
        {
          "output_type": "execute_result",
          "data": {
            "text/plain": [
              "  country  year    uniqueid has_a_bank_account type_of_location  \\\n",
              "0   Kenya  2018  uniqueid_1                Yes            Rural   \n",
              "1   Kenya  2018  uniqueid_2                 No            Rural   \n",
              "2   Kenya  2018  uniqueid_3                Yes            Urban   \n",
              "3   Kenya  2018  uniqueid_4                 No            Rural   \n",
              "4   Kenya  2018  uniqueid_5                 No            Urban   \n",
              "\n",
              "  cell_phone_access  household_size  respondent_age gender_of_respondent  \\\n",
              "0               Yes             3.0            24.0               Female   \n",
              "1                No             5.0            70.0               Female   \n",
              "2               Yes             5.0            26.0                 Male   \n",
              "3               Yes             5.0            34.0               Female   \n",
              "4                No             8.0            26.0                 Male   \n",
              "\n",
              "  the_relationship_with_head           marital_status  \\\n",
              "0                     Spouse  Married/Living together   \n",
              "1          Head of Household                  Widowed   \n",
              "2             Other relative     Single/Never Married   \n",
              "3          Head of Household  Married/Living together   \n",
              "4                      Child     Single/Never Married   \n",
              "\n",
              "               level_of_educuation                type_of_job  \n",
              "0              Secondary education              Self employed  \n",
              "1              No formal education       Government Dependent  \n",
              "2  Vocational/Specialised training              Self employed  \n",
              "3                Primary education  Formally employed Private  \n",
              "4                Primary education        Informally employed  "
            ],
            "text/html": [
              "\n",
              "  <div id=\"df-226ff789-f2e6-4297-acf6-ab4427d50eac\">\n",
              "    <div class=\"colab-df-container\">\n",
              "      <div>\n",
              "<style scoped>\n",
              "    .dataframe tbody tr th:only-of-type {\n",
              "        vertical-align: middle;\n",
              "    }\n",
              "\n",
              "    .dataframe tbody tr th {\n",
              "        vertical-align: top;\n",
              "    }\n",
              "\n",
              "    .dataframe thead th {\n",
              "        text-align: right;\n",
              "    }\n",
              "</style>\n",
              "<table border=\"1\" class=\"dataframe\">\n",
              "  <thead>\n",
              "    <tr style=\"text-align: right;\">\n",
              "      <th></th>\n",
              "      <th>country</th>\n",
              "      <th>year</th>\n",
              "      <th>uniqueid</th>\n",
              "      <th>has_a_bank_account</th>\n",
              "      <th>type_of_location</th>\n",
              "      <th>cell_phone_access</th>\n",
              "      <th>household_size</th>\n",
              "      <th>respondent_age</th>\n",
              "      <th>gender_of_respondent</th>\n",
              "      <th>the_relationship_with_head</th>\n",
              "      <th>marital_status</th>\n",
              "      <th>level_of_educuation</th>\n",
              "      <th>type_of_job</th>\n",
              "    </tr>\n",
              "  </thead>\n",
              "  <tbody>\n",
              "    <tr>\n",
              "      <th>0</th>\n",
              "      <td>Kenya</td>\n",
              "      <td>2018</td>\n",
              "      <td>uniqueid_1</td>\n",
              "      <td>Yes</td>\n",
              "      <td>Rural</td>\n",
              "      <td>Yes</td>\n",
              "      <td>3.0</td>\n",
              "      <td>24.0</td>\n",
              "      <td>Female</td>\n",
              "      <td>Spouse</td>\n",
              "      <td>Married/Living together</td>\n",
              "      <td>Secondary education</td>\n",
              "      <td>Self employed</td>\n",
              "    </tr>\n",
              "    <tr>\n",
              "      <th>1</th>\n",
              "      <td>Kenya</td>\n",
              "      <td>2018</td>\n",
              "      <td>uniqueid_2</td>\n",
              "      <td>No</td>\n",
              "      <td>Rural</td>\n",
              "      <td>No</td>\n",
              "      <td>5.0</td>\n",
              "      <td>70.0</td>\n",
              "      <td>Female</td>\n",
              "      <td>Head of Household</td>\n",
              "      <td>Widowed</td>\n",
              "      <td>No formal education</td>\n",
              "      <td>Government Dependent</td>\n",
              "    </tr>\n",
              "    <tr>\n",
              "      <th>2</th>\n",
              "      <td>Kenya</td>\n",
              "      <td>2018</td>\n",
              "      <td>uniqueid_3</td>\n",
              "      <td>Yes</td>\n",
              "      <td>Urban</td>\n",
              "      <td>Yes</td>\n",
              "      <td>5.0</td>\n",
              "      <td>26.0</td>\n",
              "      <td>Male</td>\n",
              "      <td>Other relative</td>\n",
              "      <td>Single/Never Married</td>\n",
              "      <td>Vocational/Specialised training</td>\n",
              "      <td>Self employed</td>\n",
              "    </tr>\n",
              "    <tr>\n",
              "      <th>3</th>\n",
              "      <td>Kenya</td>\n",
              "      <td>2018</td>\n",
              "      <td>uniqueid_4</td>\n",
              "      <td>No</td>\n",
              "      <td>Rural</td>\n",
              "      <td>Yes</td>\n",
              "      <td>5.0</td>\n",
              "      <td>34.0</td>\n",
              "      <td>Female</td>\n",
              "      <td>Head of Household</td>\n",
              "      <td>Married/Living together</td>\n",
              "      <td>Primary education</td>\n",
              "      <td>Formally employed Private</td>\n",
              "    </tr>\n",
              "    <tr>\n",
              "      <th>4</th>\n",
              "      <td>Kenya</td>\n",
              "      <td>2018</td>\n",
              "      <td>uniqueid_5</td>\n",
              "      <td>No</td>\n",
              "      <td>Urban</td>\n",
              "      <td>No</td>\n",
              "      <td>8.0</td>\n",
              "      <td>26.0</td>\n",
              "      <td>Male</td>\n",
              "      <td>Child</td>\n",
              "      <td>Single/Never Married</td>\n",
              "      <td>Primary education</td>\n",
              "      <td>Informally employed</td>\n",
              "    </tr>\n",
              "  </tbody>\n",
              "</table>\n",
              "</div>\n",
              "      <button class=\"colab-df-convert\" onclick=\"convertToInteractive('df-226ff789-f2e6-4297-acf6-ab4427d50eac')\"\n",
              "              title=\"Convert this dataframe to an interactive table.\"\n",
              "              style=\"display:none;\">\n",
              "        \n",
              "  <svg xmlns=\"http://www.w3.org/2000/svg\" height=\"24px\"viewBox=\"0 0 24 24\"\n",
              "       width=\"24px\">\n",
              "    <path d=\"M0 0h24v24H0V0z\" fill=\"none\"/>\n",
              "    <path d=\"M18.56 5.44l.94 2.06.94-2.06 2.06-.94-2.06-.94-.94-2.06-.94 2.06-2.06.94zm-11 1L8.5 8.5l.94-2.06 2.06-.94-2.06-.94L8.5 2.5l-.94 2.06-2.06.94zm10 10l.94 2.06.94-2.06 2.06-.94-2.06-.94-.94-2.06-.94 2.06-2.06.94z\"/><path d=\"M17.41 7.96l-1.37-1.37c-.4-.4-.92-.59-1.43-.59-.52 0-1.04.2-1.43.59L10.3 9.45l-7.72 7.72c-.78.78-.78 2.05 0 2.83L4 21.41c.39.39.9.59 1.41.59.51 0 1.02-.2 1.41-.59l7.78-7.78 2.81-2.81c.8-.78.8-2.07 0-2.86zM5.41 20L4 18.59l7.72-7.72 1.47 1.35L5.41 20z\"/>\n",
              "  </svg>\n",
              "      </button>\n",
              "      \n",
              "  <style>\n",
              "    .colab-df-container {\n",
              "      display:flex;\n",
              "      flex-wrap:wrap;\n",
              "      gap: 12px;\n",
              "    }\n",
              "\n",
              "    .colab-df-convert {\n",
              "      background-color: #E8F0FE;\n",
              "      border: none;\n",
              "      border-radius: 50%;\n",
              "      cursor: pointer;\n",
              "      display: none;\n",
              "      fill: #1967D2;\n",
              "      height: 32px;\n",
              "      padding: 0 0 0 0;\n",
              "      width: 32px;\n",
              "    }\n",
              "\n",
              "    .colab-df-convert:hover {\n",
              "      background-color: #E2EBFA;\n",
              "      box-shadow: 0px 1px 2px rgba(60, 64, 67, 0.3), 0px 1px 3px 1px rgba(60, 64, 67, 0.15);\n",
              "      fill: #174EA6;\n",
              "    }\n",
              "\n",
              "    [theme=dark] .colab-df-convert {\n",
              "      background-color: #3B4455;\n",
              "      fill: #D2E3FC;\n",
              "    }\n",
              "\n",
              "    [theme=dark] .colab-df-convert:hover {\n",
              "      background-color: #434B5C;\n",
              "      box-shadow: 0px 1px 3px 1px rgba(0, 0, 0, 0.15);\n",
              "      filter: drop-shadow(0px 1px 2px rgba(0, 0, 0, 0.3));\n",
              "      fill: #FFFFFF;\n",
              "    }\n",
              "  </style>\n",
              "\n",
              "      <script>\n",
              "        const buttonEl =\n",
              "          document.querySelector('#df-226ff789-f2e6-4297-acf6-ab4427d50eac button.colab-df-convert');\n",
              "        buttonEl.style.display =\n",
              "          google.colab.kernel.accessAllowed ? 'block' : 'none';\n",
              "\n",
              "        async function convertToInteractive(key) {\n",
              "          const element = document.querySelector('#df-226ff789-f2e6-4297-acf6-ab4427d50eac');\n",
              "          const dataTable =\n",
              "            await google.colab.kernel.invokeFunction('convertToInteractive',\n",
              "                                                     [key], {});\n",
              "          if (!dataTable) return;\n",
              "\n",
              "          const docLinkHtml = 'Like what you see? Visit the ' +\n",
              "            '<a target=\"_blank\" href=https://colab.research.google.com/notebooks/data_table.ipynb>data table notebook</a>'\n",
              "            + ' to learn more about interactive tables.';\n",
              "          element.innerHTML = '';\n",
              "          dataTable['output_type'] = 'display_data';\n",
              "          await google.colab.output.renderOutput(dataTable, element);\n",
              "          const docLink = document.createElement('div');\n",
              "          docLink.innerHTML = docLinkHtml;\n",
              "          element.appendChild(docLink);\n",
              "        }\n",
              "      </script>\n",
              "    </div>\n",
              "  </div>\n",
              "  "
            ]
          },
          "metadata": {},
          "execution_count": 10
        }
      ]
    },
    {
      "cell_type": "markdown",
      "source": [
        "**Observation**\n",
        "\n",
        "\n",
        "*   Removed the whitespaces in the column titles\n",
        "*   Renamed the column title 'the_relathip_with_head' to 'the_relationship_with_head'} (Spelling error)\n",
        "\n"
      ],
      "metadata": {
        "id": "qJgKc6co94z2"
      }
    },
    {
      "cell_type": "code",
      "source": [
        "#Descriptive statistics:to summarize the measures of central tendency and dispersion\n",
        "# Excludes NaN\n",
        "# Captures numerical columns\n",
        "fin_data.describe()"
      ],
      "metadata": {
        "id": "8esCcV59W2d2",
        "colab": {
          "base_uri": "https://localhost:8080/",
          "height": 300
        },
        "outputId": "ec2cb843-4c30-4599-fc7a-617c8e2fe472"
      },
      "execution_count": null,
      "outputs": [
        {
          "output_type": "execute_result",
          "data": {
            "text/plain": [
              "               year  household_size  respondent_age\n",
              "count  23524.000000    23496.000000    23490.000000\n",
              "mean    2016.979000        3.681818       38.804300\n",
              "std        0.899669        2.279933       16.519996\n",
              "min     2016.000000        0.000000       16.000000\n",
              "25%     2016.000000        2.000000       26.000000\n",
              "50%     2017.000000        3.000000       35.000000\n",
              "75%     2018.000000        5.000000       49.000000\n",
              "max     2056.000000       21.000000      100.000000"
            ],
            "text/html": [
              "\n",
              "  <div id=\"df-5f5f38cf-18e5-4a2f-b38d-db21589a023f\">\n",
              "    <div class=\"colab-df-container\">\n",
              "      <div>\n",
              "<style scoped>\n",
              "    .dataframe tbody tr th:only-of-type {\n",
              "        vertical-align: middle;\n",
              "    }\n",
              "\n",
              "    .dataframe tbody tr th {\n",
              "        vertical-align: top;\n",
              "    }\n",
              "\n",
              "    .dataframe thead th {\n",
              "        text-align: right;\n",
              "    }\n",
              "</style>\n",
              "<table border=\"1\" class=\"dataframe\">\n",
              "  <thead>\n",
              "    <tr style=\"text-align: right;\">\n",
              "      <th></th>\n",
              "      <th>year</th>\n",
              "      <th>household_size</th>\n",
              "      <th>respondent_age</th>\n",
              "    </tr>\n",
              "  </thead>\n",
              "  <tbody>\n",
              "    <tr>\n",
              "      <th>count</th>\n",
              "      <td>23524.000000</td>\n",
              "      <td>23496.000000</td>\n",
              "      <td>23490.000000</td>\n",
              "    </tr>\n",
              "    <tr>\n",
              "      <th>mean</th>\n",
              "      <td>2016.979000</td>\n",
              "      <td>3.681818</td>\n",
              "      <td>38.804300</td>\n",
              "    </tr>\n",
              "    <tr>\n",
              "      <th>std</th>\n",
              "      <td>0.899669</td>\n",
              "      <td>2.279933</td>\n",
              "      <td>16.519996</td>\n",
              "    </tr>\n",
              "    <tr>\n",
              "      <th>min</th>\n",
              "      <td>2016.000000</td>\n",
              "      <td>0.000000</td>\n",
              "      <td>16.000000</td>\n",
              "    </tr>\n",
              "    <tr>\n",
              "      <th>25%</th>\n",
              "      <td>2016.000000</td>\n",
              "      <td>2.000000</td>\n",
              "      <td>26.000000</td>\n",
              "    </tr>\n",
              "    <tr>\n",
              "      <th>50%</th>\n",
              "      <td>2017.000000</td>\n",
              "      <td>3.000000</td>\n",
              "      <td>35.000000</td>\n",
              "    </tr>\n",
              "    <tr>\n",
              "      <th>75%</th>\n",
              "      <td>2018.000000</td>\n",
              "      <td>5.000000</td>\n",
              "      <td>49.000000</td>\n",
              "    </tr>\n",
              "    <tr>\n",
              "      <th>max</th>\n",
              "      <td>2056.000000</td>\n",
              "      <td>21.000000</td>\n",
              "      <td>100.000000</td>\n",
              "    </tr>\n",
              "  </tbody>\n",
              "</table>\n",
              "</div>\n",
              "      <button class=\"colab-df-convert\" onclick=\"convertToInteractive('df-5f5f38cf-18e5-4a2f-b38d-db21589a023f')\"\n",
              "              title=\"Convert this dataframe to an interactive table.\"\n",
              "              style=\"display:none;\">\n",
              "        \n",
              "  <svg xmlns=\"http://www.w3.org/2000/svg\" height=\"24px\"viewBox=\"0 0 24 24\"\n",
              "       width=\"24px\">\n",
              "    <path d=\"M0 0h24v24H0V0z\" fill=\"none\"/>\n",
              "    <path d=\"M18.56 5.44l.94 2.06.94-2.06 2.06-.94-2.06-.94-.94-2.06-.94 2.06-2.06.94zm-11 1L8.5 8.5l.94-2.06 2.06-.94-2.06-.94L8.5 2.5l-.94 2.06-2.06.94zm10 10l.94 2.06.94-2.06 2.06-.94-2.06-.94-.94-2.06-.94 2.06-2.06.94z\"/><path d=\"M17.41 7.96l-1.37-1.37c-.4-.4-.92-.59-1.43-.59-.52 0-1.04.2-1.43.59L10.3 9.45l-7.72 7.72c-.78.78-.78 2.05 0 2.83L4 21.41c.39.39.9.59 1.41.59.51 0 1.02-.2 1.41-.59l7.78-7.78 2.81-2.81c.8-.78.8-2.07 0-2.86zM5.41 20L4 18.59l7.72-7.72 1.47 1.35L5.41 20z\"/>\n",
              "  </svg>\n",
              "      </button>\n",
              "      \n",
              "  <style>\n",
              "    .colab-df-container {\n",
              "      display:flex;\n",
              "      flex-wrap:wrap;\n",
              "      gap: 12px;\n",
              "    }\n",
              "\n",
              "    .colab-df-convert {\n",
              "      background-color: #E8F0FE;\n",
              "      border: none;\n",
              "      border-radius: 50%;\n",
              "      cursor: pointer;\n",
              "      display: none;\n",
              "      fill: #1967D2;\n",
              "      height: 32px;\n",
              "      padding: 0 0 0 0;\n",
              "      width: 32px;\n",
              "    }\n",
              "\n",
              "    .colab-df-convert:hover {\n",
              "      background-color: #E2EBFA;\n",
              "      box-shadow: 0px 1px 2px rgba(60, 64, 67, 0.3), 0px 1px 3px 1px rgba(60, 64, 67, 0.15);\n",
              "      fill: #174EA6;\n",
              "    }\n",
              "\n",
              "    [theme=dark] .colab-df-convert {\n",
              "      background-color: #3B4455;\n",
              "      fill: #D2E3FC;\n",
              "    }\n",
              "\n",
              "    [theme=dark] .colab-df-convert:hover {\n",
              "      background-color: #434B5C;\n",
              "      box-shadow: 0px 1px 3px 1px rgba(0, 0, 0, 0.15);\n",
              "      filter: drop-shadow(0px 1px 2px rgba(0, 0, 0, 0.3));\n",
              "      fill: #FFFFFF;\n",
              "    }\n",
              "  </style>\n",
              "\n",
              "      <script>\n",
              "        const buttonEl =\n",
              "          document.querySelector('#df-5f5f38cf-18e5-4a2f-b38d-db21589a023f button.colab-df-convert');\n",
              "        buttonEl.style.display =\n",
              "          google.colab.kernel.accessAllowed ? 'block' : 'none';\n",
              "\n",
              "        async function convertToInteractive(key) {\n",
              "          const element = document.querySelector('#df-5f5f38cf-18e5-4a2f-b38d-db21589a023f');\n",
              "          const dataTable =\n",
              "            await google.colab.kernel.invokeFunction('convertToInteractive',\n",
              "                                                     [key], {});\n",
              "          if (!dataTable) return;\n",
              "\n",
              "          const docLinkHtml = 'Like what you see? Visit the ' +\n",
              "            '<a target=\"_blank\" href=https://colab.research.google.com/notebooks/data_table.ipynb>data table notebook</a>'\n",
              "            + ' to learn more about interactive tables.';\n",
              "          element.innerHTML = '';\n",
              "          dataTable['output_type'] = 'display_data';\n",
              "          await google.colab.output.renderOutput(dataTable, element);\n",
              "          const docLink = document.createElement('div');\n",
              "          docLink.innerHTML = docLinkHtml;\n",
              "          element.appendChild(docLink);\n",
              "        }\n",
              "      </script>\n",
              "    </div>\n",
              "  </div>\n",
              "  "
            ]
          },
          "metadata": {},
          "execution_count": 11
        }
      ]
    },
    {
      "cell_type": "markdown",
      "source": [
        "**Observation**\n",
        "\n",
        "\n",
        "\n",
        "*   The mean of the respondents age and household size is 38.80 and 3.68 respectively\n",
        "*   The minimum and maximum years from which the data was extracted is 2016 to 2056\n",
        "    \n",
        "\n",
        "*   The year 2056 must be an outlier; far from the years 2016-2018 when the data was extracted from finscope surveys\n",
        "\n",
        "*   The household_size and respondent ages have outliers ie values far from the mean.\n",
        "\n",
        "\n",
        "*   Note: outliers affect the mean\n",
        "\n",
        "\n",
        "\n",
        "\n",
        "\n",
        "\n",
        "\n",
        "\n"
      ],
      "metadata": {
        "id": "hyAcf7ZRYkP8"
      }
    },
    {
      "cell_type": "code",
      "source": [
        "# Check if there are any missing values in our dataset\n",
        "fin_data.isnull().values.any()"
      ],
      "metadata": {
        "id": "3EAalUYmeVgC",
        "colab": {
          "base_uri": "https://localhost:8080/"
        },
        "outputId": "7bc25a3e-76d2-4c6f-cd21-9f7eee2b8d74"
      },
      "execution_count": null,
      "outputs": [
        {
          "output_type": "execute_result",
          "data": {
            "text/plain": [
              "True"
            ]
          },
          "metadata": {},
          "execution_count": 12
        }
      ]
    },
    {
      "cell_type": "markdown",
      "source": [
        "**Observation**\n",
        "\n",
        "\n",
        "*   **True** indicates that we have null values in the data\n"
      ],
      "metadata": {
        "id": "GIVWkPi-e2Ix"
      }
    },
    {
      "cell_type": "code",
      "source": [
        "# Return the total count of missing values\n",
        "\n",
        "print(fin_data.isnull().sum().sum())"
      ],
      "metadata": {
        "id": "z04Hj7mIVYDV",
        "colab": {
          "base_uri": "https://localhost:8080/"
        },
        "outputId": "4ff73d7e-1dc6-40db-bb4e-0691a658f246"
      },
      "execution_count": null,
      "outputs": [
        {
          "output_type": "stream",
          "name": "stdout",
          "text": [
            "267\n"
          ]
        }
      ]
    },
    {
      "cell_type": "markdown",
      "source": [
        "**Observation**\n",
        "*        \n",
        "The total number of missing values is 267"
      ],
      "metadata": {
        "id": "awRoEkH5k_LW"
      }
    },
    {
      "cell_type": "code",
      "source": [
        "#Handle the missing values\n",
        "fin_data= fin_data.fillna(method='ffill')\n",
        "print(fin_data)"
      ],
      "metadata": {
        "id": "3CYU3AP6lNkR",
        "colab": {
          "base_uri": "https://localhost:8080/"
        },
        "outputId": "b4a50527-84bf-444a-9b04-df14bf210e1a"
      },
      "execution_count": null,
      "outputs": [
        {
          "output_type": "stream",
          "name": "stdout",
          "text": [
            "      country  year       uniqueid has_a_bank_account type_of_location  \\\n",
            "0       Kenya  2018     uniqueid_1                Yes            Rural   \n",
            "1       Kenya  2018     uniqueid_2                 No            Rural   \n",
            "2       Kenya  2018     uniqueid_3                Yes            Urban   \n",
            "3       Kenya  2018     uniqueid_4                 No            Rural   \n",
            "4       Kenya  2018     uniqueid_5                 No            Urban   \n",
            "...       ...   ...            ...                ...              ...   \n",
            "23519  Uganda  2018  uniqueid_2113                 No            Rural   \n",
            "23520  Uganda  2018  uniqueid_2114                 No            Rural   \n",
            "23521  Uganda  2018  uniqueid_2115                 No            Rural   \n",
            "23522  Uganda  2018  uniqueid_2116                 No            Urban   \n",
            "23523  Uganda  2018  uniqueid_2117                 No            Rural   \n",
            "\n",
            "      cell_phone_access  household_size  respondent_age gender_of_respondent  \\\n",
            "0                   Yes             3.0            24.0               Female   \n",
            "1                    No             5.0            70.0               Female   \n",
            "2                   Yes             5.0            26.0                 Male   \n",
            "3                   Yes             5.0            34.0               Female   \n",
            "4                    No             8.0            26.0                 Male   \n",
            "...                 ...             ...             ...                  ...   \n",
            "23519               Yes             4.0            48.0               Female   \n",
            "23520               Yes             2.0            27.0               Female   \n",
            "23521               Yes             5.0            27.0               Female   \n",
            "23522               Yes             7.0            30.0               Female   \n",
            "23523               Yes            10.0            20.0                 Male   \n",
            "\n",
            "      the_relationship_with_head           marital_status  \\\n",
            "0                         Spouse  Married/Living together   \n",
            "1              Head of Household                  Widowed   \n",
            "2                 Other relative     Single/Never Married   \n",
            "3              Head of Household  Married/Living together   \n",
            "4                          Child     Single/Never Married   \n",
            "...                          ...                      ...   \n",
            "23519          Head of Household       Divorced/Seperated   \n",
            "23520          Head of Household     Single/Never Married   \n",
            "23521                     Parent                  Widowed   \n",
            "23522                     Parent       Divorced/Seperated   \n",
            "23523                      Child     Single/Never Married   \n",
            "\n",
            "                   level_of_educuation                type_of_job  \n",
            "0                  Secondary education              Self employed  \n",
            "1                  No formal education       Government Dependent  \n",
            "2      Vocational/Specialised training              Self employed  \n",
            "3                    Primary education  Formally employed Private  \n",
            "4                    Primary education        Informally employed  \n",
            "...                                ...                        ...  \n",
            "23519              No formal education               Other Income  \n",
            "23520              Secondary education               Other Income  \n",
            "23521                Primary education               Other Income  \n",
            "23522              Secondary education              Self employed  \n",
            "23523              Secondary education                  No Income  \n",
            "\n",
            "[23524 rows x 13 columns]\n"
          ]
        }
      ]
    },
    {
      "cell_type": "code",
      "source": [
        "fin_data.info()"
      ],
      "metadata": {
        "id": "G1mlsABKnJZS",
        "colab": {
          "base_uri": "https://localhost:8080/"
        },
        "outputId": "e5175117-d27a-4b9a-fcbe-39d593afc628"
      },
      "execution_count": null,
      "outputs": [
        {
          "output_type": "stream",
          "name": "stdout",
          "text": [
            "<class 'pandas.core.frame.DataFrame'>\n",
            "RangeIndex: 23524 entries, 0 to 23523\n",
            "Data columns (total 13 columns):\n",
            " #   Column                      Non-Null Count  Dtype  \n",
            "---  ------                      --------------  -----  \n",
            " 0   country                     23524 non-null  object \n",
            " 1   year                        23524 non-null  int64  \n",
            " 2   uniqueid                    23524 non-null  object \n",
            " 3   has_a_bank_account          23524 non-null  object \n",
            " 4   type_of_location            23524 non-null  object \n",
            " 5   cell_phone_access           23524 non-null  object \n",
            " 6   household_size              23524 non-null  float64\n",
            " 7   respondent_age              23524 non-null  float64\n",
            " 8   gender_of_respondent        23524 non-null  object \n",
            " 9   the_relationship_with_head  23524 non-null  object \n",
            " 10  marital_status              23524 non-null  object \n",
            " 11  level_of_educuation         23524 non-null  object \n",
            " 12  type_of_job                 23524 non-null  object \n",
            "dtypes: float64(2), int64(1), object(10)\n",
            "memory usage: 2.3+ MB\n"
          ]
        }
      ]
    },
    {
      "cell_type": "markdown",
      "source": [
        "**Observation**\n",
        "\n",
        "\n",
        "*   Used 'Forward fill' to propagate the last valid observation forward. \n",
        "\n",
        "*   We have no null values as shown from the output above(23,524 rows)\n",
        "*   \n",
        "\n",
        "\n",
        "\n"
      ],
      "metadata": {
        "id": "8uMuzyeUnZY9"
      }
    },
    {
      "cell_type": "code",
      "source": [
        "# Check if there is any missing values in the new dataset(fin_data1)\n",
        "fin_data.isnull().values.any()"
      ],
      "metadata": {
        "id": "WN5hbBHmns1p",
        "colab": {
          "base_uri": "https://localhost:8080/"
        },
        "outputId": "75579de4-05fe-4b98-f20b-0770f908bfc7"
      },
      "execution_count": null,
      "outputs": [
        {
          "output_type": "execute_result",
          "data": {
            "text/plain": [
              "False"
            ]
          },
          "metadata": {},
          "execution_count": 16
        }
      ]
    },
    {
      "cell_type": "markdown",
      "source": [
        "**Observation**\n",
        "\n",
        "\n",
        "*   The output **False** indicates that we have no null values\n",
        "*  All the missing values have been handled\n",
        "\n",
        "\n",
        "\n"
      ],
      "metadata": {
        "id": "z5YZztAooCun"
      }
    },
    {
      "cell_type": "code",
      "source": [
        "# Confirm the number of missing values in each column\n",
        "fin_data.isnull().sum()"
      ],
      "metadata": {
        "id": "Sza7FuLEwDkN",
        "colab": {
          "base_uri": "https://localhost:8080/"
        },
        "outputId": "0f0b1b92-2ad5-475f-90ae-d251d5644220"
      },
      "execution_count": null,
      "outputs": [
        {
          "output_type": "execute_result",
          "data": {
            "text/plain": [
              "country                       0\n",
              "year                          0\n",
              "uniqueid                      0\n",
              "has_a_bank_account            0\n",
              "type_of_location              0\n",
              "cell_phone_access             0\n",
              "household_size                0\n",
              "respondent_age                0\n",
              "gender_of_respondent          0\n",
              "the_relationship_with_head    0\n",
              "marital_status                0\n",
              "level_of_educuation           0\n",
              "type_of_job                   0\n",
              "dtype: int64"
            ]
          },
          "metadata": {},
          "execution_count": 17
        }
      ]
    },
    {
      "cell_type": "markdown",
      "source": [
        "**Observation**\n",
        "\n",
        "\n",
        "\n",
        "*   The are no missing values in the 13 columns\n",
        "\n",
        "\n",
        "\n",
        "\n"
      ],
      "metadata": {
        "id": "Hh6qt8Giwk_i"
      }
    },
    {
      "cell_type": "code",
      "source": [
        "#Check for unique values in the \"year\" column\n",
        "\n",
        "fin_data['year'].unique()\n",
        "fin_data['year'].value_counts()\n"
      ],
      "metadata": {
        "id": "gwWZQhxODFkz",
        "colab": {
          "base_uri": "https://localhost:8080/"
        },
        "outputId": "779e7a1e-b616-4bb8-ae06-9c1878e59571"
      },
      "execution_count": null,
      "outputs": [
        {
          "output_type": "execute_result",
          "data": {
            "text/plain": [
              "2016    8734\n",
              "2018    8167\n",
              "2017    6620\n",
              "2029       1\n",
              "2056       1\n",
              "2039       1\n",
              "Name: year, dtype: int64"
            ]
          },
          "metadata": {},
          "execution_count": 18
        }
      ]
    },
    {
      "cell_type": "markdown",
      "source": [
        "**Observation**\n",
        "\n",
        "\n",
        "*   3 years out of the scope(2016-2018)\n"
      ],
      "metadata": {
        "id": "I1Tb7qDDDlub"
      }
    },
    {
      "cell_type": "markdown",
      "source": [
        "****"
      ],
      "metadata": {
        "id": "6JG2CLjgDP1T"
      }
    },
    {
      "cell_type": "code",
      "source": [
        "#Find outliers using a scatter plot\n",
        "\n",
        "fin_data_with_outliers = px.scatter(x=fin_data[\"respondent_age\"],y=fin_data[\"year\"])\n",
        "fin_data_with_outliers.show()"
      ],
      "metadata": {
        "id": "Tw10bq4YzowE",
        "colab": {
          "base_uri": "https://localhost:8080/",
          "height": 542
        },
        "outputId": "0fb9736a-afd6-4da8-c8b9-43338bc7c820"
      },
      "execution_count": null,
      "outputs": [
        {
          "output_type": "display_data",
          "data": {
            "text/html": [
              "<html>\n",
              "<head><meta charset=\"utf-8\" /></head>\n",
              "<body>\n",
              "    <div>            <script src=\"https://cdnjs.cloudflare.com/ajax/libs/mathjax/2.7.5/MathJax.js?config=TeX-AMS-MML_SVG\"></script><script type=\"text/javascript\">if (window.MathJax) {MathJax.Hub.Config({SVG: {font: \"STIX-Web\"}});}</script>                <script type=\"text/javascript\">window.PlotlyConfig = {MathJaxConfig: 'local'};</script>\n",
              "        <script src=\"https://cdn.plot.ly/plotly-2.8.3.min.js\"></script>                <div id=\"d32ff4bd-7ab8-4c1a-bfe9-644ae7fc2bfc\" class=\"plotly-graph-div\" style=\"height:525px; width:100%;\"></div>            <script type=\"text/javascript\">                                    window.PLOTLYENV=window.PLOTLYENV || {};                                    if (document.getElementById(\"d32ff4bd-7ab8-4c1a-bfe9-644ae7fc2bfc\")) {                    Plotly.newPlot(                        \"d32ff4bd-7ab8-4c1a-bfe9-644ae7fc2bfc\",                        [{\"hovertemplate\":\"x=%{x}<br>y=%{y}<extra></extra>\",\"legendgroup\":\"\",\"marker\":{\"color\":\"#636efa\",\"symbol\":\"circle\"},\"mode\":\"markers\",\"name\":\"\",\"showlegend\":false,\"x\":[24.0,70.0,26.0,34.0,26.0,26.0,32.0,42.0,54.0,76.0,40.0,69.0,64.0,31.0,26.0,38.0,47.0,27.0,48.0,25.0,26.0,32.0,34.0,21.0,18.0,22.0,26.0,31.0,26.0,58.0,55.0,38.0,62.0,29.0,42.0,48.0,35.0,45.0,45.0,70.0,67.0,19.0,80.0,66.0,31.0,50.0,29.0,33.0,28.0,28.0,26.0,51.0,16.0,17.0,22.0,66.0,50.0,33.0,21.0,30.0,30.0,67.0,50.0,25.0,25.0,30.0,37.0,30.0,28.0,30.0,59.0,29.0,31.0,27.0,55.0,34.0,17.0,21.0,37.0,42.0,40.0,17.0,65.0,18.0,34.0,46.0,54.0,27.0,21.0,64.0,56.0,40.0,21.0,18.0,42.0,22.0,52.0,35.0,64.0,42.0,23.0,42.0,27.0,43.0,16.0,26.0,19.0,49.0,44.0,30.0,16.0,50.0,30.0,49.0,72.0,18.0,21.0,52.0,55.0,35.0,38.0,19.0,53.0,17.0,29.0,24.0,63.0,47.0,42.0,17.0,28.0,62.0,52.0,44.0,28.0,30.0,39.0,81.0,62.0,78.0,28.0,28.0,39.0,42.0,17.0,50.0,25.0,34.0,33.0,26.0,36.0,78.0,36.0,17.0,20.0,30.0,38.0,28.0,50.0,40.0,62.0,40.0,44.0,25.0,59.0,36.0,60.0,42.0,56.0,37.0,28.0,50.0,55.0,65.0,48.0,65.0,55.0,31.0,55.0,44.0,72.0,18.0,26.0,53.0,28.0,34.0,55.0,48.0,50.0,65.0,53.0,45.0,29.0,36.0,18.0,18.0,33.0,25.0,30.0,48.0,80.0,42.0,69.0,23.0,67.0,58.0,27.0,42.0,80.0,95.0,26.0,38.0,64.0,16.0,49.0,33.0,35.0,28.0,38.0,29.0,26.0,17.0,36.0,28.0,22.0,65.0,54.0,66.0,54.0,70.0,44.0,22.0,53.0,28.0,42.0,24.0,40.0,33.0,60.0,40.0,17.0,30.0,16.0,19.0,54.0,33.0,29.0,71.0,26.0,23.0,27.0,23.0,47.0,40.0,17.0,42.0,54.0,33.0,52.0,57.0,42.0,24.0,32.0,55.0,66.0,49.0,25.0,34.0,85.0,31.0,32.0,65.0,30.0,46.0,29.0,33.0,29.0,28.0,30.0,43.0,21.0,16.0,56.0,44.0,57.0,38.0,30.0,46.0,29.0,24.0,32.0,57.0,69.0,80.0,31.0,35.0,52.0,26.0,35.0,42.0,68.0,55.0,35.0,27.0,25.0,56.0,30.0,23.0,40.0,32.0,45.0,16.0,47.0,63.0,47.0,24.0,45.0,41.0,22.0,49.0,42.0,28.0,19.0,57.0,68.0,70.0,63.0,24.0,48.0,43.0,31.0,48.0,58.0,44.0,25.0,61.0,50.0,52.0,72.0,31.0,95.0,75.0,31.0,23.0,72.0,46.0,34.0,27.0,23.0,31.0,27.0,24.0,45.0,29.0,18.0,67.0,71.0,44.0,23.0,55.0,20.0,37.0,26.0,17.0,18.0,72.0,86.0,22.0,28.0,71.0,95.0,68.0,33.0,23.0,72.0,23.0,43.0,50.0,23.0,31.0,17.0,42.0,24.0,37.0,57.0,17.0,52.0,20.0,25.0,52.0,18.0,23.0,26.0,48.0,75.0,37.0,25.0,21.0,16.0,25.0,29.0,18.0,40.0,21.0,19.0,35.0,30.0,73.0,71.0,41.0,29.0,22.0,40.0,20.0,75.0,60.0,20.0,38.0,26.0,29.0,25.0,29.0,66.0,29.0,21.0,65.0,45.0,70.0,37.0,58.0,32.0,63.0,70.0,54.0,30.0,50.0,50.0,50.0,50.0,50.0,25.0,19.0,16.0,50.0,18.0,46.0,25.0,16.0,47.0,70.0,70.0,35.0,40.0,42.0,45.0,17.0,30.0,25.0,44.0,30.0,30.0,20.0,33.0,50.0,20.0,63.0,72.0,28.0,72.0,61.0,22.0,40.0,85.0,49.0,80.0,23.0,31.0,28.0,25.0,38.0,28.0,50.0,34.0,93.0,78.0,30.0,78.0,24.0,70.0,60.0,45.0,70.0,22.0,29.0,39.0,19.0,34.0,34.0,30.0,18.0,63.0,30.0,39.0,53.0,73.0,24.0,30.0,41.0,48.0,21.0,60.0,66.0,16.0,52.0,43.0,28.0,31.0,85.0,65.0,54.0,33.0,40.0,20.0,23.0,35.0,65.0,25.0,50.0,29.0,16.0,56.0,74.0,60.0,34.0,28.0,78.0,59.0,38.0,25.0,30.0,33.0,59.0,29.0,42.0,27.0,35.0,40.0,38.0,37.0,75.0,16.0,23.0,40.0,57.0,20.0,50.0,55.0,36.0,41.0,28.0,36.0,32.0,70.0,60.0,32.0,25.0,35.0,38.0,23.0,41.0,26.0,42.0,18.0,39.0,20.0,32.0,24.0,18.0,30.0,32.0,29.0,20.0,39.0,56.0,30.0,55.0,55.0,39.0,23.0,30.0,35.0,35.0,23.0,58.0,28.0,19.0,63.0,68.0,21.0,16.0,31.0,42.0,75.0,70.0,62.0,70.0,40.0,55.0,47.0,42.0,30.0,43.0,46.0,39.0,35.0,56.0,39.0,57.0,34.0,30.0,38.0,28.0,40.0,40.0,32.0,52.0,18.0,38.0,21.0,55.0,17.0,70.0,32.0,40.0,53.0,32.0,39.0,38.0,88.0,72.0,36.0,28.0,18.0,70.0,18.0,26.0,70.0,51.0,20.0,26.0,49.0,65.0,30.0,74.0,36.0,28.0,22.0,17.0,58.0,34.0,18.0,20.0,85.0,26.0,25.0,26.0,30.0,38.0,17.0,47.0,50.0,16.0,24.0,35.0,34.0,42.0,40.0,37.0,18.0,19.0,27.0,90.0,20.0,24.0,67.0,47.0,64.0,64.0,40.0,50.0,29.0,35.0,45.0,88.0,37.0,22.0,21.0,52.0,60.0,47.0,45.0,27.0,30.0,17.0,56.0,20.0,36.0,38.0,35.0,17.0,35.0,32.0,25.0,60.0,45.0,42.0,17.0,28.0,18.0,42.0,47.0,42.0,56.0,58.0,21.0,22.0,37.0,55.0,40.0,42.0,20.0,44.0,40.0,30.0,70.0,60.0,65.0,30.0,68.0,75.0,55.0,48.0,77.0,35.0,23.0,61.0,35.0,18.0,21.0,38.0,26.0,23.0,53.0,38.0,44.0,26.0,23.0,28.0,84.0,85.0,72.0,18.0,29.0,82.0,40.0,48.0,30.0,35.0,25.0,47.0,26.0,84.0,38.0,19.0,40.0,26.0,26.0,64.0,64.0,74.0,53.0,36.0,43.0,28.0,40.0,44.0,18.0,60.0,70.0,28.0,30.0,56.0,30.0,30.0,35.0,38.0,22.0,38.0,49.0,71.0,56.0,60.0,27.0,52.0,54.0,64.0,28.0,50.0,43.0,27.0,69.0,29.0,30.0,25.0,89.0,20.0,25.0,17.0,40.0,43.0,19.0,20.0,55.0,95.0,30.0,56.0,46.0,20.0,42.0,35.0,24.0,40.0,32.0,24.0,21.0,19.0,70.0,58.0,32.0,45.0,33.0,69.0,19.0,54.0,21.0,29.0,27.0,16.0,21.0,47.0,21.0,20.0,26.0,23.0,35.0,28.0,46.0,28.0,25.0,35.0,42.0,31.0,35.0,27.0,25.0,35.0,35.0,54.0,72.0,35.0,68.0,30.0,28.0,25.0,48.0,76.0,45.0,28.0,71.0,19.0,22.0,59.0,22.0,34.0,41.0,46.0,25.0,20.0,20.0,50.0,34.0,71.0,33.0,33.0,34.0,37.0,35.0,18.0,45.0,26.0,80.0,39.0,45.0,25.0,16.0,45.0,52.0,16.0,56.0,34.0,50.0,35.0,17.0,58.0,16.0,22.0,20.0,67.0,39.0,85.0,17.0,47.0,24.0,29.0,47.0,32.0,18.0,29.0,34.0,24.0,40.0,17.0,75.0,35.0,26.0,42.0,76.0,52.0,23.0,24.0,30.0,40.0,26.0,20.0,53.0,71.0,35.0,55.0,22.0,45.0,49.0,16.0,50.0,40.0,38.0,29.0,29.0,36.0,29.0,26.0,56.0,63.0,25.0,42.0,39.0,33.0,21.0,25.0,88.0,28.0,32.0,45.0,21.0,39.0,32.0,24.0,22.0,51.0,18.0,37.0,40.0,55.0,28.0,47.0,43.0,28.0,18.0,40.0,35.0,23.0,35.0,25.0,26.0,70.0,67.0,53.0,49.0,35.0,35.0,20.0,20.0,26.0,27.0,34.0,32.0,22.0,27.0,20.0,55.0,22.0,29.0,34.0,25.0,52.0,19.0,40.0,23.0,45.0,33.0,50.0,30.0,42.0,40.0,43.0,70.0,28.0,30.0,32.0,42.0,23.0,34.0,20.0,56.0,36.0,82.0,74.0,32.0,45.0,20.0,19.0,38.0,61.0,58.0,57.0,19.0,60.0,22.0,25.0,40.0,19.0,79.0,51.0,30.0,34.0,28.0,28.0,60.0,35.0,39.0,17.0,75.0,45.0,44.0,16.0,22.0,82.0,23.0,30.0,60.0,60.0,34.0,35.0,43.0,28.0,37.0,43.0,26.0,36.0,32.0,25.0,50.0,57.0,78.0,31.0,60.0,62.0,31.0,30.0,24.0,18.0,42.0,21.0,24.0,40.0,44.0,57.0,50.0,24.0,35.0,64.0,20.0,24.0,65.0,73.0,23.0,65.0,29.0,37.0,26.0,65.0,32.0,20.0,40.0,19.0,19.0,42.0,44.0,62.0,17.0,36.0,48.0,26.0,29.0,54.0,48.0,31.0,26.0,49.0,32.0,21.0,30.0,32.0,40.0,21.0,40.0,16.0,42.0,80.0,22.0,63.0,29.0,54.0,25.0,27.0,51.0,35.0,49.0,40.0,33.0,24.0,31.0,28.0,70.0,28.0,22.0,45.0,50.0,20.0,28.0,26.0,40.0,36.0,33.0,31.0,40.0,45.0,22.0,35.0,85.0,34.0,50.0,46.0,30.0,25.0,30.0,29.0,37.0,26.0,64.0,44.0,35.0,24.0,26.0,22.0,40.0,62.0,48.0,40.0,49.0,59.0,27.0,69.0,24.0,28.0,45.0,29.0,32.0,22.0,25.0,40.0,41.0,30.0,45.0,61.0,19.0,26.0,73.0,17.0,43.0,18.0,42.0,54.0,27.0,80.0,20.0,35.0,31.0,73.0,25.0,45.0,65.0,72.0,42.0,24.0,30.0,52.0,26.0,30.0,36.0,42.0,30.0,22.0,22.0,51.0,28.0,40.0,24.0,50.0,35.0,32.0,18.0,32.0,32.0,29.0,83.0,40.0,46.0,21.0,24.0,38.0,21.0,85.0,51.0,39.0,19.0,38.0,25.0,71.0,49.0,28.0,36.0,70.0,45.0,27.0,19.0,57.0,22.0,18.0,31.0,78.0,35.0,25.0,40.0,38.0,59.0,41.0,40.0,18.0,21.0,50.0,34.0,33.0,29.0,62.0,20.0,25.0,25.0,75.0,29.0,50.0,60.0,45.0,68.0,32.0,16.0,24.0,51.0,32.0,34.0,18.0,61.0,40.0,16.0,59.0,82.0,53.0,21.0,30.0,35.0,36.0,59.0,40.0,49.0,40.0,35.0,37.0,30.0,30.0,46.0,36.0,22.0,22.0,45.0,17.0,26.0,23.0,37.0,17.0,50.0,65.0,28.0,24.0,38.0,59.0,21.0,34.0,27.0,28.0,19.0,66.0,42.0,36.0,50.0,49.0,72.0,23.0,40.0,70.0,70.0,19.0,20.0,16.0,72.0,56.0,59.0,42.0,28.0,28.0,29.0,40.0,32.0,70.0,35.0,30.0,60.0,80.0,42.0,42.0,68.0,54.0,48.0,62.0,44.0,50.0,40.0,17.0,28.0,30.0,30.0,30.0,22.0,54.0,26.0,28.0,73.0,70.0,16.0,26.0,56.0,94.0,26.0,30.0,58.0,38.0,37.0,22.0,28.0,30.0,28.0,34.0,39.0,48.0,42.0,39.0,22.0,39.0,40.0,45.0,22.0,32.0,26.0,40.0,29.0,51.0,41.0,20.0,19.0,60.0,58.0,70.0,29.0,58.0,30.0,61.0,18.0,21.0,50.0,25.0,28.0,39.0,35.0,45.0,35.0,26.0,95.0,78.0,45.0,38.0,77.0,43.0,37.0,17.0,25.0,26.0,43.0,45.0,20.0,36.0,40.0,45.0,16.0,23.0,32.0,27.0,30.0,47.0,47.0,46.0,40.0,28.0,31.0,44.0,42.0,28.0,18.0,18.0,27.0,20.0,79.0,26.0,17.0,49.0,33.0,58.0,55.0,60.0,39.0,87.0,26.0,45.0,53.0,21.0,93.0,43.0,25.0,16.0,21.0,26.0,30.0,45.0,41.0,53.0,18.0,57.0,59.0,26.0,40.0,28.0,40.0,38.0,42.0,28.0,30.0,40.0,32.0,35.0,35.0,47.0,21.0,37.0,58.0,23.0,32.0,17.0,20.0,30.0,50.0,64.0,45.0,36.0,37.0,19.0,30.0,87.0,25.0,31.0,70.0,25.0,85.0,26.0,16.0,58.0,35.0,55.0,28.0,30.0,36.0,38.0,55.0,60.0,56.0,85.0,42.0,32.0,32.0,20.0,18.0,24.0,28.0,23.0,21.0,63.0,16.0,48.0,20.0,90.0,23.0,30.0,76.0,33.0,46.0,52.0,28.0,36.0,24.0,56.0,19.0,39.0,43.0,74.0,34.0,58.0,54.0,31.0,20.0,33.0,51.0,50.0,36.0,30.0,44.0,34.0,38.0,58.0,47.0,65.0,39.0,41.0,18.0,68.0,44.0,17.0,55.0,35.0,60.0,33.0,28.0,20.0,58.0,26.0,25.0,53.0,55.0,36.0,24.0,16.0,44.0,48.0,20.0,80.0,45.0,24.0,45.0,29.0,34.0,32.0,24.0,77.0,19.0,76.0,34.0,34.0,54.0,37.0,38.0,28.0,32.0,38.0,23.0,78.0,28.0,32.0,17.0,37.0,62.0,44.0,38.0,48.0,50.0,16.0,19.0,45.0,60.0,32.0,39.0,30.0,84.0,45.0,61.0,35.0,21.0,30.0,53.0,36.0,30.0,40.0,42.0,49.0,57.0,28.0,62.0,70.0,48.0,23.0,18.0,76.0,40.0,33.0,69.0,86.0,43.0,21.0,36.0,32.0,30.0,18.0,33.0,44.0,73.0,18.0,50.0,30.0,21.0,50.0,31.0,30.0,47.0,30.0,26.0,28.0,35.0,60.0,34.0,59.0,19.0,19.0,59.0,38.0,52.0,25.0,35.0,49.0,35.0,18.0,25.0,18.0,26.0,40.0,40.0,39.0,21.0,39.0,28.0,20.0,70.0,21.0,82.0,25.0,40.0,25.0,28.0,18.0,18.0,32.0,30.0,25.0,18.0,56.0,25.0,25.0,45.0,44.0,24.0,50.0,16.0,23.0,20.0,18.0,45.0,40.0,17.0,60.0,29.0,30.0,32.0,32.0,48.0,54.0,50.0,74.0,42.0,56.0,38.0,22.0,37.0,31.0,34.0,60.0,47.0,55.0,45.0,46.0,38.0,50.0,46.0,38.0,28.0,60.0,25.0,21.0,48.0,42.0,25.0,79.0,60.0,28.0,25.0,68.0,23.0,33.0,57.0,68.0,21.0,24.0,20.0,43.0,45.0,28.0,39.0,55.0,38.0,24.0,19.0,17.0,41.0,86.0,19.0,18.0,23.0,33.0,59.0,35.0,36.0,34.0,53.0,25.0,70.0,36.0,70.0,45.0,48.0,30.0,16.0,35.0,34.0,45.0,20.0,40.0,50.0,24.0,48.0,43.0,30.0,20.0,82.0,53.0,66.0,35.0,40.0,40.0,28.0,38.0,49.0,92.0,22.0,53.0,32.0,16.0,17.0,45.0,30.0,16.0,38.0,50.0,39.0,27.0,28.0,25.0,38.0,46.0,16.0,92.0,25.0,66.0,44.0,80.0,40.0,30.0,22.0,23.0,34.0,52.0,61.0,36.0,20.0,22.0,47.0,35.0,40.0,52.0,55.0,45.0,38.0,20.0,39.0,18.0,60.0,69.0,39.0,80.0,28.0,80.0,47.0,43.0,63.0,52.0,64.0,23.0,22.0,48.0,32.0,20.0,18.0,26.0,40.0,21.0,54.0,18.0,25.0,38.0,34.0,50.0,35.0,35.0,38.0,28.0,24.0,51.0,28.0,43.0,24.0,20.0,35.0,30.0,53.0,36.0,47.0,25.0,57.0,49.0,29.0,31.0,23.0,56.0,31.0,35.0,40.0,30.0,24.0,34.0,30.0,50.0,59.0,53.0,41.0,36.0,30.0,55.0,30.0,30.0,40.0,29.0,18.0,42.0,65.0,86.0,26.0,25.0,35.0,73.0,34.0,20.0,64.0,22.0,21.0,70.0,50.0,39.0,64.0,33.0,30.0,53.0,36.0,18.0,60.0,49.0,37.0,17.0,16.0,20.0,23.0,59.0,71.0,29.0,55.0,35.0,17.0,22.0,55.0,60.0,39.0,45.0,24.0,62.0,57.0,61.0,29.0,40.0,90.0,65.0,22.0,58.0,28.0,55.0,70.0,52.0,17.0,33.0,80.0,43.0,62.0,38.0,30.0,18.0,40.0,22.0,45.0,17.0,23.0,17.0,30.0,30.0,42.0,48.0,25.0,46.0,37.0,75.0,45.0,50.0,30.0,43.0,38.0,68.0,36.0,70.0,50.0,35.0,17.0,68.0,31.0,69.0,65.0,30.0,38.0,55.0,36.0,48.0,26.0,20.0,25.0,66.0,25.0,70.0,55.0,34.0,30.0,26.0,71.0,20.0,20.0,28.0,50.0,85.0,50.0,38.0,18.0,35.0,22.0,51.0,20.0,17.0,22.0,42.0,24.0,68.0,38.0,54.0,33.0,80.0,30.0,82.0,49.0,46.0,19.0,33.0,41.0,40.0,30.0,20.0,25.0,57.0,40.0,27.0,44.0,30.0,58.0,18.0,20.0,17.0,36.0,23.0,31.0,86.0,42.0,16.0,45.0,39.0,59.0,73.0,38.0,56.0,36.0,24.0,42.0,34.0,39.0,31.0,37.0,20.0,43.0,43.0,25.0,28.0,29.0,66.0,28.0,19.0,62.0,31.0,42.0,59.0,52.0,88.0,72.0,22.0,31.0,55.0,80.0,32.0,20.0,35.0,79.0,23.0,26.0,37.0,34.0,54.0,32.0,16.0,48.0,72.0,25.0,43.0,30.0,23.0,45.0,16.0,50.0,43.0,21.0,62.0,36.0,26.0,22.0,64.0,32.0,29.0,32.0,83.0,28.0,60.0,70.0,45.0,23.0,61.0,64.0,41.0,43.0,48.0,70.0,21.0,45.0,28.0,30.0,45.0,38.0,58.0,22.0,26.0,20.0,60.0,31.0,26.0,28.0,22.0,18.0,52.0,22.0,88.0,19.0,40.0,70.0,84.0,50.0,55.0,34.0,36.0,19.0,76.0,28.0,69.0,34.0,84.0,18.0,28.0,50.0,35.0,58.0,26.0,50.0,52.0,72.0,50.0,29.0,18.0,25.0,32.0,66.0,37.0,30.0,37.0,17.0,33.0,33.0,33.0,47.0,21.0,87.0,50.0,39.0,22.0,75.0,36.0,56.0,55.0,16.0,46.0,32.0,16.0,62.0,30.0,40.0,42.0,33.0,50.0,79.0,62.0,27.0,28.0,35.0,46.0,29.0,32.0,16.0,25.0,37.0,55.0,37.0,23.0,24.0,18.0,77.0,28.0,37.0,20.0,53.0,29.0,49.0,39.0,34.0,30.0,24.0,30.0,48.0,30.0,55.0,30.0,17.0,34.0,32.0,48.0,56.0,17.0,28.0,90.0,34.0,50.0,35.0,26.0,64.0,35.0,16.0,24.0,20.0,58.0,31.0,34.0,56.0,65.0,26.0,34.0,35.0,30.0,32.0,24.0,30.0,40.0,34.0,40.0,28.0,25.0,75.0,39.0,55.0,28.0,40.0,25.0,28.0,35.0,25.0,48.0,17.0,18.0,22.0,42.0,37.0,34.0,59.0,30.0,46.0,21.0,65.0,34.0,61.0,17.0,30.0,22.0,18.0,54.0,75.0,18.0,50.0,21.0,46.0,32.0,28.0,43.0,19.0,20.0,43.0,57.0,61.0,26.0,65.0,18.0,39.0,37.0,54.0,19.0,17.0,78.0,46.0,78.0,72.0,26.0,65.0,40.0,21.0,38.0,73.0,22.0,29.0,50.0,38.0,19.0,16.0,70.0,35.0,17.0,49.0,38.0,17.0,59.0,40.0,17.0,17.0,53.0,61.0,56.0,64.0,33.0,32.0,30.0,26.0,43.0,32.0,58.0,40.0,25.0,32.0,65.0,29.0,16.0,19.0,58.0,27.0,33.0,50.0,75.0,38.0,33.0,38.0,32.0,61.0,45.0,16.0,20.0,40.0,30.0,25.0,40.0,28.0,32.0,42.0,70.0,66.0,50.0,30.0,37.0,31.0,69.0,88.0,71.0,41.0,21.0,48.0,22.0,71.0,42.0,53.0,75.0,80.0,20.0,39.0,52.0,22.0,26.0,47.0,65.0,60.0,28.0,32.0,55.0,17.0,76.0,40.0,56.0,36.0,48.0,40.0,35.0,50.0,30.0,22.0,35.0,31.0,28.0,46.0,32.0,70.0,34.0,30.0,30.0,35.0,31.0,79.0,38.0,24.0,80.0,33.0,67.0,37.0,44.0,44.0,22.0,17.0,25.0,19.0,35.0,35.0,50.0,55.0,24.0,67.0,28.0,66.0,57.0,48.0,60.0,22.0,48.0,35.0,46.0,40.0,28.0,35.0,44.0,38.0,60.0,44.0,66.0,23.0,61.0,56.0,16.0,69.0,70.0,30.0,20.0,46.0,23.0,25.0,30.0,82.0,21.0,52.0,36.0,31.0,70.0,84.0,21.0,30.0,35.0,48.0,16.0,25.0,23.0,40.0,35.0,25.0,38.0,40.0,32.0,40.0,32.0,40.0,25.0,45.0,65.0,53.0,46.0,64.0,49.0,46.0,38.0,34.0,34.0,25.0,40.0,17.0,30.0,32.0,61.0,23.0,48.0,64.0,26.0,75.0,21.0,16.0,47.0,32.0,70.0,32.0,25.0,73.0,19.0,25.0,54.0,30.0,75.0,44.0,21.0,24.0,42.0,24.0,24.0,36.0,50.0,26.0,75.0,16.0,23.0,36.0,30.0,33.0,55.0,34.0,16.0,30.0,30.0,24.0,30.0,30.0,49.0,17.0,36.0,60.0,34.0,18.0,23.0,65.0,52.0,40.0,22.0,48.0,18.0,38.0,46.0,57.0,55.0,54.0,33.0,30.0,48.0,24.0,80.0,25.0,27.0,58.0,33.0,40.0,38.0,40.0,16.0,23.0,52.0,23.0,50.0,71.0,26.0,32.0,40.0,30.0,17.0,27.0,70.0,30.0,26.0,45.0,31.0,40.0,21.0,26.0,58.0,17.0,23.0,38.0,32.0,19.0,40.0,26.0,26.0,45.0,90.0,26.0,32.0,29.0,16.0,35.0,50.0,78.0,39.0,37.0,70.0,33.0,55.0,55.0,18.0,57.0,18.0,28.0,20.0,70.0,58.0,30.0,83.0,67.0,36.0,25.0,25.0,35.0,26.0,60.0,58.0,66.0,32.0,58.0,24.0,22.0,51.0,43.0,60.0,55.0,58.0,62.0,65.0,41.0,45.0,70.0,62.0,36.0,16.0,33.0,41.0,34.0,43.0,30.0,39.0,26.0,24.0,41.0,39.0,20.0,36.0,40.0,25.0,52.0,30.0,16.0,33.0,31.0,76.0,25.0,25.0,66.0,24.0,31.0,35.0,59.0,80.0,40.0,23.0,16.0,21.0,63.0,20.0,35.0,28.0,30.0,60.0,23.0,39.0,30.0,35.0,58.0,25.0,50.0,16.0,29.0,30.0,19.0,67.0,30.0,75.0,91.0,30.0,44.0,46.0,26.0,25.0,54.0,18.0,47.0,32.0,86.0,36.0,53.0,33.0,35.0,35.0,54.0,60.0,68.0,68.0,53.0,47.0,41.0,40.0,39.0,55.0,68.0,20.0,25.0,63.0,30.0,24.0,16.0,54.0,53.0,40.0,56.0,16.0,32.0,38.0,55.0,40.0,78.0,56.0,37.0,25.0,38.0,23.0,42.0,25.0,36.0,21.0,71.0,58.0,76.0,43.0,28.0,24.0,40.0,22.0,22.0,52.0,30.0,30.0,53.0,30.0,33.0,36.0,26.0,48.0,52.0,18.0,76.0,40.0,28.0,38.0,20.0,16.0,26.0,21.0,40.0,18.0,28.0,25.0,29.0,43.0,28.0,69.0,17.0,18.0,23.0,46.0,30.0,50.0,37.0,42.0,22.0,80.0,35.0,22.0,31.0,24.0,19.0,55.0,53.0,25.0,16.0,45.0,50.0,16.0,36.0,18.0,28.0,17.0,32.0,64.0,16.0,76.0,26.0,34.0,37.0,58.0,35.0,56.0,35.0,20.0,51.0,40.0,36.0,21.0,50.0,66.0,36.0,39.0,57.0,73.0,28.0,45.0,18.0,19.0,41.0,36.0,59.0,27.0,28.0,54.0,43.0,29.0,68.0,21.0,16.0,73.0,30.0,29.0,51.0,62.0,31.0,57.0,47.0,26.0,36.0,23.0,28.0,70.0,18.0,60.0,56.0,22.0,48.0,42.0,26.0,32.0,50.0,36.0,24.0,30.0,29.0,28.0,23.0,16.0,24.0,35.0,21.0,45.0,21.0,18.0,17.0,30.0,16.0,50.0,20.0,20.0,25.0,46.0,17.0,45.0,58.0,24.0,45.0,17.0,60.0,31.0,16.0,70.0,39.0,34.0,24.0,58.0,51.0,78.0,29.0,93.0,25.0,41.0,65.0,58.0,40.0,24.0,63.0,18.0,23.0,95.0,19.0,25.0,52.0,58.0,56.0,41.0,61.0,74.0,26.0,65.0,63.0,32.0,50.0,28.0,50.0,16.0,32.0,76.0,18.0,21.0,28.0,50.0,32.0,55.0,39.0,63.0,26.0,40.0,32.0,23.0,23.0,30.0,23.0,20.0,22.0,20.0,30.0,43.0,20.0,18.0,37.0,50.0,44.0,83.0,32.0,59.0,31.0,34.0,35.0,23.0,40.0,75.0,44.0,46.0,26.0,50.0,35.0,24.0,50.0,72.0,58.0,27.0,52.0,23.0,17.0,66.0,22.0,40.0,30.0,20.0,48.0,69.0,61.0,42.0,29.0,23.0,31.0,30.0,26.0,73.0,18.0,38.0,38.0,36.0,20.0,65.0,37.0,32.0,30.0,30.0,66.0,35.0,35.0,48.0,21.0,17.0,22.0,20.0,30.0,45.0,75.0,20.0,52.0,52.0,28.0,33.0,35.0,70.0,46.0,29.0,42.0,42.0,40.0,26.0,56.0,16.0,46.0,26.0,36.0,20.0,22.0,33.0,19.0,70.0,36.0,42.0,90.0,56.0,41.0,45.0,37.0,23.0,22.0,55.0,30.0,18.0,20.0,40.0,24.0,34.0,57.0,26.0,26.0,63.0,21.0,26.0,30.0,35.0,42.0,22.0,35.0,40.0,26.0,65.0,38.0,60.0,51.0,21.0,22.0,18.0,38.0,23.0,23.0,32.0,31.0,22.0,20.0,36.0,17.0,61.0,25.0,54.0,42.0,22.0,16.0,21.0,40.0,56.0,16.0,70.0,32.0,31.0,27.0,17.0,26.0,38.0,17.0,16.0,65.0,24.0,65.0,70.0,47.0,32.0,32.0,20.0,69.0,46.0,27.0,22.0,18.0,21.0,77.0,22.0,24.0,31.0,44.0,17.0,55.0,25.0,26.0,22.0,22.0,77.0,46.0,45.0,33.0,60.0,52.0,78.0,62.0,25.0,19.0,23.0,36.0,33.0,50.0,23.0,30.0,20.0,35.0,16.0,38.0,23.0,47.0,27.0,54.0,42.0,33.0,39.0,57.0,25.0,20.0,52.0,26.0,38.0,39.0,18.0,19.0,32.0,30.0,35.0,65.0,21.0,41.0,51.0,18.0,30.0,48.0,26.0,68.0,42.0,34.0,41.0,30.0,24.0,21.0,40.0,56.0,55.0,68.0,36.0,36.0,35.0,48.0,42.0,42.0,77.0,33.0,35.0,55.0,75.0,46.0,50.0,27.0,65.0,55.0,40.0,33.0,66.0,30.0,39.0,28.0,49.0,29.0,60.0,40.0,38.0,60.0,71.0,41.0,18.0,44.0,29.0,22.0,29.0,57.0,70.0,40.0,16.0,60.0,30.0,45.0,20.0,42.0,22.0,88.0,36.0,23.0,24.0,28.0,26.0,26.0,35.0,24.0,60.0,40.0,20.0,20.0,30.0,20.0,30.0,30.0,23.0,35.0,23.0,28.0,52.0,24.0,68.0,36.0,44.0,25.0,24.0,45.0,20.0,45.0,20.0,31.0,44.0,22.0,25.0,68.0,39.0,30.0,28.0,30.0,43.0,89.0,30.0,36.0,28.0,60.0,57.0,56.0,23.0,45.0,31.0,52.0,70.0,46.0,22.0,33.0,38.0,23.0,32.0,32.0,48.0,40.0,73.0,44.0,23.0,50.0,27.0,70.0,50.0,60.0,17.0,35.0,21.0,20.0,38.0,62.0,58.0,38.0,24.0,33.0,34.0,16.0,18.0,52.0,56.0,55.0,31.0,32.0,50.0,32.0,70.0,53.0,54.0,59.0,39.0,25.0,26.0,46.0,31.0,71.0,88.0,80.0,27.0,79.0,30.0,35.0,18.0,47.0,45.0,54.0,68.0,48.0,27.0,47.0,64.0,18.0,26.0,40.0,48.0,16.0,33.0,30.0,36.0,23.0,23.0,23.0,23.0,38.0,60.0,28.0,18.0,30.0,67.0,50.0,45.0,69.0,32.0,55.0,30.0,62.0,30.0,28.0,27.0,28.0,83.0,56.0,30.0,17.0,26.0,40.0,38.0,27.0,23.0,27.0,19.0,26.0,19.0,60.0,26.0,18.0,65.0,43.0,89.0,17.0,40.0,23.0,32.0,40.0,52.0,72.0,54.0,67.0,25.0,42.0,56.0,59.0,45.0,79.0,71.0,16.0,71.0,51.0,40.0,85.0,28.0,18.0,35.0,37.0,69.0,59.0,80.0,54.0,27.0,26.0,24.0,60.0,29.0,32.0,34.0,27.0,32.0,45.0,45.0,76.0,43.0,16.0,23.0,23.0,25.0,17.0,66.0,21.0,52.0,32.0,22.0,29.0,18.0,31.0,48.0,25.0,32.0,35.0,61.0,78.0,46.0,59.0,42.0,45.0,38.0,21.0,28.0,36.0,42.0,50.0,55.0,18.0,32.0,44.0,25.0,26.0,36.0,16.0,68.0,38.0,23.0,70.0,32.0,78.0,48.0,28.0,26.0,26.0,37.0,36.0,44.0,39.0,40.0,31.0,32.0,49.0,29.0,65.0,83.0,24.0,43.0,25.0,26.0,25.0,36.0,24.0,23.0,24.0,49.0,17.0,38.0,39.0,30.0,28.0,35.0,64.0,26.0,80.0,27.0,78.0,37.0,20.0,43.0,45.0,44.0,40.0,31.0,42.0,33.0,26.0,42.0,17.0,34.0,25.0,59.0,32.0,44.0,20.0,27.0,42.0,40.0,50.0,42.0,85.0,30.0,47.0,30.0,35.0,19.0,28.0,23.0,43.0,65.0,38.0,28.0,39.0,32.0,38.0,60.0,32.0,42.0,42.0,68.0,64.0,33.0,41.0,24.0,34.0,40.0,37.0,69.0,25.0,45.0,30.0,54.0,24.0,38.0,30.0,70.0,25.0,30.0,30.0,45.0,56.0,20.0,43.0,50.0,66.0,48.0,23.0,21.0,25.0,25.0,56.0,21.0,44.0,42.0,21.0,40.0,35.0,24.0,43.0,26.0,26.0,25.0,30.0,26.0,34.0,75.0,18.0,70.0,36.0,35.0,88.0,55.0,38.0,69.0,75.0,17.0,30.0,23.0,49.0,30.0,20.0,19.0,32.0,76.0,39.0,28.0,40.0,66.0,48.0,33.0,50.0,62.0,26.0,18.0,33.0,32.0,25.0,24.0,58.0,51.0,41.0,60.0,16.0,28.0,66.0,16.0,41.0,23.0,43.0,21.0,42.0,30.0,64.0,21.0,66.0,22.0,35.0,24.0,49.0,47.0,39.0,40.0,75.0,28.0,55.0,32.0,70.0,54.0,42.0,30.0,36.0,68.0,40.0,53.0,38.0,72.0,21.0,59.0,85.0,23.0,30.0,30.0,45.0,59.0,29.0,76.0,70.0,36.0,55.0,95.0,66.0,56.0,55.0,31.0,70.0,66.0,41.0,27.0,38.0,30.0,34.0,22.0,45.0,30.0,32.0,43.0,18.0,30.0,85.0,24.0,45.0,29.0,25.0,30.0,60.0,52.0,30.0,22.0,28.0,29.0,45.0,67.0,30.0,54.0,43.0,39.0,40.0,25.0,32.0,26.0,62.0,22.0,57.0,30.0,80.0,19.0,37.0,29.0,56.0,21.0,54.0,27.0,35.0,46.0,18.0,23.0,20.0,37.0,69.0,33.0,16.0,22.0,57.0,42.0,27.0,39.0,36.0,52.0,42.0,30.0,30.0,29.0,21.0,49.0,16.0,30.0,52.0,24.0,49.0,19.0,25.0,41.0,71.0,27.0,54.0,22.0,25.0,29.0,35.0,44.0,24.0,56.0,26.0,36.0,41.0,37.0,37.0,30.0,36.0,27.0,40.0,33.0,35.0,18.0,25.0,31.0,35.0,17.0,35.0,53.0,21.0,26.0,47.0,20.0,37.0,23.0,34.0,24.0,66.0,67.0,60.0,45.0,28.0,28.0,56.0,18.0,57.0,22.0,53.0,61.0,35.0,68.0,25.0,37.0,18.0,28.0,58.0,25.0,40.0,19.0,33.0,55.0,42.0,51.0,43.0,33.0,24.0,20.0,16.0,18.0,19.0,43.0,22.0,37.0,60.0,60.0,38.0,68.0,55.0,36.0,58.0,19.0,43.0,48.0,23.0,81.0,60.0,16.0,63.0,66.0,28.0,49.0,30.0,74.0,19.0,77.0,65.0,28.0,31.0,20.0,60.0,56.0,44.0,17.0,21.0,20.0,19.0,63.0,31.0,71.0,30.0,32.0,29.0,72.0,28.0,46.0,36.0,54.0,18.0,42.0,23.0,30.0,16.0,28.0,44.0,66.0,60.0,58.0,45.0,86.0,26.0,54.0,50.0,32.0,78.0,20.0,72.0,45.0,66.0,51.0,39.0,17.0,52.0,41.0,50.0,18.0,30.0,33.0,30.0,57.0,18.0,37.0,70.0,30.0,27.0,59.0,22.0,25.0,50.0,57.0,20.0,30.0,32.0,34.0,52.0,73.0,28.0,34.0,34.0,74.0,50.0,41.0,70.0,35.0,22.0,16.0,22.0,60.0,24.0,28.0,37.0,17.0,30.0,21.0,38.0,49.0,52.0,71.0,70.0,63.0,34.0,46.0,28.0,35.0,42.0,38.0,36.0,21.0,23.0,32.0,77.0,39.0,33.0,35.0,30.0,35.0,35.0,48.0,74.0,32.0,32.0,78.0,60.0,17.0,38.0,35.0,35.0,42.0,38.0,70.0,70.0,35.0,75.0,74.0,26.0,42.0,56.0,24.0,18.0,69.0,64.0,25.0,35.0,34.0,56.0,61.0,52.0,59.0,28.0,31.0,56.0,75.0,38.0,39.0,42.0,17.0,21.0,44.0,17.0,38.0,60.0,23.0,39.0,46.0,56.0,23.0,55.0,65.0,65.0,31.0,27.0,40.0,85.0,60.0,17.0,74.0,30.0,26.0,23.0,35.0,32.0,40.0,46.0,40.0,32.0,23.0,50.0,38.0,24.0,28.0,40.0,36.0,59.0,35.0,48.0,23.0,18.0,50.0,29.0,40.0,26.0,50.0,26.0,38.0,55.0,39.0,35.0,38.0,30.0,40.0,58.0,22.0,40.0,29.0,25.0,45.0,48.0,47.0,59.0,39.0,38.0,43.0,32.0,22.0,35.0,32.0,35.0,27.0,53.0,33.0,64.0,22.0,27.0,26.0,71.0,30.0,23.0,30.0,31.0,39.0,39.0,78.0,34.0,19.0,29.0,29.0,46.0,16.0,32.0,38.0,22.0,62.0,23.0,45.0,40.0,60.0,16.0,33.0,32.0,35.0,28.0,48.0,32.0,35.0,24.0,26.0,26.0,40.0,59.0,30.0,27.0,28.0,47.0,35.0,58.0,18.0,34.0,45.0,23.0,17.0,28.0,20.0,20.0,40.0,32.0,34.0,48.0,21.0,68.0,60.0,22.0,26.0,59.0,43.0,58.0,51.0,33.0,38.0,27.0,40.0,42.0,54.0,26.0,40.0,45.0,48.0,60.0,30.0,59.0,16.0,30.0,35.0,71.0,70.0,24.0,32.0,30.0,33.0,35.0,26.0,50.0,24.0,22.0,25.0,55.0,62.0,47.0,19.0,69.0,45.0,35.0,50.0,38.0,41.0,32.0,33.0,25.0,61.0,75.0,71.0,48.0,81.0,40.0,75.0,68.0,42.0,83.0,27.0,63.0,22.0,25.0,32.0,46.0,65.0,46.0,41.0,50.0,45.0,33.0,48.0,37.0,47.0,22.0,30.0,26.0,70.0,17.0,70.0,54.0,30.0,65.0,41.0,82.0,25.0,40.0,33.0,23.0,16.0,80.0,26.0,80.0,24.0,56.0,43.0,45.0,23.0,59.0,63.0,43.0,70.0,35.0,51.0,73.0,17.0,45.0,45.0,30.0,19.0,42.0,27.0,27.0,26.0,29.0,28.0,27.0,35.0,41.0,51.0,24.0,50.0,30.0,48.0,50.0,40.0,24.0,28.0,52.0,46.0,31.0,32.0,43.0,30.0,35.0,79.0,64.0,50.0,16.0,38.0,19.0,40.0,38.0,30.0,17.0,21.0,18.0,30.0,75.0,17.0,30.0,36.0,38.0,35.0,16.0,28.0,49.0,31.0,74.0,28.0,73.0,32.0,30.0,46.0,19.0,56.0,18.0,34.0,44.0,17.0,22.0,32.0,23.0,49.0,18.0,31.0,56.0,66.0,57.0,26.0,75.0,17.0,41.0,74.0,56.0,20.0,30.0,51.0,72.0,28.0,43.0,16.0,17.0,27.0,20.0,24.0,35.0,30.0,34.0,22.0,54.0,25.0,45.0,38.0,25.0,22.0,55.0,19.0,27.0,20.0,31.0,50.0,72.0,38.0,51.0,65.0,35.0,18.0,42.0,28.0,27.0,68.0,59.0,60.0,53.0,20.0,39.0,29.0,47.0,56.0,47.0,53.0,28.0,20.0,28.0,25.0,22.0,27.0,70.0,38.0,60.0,65.0,29.0,50.0,42.0,34.0,42.0,26.0,29.0,76.0,38.0,67.0,24.0,38.0,26.0,40.0,26.0,83.0,49.0,46.0,29.0,29.0,77.0,69.0,70.0,35.0,25.0,45.0,59.0,18.0,29.0,25.0,55.0,30.0,22.0,28.0,38.0,30.0,37.0,30.0,40.0,37.0,27.0,83.0,27.0,32.0,17.0,33.0,39.0,59.0,76.0,30.0,72.0,30.0,28.0,40.0,24.0,70.0,65.0,29.0,50.0,37.0,53.0,30.0,36.0,30.0,28.0,23.0,17.0,34.0,58.0,40.0,52.0,56.0,18.0,30.0,69.0,73.0,70.0,74.0,26.0,60.0,24.0,16.0,60.0,52.0,27.0,78.0,25.0,25.0,28.0,22.0,55.0,70.0,45.0,48.0,28.0,88.0,70.0,60.0,61.0,40.0,28.0,24.0,16.0,54.0,30.0,41.0,32.0,38.0,65.0,38.0,65.0,28.0,35.0,25.0,20.0,38.0,24.0,28.0,25.0,22.0,50.0,46.0,73.0,46.0,45.0,36.0,24.0,25.0,27.0,18.0,38.0,31.0,22.0,72.0,45.0,23.0,40.0,38.0,36.0,35.0,28.0,26.0,31.0,23.0,18.0,18.0,40.0,30.0,48.0,25.0,30.0,54.0,16.0,35.0,42.0,58.0,53.0,42.0,41.0,56.0,36.0,33.0,45.0,35.0,22.0,54.0,53.0,32.0,30.0,32.0,39.0,36.0,24.0,16.0,48.0,71.0,39.0,40.0,65.0,44.0,54.0,54.0,63.0,21.0,26.0,47.0,59.0,25.0,50.0,30.0,42.0,43.0,27.0,16.0,60.0,35.0,24.0,20.0,45.0,22.0,69.0,45.0,17.0,80.0,40.0,64.0,31.0,57.0,40.0,50.0,22.0,27.0,25.0,31.0,46.0,31.0,41.0,43.0,52.0,75.0,21.0,70.0,40.0,29.0,26.0,45.0,39.0,35.0,40.0,28.0,44.0,48.0,44.0,41.0,25.0,86.0,39.0,30.0,34.0,18.0,50.0,40.0,45.0,33.0,23.0,29.0,42.0,60.0,47.0,58.0,50.0,32.0,41.0,31.0,18.0,28.0,31.0,60.0,70.0,20.0,17.0,50.0,26.0,28.0,36.0,50.0,59.0,70.0,55.0,23.0,54.0,46.0,19.0,17.0,65.0,30.0,32.0,21.0,70.0,28.0,48.0,23.0,22.0,28.0,60.0,30.0,68.0,17.0,26.0,80.0,26.0,17.0,28.0,54.0,35.0,60.0,34.0,42.0,17.0,24.0,32.0,24.0,46.0,34.0,40.0,62.0,18.0,30.0,17.0,33.0,27.0,56.0,32.0,40.0,34.0,50.0,25.0,33.0,67.0,34.0,26.0,67.0,38.0,34.0,75.0,32.0,54.0,56.0,30.0,70.0,18.0,68.0,29.0,22.0,23.0,21.0,46.0,58.0,66.0,34.0,32.0,20.0,20.0,53.0,62.0,25.0,35.0,24.0,38.0,53.0,32.0,84.0,43.0,64.0,49.0,39.0,18.0,43.0,18.0,24.0,35.0,64.0,62.0,62.0,59.0,19.0,38.0,35.0,24.0,31.0,42.0,60.0,26.0,35.0,70.0,22.0,60.0,17.0,90.0,38.0,36.0,32.0,20.0,42.0,43.0,18.0,20.0,70.0,28.0,55.0,40.0,33.0,74.0,52.0,34.0,20.0,17.0,20.0,31.0,37.0,57.0,55.0,30.0,44.0,17.0,49.0,33.0,21.0,35.0,17.0,35.0,35.0,31.0,39.0,55.0,48.0,16.0,21.0,25.0,25.0,42.0,62.0,18.0,70.0,55.0,26.0,25.0,27.0,28.0,49.0,40.0,65.0,30.0,18.0,89.0,21.0,44.0,22.0,18.0,25.0,44.0,32.0,28.0,79.0,60.0,31.0,40.0,54.0,49.0,17.0,52.0,35.0,54.0,50.0,23.0,34.0,17.0,57.0,45.0,38.0,43.0,52.0,54.0,18.0,27.0,83.0,89.0,17.0,55.0,39.0,36.0,45.0,65.0,32.0,54.0,38.0,22.0,48.0,17.0,28.0,72.0,28.0,69.0,25.0,38.0,34.0,18.0,52.0,20.0,80.0,80.0,32.0,35.0,28.0,32.0,42.0,36.0,23.0,45.0,17.0,70.0,78.0,52.0,31.0,57.0,30.0,26.0,57.0,16.0,60.0,24.0,20.0,20.0,21.0,17.0,73.0,47.0,18.0,69.0,45.0,29.0,26.0,30.0,58.0,50.0,40.0,28.0,46.0,82.0,17.0,40.0,81.0,30.0,24.0,30.0,45.0,18.0,30.0,33.0,71.0,38.0,45.0,51.0,26.0,37.0,26.0,22.0,17.0,30.0,20.0,75.0,21.0,50.0,30.0,38.0,53.0,50.0,53.0,60.0,30.0,45.0,17.0,23.0,30.0,27.0,34.0,21.0,55.0,26.0,18.0,22.0,33.0,35.0,75.0,26.0,18.0,40.0,34.0,25.0,46.0,52.0,18.0,33.0,29.0,44.0,43.0,49.0,41.0,27.0,16.0,28.0,32.0,70.0,17.0,52.0,80.0,33.0,31.0,28.0,57.0,25.0,17.0,20.0,30.0,45.0,52.0,70.0,35.0,17.0,25.0,50.0,17.0,52.0,34.0,73.0,56.0,16.0,24.0,46.0,64.0,24.0,80.0,26.0,35.0,32.0,17.0,17.0,51.0,30.0,42.0,34.0,19.0,17.0,25.0,74.0,38.0,21.0,68.0,37.0,60.0,49.0,51.0,89.0,42.0,23.0,45.0,34.0,45.0,19.0,20.0,77.0,17.0,90.0,28.0,34.0,68.0,27.0,73.0,34.0,23.0,76.0,33.0,35.0,54.0,47.0,28.0,20.0,30.0,64.0,30.0,44.0,35.0,59.0,27.0,25.0,52.0,16.0,49.0,41.0,31.0,23.0,30.0,46.0,45.0,40.0,46.0,27.0,66.0,72.0,74.0,60.0,35.0,36.0,46.0,27.0,50.0,70.0,28.0,41.0,37.0,40.0,50.0,40.0,33.0,52.0,38.0,25.0,67.0,27.0,70.0,61.0,25.0,26.0,35.0,60.0,19.0,49.0,40.0,32.0,21.0,17.0,54.0,30.0,56.0,34.0,34.0,31.0,47.0,29.0,22.0,23.0,38.0,24.0,16.0,45.0,19.0,18.0,95.0,34.0,29.0,60.0,29.0,72.0,25.0,46.0,26.0,48.0,41.0,29.0,21.0,55.0,26.0,30.0,42.0,26.0,70.0,20.0,33.0,29.0,51.0,18.0,19.0,38.0,70.0,47.0,63.0,35.0,34.0,19.0,38.0,19.0,19.0,32.0,37.0,28.0,62.0,74.0,36.0,51.0,30.0,51.0,56.0,20.0,32.0,37.0,32.0,43.0,32.0,80.0,52.0,54.0,54.0,25.0,42.0,38.0,50.0,43.0,30.0,50.0,22.0,45.0,31.0,28.0,26.0,22.0,22.0,26.0,32.0,37.0,50.0,21.0,55.0,26.0,58.0,50.0,35.0,60.0,45.0,43.0,34.0,29.0,16.0,32.0,56.0,93.0,51.0,70.0,23.0,28.0,42.0,17.0,26.0,32.0,36.0,25.0,53.0,44.0,38.0,26.0,49.0,32.0,48.0,26.0,92.0,64.0,25.0,37.0,95.0,17.0,50.0,27.0,30.0,21.0,69.0,80.0,31.0,40.0,43.0,26.0,38.0,36.0,44.0,27.0,24.0,26.0,34.0,56.0,56.0,70.0,61.0,86.0,26.0,47.0,26.0,29.0,66.0,70.0,28.0,78.0,34.0,52.0,26.0,40.0,20.0,70.0,34.0,53.0,65.0,28.0,19.0,25.0,35.0,40.0,54.0,62.0,49.0,72.0,65.0,22.0,60.0,18.0,30.0,57.0,30.0,35.0,26.0,16.0,19.0,50.0,35.0,18.0,16.0,68.0,32.0,25.0,43.0,25.0,53.0,16.0,29.0,45.0,32.0,41.0,65.0,70.0,19.0,58.0,52.0,35.0,29.0,75.0,51.0,76.0,35.0,56.0,28.0,23.0,66.0,26.0,27.0,45.0,48.0,66.0,38.0,32.0,35.0,30.0,56.0,49.0,18.0,16.0,39.0,33.0,25.0,45.0,38.0,18.0,53.0,78.0,23.0,57.0,28.0,50.0,41.0,25.0,64.0,18.0,40.0,32.0,16.0,34.0,80.0,24.0,58.0,27.0,38.0,31.0,17.0,42.0,74.0,21.0,35.0,41.0,36.0,29.0,32.0,28.0,39.0,63.0,28.0,50.0,52.0,40.0,22.0,58.0,17.0,17.0,53.0,40.0,94.0,40.0,33.0,65.0,36.0,24.0,36.0,30.0,17.0,21.0,26.0,46.0,32.0,49.0,46.0,43.0,36.0,43.0,29.0,45.0,72.0,35.0,22.0,30.0,55.0,18.0,65.0,28.0,50.0,50.0,40.0,31.0,35.0,56.0,60.0,86.0,47.0,58.0,36.0,20.0,45.0,32.0,60.0,20.0,65.0,54.0,51.0,26.0,25.0,30.0,51.0,60.0,24.0,16.0,16.0,32.0,21.0,35.0,49.0,19.0,38.0,50.0,30.0,30.0,20.0,20.0,70.0,80.0,49.0,33.0,50.0,23.0,78.0,27.0,59.0,19.0,60.0,80.0,24.0,40.0,31.0,45.0,28.0,28.0,39.0,45.0,42.0,19.0,18.0,67.0,35.0,69.0,55.0,38.0,25.0,65.0,29.0,18.0,25.0,24.0,45.0,20.0,43.0,27.0,56.0,32.0,49.0,66.0,62.0,31.0,29.0,35.0,24.0,16.0,60.0,24.0,25.0,28.0,43.0,50.0,30.0,35.0,56.0,28.0,45.0,35.0,25.0,18.0,42.0,25.0,43.0,53.0,36.0,20.0,29.0,30.0,16.0,23.0,45.0,39.0,34.0,21.0,68.0,63.0,38.0,25.0,62.0,18.0,26.0,57.0,28.0,28.0,61.0,34.0,28.0,48.0,66.0,33.0,44.0,19.0,36.0,22.0,25.0,84.0,80.0,45.0,42.0,40.0,48.0,21.0,28.0,40.0,28.0,35.0,30.0,35.0,44.0,25.0,28.0,18.0,22.0,32.0,40.0,31.0,55.0,37.0,58.0,24.0,37.0,40.0,30.0,49.0,29.0,20.0,42.0,25.0,27.0,41.0,55.0,32.0,19.0,23.0,40.0,34.0,16.0,17.0,44.0,37.0,22.0,56.0,17.0,19.0,45.0,70.0,45.0,60.0,18.0,65.0,50.0,17.0,49.0,21.0,72.0,64.0,52.0,55.0,40.0,35.0,52.0,54.0,48.0,70.0,63.0,30.0,52.0,56.0,34.0,81.0,26.0,56.0,27.0,52.0,57.0,17.0,47.0,29.0,16.0,35.0,60.0,28.0,56.0,16.0,75.0,70.0,22.0,34.0,28.0,17.0,19.0,20.0,25.0,19.0,22.0,76.0,65.0,64.0,16.0,40.0,31.0,26.0,64.0,20.0,46.0,22.0,38.0,36.0,42.0,47.0,30.0,30.0,26.0,43.0,29.0,17.0,17.0,36.0,28.0,78.0,42.0,17.0,49.0,62.0,48.0,79.0,65.0,24.0,40.0,70.0,56.0,40.0,76.0,16.0,27.0,43.0,34.0,28.0,30.0,30.0,34.0,65.0,80.0,46.0,31.0,37.0,19.0,72.0,72.0,63.0,16.0,54.0,40.0,42.0,39.0,17.0,28.0,35.0,34.0,66.0,31.0,26.0,23.0,23.0,31.0,30.0,17.0,26.0,40.0,32.0,45.0,56.0,55.0,25.0,35.0,39.0,29.0,50.0,29.0,41.0,52.0,60.0,47.0,26.0,20.0,26.0,58.0,50.0,32.0,26.0,50.0,22.0,30.0,30.0,38.0,34.0,50.0,30.0,69.0,27.0,20.0,45.0,66.0,57.0,52.0,26.0,19.0,25.0,75.0,55.0,46.0,47.0,26.0,25.0,23.0,36.0,48.0,27.0,28.0,42.0,34.0,60.0,38.0,40.0,22.0,23.0,53.0,38.0,42.0,26.0,29.0,27.0,22.0,38.0,40.0,22.0,28.0,61.0,18.0,50.0,16.0,49.0,35.0,26.0,20.0,32.0,21.0,53.0,19.0,20.0,42.0,35.0,33.0,32.0,24.0,71.0,80.0,43.0,92.0,22.0,66.0,20.0,28.0,62.0,17.0,27.0,24.0,43.0,57.0,40.0,57.0,44.0,26.0,54.0,52.0,44.0,22.0,34.0,42.0,41.0,30.0,23.0,76.0,40.0,32.0,35.0,28.0,16.0,17.0,29.0,22.0,29.0,48.0,32.0,45.0,16.0,31.0,29.0,53.0,48.0,70.0,28.0,39.0,56.0,22.0,17.0,55.0,35.0,46.0,70.0,25.0,30.0,16.0,27.0,40.0,56.0,57.0,39.0,38.0,61.0,35.0,23.0,39.0,25.0,44.0,68.0,27.0,72.0,54.0,28.0,17.0,40.0,17.0,22.0,81.0,21.0,68.0,37.0,26.0,31.0,38.0,19.0,77.0,25.0,28.0,40.0,41.0,36.0,18.0,18.0,49.0,67.0,38.0,38.0,27.0,29.0,26.0,24.0,28.0,25.0,57.0,36.0,37.0,42.0,31.0,64.0,29.0,56.0,40.0,63.0,21.0,51.0,22.0,23.0,58.0,41.0,24.0,46.0,20.0,60.0,46.0,71.0,42.0,32.0,20.0,30.0,34.0,30.0,38.0,57.0,53.0,50.0,42.0,38.0,78.0,87.0,95.0,44.0,28.0,18.0,32.0,52.0,60.0,49.0,58.0,30.0,35.0,42.0,38.0,30.0,51.0,32.0,41.0,28.0,18.0,74.0,21.0,44.0,38.0,18.0,28.0,42.0,22.0,27.0,22.0,20.0,57.0,30.0,60.0,73.0,70.0,55.0,40.0,17.0,26.0,17.0,30.0,52.0,75.0,18.0,26.0,42.0,41.0,17.0,64.0,58.0,25.0,18.0,28.0,17.0,31.0,27.0,25.0,40.0,55.0,24.0,33.0,30.0,19.0,37.0,20.0,33.0,30.0,69.0,39.0,17.0,39.0,22.0,65.0,48.0,25.0,16.0,47.0,35.0,61.0,21.0,68.0,51.0,39.0,32.0,30.0,40.0,35.0,34.0,33.0,70.0,36.0,67.0,29.0,18.0,53.0,28.0,35.0,26.0,30.0,23.0,26.0,61.0,90.0,35.0,77.0,32.0,46.0,37.0,19.0,51.0,37.0,56.0,64.0,37.0,38.0,29.0,42.0,22.0,34.0,45.0,29.0,40.0,44.0,45.0,66.0,30.0,35.0,36.0,38.0,27.0,53.0,46.0,35.0,46.0,43.0,21.0,27.0,69.0,41.0,25.0,25.0,47.0,31.0,44.0,53.0,43.0,44.0,44.0,35.0,42.0,43.0,35.0,70.0,19.0,43.0,28.0,57.0,37.0,25.0,39.0,37.0,71.0,17.0,48.0,26.0,39.0,38.0,26.0,21.0,24.0,25.0,19.0,40.0,60.0,28.0,24.0,43.0,25.0,27.0,23.0,35.0,66.0,45.0,32.0,44.0,53.0,53.0,54.0,34.0,26.0,55.0,33.0,53.0,16.0,33.0,47.0,19.0,42.0,51.0,67.0,28.0,39.0,25.0,52.0,41.0,32.0,49.0,54.0,25.0,43.0,30.0,32.0,35.0,40.0,68.0,30.0,48.0,20.0,35.0,18.0,30.0,41.0,26.0,54.0,65.0,45.0,25.0,34.0,17.0,30.0,40.0,56.0,27.0,28.0,42.0,34.0,31.0,44.0,60.0,35.0,24.0,59.0,29.0,37.0,25.0,70.0,55.0,48.0,27.0,30.0,28.0,58.0,80.0,21.0,46.0,82.0,16.0,18.0,19.0,28.0,61.0,16.0,63.0,16.0,16.0,21.0,28.0,36.0,22.0,41.0,46.0,49.0,37.0,22.0,50.0,18.0,51.0,26.0,18.0,48.0,36.0,22.0,30.0,72.0,39.0,39.0,29.0,36.0,32.0,34.0,72.0,17.0,49.0,32.0,26.0,25.0,45.0,39.0,45.0,51.0,81.0,69.0,28.0,46.0,24.0,35.0,37.0,20.0,28.0,50.0,17.0,34.0,67.0,55.0,49.0,23.0,21.0,69.0,34.0,53.0,28.0,43.0,29.0,37.0,31.0,47.0,24.0,20.0,28.0,40.0,23.0,52.0,46.0,54.0,37.0,36.0,65.0,31.0,16.0,71.0,28.0,75.0,27.0,53.0,30.0,32.0,42.0,37.0,34.0,39.0,38.0,88.0,44.0,50.0,22.0,35.0,35.0,26.0,36.0,35.0,36.0,35.0,26.0,25.0,18.0,19.0,65.0,49.0,38.0,37.0,35.0,52.0,30.0,36.0,18.0,24.0,25.0,24.0,67.0,26.0,37.0,73.0,59.0,19.0,27.0,29.0,37.0,32.0,51.0,46.0,37.0,28.0,24.0,57.0,18.0,25.0,52.0,58.0,30.0,66.0,35.0,66.0,49.0,45.0,40.0,33.0,56.0,34.0,75.0,21.0,23.0,27.0,31.0,78.0,37.0,51.0,73.0,50.0,43.0,70.0,33.0,45.0,27.0,41.0,25.0,48.0,22.0,20.0,32.0,48.0,23.0,35.0,33.0,54.0,16.0,49.0,37.0,37.0,29.0,80.0,40.0,53.0,17.0,62.0,42.0,26.0,45.0,55.0,33.0,65.0,35.0,70.0,30.0,30.0,20.0,29.0,30.0,27.0,48.0,17.0,43.0,32.0,56.0,78.0,75.0,31.0,29.0,30.0,33.0,25.0,73.0,25.0,35.0,30.0,46.0,86.0,71.0,33.0,95.0,26.0,33.0,30.0,31.0,32.0,30.0,34.0,32.0,31.0,50.0,32.0,30.0,30.0,27.0,37.0,37.0,32.0,74.0,18.0,41.0,34.0,18.0,55.0,60.0,56.0,34.0,65.0,48.0,43.0,28.0,39.0,35.0,33.0,55.0,28.0,49.0,27.0,57.0,31.0,38.0,21.0,58.0,22.0,48.0,62.0,26.0,28.0,31.0,20.0,34.0,45.0,40.0,44.0,27.0,30.0,24.0,55.0,19.0,43.0,68.0,47.0,36.0,67.0,49.0,87.0,73.0,36.0,30.0,19.0,38.0,31.0,35.0,37.0,45.0,21.0,32.0,20.0,27.0,18.0,32.0,16.0,28.0,31.0,19.0,31.0,30.0,23.0,27.0,21.0,19.0,43.0,20.0,32.0,42.0,27.0,37.0,69.0,34.0,27.0,65.0,20.0,31.0,56.0,32.0,28.0,36.0,18.0,35.0,35.0,29.0,18.0,19.0,55.0,48.0,29.0,56.0,25.0,56.0,22.0,67.0,31.0,21.0,18.0,37.0,21.0,36.0,37.0,21.0,28.0,28.0,30.0,37.0,58.0,63.0,68.0,38.0,50.0,23.0,29.0,20.0,71.0,38.0,52.0,33.0,30.0,34.0,79.0,46.0,32.0,38.0,20.0,54.0,32.0,79.0,20.0,33.0,21.0,73.0,16.0,22.0,20.0,30.0,54.0,24.0,26.0,16.0,33.0,95.0,20.0,51.0,30.0,32.0,20.0,31.0,30.0,17.0,35.0,33.0,17.0,30.0,47.0,24.0,63.0,71.0,35.0,24.0,23.0,36.0,40.0,60.0,27.0,35.0,25.0,19.0,67.0,23.0,53.0,47.0,34.0,16.0,35.0,54.0,39.0,60.0,32.0,18.0,16.0,29.0,30.0,43.0,38.0,37.0,60.0,42.0,50.0,19.0,33.0,66.0,34.0,32.0,30.0,34.0,39.0,22.0,19.0,45.0,20.0,30.0,34.0,25.0,31.0,40.0,40.0,33.0,25.0,30.0,72.0,26.0,25.0,69.0,41.0,30.0,22.0,63.0,29.0,35.0,30.0,58.0,39.0,40.0,42.0,18.0,19.0,36.0,16.0,22.0,62.0,17.0,21.0,37.0,16.0,22.0,23.0,16.0,38.0,17.0,47.0,18.0,35.0,36.0,31.0,24.0,30.0,25.0,26.0,20.0,17.0,35.0,21.0,20.0,18.0,20.0,32.0,83.0,42.0,24.0,25.0,17.0,34.0,49.0,17.0,40.0,51.0,28.0,28.0,23.0,69.0,30.0,40.0,52.0,42.0,19.0,61.0,40.0,32.0,17.0,34.0,18.0,19.0,23.0,22.0,72.0,38.0,50.0,38.0,26.0,30.0,61.0,42.0,32.0,31.0,30.0,41.0,20.0,65.0,27.0,73.0,46.0,26.0,66.0,17.0,26.0,31.0,32.0,51.0,45.0,38.0,63.0,18.0,43.0,16.0,38.0,43.0,40.0,41.0,16.0,37.0,65.0,50.0,37.0,63.0,40.0,78.0,41.0,32.0,37.0,50.0,38.0,46.0,41.0,32.0,47.0,71.0,34.0,36.0,30.0,19.0,25.0,27.0,47.0,16.0,37.0,39.0,60.0,18.0,32.0,39.0,26.0,40.0,34.0,35.0,30.0,24.0,26.0,25.0,54.0,44.0,29.0,34.0,23.0,24.0,41.0,63.0,33.0,26.0,16.0,66.0,54.0,29.0,51.0,33.0,40.0,55.0,84.0,54.0,17.0,23.0,19.0,48.0,56.0,35.0,20.0,44.0,20.0,30.0,24.0,25.0,32.0,17.0,52.0,22.0,19.0,33.0,42.0,38.0,45.0,27.0,82.0,47.0,63.0,41.0,47.0,71.0,32.0,41.0,44.0,30.0,32.0,40.0,20.0,25.0,16.0,49.0,35.0,46.0,20.0,36.0,61.0,68.0,62.0,42.0,21.0,61.0,38.0,33.0,52.0,18.0,24.0,16.0,32.0,31.0,27.0,18.0,35.0,17.0,45.0,39.0,40.0,27.0,21.0,36.0,20.0,48.0,23.0,31.0,59.0,37.0,17.0,42.0,37.0,89.0,49.0,42.0,48.0,58.0,25.0,16.0,75.0,30.0,17.0,54.0,24.0,65.0,62.0,34.0,59.0,21.0,19.0,34.0,16.0,59.0,41.0,64.0,44.0,20.0,24.0,34.0,38.0,46.0,24.0,24.0,23.0,42.0,45.0,16.0,28.0,41.0,38.0,51.0,37.0,30.0,33.0,27.0,30.0,22.0,23.0,19.0,95.0,28.0,25.0,35.0,37.0,16.0,28.0,31.0,24.0,19.0,16.0,21.0,71.0,35.0,19.0,32.0,60.0,37.0,44.0,30.0,36.0,55.0,58.0,25.0,48.0,45.0,37.0,16.0,71.0,24.0,24.0,48.0,53.0,32.0,31.0,56.0,35.0,20.0,53.0,49.0,23.0,20.0,37.0,28.0,26.0,35.0,29.0,25.0,76.0,49.0,33.0,57.0,35.0,24.0,36.0,25.0,33.0,33.0,67.0,27.0,48.0,35.0,79.0,32.0,29.0,48.0,26.0,45.0,39.0,37.0,24.0,38.0,50.0,47.0,38.0,55.0,27.0,57.0,43.0,71.0,47.0,75.0,42.0,28.0,79.0,62.0,40.0,54.0,30.0,18.0,31.0,24.0,59.0,41.0,70.0,25.0,48.0,60.0,65.0,60.0,31.0,32.0,39.0,63.0,50.0,77.0,38.0,26.0,46.0,40.0,32.0,37.0,18.0,75.0,27.0,51.0,31.0,41.0,52.0,68.0,29.0,70.0,23.0,33.0,26.0,43.0,29.0,35.0,18.0,16.0,49.0,21.0,31.0,61.0,73.0,45.0,49.0,18.0,32.0,43.0,68.0,32.0,37.0,51.0,19.0,25.0,45.0,30.0,22.0,52.0,62.0,78.0,63.0,28.0,36.0,37.0,53.0,42.0,57.0,30.0,22.0,32.0,41.0,18.0,28.0,60.0,37.0,32.0,37.0,25.0,27.0,16.0,34.0,60.0,39.0,49.0,53.0,41.0,31.0,48.0,54.0,35.0,19.0,26.0,42.0,62.0,40.0,47.0,25.0,39.0,31.0,31.0,47.0,28.0,30.0,42.0,25.0,44.0,29.0,27.0,42.0,48.0,47.0,43.0,40.0,19.0,22.0,23.0,42.0,77.0,32.0,22.0,25.0,36.0,55.0,38.0,27.0,62.0,43.0,65.0,41.0,28.0,78.0,29.0,46.0,32.0,30.0,59.0,30.0,42.0,30.0,28.0,20.0,27.0,56.0,66.0,65.0,17.0,25.0,32.0,34.0,40.0,21.0,41.0,30.0,29.0,30.0,36.0,65.0,53.0,53.0,53.0,53.0,54.0,52.0,31.0,53.0,33.0,28.0,35.0,42.0,23.0,45.0,46.0,64.0,40.0,17.0,27.0,41.0,67.0,56.0,83.0,28.0,19.0,38.0,20.0,27.0,60.0,23.0,32.0,33.0,38.0,30.0,34.0,25.0,58.0,19.0,41.0,35.0,28.0,74.0,42.0,37.0,30.0,28.0,39.0,36.0,36.0,17.0,55.0,20.0,24.0,43.0,32.0,30.0,30.0,50.0,22.0,34.0,44.0,28.0,42.0,40.0,16.0,33.0,23.0,35.0,67.0,38.0,23.0,32.0,45.0,18.0,25.0,29.0,44.0,63.0,26.0,31.0,36.0,25.0,37.0,51.0,22.0,37.0,39.0,38.0,41.0,31.0,27.0,44.0,65.0,34.0,32.0,33.0,20.0,31.0,34.0,17.0,54.0,75.0,31.0,34.0,39.0,39.0,20.0,25.0,34.0,35.0,38.0,23.0,52.0,78.0,32.0,33.0,23.0,33.0,34.0,35.0,34.0,52.0,19.0,42.0,61.0,35.0,26.0,36.0,23.0,54.0,48.0,29.0,20.0,35.0,43.0,70.0,40.0,67.0,34.0,33.0,39.0,66.0,43.0,58.0,30.0,25.0,44.0,46.0,28.0,36.0,19.0,28.0,44.0,46.0,31.0,21.0,43.0,77.0,22.0,19.0,20.0,39.0,55.0,30.0,41.0,21.0,20.0,18.0,49.0,35.0,67.0,28.0,25.0,53.0,33.0,56.0,27.0,42.0,17.0,41.0,33.0,35.0,41.0,40.0,40.0,33.0,20.0,18.0,40.0,17.0,33.0,78.0,63.0,30.0,37.0,40.0,54.0,71.0,30.0,18.0,20.0,53.0,33.0,30.0,58.0,42.0,30.0,29.0,28.0,18.0,30.0,35.0,16.0,20.0,19.0,38.0,73.0,21.0,22.0,63.0,27.0,36.0,19.0,55.0,32.0,52.0,25.0,36.0,37.0,73.0,50.0,36.0,31.0,41.0,33.0,39.0,44.0,25.0,56.0,20.0,29.0,32.0,57.0,70.0,19.0,42.0,30.0,50.0,24.0,20.0,34.0,56.0,44.0,36.0,31.0,17.0,33.0,25.0,50.0,45.0,42.0,47.0,21.0,49.0,62.0,23.0,46.0,35.0,40.0,37.0,38.0,17.0,47.0,80.0,31.0,70.0,20.0,21.0,21.0,32.0,40.0,45.0,31.0,38.0,16.0,23.0,25.0,35.0,35.0,85.0,29.0,76.0,33.0,72.0,46.0,25.0,44.0,75.0,78.0,21.0,32.0,47.0,58.0,23.0,65.0,29.0,30.0,23.0,36.0,26.0,35.0,41.0,21.0,47.0,70.0,23.0,21.0,30.0,55.0,17.0,29.0,45.0,56.0,28.0,41.0,45.0,52.0,42.0,63.0,29.0,23.0,33.0,34.0,26.0,43.0,66.0,48.0,30.0,38.0,60.0,19.0,39.0,65.0,75.0,52.0,45.0,21.0,65.0,24.0,23.0,62.0,40.0,38.0,33.0,31.0,54.0,19.0,23.0,57.0,56.0,24.0,44.0,53.0,54.0,35.0,54.0,61.0,23.0,21.0,51.0,22.0,48.0,61.0,74.0,23.0,61.0,49.0,29.0,66.0,71.0,18.0,45.0,41.0,26.0,52.0,48.0,55.0,51.0,43.0,28.0,65.0,31.0,16.0,27.0,18.0,25.0,21.0,25.0,42.0,35.0,26.0,49.0,51.0,29.0,57.0,32.0,46.0,49.0,25.0,36.0,35.0,55.0,20.0,65.0,46.0,25.0,16.0,76.0,27.0,32.0,39.0,53.0,21.0,73.0,31.0,64.0,59.0,33.0,17.0,36.0,34.0,77.0,26.0,60.0,65.0,38.0,16.0,16.0,41.0,47.0,54.0,45.0,17.0,65.0,36.0,35.0,39.0,63.0,32.0,19.0,35.0,70.0,57.0,58.0,17.0,45.0,24.0,22.0,53.0,32.0,42.0,59.0,19.0,56.0,31.0,33.0,42.0,25.0,21.0,58.0,98.0,31.0,31.0,43.0,45.0,22.0,41.0,35.0,30.0,43.0,30.0,35.0,51.0,45.0,34.0,53.0,43.0,28.0,80.0,50.0,69.0,29.0,61.0,57.0,43.0,27.0,41.0,32.0,48.0,38.0,38.0,66.0,17.0,25.0,79.0,24.0,40.0,28.0,80.0,74.0,65.0,16.0,16.0,62.0,43.0,38.0,32.0,82.0,51.0,24.0,20.0,47.0,23.0,50.0,29.0,23.0,43.0,26.0,30.0,17.0,42.0,37.0,25.0,59.0,61.0,69.0,45.0,40.0,42.0,28.0,60.0,79.0,44.0,47.0,42.0,22.0,21.0,29.0,44.0,32.0,28.0,40.0,37.0,54.0,31.0,30.0,24.0,64.0,36.0,36.0,38.0,45.0,16.0,48.0,26.0,43.0,25.0,18.0,24.0,62.0,40.0,43.0,28.0,18.0,61.0,29.0,20.0,17.0,28.0,45.0,63.0,31.0,33.0,21.0,77.0,19.0,42.0,60.0,46.0,72.0,19.0,34.0,43.0,26.0,20.0,27.0,73.0,71.0,29.0,43.0,49.0,51.0,41.0,41.0,69.0,55.0,67.0,41.0,60.0,41.0,29.0,33.0,45.0,30.0,18.0,37.0,32.0,27.0,29.0,38.0,26.0,33.0,47.0,20.0,45.0,37.0,19.0,72.0,24.0,62.0,25.0,53.0,25.0,29.0,40.0,45.0,51.0,27.0,23.0,41.0,35.0,35.0,31.0,46.0,25.0,17.0,19.0,37.0,66.0,57.0,27.0,68.0,60.0,33.0,40.0,28.0,16.0,31.0,47.0,29.0,32.0,25.0,48.0,43.0,56.0,55.0,82.0,28.0,42.0,37.0,33.0,21.0,30.0,43.0,41.0,27.0,50.0,46.0,43.0,82.0,26.0,16.0,19.0,87.0,20.0,35.0,35.0,23.0,32.0,28.0,27.0,33.0,64.0,62.0,33.0,27.0,43.0,38.0,75.0,55.0,59.0,43.0,29.0,72.0,33.0,40.0,31.0,20.0,95.0,32.0,29.0,20.0,36.0,31.0,19.0,18.0,31.0,43.0,27.0,33.0,40.0,28.0,33.0,33.0,42.0,64.0,24.0,19.0,50.0,19.0,35.0,34.0,52.0,35.0,32.0,71.0,29.0,22.0,16.0,40.0,26.0,66.0,27.0,48.0,73.0,31.0,25.0,23.0,30.0,20.0,47.0,26.0,51.0,30.0,24.0,46.0,33.0,38.0,35.0,20.0,29.0,27.0,70.0,24.0,33.0,28.0,30.0,34.0,33.0,29.0,40.0,30.0,27.0,22.0,33.0,37.0,23.0,30.0,18.0,30.0,32.0,64.0,50.0,23.0,31.0,20.0,73.0,39.0,27.0,33.0,30.0,21.0,27.0,47.0,27.0,34.0,18.0,70.0,67.0,54.0,70.0,28.0,20.0,51.0,35.0,21.0,37.0,32.0,58.0,97.0,49.0,71.0,31.0,60.0,26.0,36.0,38.0,24.0,27.0,65.0,21.0,51.0,61.0,17.0,25.0,53.0,35.0,17.0,38.0,36.0,32.0,35.0,53.0,50.0,54.0,17.0,47.0,52.0,32.0,60.0,30.0,52.0,50.0,20.0,42.0,21.0,60.0,53.0,82.0,55.0,35.0,36.0,16.0,32.0,28.0,61.0,27.0,60.0,37.0,36.0,25.0,35.0,42.0,76.0,71.0,26.0,33.0,30.0,33.0,56.0,32.0,31.0,42.0,43.0,43.0,39.0,26.0,20.0,33.0,53.0,56.0,33.0,28.0,18.0,47.0,71.0,30.0,32.0,49.0,59.0,18.0,16.0,45.0,33.0,42.0,52.0,61.0,34.0,30.0,22.0,22.0,25.0,25.0,33.0,33.0,29.0,19.0,19.0,46.0,37.0,38.0,18.0,52.0,43.0,66.0,38.0,30.0,24.0,38.0,58.0,40.0,43.0,31.0,18.0,50.0,37.0,38.0,57.0,38.0,60.0,42.0,31.0,33.0,16.0,56.0,37.0,37.0,70.0,19.0,41.0,32.0,70.0,29.0,59.0,50.0,35.0,80.0,50.0,92.0,18.0,26.0,60.0,33.0,37.0,30.0,36.0,16.0,48.0,54.0,73.0,60.0,35.0,30.0,32.0,47.0,52.0,80.0,37.0,32.0,20.0,42.0,63.0,22.0,36.0,19.0,56.0,72.0,24.0,33.0,55.0,67.0,38.0,17.0,74.0,80.0,55.0,64.0,60.0,18.0,16.0,38.0,21.0,27.0,31.0,89.0,16.0,28.0,47.0,75.0,35.0,63.0,23.0,30.0,28.0,29.0,32.0,55.0,22.0,46.0,38.0,55.0,29.0,37.0,68.0,26.0,28.0,48.0,19.0,31.0,22.0,26.0,27.0,70.0,34.0,64.0,58.0,57.0,67.0,34.0,30.0,45.0,25.0,48.0,28.0,45.0,24.0,32.0,18.0,25.0,41.0,27.0,34.0,32.0,37.0,23.0,23.0,31.0,24.0,65.0,67.0,72.0,30.0,53.0,47.0,51.0,34.0,45.0,22.0,30.0,28.0,57.0,16.0,35.0,45.0,45.0,71.0,43.0,18.0,30.0,54.0,31.0,57.0,60.0,30.0,40.0,35.0,54.0,26.0,51.0,29.0,35.0,49.0,29.0,34.0,24.0,55.0,30.0,16.0,22.0,35.0,49.0,56.0,50.0,70.0,71.0,40.0,53.0,36.0,67.0,34.0,22.0,33.0,27.0,37.0,45.0,70.0,39.0,58.0,47.0,20.0,18.0,38.0,50.0,23.0,35.0,32.0,23.0,55.0,60.0,24.0,29.0,25.0,34.0,40.0,25.0,22.0,60.0,26.0,64.0,32.0,33.0,25.0,76.0,28.0,39.0,22.0,41.0,16.0,45.0,73.0,39.0,59.0,46.0,20.0,39.0,26.0,37.0,57.0,61.0,60.0,16.0,30.0,69.0,53.0,38.0,65.0,28.0,50.0,36.0,35.0,32.0,92.0,56.0,20.0,87.0,34.0,50.0,68.0,29.0,30.0,40.0,25.0,33.0,36.0,46.0,25.0,31.0,39.0,42.0,36.0,43.0,70.0,34.0,42.0,17.0,55.0,24.0,38.0,32.0,50.0,48.0,60.0,28.0,73.0,34.0,37.0,40.0,27.0,31.0,30.0,38.0,27.0,54.0,36.0,81.0,23.0,24.0,17.0,61.0,63.0,25.0,24.0,34.0,16.0,40.0,17.0,44.0,70.0,41.0,34.0,35.0,47.0,33.0,30.0,28.0,71.0,55.0,27.0,27.0,35.0,55.0,26.0,33.0,49.0,33.0,44.0,57.0,21.0,38.0,29.0,20.0,45.0,41.0,40.0,30.0,20.0,34.0,54.0,51.0,48.0,31.0,40.0,34.0,28.0,23.0,44.0,62.0,59.0,36.0,62.0,53.0,45.0,45.0,20.0,32.0,65.0,64.0,32.0,19.0,21.0,24.0,28.0,59.0,50.0,28.0,61.0,50.0,16.0,50.0,31.0,45.0,44.0,49.0,45.0,30.0,28.0,54.0,67.0,32.0,22.0,51.0,16.0,32.0,38.0,64.0,24.0,26.0,61.0,35.0,33.0,26.0,20.0,16.0,66.0,45.0,47.0,62.0,38.0,54.0,62.0,19.0,42.0,27.0,18.0,27.0,30.0,38.0,30.0,50.0,28.0,36.0,44.0,78.0,62.0,51.0,18.0,23.0,18.0,34.0,74.0,62.0,38.0,40.0,67.0,16.0,58.0,18.0,57.0,53.0,22.0,37.0,37.0,33.0,40.0,39.0,31.0,25.0,55.0,47.0,17.0,33.0,48.0,53.0,46.0,68.0,19.0,70.0,30.0,28.0,31.0,34.0,19.0,25.0,70.0,16.0,26.0,39.0,33.0,45.0,60.0,42.0,19.0,19.0,48.0,22.0,34.0,27.0,34.0,68.0,33.0,65.0,30.0,25.0,32.0,34.0,53.0,35.0,52.0,22.0,36.0,59.0,34.0,39.0,28.0,17.0,51.0,38.0,55.0,61.0,19.0,34.0,37.0,31.0,38.0,16.0,38.0,36.0,17.0,48.0,29.0,25.0,22.0,38.0,46.0,27.0,30.0,71.0,43.0,58.0,30.0,36.0,73.0,28.0,26.0,51.0,69.0,19.0,19.0,35.0,27.0,32.0,29.0,16.0,39.0,70.0,48.0,19.0,58.0,30.0,16.0,38.0,51.0,25.0,72.0,69.0,42.0,33.0,34.0,49.0,32.0,44.0,43.0,21.0,40.0,30.0,55.0,37.0,16.0,18.0,21.0,39.0,36.0,26.0,23.0,36.0,26.0,36.0,25.0,36.0,55.0,43.0,28.0,46.0,42.0,39.0,32.0,75.0,42.0,26.0,34.0,45.0,18.0,45.0,45.0,28.0,76.0,25.0,58.0,58.0,52.0,38.0,30.0,62.0,65.0,20.0,25.0,25.0,44.0,44.0,31.0,23.0,33.0,35.0,17.0,18.0,26.0,30.0,17.0,55.0,48.0,44.0,58.0,22.0,74.0,47.0,54.0,31.0,39.0,22.0,55.0,68.0,38.0,33.0,49.0,37.0,24.0,57.0,29.0,58.0,84.0,27.0,17.0,33.0,64.0,57.0,25.0,34.0,32.0,34.0,27.0,71.0,34.0,25.0,45.0,19.0,45.0,19.0,42.0,53.0,30.0,56.0,25.0,56.0,74.0,65.0,25.0,29.0,27.0,35.0,42.0,42.0,18.0,25.0,41.0,51.0,76.0,20.0,36.0,20.0,39.0,35.0,37.0,26.0,52.0,60.0,38.0,28.0,80.0,45.0,37.0,47.0,38.0,75.0,26.0,45.0,30.0,56.0,31.0,46.0,55.0,49.0,27.0,62.0,38.0,60.0,40.0,36.0,28.0,58.0,38.0,60.0,54.0,26.0,49.0,20.0,36.0,64.0,47.0,60.0,48.0,67.0,40.0,43.0,60.0,17.0,27.0,33.0,40.0,63.0,39.0,28.0,35.0,37.0,17.0,33.0,27.0,16.0,61.0,22.0,31.0,58.0,35.0,22.0,40.0,59.0,33.0,42.0,36.0,32.0,19.0,52.0,33.0,39.0,26.0,31.0,22.0,40.0,83.0,50.0,26.0,19.0,46.0,41.0,48.0,34.0,25.0,57.0,27.0,35.0,80.0,50.0,38.0,39.0,16.0,31.0,28.0,64.0,36.0,24.0,30.0,42.0,30.0,42.0,18.0,23.0,54.0,29.0,45.0,61.0,27.0,25.0,23.0,28.0,22.0,42.0,49.0,86.0,27.0,21.0,18.0,35.0,21.0,55.0,45.0,65.0,39.0,32.0,31.0,43.0,17.0,68.0,34.0,25.0,76.0,30.0,33.0,28.0,42.0,31.0,31.0,30.0,33.0,67.0,59.0,38.0,38.0,26.0,35.0,59.0,32.0,23.0,49.0,37.0,65.0,39.0,29.0,34.0,27.0,33.0,46.0,30.0,27.0,28.0,42.0,61.0,33.0,54.0,35.0,20.0,28.0,69.0,32.0,36.0,60.0,25.0,60.0,21.0,18.0,40.0,41.0,55.0,35.0,35.0,32.0,24.0,18.0,30.0,63.0,30.0,33.0,27.0,31.0,18.0,59.0,51.0,79.0,60.0,36.0,17.0,48.0,55.0,24.0,52.0,77.0,31.0,25.0,50.0,70.0,31.0,29.0,33.0,25.0,25.0,26.0,36.0,37.0,25.0,32.0,65.0,24.0,16.0,40.0,48.0,17.0,61.0,36.0,68.0,29.0,16.0,32.0,37.0,45.0,38.0,28.0,17.0,68.0,28.0,40.0,50.0,18.0,22.0,17.0,26.0,17.0,40.0,60.0,26.0,34.0,84.0,29.0,16.0,23.0,30.0,25.0,33.0,25.0,28.0,46.0,50.0,34.0,88.0,57.0,29.0,63.0,27.0,58.0,35.0,40.0,35.0,34.0,38.0,27.0,29.0,23.0,70.0,17.0,20.0,61.0,41.0,41.0,22.0,38.0,45.0,64.0,35.0,35.0,32.0,47.0,34.0,45.0,20.0,31.0,35.0,49.0,54.0,56.0,28.0,31.0,35.0,41.0,43.0,40.0,25.0,48.0,34.0,42.0,27.0,29.0,43.0,23.0,31.0,29.0,17.0,36.0,31.0,28.0,30.0,58.0,85.0,48.0,35.0,39.0,57.0,25.0,31.0,42.0,25.0,59.0,22.0,38.0,47.0,38.0,63.0,20.0,65.0,39.0,42.0,40.0,40.0,76.0,30.0,41.0,33.0,26.0,69.0,27.0,26.0,18.0,62.0,16.0,32.0,53.0,55.0,38.0,29.0,45.0,25.0,53.0,48.0,34.0,38.0,29.0,19.0,50.0,25.0,33.0,54.0,26.0,32.0,34.0,35.0,45.0,69.0,35.0,58.0,27.0,31.0,52.0,27.0,19.0,27.0,39.0,86.0,41.0,23.0,55.0,29.0,48.0,20.0,79.0,59.0,23.0,33.0,62.0,28.0,70.0,53.0,16.0,68.0,52.0,63.0,41.0,30.0,37.0,39.0,86.0,28.0,45.0,61.0,48.0,44.0,17.0,62.0,27.0,29.0,40.0,32.0,40.0,19.0,70.0,59.0,42.0,35.0,16.0,19.0,16.0,22.0,33.0,47.0,17.0,62.0,83.0,31.0,80.0,33.0,51.0,63.0,36.0,55.0,85.0,33.0,70.0,31.0,32.0,39.0,51.0,32.0,23.0,32.0,30.0,37.0,33.0,35.0,40.0,57.0,43.0,39.0,27.0,19.0,78.0,62.0,64.0,60.0,50.0,47.0,41.0,19.0,48.0,24.0,32.0,27.0,50.0,55.0,25.0,35.0,25.0,36.0,66.0,30.0,21.0,16.0,40.0,22.0,37.0,27.0,26.0,18.0,23.0,62.0,37.0,21.0,30.0,25.0,35.0,17.0,55.0,48.0,61.0,75.0,42.0,49.0,32.0,25.0,33.0,33.0,25.0,23.0,45.0,89.0,19.0,23.0,79.0,18.0,43.0,43.0,66.0,18.0,35.0,29.0,25.0,45.0,31.0,27.0,33.0,47.0,35.0,37.0,30.0,41.0,35.0,20.0,70.0,75.0,45.0,80.0,26.0,47.0,21.0,54.0,60.0,75.0,30.0,31.0,45.0,16.0,41.0,38.0,26.0,18.0,80.0,39.0,33.0,17.0,37.0,43.0,56.0,70.0,46.0,22.0,44.0,40.0,60.0,52.0,36.0,73.0,18.0,45.0,36.0,63.0,35.0,18.0,19.0,74.0,18.0,39.0,25.0,37.0,60.0,46.0,37.0,52.0,40.0,43.0,77.0,30.0,50.0,36.0,31.0,67.0,51.0,24.0,28.0,30.0,21.0,96.0,25.0,37.0,40.0,71.0,37.0,66.0,63.0,18.0,33.0,17.0,58.0,38.0,48.0,64.0,43.0,25.0,47.0,27.0,24.0,23.0,43.0,37.0,32.0,40.0,69.0,76.0,16.0,76.0,64.0,45.0,56.0,58.0,42.0,33.0,28.0,33.0,63.0,39.0,31.0,29.0,34.0,31.0,53.0,19.0,34.0,57.0,75.0,59.0,46.0,25.0,40.0,37.0,40.0,61.0,56.0,32.0,26.0,33.0,73.0,63.0,37.0,16.0,16.0,34.0,31.0,23.0,63.0,65.0,22.0,17.0,29.0,18.0,22.0,20.0,41.0,30.0,35.0,80.0,27.0,52.0,38.0,21.0,25.0,30.0,25.0,38.0,35.0,21.0,28.0,26.0,41.0,26.0,22.0,47.0,55.0,50.0,40.0,23.0,42.0,62.0,46.0,60.0,69.0,27.0,54.0,55.0,42.0,82.0,51.0,46.0,31.0,47.0,28.0,49.0,23.0,31.0,36.0,16.0,38.0,36.0,45.0,20.0,33.0,77.0,23.0,73.0,24.0,36.0,68.0,50.0,56.0,34.0,47.0,35.0,62.0,52.0,21.0,68.0,62.0,17.0,19.0,53.0,44.0,27.0,31.0,18.0,33.0,23.0,38.0,37.0,33.0,28.0,20.0,19.0,29.0,36.0,39.0,22.0,18.0,23.0,54.0,60.0,69.0,25.0,30.0,76.0,29.0,57.0,35.0,67.0,59.0,59.0,31.0,30.0,54.0,22.0,25.0,54.0,61.0,46.0,32.0,33.0,74.0,28.0,53.0,35.0,50.0,23.0,26.0,26.0,57.0,20.0,24.0,33.0,23.0,33.0,62.0,34.0,51.0,32.0,40.0,50.0,26.0,32.0,43.0,37.0,37.0,28.0,40.0,27.0,58.0,60.0,30.0,40.0,46.0,52.0,72.0,86.0,32.0,30.0,29.0,40.0,24.0,60.0,53.0,35.0,48.0,87.0,27.0,25.0,53.0,36.0,37.0,25.0,55.0,17.0,41.0,21.0,19.0,32.0,30.0,17.0,38.0,39.0,30.0,65.0,18.0,78.0,32.0,38.0,16.0,19.0,25.0,38.0,72.0,32.0,51.0,56.0,29.0,16.0,39.0,40.0,39.0,37.0,64.0,32.0,54.0,21.0,28.0,39.0,39.0,60.0,80.0,34.0,69.0,31.0,74.0,38.0,40.0,19.0,51.0,32.0,27.0,24.0,29.0,22.0,50.0,23.0,23.0,26.0,27.0,18.0,18.0,34.0,24.0,32.0,51.0,63.0,61.0,26.0,49.0,58.0,52.0,76.0,35.0,27.0,65.0,35.0,26.0,89.0,99.0,46.0,29.0,33.0,65.0,61.0,45.0,17.0,32.0,42.0,59.0,53.0,17.0,44.0,26.0,26.0,54.0,47.0,77.0,63.0,38.0,38.0,73.0,21.0,32.0,45.0,53.0,22.0,20.0,59.0,55.0,50.0,29.0,72.0,29.0,29.0,40.0,44.0,43.0,36.0,63.0,43.0,19.0,35.0,26.0,30.0,34.0,30.0,26.0,55.0,45.0,41.0,33.0,68.0,20.0,58.0,36.0,42.0,26.0,62.0,61.0,35.0,33.0,17.0,37.0,42.0,35.0,35.0,73.0,35.0,33.0,32.0,25.0,27.0,63.0,34.0,30.0,30.0,62.0,40.0,26.0,49.0,59.0,25.0,28.0,32.0,71.0,36.0,67.0,27.0,32.0,20.0,36.0,58.0,20.0,55.0,22.0,30.0,34.0,18.0,80.0,30.0,39.0,24.0,20.0,71.0,75.0,30.0,26.0,38.0,20.0,56.0,33.0,42.0,42.0,44.0,20.0,48.0,27.0,39.0,30.0,18.0,28.0,48.0,40.0,46.0,18.0,38.0,30.0,39.0,33.0,30.0,21.0,25.0,36.0,21.0,18.0,17.0,46.0,23.0,57.0,30.0,27.0,25.0,61.0,59.0,20.0,33.0,23.0,41.0,23.0,41.0,25.0,77.0,28.0,33.0,24.0,52.0,38.0,30.0,24.0,20.0,53.0,17.0,29.0,31.0,47.0,23.0,25.0,57.0,32.0,33.0,58.0,42.0,30.0,16.0,23.0,44.0,31.0,18.0,72.0,58.0,18.0,18.0,46.0,39.0,80.0,23.0,32.0,38.0,47.0,26.0,57.0,64.0,26.0,29.0,17.0,47.0,18.0,46.0,37.0,20.0,56.0,29.0,34.0,32.0,68.0,79.0,16.0,35.0,22.0,18.0,32.0,25.0,39.0,80.0,17.0,57.0,50.0,30.0,44.0,41.0,37.0,24.0,20.0,28.0,60.0,37.0,26.0,24.0,40.0,30.0,37.0,39.0,43.0,17.0,28.0,28.0,34.0,18.0,33.0,27.0,46.0,55.0,65.0,53.0,38.0,46.0,51.0,67.0,46.0,63.0,45.0,71.0,33.0,40.0,32.0,20.0,34.0,36.0,60.0,18.0,25.0,32.0,32.0,18.0,27.0,44.0,24.0,16.0,41.0,35.0,36.0,30.0,35.0,18.0,65.0,19.0,34.0,56.0,29.0,56.0,32.0,33.0,33.0,29.0,22.0,39.0,31.0,19.0,72.0,70.0,22.0,80.0,44.0,47.0,34.0,16.0,53.0,68.0,38.0,24.0,60.0,43.0,25.0,43.0,40.0,71.0,45.0,65.0,45.0,19.0,19.0,24.0,35.0,32.0,25.0,39.0,34.0,77.0,41.0,65.0,38.0,68.0,52.0,53.0,64.0,30.0,27.0,40.0,26.0,47.0,21.0,40.0,41.0,45.0,27.0,38.0,39.0,39.0,75.0,26.0,44.0,32.0,30.0,25.0,59.0,35.0,32.0,64.0,22.0,18.0,17.0,25.0,29.0,35.0,46.0,47.0,30.0,39.0,67.0,73.0,58.0,36.0,83.0,61.0,16.0,36.0,65.0,45.0,28.0,22.0,52.0,16.0,44.0,48.0,34.0,25.0,26.0,28.0,21.0,49.0,38.0,34.0,18.0,40.0,50.0,19.0,66.0,21.0,29.0,17.0,35.0,25.0,30.0,45.0,17.0,66.0,43.0,77.0,65.0,35.0,37.0,33.0,40.0,35.0,36.0,42.0,39.0,32.0,32.0,25.0,33.0,70.0,56.0,35.0,40.0,39.0,49.0,33.0,30.0,32.0,77.0,35.0,41.0,27.0,37.0,45.0,54.0,25.0,35.0,23.0,16.0,42.0,31.0,24.0,33.0,16.0,56.0,35.0,20.0,22.0,49.0,35.0,30.0,31.0,21.0,61.0,55.0,26.0,48.0,41.0,37.0,33.0,16.0,44.0,56.0,30.0,41.0,80.0,27.0,33.0,39.0,45.0,49.0,38.0,16.0,27.0,22.0,33.0,56.0,17.0,60.0,28.0,59.0,49.0,34.0,35.0,33.0,18.0,65.0,24.0,35.0,31.0,33.0,43.0,65.0,63.0,62.0,36.0,27.0,35.0,41.0,17.0,49.0,33.0,21.0,60.0,35.0,58.0,60.0,27.0,42.0,28.0,37.0,46.0,18.0,19.0,25.0,53.0,32.0,45.0,48.0,50.0,48.0,23.0,67.0,42.0,63.0,36.0,80.0,32.0,33.0,73.0,22.0,79.0,24.0,37.0,56.0,32.0,17.0,43.0,35.0,42.0,44.0,50.0,50.0,76.0,24.0,19.0,31.0,21.0,59.0,30.0,52.0,57.0,51.0,16.0,25.0,30.0,50.0,37.0,23.0,63.0,19.0,30.0,31.0,35.0,42.0,45.0,27.0,58.0,30.0,16.0,25.0,19.0,34.0,40.0,29.0,66.0,19.0,25.0,21.0,43.0,38.0,27.0,42.0,34.0,33.0,34.0,16.0,76.0,37.0,25.0,88.0,50.0,35.0,34.0,29.0,59.0,29.0,21.0,48.0,40.0,19.0,37.0,53.0,43.0,31.0,22.0,37.0,23.0,20.0,62.0,45.0,17.0,35.0,25.0,26.0,34.0,41.0,34.0,50.0,32.0,55.0,30.0,53.0,33.0,83.0,50.0,43.0,42.0,28.0,49.0,16.0,35.0,32.0,34.0,21.0,33.0,56.0,35.0,72.0,24.0,34.0,41.0,27.0,56.0,42.0,32.0,27.0,24.0,33.0,45.0,30.0,33.0,27.0,24.0,21.0,25.0,55.0,40.0,47.0,16.0,37.0,75.0,22.0,56.0,17.0,37.0,78.0,16.0,47.0,25.0,23.0,38.0,17.0,75.0,24.0,44.0,49.0,67.0,52.0,16.0,20.0,67.0,34.0,24.0,41.0,30.0,34.0,38.0,72.0,74.0,33.0,24.0,33.0,21.0,47.0,70.0,21.0,44.0,85.0,23.0,57.0,34.0,50.0,59.0,30.0,55.0,35.0,40.0,47.0,33.0,53.0,76.0,30.0,34.0,37.0,25.0,23.0,39.0,20.0,37.0,24.0,20.0,43.0,42.0,34.0,51.0,45.0,39.0,63.0,72.0,53.0,33.0,54.0,21.0,34.0,32.0,35.0,37.0,34.0,38.0,19.0,24.0,55.0,51.0,21.0,32.0,16.0,34.0,29.0,36.0,19.0,60.0,26.0,35.0,16.0,25.0,23.0,40.0,61.0,16.0,58.0,76.0,42.0,41.0,32.0,34.0,26.0,65.0,19.0,42.0,25.0,45.0,34.0,41.0,20.0,64.0,62.0,31.0,80.0,18.0,29.0,73.0,52.0,30.0,36.0,30.0,33.0,16.0,63.0,35.0,16.0,34.0,45.0,29.0,35.0,72.0,69.0,44.0,49.0,30.0,30.0,79.0,55.0,42.0,45.0,21.0,63.0,18.0,50.0,41.0,31.0,48.0,59.0,39.0,33.0,53.0,27.0,69.0,57.0,18.0,56.0,17.0,55.0,48.0,26.0,79.0,54.0,28.0,31.0,34.0,32.0,38.0,38.0,40.0,31.0,45.0,58.0,25.0,48.0,60.0,41.0,36.0,31.0,85.0,37.0,17.0,41.0,17.0,20.0,24.0,44.0,74.0,38.0,53.0,60.0,41.0,54.0,30.0,75.0,21.0,58.0,38.0,52.0,33.0,18.0,21.0,63.0,46.0,57.0,65.0,22.0,43.0,59.0,45.0,45.0,45.0,36.0,20.0,18.0,59.0,27.0,49.0,64.0,51.0,48.0,26.0,60.0,32.0,27.0,58.0,56.0,43.0,73.0,49.0,31.0,37.0,28.0,56.0,24.0,80.0,35.0,31.0,25.0,27.0,51.0,66.0,23.0,30.0,26.0,75.0,45.0,32.0,52.0,67.0,34.0,31.0,34.0,41.0,16.0,55.0,44.0,23.0,47.0,25.0,18.0,26.0,72.0,27.0,16.0,53.0,32.0,30.0,17.0,26.0,31.0,33.0,40.0,70.0,18.0,42.0,31.0,43.0,28.0,16.0,37.0,63.0,28.0,30.0,43.0,36.0,28.0,35.0,36.0,19.0,35.0,63.0,32.0,33.0,35.0,45.0,43.0,51.0,22.0,20.0,20.0,59.0,53.0,36.0,46.0,35.0,20.0,38.0,44.0,16.0,49.0,38.0,60.0,28.0,63.0,40.0,18.0,37.0,35.0,24.0,20.0,47.0,29.0,59.0,18.0,51.0,30.0,32.0,38.0,22.0,20.0,36.0,46.0,50.0,55.0,41.0,53.0,30.0,39.0,35.0,35.0,30.0,60.0,29.0,42.0,46.0,55.0,33.0,24.0,23.0,42.0,25.0,35.0,21.0,63.0,27.0,26.0,40.0,43.0,31.0,54.0,19.0,48.0,89.0,31.0,54.0,65.0,29.0,30.0,31.0,44.0,25.0,37.0,33.0,30.0,36.0,30.0,58.0,94.0,25.0,25.0,68.0,47.0,52.0,67.0,45.0,28.0,21.0,23.0,85.0,60.0,51.0,56.0,33.0,52.0,29.0,43.0,37.0,39.0,57.0,37.0,39.0,35.0,25.0,59.0,30.0,33.0,21.0,26.0,70.0,29.0,30.0,58.0,32.0,28.0,33.0,36.0,62.0,46.0,21.0,45.0,16.0,31.0,63.0,16.0,35.0,70.0,65.0,16.0,51.0,56.0,67.0,28.0,51.0,45.0,25.0,38.0,46.0,48.0,20.0,36.0,21.0,47.0,21.0,18.0,48.0,46.0,26.0,79.0,60.0,40.0,58.0,25.0,47.0,43.0,18.0,23.0,85.0,30.0,27.0,25.0,25.0,35.0,22.0,55.0,60.0,68.0,21.0,62.0,35.0,30.0,71.0,34.0,49.0,63.0,58.0,50.0,63.0,16.0,30.0,30.0,25.0,25.0,32.0,52.0,37.0,60.0,45.0,23.0,42.0,20.0,48.0,32.0,34.0,77.0,29.0,69.0,35.0,35.0,49.0,53.0,88.0,30.0,55.0,58.0,75.0,70.0,20.0,39.0,20.0,31.0,49.0,45.0,26.0,18.0,41.0,44.0,25.0,36.0,71.0,16.0,19.0,28.0,47.0,57.0,23.0,18.0,27.0,17.0,19.0,85.0,85.0,68.0,35.0,53.0,79.0,38.0,51.0,40.0,57.0,33.0,50.0,39.0,58.0,74.0,76.0,65.0,32.0,22.0,25.0,62.0,35.0,32.0,35.0,52.0,30.0,82.0,26.0,63.0,22.0,32.0,78.0,31.0,31.0,32.0,19.0,45.0,53.0,65.0,67.0,60.0,35.0,68.0,36.0,24.0,42.0,18.0,36.0,23.0,34.0,39.0,46.0,33.0,44.0,53.0,28.0,20.0,30.0,18.0,46.0,32.0,71.0,76.0,33.0,35.0,42.0,30.0,60.0,29.0,44.0,69.0,45.0,67.0,16.0,36.0,30.0,31.0,44.0,80.0,33.0,50.0,25.0,16.0,74.0,45.0,35.0,45.0,34.0,21.0,35.0,29.0,39.0,54.0,29.0,85.0,50.0,23.0,29.0,42.0,32.0,67.0,52.0,40.0,34.0,79.0,28.0,38.0,35.0,19.0,29.0,38.0,64.0,24.0,67.0,37.0,29.0,52.0,30.0,26.0,43.0,16.0,30.0,31.0,42.0,42.0,38.0,21.0,27.0,31.0,39.0,45.0,50.0,29.0,28.0,50.0,31.0,22.0,51.0,27.0,64.0,41.0,39.0,20.0,55.0,22.0,38.0,24.0,25.0,29.0,19.0,84.0,42.0,47.0,41.0,16.0,19.0,32.0,39.0,18.0,25.0,44.0,79.0,43.0,30.0,47.0,37.0,36.0,16.0,24.0,59.0,28.0,17.0,35.0,33.0,54.0,37.0,39.0,63.0,56.0,80.0,63.0,33.0,30.0,43.0,35.0,75.0,75.0,51.0,28.0,38.0,65.0,38.0,34.0,45.0,30.0,17.0,33.0,34.0,32.0,53.0,35.0,21.0,55.0,42.0,32.0,30.0,63.0,37.0,20.0,65.0,42.0,31.0,20.0,36.0,35.0,51.0,32.0,16.0,31.0,22.0,38.0,19.0,60.0,29.0,38.0,61.0,38.0,37.0,48.0,35.0,20.0,70.0,21.0,23.0,43.0,48.0,41.0,83.0,45.0,38.0,43.0,18.0,44.0,48.0,19.0,65.0,39.0,36.0,67.0,73.0,33.0,38.0,41.0,33.0,45.0,28.0,56.0,65.0,24.0,26.0,38.0,25.0,34.0,70.0,35.0,35.0,26.0,84.0,21.0,33.0,35.0,18.0,31.0,60.0,37.0,38.0,76.0,34.0,24.0,27.0,17.0,43.0,31.0,62.0,75.0,65.0,35.0,65.0,57.0,34.0,20.0,30.0,76.0,32.0,17.0,28.0,22.0,16.0,34.0,27.0,18.0,32.0,67.0,26.0,24.0,68.0,29.0,20.0,52.0,49.0,48.0,36.0,43.0,34.0,33.0,43.0,41.0,33.0,40.0,23.0,52.0,19.0,17.0,55.0,24.0,58.0,45.0,29.0,25.0,80.0,43.0,24.0,35.0,23.0,65.0,19.0,30.0,42.0,53.0,45.0,30.0,23.0,35.0,54.0,34.0,27.0,28.0,20.0,39.0,32.0,43.0,35.0,40.0,41.0,82.0,62.0,21.0,42.0,18.0,17.0,31.0,32.0,52.0,57.0,37.0,49.0,16.0,43.0,18.0,63.0,38.0,35.0,16.0,18.0,73.0,24.0,70.0,31.0,18.0,21.0,35.0,30.0,23.0,50.0,31.0,70.0,26.0,31.0,22.0,60.0,28.0,48.0,40.0,20.0,29.0,20.0,21.0,20.0,21.0,80.0,49.0,83.0,37.0,30.0,24.0,38.0,22.0,19.0,57.0,56.0,45.0,50.0,21.0,34.0,85.0,35.0,18.0,35.0,39.0,56.0,27.0,33.0,37.0,24.0,82.0,66.0,17.0,35.0,33.0,44.0,28.0,36.0,82.0,45.0,44.0,23.0,30.0,26.0,54.0,17.0,39.0,36.0,30.0,18.0,35.0,27.0,25.0,35.0,53.0,19.0,23.0,29.0,30.0,34.0,23.0,64.0,41.0,34.0,39.0,75.0,70.0,26.0,45.0,65.0,63.0,38.0,23.0,16.0,50.0,40.0,38.0,52.0,66.0,61.0,41.0,23.0,38.0,25.0,55.0,49.0,44.0,20.0,48.0,28.0,50.0,59.0,47.0,30.0,30.0,21.0,17.0,36.0,52.0,49.0,32.0,37.0,38.0,32.0,29.0,41.0,21.0,38.0,41.0,18.0,27.0,17.0,34.0,56.0,56.0,55.0,23.0,23.0,44.0,39.0,21.0,30.0,18.0,73.0,30.0,49.0,19.0,41.0,66.0,44.0,77.0,20.0,39.0,17.0,24.0,17.0,63.0,68.0,41.0,38.0,27.0,45.0,54.0,25.0,45.0,64.0,38.0,42.0,38.0,26.0,60.0,37.0,17.0,17.0,75.0,53.0,33.0,43.0,84.0,31.0,48.0,35.0,28.0,16.0,91.0,28.0,43.0,23.0,35.0,42.0,50.0,53.0,20.0,60.0,27.0,70.0,48.0,72.0,32.0,41.0,43.0,53.0,21.0,45.0,17.0,29.0,24.0,28.0,58.0,36.0,24.0,30.0,16.0,23.0,20.0,56.0,35.0,29.0,35.0,58.0,40.0,47.0,35.0,32.0,22.0,41.0,52.0,45.0,30.0,37.0,42.0,35.0,25.0,27.0,37.0,45.0,87.0,29.0,51.0,59.0,81.0,36.0,27.0,45.0,54.0,35.0,61.0,45.0,18.0,54.0,27.0,85.0,23.0,64.0,18.0,37.0,52.0,91.0,68.0,75.0,16.0,46.0,61.0,53.0,25.0,43.0,30.0,37.0,32.0,35.0,57.0,65.0,83.0,38.0,28.0,47.0,31.0,45.0,39.0,40.0,26.0,25.0,38.0,63.0,28.0,43.0,30.0,50.0,75.0,29.0,65.0,35.0,20.0,48.0,35.0,29.0,46.0,44.0,47.0,34.0,51.0,28.0,26.0,28.0,37.0,26.0,25.0,58.0,31.0,47.0,43.0,33.0,16.0,37.0,34.0,21.0,41.0,53.0,32.0,36.0,38.0,47.0,63.0,24.0,28.0,18.0,47.0,30.0,42.0,27.0,29.0,75.0,54.0,40.0,19.0,47.0,42.0,53.0,21.0,75.0,45.0,19.0,40.0,31.0,55.0,63.0,43.0,26.0,37.0,40.0,49.0,30.0,48.0,27.0,34.0,56.0,73.0,39.0,46.0,33.0,49.0,21.0,34.0,38.0,35.0,21.0,31.0,38.0,42.0,26.0,38.0,48.0,51.0,36.0,38.0,35.0,24.0,35.0,28.0,35.0,37.0,31.0,39.0,23.0,32.0,45.0,24.0,41.0,35.0,39.0,50.0,34.0,30.0,17.0,24.0,53.0,45.0,26.0,73.0,20.0,24.0,17.0,71.0,45.0,55.0,26.0,20.0,34.0,56.0,36.0,33.0,24.0,36.0,33.0,40.0,27.0,35.0,22.0,23.0,48.0,32.0,30.0,44.0,17.0,35.0,35.0,31.0,55.0,59.0,36.0,45.0,45.0,23.0,19.0,78.0,22.0,44.0,17.0,53.0,17.0,83.0,32.0,29.0,26.0,45.0,43.0,32.0,45.0,64.0,43.0,37.0,16.0,59.0,79.0,50.0,66.0,75.0,43.0,34.0,35.0,22.0,35.0,19.0,35.0,29.0,77.0,37.0,33.0,41.0,55.0,35.0,53.0,47.0,18.0,48.0,37.0,40.0,40.0,44.0,20.0,77.0,55.0,48.0,17.0,35.0,33.0,60.0,25.0,26.0,52.0,51.0,25.0,35.0,71.0,63.0,52.0,28.0,45.0,18.0,34.0,65.0,29.0,38.0,67.0,33.0,21.0,18.0,23.0,55.0,37.0,38.0,41.0,30.0,23.0,36.0,16.0,51.0,90.0,50.0,24.0,34.0,23.0,36.0,57.0,35.0,36.0,38.0,38.0,36.0,18.0,44.0,42.0,18.0,27.0,35.0,27.0,51.0,56.0,52.0,65.0,38.0,60.0,45.0,32.0,22.0,29.0,63.0,56.0,41.0,83.0,36.0,24.0,59.0,65.0,37.0,18.0,31.0,34.0,57.0,45.0,52.0,33.0,17.0,36.0,34.0,39.0,42.0,35.0,39.0,25.0,42.0,49.0,48.0,54.0,21.0,22.0,59.0,21.0,50.0,64.0,28.0,37.0,42.0,70.0,63.0,45.0,69.0,31.0,41.0,21.0,34.0,56.0,43.0,46.0,27.0,27.0,26.0,24.0,36.0,27.0,51.0,24.0,55.0,37.0,21.0,16.0,36.0,28.0,56.0,30.0,38.0,41.0,63.0,27.0,34.0,56.0,59.0,21.0,27.0,50.0,17.0,17.0,77.0,33.0,64.0,47.0,16.0,22.0,51.0,18.0,27.0,24.0,28.0,44.0,60.0,18.0,29.0,31.0,20.0,25.0,28.0,60.0,17.0,30.0,50.0,20.0,17.0,27.0,18.0,40.0,75.0,67.0,22.0,56.0,19.0,44.0,32.0,53.0,33.0,35.0,31.0,23.0,20.0,61.0,27.0,21.0,23.0,17.0,23.0,33.0,31.0,24.0,25.0,45.0,42.0,18.0,42.0,37.0,41.0,17.0,55.0,18.0,42.0,42.0,40.0,35.0,32.0,16.0,70.0,20.0,43.0,81.0,66.0,57.0,42.0,35.0,27.0,54.0,67.0,41.0,33.0,27.0,37.0,30.0,46.0,79.0,55.0,28.0,41.0,83.0,31.0,79.0,74.0,43.0,24.0,30.0,18.0,25.0,25.0,61.0,55.0,39.0,36.0,28.0,29.0,42.0,27.0,32.0,56.0,33.0,28.0,22.0,35.0,56.0,47.0,40.0,30.0,57.0,19.0,32.0,29.0,56.0,37.0,33.0,18.0,55.0,23.0,30.0,33.0,29.0,50.0,37.0,36.0,45.0,49.0,24.0,22.0,71.0,50.0,23.0,41.0,47.0,59.0,49.0,22.0,59.0,19.0,44.0,24.0,17.0,19.0,18.0,27.0,53.0,20.0,42.0,18.0,62.0,16.0,28.0,35.0,42.0,31.0,21.0,35.0,35.0,34.0,19.0,64.0,62.0,53.0,31.0,30.0,65.0,38.0,28.0,34.0,51.0,33.0,65.0,52.0,70.0,22.0,25.0,59.0,82.0,58.0,16.0,30.0,74.0,45.0,45.0,63.0,63.0,43.0,28.0,25.0,52.0,16.0,50.0,53.0,25.0,62.0,25.0,40.0,53.0,28.0,38.0,40.0,65.0,46.0,35.0,18.0,31.0,34.0,32.0,16.0,75.0,30.0,37.0,62.0,52.0,30.0,32.0,30.0,19.0,32.0,62.0,24.0,23.0,40.0,27.0,23.0,51.0,17.0,29.0,37.0,66.0,17.0,20.0,24.0,20.0,29.0,25.0,25.0,33.0,64.0,16.0,35.0,21.0,17.0,24.0,29.0,54.0,22.0,49.0,54.0,37.0,53.0,25.0,71.0,37.0,54.0,48.0,37.0,33.0,17.0,29.0,44.0,33.0,58.0,73.0,28.0,29.0,51.0,19.0,54.0,18.0,60.0,35.0,30.0,19.0,28.0,29.0,25.0,50.0,33.0,19.0,30.0,41.0,50.0,40.0,89.0,30.0,40.0,17.0,23.0,32.0,31.0,72.0,25.0,16.0,45.0,52.0,39.0,37.0,67.0,43.0,17.0,29.0,20.0,20.0,65.0,52.0,58.0,46.0,39.0,29.0,52.0,30.0,27.0,17.0,48.0,45.0,58.0,65.0,18.0,68.0,36.0,42.0,36.0,47.0,33.0,23.0,54.0,16.0,20.0,36.0,32.0,23.0,41.0,36.0,87.0,22.0,25.0,22.0,25.0,35.0,37.0,23.0,25.0,61.0,81.0,18.0,24.0,27.0,41.0,29.0,57.0,52.0,18.0,45.0,34.0,45.0,27.0,19.0,33.0,70.0,50.0,50.0,47.0,32.0,25.0,64.0,32.0,23.0,89.0,20.0,33.0,30.0,51.0,52.0,63.0,25.0,60.0,18.0,43.0,20.0,46.0,24.0,39.0,30.0,55.0,44.0,50.0,40.0,29.0,42.0,45.0,53.0,33.0,32.0,37.0,65.0,38.0,27.0,26.0,39.0,48.0,18.0,21.0,34.0,27.0,18.0,30.0,35.0,33.0,31.0,33.0,44.0,20.0,57.0,54.0,26.0,20.0,51.0,39.0,80.0,85.0,53.0,25.0,58.0,26.0,30.0,20.0,68.0,36.0,29.0,64.0,66.0,40.0,22.0,55.0,27.0,58.0,39.0,52.0,20.0,19.0,25.0,30.0,56.0,57.0,67.0,31.0,27.0,35.0,32.0,60.0,31.0,35.0,45.0,34.0,36.0,32.0,28.0,25.0,78.0,65.0,35.0,33.0,49.0,23.0,52.0,36.0,75.0,51.0,60.0,45.0,49.0,57.0,43.0,27.0,24.0,50.0,70.0,57.0,75.0,40.0,25.0,30.0,25.0,37.0,27.0,58.0,28.0,29.0,73.0,42.0,62.0,30.0,49.0,30.0,42.0,45.0,22.0,41.0,83.0,41.0,35.0,42.0,18.0,35.0,36.0,63.0,30.0,52.0,47.0,25.0,30.0,30.0,64.0,29.0,24.0,29.0,35.0,38.0,21.0,34.0,40.0,22.0,23.0,32.0,25.0,47.0,79.0,27.0,35.0,44.0,30.0,23.0,78.0,43.0,46.0,35.0,18.0,29.0,47.0,24.0,29.0,53.0,56.0,26.0,35.0,56.0,30.0,65.0,21.0,53.0,37.0,38.0,27.0,30.0,43.0,30.0,22.0,28.0,22.0,69.0,55.0,40.0,26.0,60.0,21.0,80.0,31.0,53.0,43.0,28.0,55.0,87.0,70.0,75.0,41.0,65.0,60.0,23.0,35.0,18.0,43.0,60.0,34.0,61.0,32.0,56.0,46.0,36.0,32.0,63.0,22.0,32.0,36.0,67.0,19.0,55.0,50.0,17.0,33.0,30.0,30.0,25.0,21.0,20.0,25.0,57.0,22.0,66.0,27.0,30.0,77.0,36.0,35.0,47.0,67.0,61.0,35.0,43.0,68.0,33.0,66.0,55.0,33.0,17.0,35.0,60.0,41.0,55.0,28.0,25.0,19.0,27.0,16.0,32.0,59.0,39.0,88.0,40.0,33.0,47.0,30.0,39.0,39.0,32.0,24.0,30.0,17.0,35.0,43.0,28.0,22.0,28.0,50.0,40.0,57.0,61.0,42.0,28.0,50.0,19.0,59.0,29.0,26.0,16.0,27.0,37.0,26.0,34.0,31.0,77.0,45.0,37.0,47.0,36.0,55.0,30.0,17.0,40.0,16.0,33.0,30.0,34.0,69.0,40.0,54.0,25.0,55.0,53.0,29.0,45.0,70.0,35.0,30.0,45.0,42.0,30.0,21.0,26.0,39.0,35.0,36.0,32.0,30.0,59.0,16.0,25.0,17.0,60.0,53.0,31.0,21.0,34.0,47.0,27.0,49.0,86.0,42.0,40.0,59.0,26.0,31.0,20.0,44.0,69.0,17.0,32.0,33.0,69.0,59.0,47.0,73.0,22.0,18.0,16.0,80.0,50.0,23.0,53.0,33.0,20.0,41.0,16.0,51.0,32.0,18.0,20.0,30.0,55.0,67.0,20.0,75.0,42.0,25.0,40.0,53.0,55.0,53.0,71.0,21.0,70.0,61.0,32.0,76.0,27.0,32.0,30.0,84.0,24.0,36.0,28.0,24.0,52.0,78.0,17.0,37.0,42.0,40.0,22.0,42.0,23.0,29.0,24.0,22.0,19.0,33.0,53.0,62.0,68.0,19.0,21.0,26.0,18.0,32.0,29.0,33.0,58.0,55.0,27.0,50.0,50.0,34.0,46.0,38.0,21.0,61.0,61.0,54.0,31.0,34.0,63.0,45.0,28.0,45.0,51.0,57.0,29.0,37.0,18.0,20.0,42.0,19.0,19.0,39.0,18.0,33.0,39.0,38.0,53.0,25.0,48.0,76.0,30.0,38.0,35.0,38.0,61.0,36.0,26.0,26.0,18.0,34.0,17.0,75.0,49.0,31.0,44.0,31.0,25.0,60.0,17.0,37.0,63.0,24.0,35.0,57.0,18.0,47.0,17.0,30.0,51.0,31.0,33.0,19.0,16.0,38.0,47.0,17.0,37.0,29.0,30.0,29.0,73.0,33.0,35.0,70.0,75.0,58.0,57.0,69.0,30.0,28.0,29.0,35.0,47.0,53.0,28.0,50.0,26.0,31.0,38.0,56.0,22.0,20.0,61.0,35.0,33.0,51.0,41.0,43.0,16.0,49.0,59.0,20.0,50.0,56.0,50.0,29.0,34.0,34.0,25.0,23.0,51.0,38.0,43.0,38.0,65.0,64.0,18.0,22.0,32.0,53.0,33.0,30.0,30.0,16.0,23.0,39.0,40.0,70.0,36.0,17.0,21.0,33.0,19.0,20.0,58.0,42.0,38.0,24.0,18.0,49.0,52.0,22.0,23.0,35.0,39.0,49.0,36.0,32.0,32.0,17.0,27.0,29.0,32.0,31.0,46.0,34.0,20.0,55.0,30.0,54.0,25.0,23.0,36.0,54.0,41.0,16.0,29.0,28.0,32.0,24.0,41.0,27.0,59.0,35.0,43.0,55.0,40.0,32.0,38.0,49.0,39.0,36.0,23.0,36.0,78.0,45.0,80.0,54.0,54.0,17.0,40.0,21.0,23.0,58.0,41.0,20.0,41.0,34.0,28.0,18.0,24.0,37.0,37.0,18.0,29.0,35.0,39.0,27.0,29.0,29.0,48.0,54.0,33.0,26.0,33.0,17.0,38.0,58.0,28.0,24.0,35.0,36.0,27.0,19.0,66.0,28.0,27.0,25.0,18.0,50.0,60.0,40.0,22.0,23.0,44.0,48.0,41.0,41.0,36.0,48.0,29.0,32.0,16.0,35.0,30.0,27.0,43.0,25.0,38.0,21.0,65.0,37.0,35.0,79.0,40.0,72.0,43.0,74.0,29.0,29.0,45.0,55.0,34.0,38.0,23.0,67.0,53.0,54.0,22.0,38.0,30.0,33.0,37.0,25.0,26.0,26.0,55.0,60.0,40.0,60.0,24.0,37.0,18.0,47.0,25.0,27.0,59.0,44.0,20.0,31.0,42.0,25.0,47.0,31.0,17.0,41.0,37.0,56.0,68.0,22.0,35.0,17.0,19.0,22.0,36.0,38.0,16.0,42.0,20.0,42.0,80.0,27.0,45.0,77.0,45.0,32.0,48.0,32.0,48.0,47.0,77.0,29.0,50.0,20.0,45.0,42.0,17.0,54.0,68.0,55.0,29.0,59.0,45.0,31.0,38.0,39.0,35.0,18.0,35.0,33.0,28.0,35.0,48.0,35.0,34.0,69.0,25.0,40.0,52.0,21.0,21.0,22.0,49.0,26.0,28.0,51.0,46.0,55.0,33.0,29.0,39.0,30.0,17.0,28.0,37.0,50.0,23.0,85.0,34.0,16.0,38.0,59.0,37.0,27.0,23.0,74.0,56.0,79.0,30.0,35.0,67.0,42.0,66.0,32.0,40.0,53.0,47.0,50.0,32.0,38.0,58.0,31.0,52.0,60.0,18.0,21.0,35.0,48.0,48.0,61.0,38.0,30.0,32.0,28.0,17.0,28.0,76.0,19.0,75.0,32.0,71.0,19.0,38.0,25.0,76.0,32.0,22.0,18.0,39.0,64.0,34.0,28.0,38.0,19.0,85.0,24.0,73.0,51.0,44.0,57.0,73.0,19.0,42.0,64.0,35.0,16.0,41.0,52.0,30.0,45.0,53.0,45.0,83.0,47.0,55.0,27.0,25.0,26.0,34.0,20.0,79.0,70.0,47.0,24.0,44.0,35.0,27.0,49.0,23.0,31.0,19.0,46.0,33.0,79.0,23.0,51.0,47.0,20.0,40.0,19.0,33.0,25.0,80.0,30.0,90.0,34.0,46.0,33.0,60.0,32.0,63.0,20.0,71.0,56.0,40.0,26.0,24.0,22.0,19.0,46.0,32.0,25.0,35.0,31.0,32.0,38.0,69.0,50.0,52.0,29.0,55.0,41.0,19.0,28.0,29.0,45.0,25.0,35.0,18.0,33.0,56.0,17.0,29.0,49.0,57.0,49.0,28.0,31.0,27.0,55.0,33.0,43.0,23.0,23.0,23.0,23.0,23.0,23.0,23.0,20.0,38.0,21.0,27.0,78.0,35.0,55.0,34.0,44.0,28.0,84.0,52.0,66.0,52.0,50.0,50.0,23.0,28.0,20.0,21.0,76.0,50.0,45.0,60.0,44.0,22.0,50.0,38.0,73.0,66.0,45.0,28.0,38.0,39.0,45.0,28.0,62.0,18.0,45.0,34.0,63.0,45.0,28.0,24.0,20.0,57.0,55.0,61.0,21.0,45.0,30.0,27.0,25.0,33.0,45.0,57.0,57.0,48.0,41.0,57.0,79.0,32.0,33.0,31.0,35.0,21.0,47.0,24.0,82.0,26.0,35.0,47.0,54.0,60.0,54.0,19.0,95.0,30.0,32.0,24.0,77.0,27.0,53.0,20.0,35.0,60.0,42.0,54.0,20.0,50.0,65.0,60.0,75.0,57.0,28.0,21.0,23.0,38.0,32.0,42.0,55.0,21.0,75.0,17.0,35.0,62.0,43.0,45.0,38.0,59.0,45.0,37.0,47.0,49.0,19.0,47.0,47.0,32.0,30.0,30.0,41.0,24.0,31.0,52.0,33.0,54.0,28.0,21.0,63.0,26.0,22.0,27.0,30.0,31.0,54.0,71.0,19.0,60.0,28.0,35.0,28.0,55.0,34.0,31.0,40.0,55.0,16.0,37.0,19.0,28.0,31.0,17.0,41.0,67.0,41.0,19.0,19.0,72.0,16.0,39.0,23.0,85.0,54.0,25.0,46.0,31.0,34.0,34.0,27.0,24.0,17.0,62.0,24.0,46.0,26.0,51.0,66.0,31.0,41.0,76.0,40.0,35.0,65.0,25.0,83.0,74.0,31.0,53.0,63.0,49.0,49.0,49.0,49.0,49.0,30.0,64.0,45.0,40.0,70.0,60.0,28.0,20.0,16.0,20.0,42.0,17.0,36.0,48.0,35.0,34.0,67.0,28.0,20.0,49.0,78.0,30.0,28.0,16.0,18.0,17.0,25.0,27.0,71.0,19.0,40.0,45.0,38.0,35.0,50.0,26.0,33.0,68.0,45.0,42.0,54.0,19.0,18.0,44.0,30.0,41.0,20.0,31.0,25.0,46.0,28.0,19.0,40.0,80.0,20.0,35.0,27.0,34.0,32.0,46.0,36.0,23.0,45.0,27.0,34.0,24.0,32.0,47.0,20.0,71.0,19.0,43.0,65.0,51.0,35.0,60.0,52.0,18.0,52.0,31.0,27.0,42.0,40.0,25.0,64.0,42.0,33.0,69.0,56.0,29.0,40.0,26.0,33.0,77.0,40.0,34.0,43.0,26.0,30.0,28.0,21.0,47.0,53.0,34.0,30.0,65.0,38.0,41.0,56.0,25.0,34.0,53.0,80.0,33.0,25.0,23.0,49.0,20.0,54.0,22.0,19.0,48.0,35.0,46.0,33.0,38.0,39.0,30.0,27.0,35.0,64.0,16.0,26.0,40.0,51.0,55.0,53.0,32.0,19.0,43.0,61.0,44.0,24.0,34.0,45.0,75.0,23.0,87.0,31.0,36.0,68.0,17.0,22.0,16.0,30.0,26.0,29.0,23.0,88.0,43.0,34.0,32.0,30.0,67.0,35.0,37.0,49.0,20.0,28.0,38.0,35.0,67.0,65.0,55.0,73.0,34.0,37.0,33.0,25.0,42.0,45.0,66.0,35.0,16.0,28.0,27.0,16.0,16.0,27.0,24.0,56.0,37.0,44.0,71.0,24.0,37.0,55.0,18.0,36.0,30.0,63.0,34.0,40.0,18.0,27.0,55.0,35.0,32.0,21.0,80.0,43.0,38.0,66.0,31.0,28.0,29.0,33.0,67.0,28.0,36.0,26.0,62.0,33.0,75.0,41.0,33.0,49.0,67.0,49.0,24.0,26.0,47.0,44.0,45.0,41.0,64.0,21.0,23.0,28.0,17.0,31.0,85.0,26.0,44.0,29.0,24.0,30.0,70.0,21.0,27.0,16.0,77.0,52.0,65.0,46.0,19.0,30.0,35.0,32.0,60.0,26.0,27.0,18.0,27.0,50.0,28.0,33.0,24.0,28.0,65.0,64.0,28.0,43.0,28.0,41.0,18.0,25.0,23.0,37.0,26.0,61.0,56.0,80.0,48.0,38.0,28.0,22.0,30.0,26.0,30.0,70.0,26.0,67.0,19.0,45.0,33.0,41.0,25.0,34.0,27.0,62.0,32.0,25.0,40.0,31.0,53.0,74.0,35.0,22.0,76.0,35.0,25.0,19.0,38.0,55.0,40.0,37.0,45.0,22.0,24.0,35.0,18.0,25.0,32.0,48.0,40.0,47.0,43.0,35.0,28.0,45.0,37.0,28.0,32.0,28.0,23.0,35.0,52.0,35.0,35.0,49.0,34.0,29.0,23.0,57.0,31.0,58.0,16.0,53.0,29.0,24.0,32.0,29.0,24.0,61.0,40.0,30.0,44.0,30.0,55.0,37.0,39.0,40.0,53.0,64.0,48.0,19.0,65.0,20.0,52.0,40.0,29.0,22.0,37.0,25.0,20.0,41.0,52.0,23.0,21.0,54.0,49.0,29.0,19.0,63.0,80.0,31.0,40.0,47.0,32.0,24.0,38.0,26.0,59.0,16.0,72.0,18.0,18.0,40.0,35.0,37.0,35.0,31.0,46.0,35.0,56.0,37.0,61.0,22.0,21.0,31.0,65.0,65.0,79.0,24.0,32.0,22.0,35.0,45.0,29.0,34.0,52.0,48.0,24.0,28.0,20.0,64.0,25.0,25.0,28.0,34.0,38.0,26.0,34.0,29.0,22.0,57.0,23.0,20.0,45.0,30.0,81.0,75.0,28.0,34.0,28.0,35.0,78.0,30.0,30.0,16.0,50.0,40.0,17.0,67.0,47.0,36.0,28.0,47.0,37.0,50.0,34.0,56.0,57.0,55.0,48.0,40.0,30.0,25.0,40.0,30.0,39.0,47.0,19.0,61.0,51.0,85.0,38.0,31.0,31.0,41.0,27.0,35.0,41.0,30.0,49.0,35.0,30.0,25.0,68.0,39.0,37.0,32.0,64.0,43.0,47.0,33.0,32.0,45.0,57.0,39.0,66.0,31.0,60.0,49.0,18.0,70.0,60.0,62.0,39.0,56.0,22.0,32.0,53.0,54.0,77.0,40.0,30.0,72.0,33.0,31.0,42.0,48.0,45.0,71.0,34.0,18.0,28.0,66.0,43.0,36.0,51.0,38.0,19.0,22.0,28.0,55.0,43.0,45.0,64.0,35.0,30.0,46.0,28.0,41.0,46.0,54.0,53.0,39.0,30.0,32.0,43.0,48.0,75.0,58.0,25.0,31.0,28.0,30.0,77.0,26.0,28.0,29.0,29.0,29.0,35.0,57.0,38.0,54.0,24.0,37.0,48.0,16.0,44.0,26.0,59.0,60.0,27.0,35.0,22.0,38.0,36.0,30.0,27.0,34.0,27.0,42.0,31.0,21.0,32.0,35.0,28.0,63.0,52.0,57.0,25.0,72.0,30.0,35.0,38.0,64.0,42.0,52.0,21.0,21.0,24.0,67.0,60.0,44.0,17.0,43.0,20.0,26.0,40.0,36.0,28.0,32.0,75.0,54.0,75.0,41.0,46.0,24.0,25.0,85.0,38.0,74.0,56.0,31.0,35.0,37.0,51.0,35.0,44.0,52.0,26.0,47.0,65.0,34.0,85.0,18.0,27.0,43.0,33.0,59.0,26.0,30.0,75.0,41.0,59.0,70.0,19.0,24.0,45.0,31.0,27.0,17.0,25.0,31.0,24.0,35.0,16.0,27.0,27.0,28.0,56.0,20.0,35.0,53.0,46.0,23.0,43.0,44.0,24.0,27.0,32.0,25.0,23.0,52.0,64.0,32.0,41.0,41.0,25.0,28.0,20.0,27.0,16.0,48.0,29.0,22.0,73.0,20.0,18.0,30.0,28.0,33.0,27.0,21.0,26.0,35.0,74.0,43.0,30.0,29.0,37.0,41.0,38.0,33.0,24.0,18.0,18.0,31.0,35.0,38.0,35.0,76.0,59.0,28.0,55.0,54.0,38.0,41.0,53.0,29.0,28.0,29.0,55.0,43.0,41.0,23.0,22.0,81.0,21.0,16.0,42.0,27.0,18.0,25.0,35.0,84.0,27.0,30.0,32.0,25.0,38.0,47.0,45.0,30.0,18.0,30.0,42.0,40.0,45.0,50.0,45.0,40.0,26.0,26.0,51.0,26.0,67.0,56.0,20.0,43.0,30.0,65.0,48.0,52.0,24.0,39.0,35.0,57.0,32.0,18.0,54.0,22.0,68.0,36.0,44.0,58.0,28.0,18.0,21.0,36.0,57.0,20.0,30.0,50.0,24.0,62.0,26.0,18.0,31.0,17.0,52.0,43.0,27.0,20.0,62.0,45.0,16.0,40.0,78.0,21.0,70.0,70.0,65.0,30.0,23.0,28.0,68.0,55.0,23.0,52.0,73.0,58.0,27.0,60.0,35.0,36.0,23.0,30.0,21.0,50.0,52.0,24.0,31.0,40.0,33.0,30.0,28.0,37.0,21.0,59.0,56.0,58.0,73.0,54.0,45.0,31.0,73.0,41.0,24.0,31.0,24.0,52.0,22.0,59.0,54.0,19.0,63.0,70.0,46.0,30.0,52.0,39.0,62.0,38.0,35.0,18.0,21.0,69.0,39.0,37.0,73.0,21.0,22.0,35.0,30.0,17.0,37.0,71.0,34.0,47.0,59.0,47.0,23.0,26.0,41.0,34.0,23.0,60.0,33.0,41.0,30.0,59.0,49.0,50.0,40.0,61.0,38.0,72.0,72.0,36.0,28.0,44.0,39.0,43.0,31.0,36.0,33.0,33.0,20.0,33.0,36.0,18.0,17.0,45.0,36.0,18.0,17.0,29.0,42.0,19.0,23.0,26.0,34.0,18.0,29.0,30.0,41.0,46.0,40.0,37.0,23.0,43.0,53.0,25.0,55.0,65.0,27.0,20.0,38.0,30.0,26.0,21.0,59.0,42.0,36.0,39.0,28.0,38.0,30.0,26.0,33.0,40.0,88.0,23.0,60.0,27.0,54.0,32.0,73.0,48.0,65.0,39.0,28.0,45.0,17.0,67.0,23.0,34.0,54.0,32.0,27.0,20.0,59.0,32.0,23.0,37.0,41.0,26.0,51.0,22.0,41.0,48.0,45.0,16.0,34.0,20.0,23.0,53.0,33.0,37.0,34.0,34.0,16.0,28.0,57.0,49.0,20.0,35.0,70.0,36.0,36.0,50.0,19.0,23.0,28.0,48.0,43.0,39.0,25.0,25.0,41.0,30.0,19.0,66.0,31.0,51.0,38.0,29.0,29.0,53.0,36.0,49.0,50.0,80.0,72.0,30.0,24.0,38.0,43.0,34.0,16.0,53.0,44.0,16.0,57.0,35.0,16.0,27.0,16.0,46.0,57.0,27.0,89.0,40.0,30.0,50.0,37.0,16.0,43.0,40.0,50.0,36.0,30.0,39.0,47.0,60.0,47.0,33.0,49.0,30.0,23.0,67.0,73.0,34.0,22.0,23.0,41.0,75.0,16.0,48.0,38.0,22.0,39.0,34.0,18.0,55.0,61.0,21.0,28.0,40.0,67.0,43.0,55.0,28.0,39.0,33.0,32.0,43.0,39.0,90.0,47.0,53.0,60.0,49.0,27.0,68.0,36.0,50.0,79.0,33.0,41.0,37.0,35.0,41.0,28.0,31.0,41.0,21.0,30.0,56.0,28.0,41.0,48.0,53.0,69.0,36.0,36.0,56.0,55.0,35.0,67.0,27.0,24.0,35.0,27.0,30.0,19.0,41.0,85.0,34.0,52.0,31.0,18.0,31.0,27.0,29.0,34.0,33.0,53.0,30.0,67.0,27.0,19.0,46.0,45.0,22.0,33.0,37.0,70.0,18.0,29.0,57.0,28.0,38.0,27.0,34.0,60.0,30.0,65.0,19.0,26.0,29.0,87.0,20.0,80.0,35.0,26.0,31.0,35.0,66.0,30.0,39.0,35.0,30.0,48.0,55.0,26.0,32.0,66.0,31.0,34.0,56.0,73.0,17.0,46.0,52.0,27.0,52.0,21.0,23.0,39.0,30.0,44.0,64.0,47.0,40.0,30.0,61.0,30.0,23.0,34.0,46.0,26.0,34.0,17.0,25.0,40.0,31.0,41.0,68.0,53.0,47.0,18.0,35.0,45.0,32.0,66.0,16.0,37.0,51.0,21.0,50.0,96.0,24.0,75.0,47.0,76.0,48.0,57.0,59.0,23.0,32.0,19.0,59.0,47.0,38.0,25.0,50.0,19.0,70.0,63.0,80.0,46.0,25.0,27.0,20.0,26.0,61.0,17.0,29.0,21.0,80.0,31.0,52.0,30.0,30.0,61.0,44.0,54.0,35.0,25.0,27.0,59.0,51.0,33.0,30.0,58.0,35.0,34.0,33.0,41.0,29.0,83.0,39.0,73.0,35.0,52.0,47.0,37.0,19.0,17.0,37.0,41.0,59.0,57.0,26.0,43.0,39.0,27.0,77.0,24.0,26.0,29.0,53.0,24.0,27.0,26.0,21.0,40.0,55.0,18.0,41.0,45.0,32.0,81.0,61.0,41.0,48.0,37.0,45.0,18.0,42.0,64.0,29.0,18.0,53.0,35.0,42.0,74.0,55.0,42.0,28.0,56.0,32.0,39.0,19.0,27.0,41.0,62.0,39.0,38.0,33.0,51.0,31.0,49.0,42.0,65.0,31.0,22.0,100.0,19.0,21.0,24.0,21.0,42.0,31.0,59.0,65.0,30.0,35.0,22.0,43.0,34.0,17.0,38.0,27.0,60.0,18.0,26.0,21.0,33.0,21.0,55.0,35.0,51.0,43.0,51.0,22.0,20.0,44.0,25.0,41.0,43.0,20.0,27.0,31.0,28.0,63.0,40.0,34.0,31.0,40.0,74.0,75.0,33.0,25.0,75.0,24.0,16.0,41.0,20.0,73.0,55.0,42.0,40.0,21.0,47.0,72.0,65.0,30.0,31.0,49.0,75.0,30.0,27.0,30.0,22.0,42.0,33.0,18.0,44.0,37.0,36.0,23.0,39.0,20.0,25.0,18.0,29.0,31.0,33.0,21.0,42.0,27.0,45.0,36.0,17.0,69.0,40.0,25.0,57.0,28.0,58.0,20.0,33.0,60.0,24.0,29.0,26.0,34.0,45.0,43.0,28.0,25.0,43.0,21.0,64.0,31.0,45.0,40.0,19.0,29.0,27.0,28.0,48.0,38.0,20.0,29.0,19.0,36.0,51.0,32.0,49.0,33.0,27.0,43.0,50.0,24.0,38.0,35.0,38.0,58.0,24.0,25.0,51.0,23.0,19.0,30.0,43.0,25.0,40.0,37.0,29.0,61.0,32.0,39.0,74.0,48.0,20.0,51.0,60.0,27.0,29.0,58.0,50.0,52.0,75.0,19.0,25.0,28.0,75.0,26.0,86.0,23.0,19.0,19.0,70.0,23.0,40.0,23.0,37.0,53.0,50.0,25.0,37.0,18.0,36.0,60.0,34.0,25.0,37.0,80.0,27.0,78.0,43.0,28.0,60.0,25.0,36.0,40.0,57.0,45.0,26.0,35.0,60.0,50.0,60.0,26.0,25.0,25.0,57.0,30.0,23.0,38.0,31.0,52.0,22.0,40.0,36.0,17.0,36.0,47.0,69.0,31.0,17.0,40.0,90.0,51.0,55.0,29.0,31.0,32.0,28.0,64.0,17.0,48.0,31.0,53.0,38.0,18.0,23.0,70.0,23.0,20.0,60.0,37.0,19.0,22.0,28.0,44.0,16.0,55.0,32.0,32.0,20.0,30.0,38.0,16.0,30.0,26.0,35.0,29.0,66.0,60.0,73.0,32.0,50.0,25.0,24.0,20.0,65.0,76.0,28.0,57.0,47.0,50.0,42.0,42.0,48.0,23.0,35.0,25.0,27.0,32.0,36.0,30.0,35.0,25.0,29.0,39.0,34.0,29.0,25.0,16.0,70.0,48.0,45.0,66.0,37.0,55.0,30.0,44.0,36.0,38.0,64.0,17.0,59.0,46.0,47.0,25.0,31.0,72.0,33.0,29.0,36.0,18.0,79.0,16.0,57.0,32.0,54.0,19.0,20.0,31.0,65.0,67.0,35.0,58.0,29.0,65.0,25.0,23.0,20.0,38.0,56.0,48.0,71.0,44.0,69.0,21.0,34.0,22.0,25.0,29.0,29.0,31.0,27.0,70.0,25.0,29.0,37.0,53.0,20.0,36.0,31.0,56.0,48.0,31.0,27.0,23.0,25.0,26.0,58.0,90.0,31.0,65.0,26.0,25.0,23.0,46.0,48.0,17.0,24.0,41.0,50.0,33.0,30.0,35.0,26.0,59.0,20.0,33.0,57.0,45.0,33.0,49.0,23.0,40.0,32.0,33.0,49.0,57.0,19.0,45.0,51.0,32.0,23.0,28.0,89.0,54.0,31.0,29.0,34.0,43.0,60.0,33.0,39.0,36.0,19.0,30.0,21.0,33.0,20.0,24.0,24.0,49.0,18.0,42.0,24.0,40.0,40.0,20.0,33.0,34.0,75.0,88.0,30.0,24.0,20.0,45.0,23.0,98.0,37.0,31.0,21.0,48.0,18.0,67.0,35.0,45.0,62.0,19.0,29.0,34.0,45.0,24.0,18.0,23.0,27.0,17.0,18.0,35.0,47.0,55.0,43.0,22.0,43.0,35.0,54.0,77.0,62.0,42.0,30.0,61.0,32.0,16.0,25.0,34.0,32.0,45.0,45.0,42.0,37.0,59.0,25.0,47.0,91.0,46.0,31.0,28.0,36.0,60.0,35.0,25.0,55.0,47.0,30.0,37.0,34.0,32.0,32.0,16.0,27.0,50.0,41.0,53.0,24.0,43.0,70.0,44.0,37.0,25.0,30.0,57.0,32.0,49.0,31.0,44.0,29.0,16.0,34.0,19.0,36.0,17.0,17.0,36.0,42.0,35.0,32.0,50.0,33.0,55.0,36.0,55.0,25.0,50.0,24.0,28.0,19.0,43.0,37.0,22.0,33.0,36.0,43.0,40.0,45.0,46.0,46.0,20.0,43.0,78.0,23.0,41.0,26.0,57.0,17.0,49.0,22.0,41.0,52.0,25.0,66.0,26.0,32.0,28.0,48.0,32.0,47.0,25.0,55.0,27.0,63.0,20.0,40.0,44.0,62.0,25.0,26.0,26.0,59.0,37.0,25.0,30.0,20.0,65.0,44.0,35.0,36.0,28.0,45.0,52.0,42.0,30.0,71.0,20.0,28.0,27.0,43.0,50.0,42.0,34.0,40.0,61.0,54.0,33.0,37.0,30.0,19.0,60.0,70.0,26.0,34.0,18.0,23.0,80.0,43.0,21.0,45.0,24.0,28.0,24.0,35.0,57.0,43.0,35.0,38.0,28.0,88.0,23.0,32.0,58.0,27.0,19.0,51.0,19.0,30.0,65.0,18.0,28.0,44.0,21.0,32.0,32.0,16.0,63.0,27.0,52.0,36.0,28.0,36.0,69.0,34.0,26.0,26.0,48.0,56.0,22.0,23.0,23.0,26.0,75.0,39.0,36.0,30.0,32.0,42.0,49.0,57.0,55.0,40.0,62.0,41.0,27.0,28.0,45.0,40.0,19.0,70.0,21.0,26.0,22.0,60.0,45.0,92.0,43.0,35.0,22.0,70.0,41.0,53.0,29.0,22.0,46.0,51.0,23.0,45.0,24.0,42.0,70.0,45.0,60.0,40.0,66.0,49.0,75.0,61.0,37.0,46.0,47.0,68.0,21.0,36.0,26.0,21.0,33.0,70.0,19.0,72.0,21.0,36.0,54.0,95.0,45.0,44.0,28.0,48.0,25.0,47.0,41.0,26.0,26.0,32.0,45.0,35.0,18.0,58.0,78.0,36.0,28.0,88.0,42.0,22.0,35.0,39.0,27.0,78.0,67.0,18.0,62.0,58.0,23.0,41.0,20.0,68.0,40.0,30.0,50.0,46.0,50.0,25.0,60.0,43.0,25.0,18.0,36.0,35.0,17.0,61.0,23.0,53.0,53.0,51.0,82.0,57.0,24.0,30.0,26.0,27.0,26.0,24.0,17.0,17.0,55.0,80.0,39.0,22.0,35.0,52.0,27.0,68.0,28.0,19.0,65.0,45.0,54.0,17.0,24.0,45.0,59.0,30.0,45.0,38.0,37.0,22.0,26.0,41.0,28.0,40.0,29.0,39.0,61.0,27.0,82.0,32.0,40.0,24.0,24.0,34.0,17.0,61.0,46.0,80.0,70.0,71.0,60.0,42.0,39.0,20.0,16.0,83.0,35.0,23.0,20.0,21.0,33.0,23.0,42.0,50.0,20.0,23.0,24.0,42.0,33.0,27.0,48.0,38.0,28.0,30.0,22.0,22.0,24.0,25.0,31.0,65.0,49.0,37.0,30.0,30.0,35.0,47.0,56.0,26.0,70.0,47.0,65.0,70.0,60.0,28.0,85.0,46.0,35.0,60.0,54.0,30.0,20.0,62.0,47.0,65.0,45.0,25.0,17.0,23.0,27.0,55.0,38.0,41.0,35.0,24.0,24.0,21.0,21.0,68.0,36.0,25.0,28.0,24.0,47.0,30.0,53.0,70.0,20.0,63.0,37.0,46.0,63.0,21.0,45.0,57.0,28.0,27.0,30.0,35.0,56.0,22.0,36.0,57.0,35.0,45.0,25.0,23.0,25.0,18.0,34.0,49.0,30.0,25.0,21.0,66.0,28.0,22.0,75.0,70.0,39.0,45.0,68.0,20.0,24.0,60.0,36.0,29.0,30.0,20.0,26.0,43.0,40.0,61.0,24.0,16.0,31.0,41.0,40.0,27.0,37.0,18.0,42.0,32.0,45.0,49.0,28.0,25.0,25.0,56.0,45.0,72.0,37.0,20.0,40.0,21.0,45.0,26.0,20.0,18.0,35.0,22.0,32.0,56.0,26.0,49.0,25.0,30.0,38.0,29.0,34.0,73.0,27.0,21.0,35.0,72.0,16.0,38.0,50.0,39.0,80.0,24.0,80.0,35.0,29.0,22.0,38.0,48.0,65.0,22.0,43.0,25.0,30.0,17.0,50.0,54.0,48.0,80.0,46.0,16.0,25.0,25.0,26.0,42.0,31.0,24.0,42.0,28.0,65.0,23.0,36.0,30.0,18.0,67.0,23.0,24.0,30.0,29.0,32.0,30.0,31.0,48.0,79.0,70.0,20.0,70.0,30.0,28.0,35.0,46.0,20.0,78.0,77.0,16.0,36.0,16.0,28.0,36.0,37.0,72.0,49.0,50.0,28.0,33.0,32.0,35.0,28.0,29.0,22.0,55.0,27.0,30.0,28.0,31.0,25.0,65.0,20.0,58.0,27.0,16.0,23.0,34.0,23.0,46.0,47.0,46.0,65.0,38.0,19.0,45.0,27.0,60.0,39.0,18.0,27.0,37.0,35.0,20.0,18.0,39.0,24.0,36.0,26.0,28.0,34.0,16.0,32.0,22.0,30.0,29.0,30.0,48.0,30.0,50.0,65.0,25.0,40.0,40.0,74.0,24.0,33.0,65.0,60.0,72.0,28.0,40.0,42.0,25.0,19.0,17.0,21.0,40.0,48.0,35.0,65.0,68.0,16.0,60.0,60.0,40.0,27.0,66.0,33.0,43.0,40.0,22.0,40.0,22.0,28.0,36.0,45.0,23.0,41.0,45.0,16.0,41.0,82.0,56.0,26.0,23.0,16.0,27.0,70.0,17.0,25.0,48.0,30.0,58.0,39.0,27.0,55.0,41.0,58.0,19.0,32.0,31.0,45.0,43.0,38.0,19.0,40.0,40.0,26.0,70.0,65.0,45.0,37.0,38.0,35.0,48.0,33.0,22.0,28.0,18.0,45.0,70.0,23.0,32.0,32.0,41.0,79.0,39.0,46.0,36.0,27.0,57.0,60.0,24.0,25.0,27.0,47.0,27.0,29.0,21.0,28.0,70.0,28.0,41.0,39.0,37.0,29.0,58.0,51.0,19.0,60.0,18.0,48.0,60.0,22.0,40.0,22.0,38.0,52.0,27.0,22.0,47.0,41.0,63.0,43.0,34.0,48.0,33.0,28.0,24.0,33.0,40.0,23.0,53.0,34.0,43.0,46.0,28.0,32.0,43.0,24.0,24.0,30.0,55.0,30.0,60.0,53.0,16.0,32.0,74.0,70.0,24.0,30.0,47.0,89.0,22.0,52.0,16.0,40.0,28.0,24.0,43.0,17.0,51.0,30.0,23.0,20.0,51.0,22.0,76.0,48.0,21.0,19.0,39.0,40.0,24.0,38.0,39.0,51.0,20.0,32.0,23.0,20.0,20.0,17.0,39.0,42.0,23.0,18.0,19.0,70.0,60.0,27.0,32.0,38.0,26.0,28.0,48.0,20.0,17.0,45.0,28.0,22.0,50.0,64.0,37.0,35.0,22.0,24.0,22.0,39.0,63.0,35.0,40.0,19.0,30.0,43.0,20.0,59.0,60.0,65.0,43.0,75.0,24.0,94.0,40.0,32.0,48.0,23.0,30.0,24.0,36.0,18.0,80.0,28.0,67.0,23.0,21.0,16.0,34.0,18.0,25.0,40.0,42.0,18.0,23.0,36.0,71.0,43.0,24.0,21.0,21.0,25.0,70.0,35.0,70.0,32.0,29.0,17.0,37.0,30.0,49.0,78.0,22.0,32.0,58.0,32.0,39.0,80.0,19.0,45.0,80.0,47.0,30.0,23.0,34.0,57.0,65.0,30.0,50.0,33.0,70.0,65.0,33.0,62.0,27.0,37.0,35.0,59.0,30.0,63.0,42.0,36.0,30.0,22.0,18.0,30.0,70.0,34.0,36.0,27.0,28.0,45.0,51.0,28.0,18.0,58.0,27.0,44.0,22.0,50.0,19.0,80.0,18.0,18.0,16.0,29.0,33.0,26.0,21.0,42.0,38.0,20.0,34.0,45.0,28.0,39.0,26.0,18.0,63.0,19.0,32.0,24.0,68.0,51.0,25.0,23.0,19.0,35.0,25.0,21.0,83.0,74.0,28.0,18.0,32.0,25.0,20.0,20.0,28.0,24.0,19.0,16.0,45.0,36.0,21.0,88.0,35.0,75.0,43.0,31.0,35.0,29.0,99.0,47.0,28.0,38.0,37.0,41.0,27.0,37.0,34.0,28.0,36.0,67.0,16.0,44.0,42.0,31.0,45.0,50.0,57.0,24.0,68.0,35.0,60.0,19.0,25.0,38.0,24.0,38.0,32.0,56.0,16.0,50.0,54.0,52.0,30.0,51.0,33.0,25.0,35.0,21.0,32.0,28.0,34.0,68.0,63.0,30.0,23.0,42.0,20.0,20.0,20.0,18.0,35.0,50.0,45.0,31.0,26.0,54.0,49.0,54.0,22.0,71.0,21.0,29.0,60.0,24.0,30.0,22.0,49.0,30.0,75.0,30.0,30.0,71.0,58.0,55.0,66.0,77.0,34.0,42.0,45.0,37.0,26.0,43.0,70.0,67.0,22.0,23.0,60.0,42.0,45.0,24.0,25.0,34.0,23.0,20.0,29.0,21.0,16.0,25.0,45.0,22.0,30.0,56.0,20.0,40.0,37.0,34.0,40.0,32.0,20.0,24.0,49.0,43.0,39.0,42.0,20.0,22.0,60.0,60.0,32.0,29.0,28.0,44.0,22.0,38.0,19.0,21.0,17.0,27.0,29.0,30.0,67.0,60.0,40.0,40.0,40.0,54.0,35.0,62.0,31.0,30.0,77.0,22.0,22.0,24.0,72.0,31.0,50.0,17.0,32.0,64.0,30.0,39.0,24.0,17.0,44.0,35.0,21.0,35.0,40.0,45.0,46.0,26.0,35.0,30.0,70.0,59.0,57.0,60.0,50.0,22.0,20.0,16.0,18.0,56.0,67.0,22.0,25.0,50.0,24.0,40.0,41.0,17.0,63.0,35.0,23.0,65.0,63.0,38.0,32.0,55.0,23.0,30.0,18.0,22.0,43.0,21.0,17.0,26.0,34.0,19.0,27.0,35.0,62.0,27.0,20.0,52.0,30.0,47.0,68.0,27.0,17.0,20.0,35.0,20.0,28.0,49.0,30.0,80.0,30.0,35.0,36.0,40.0,28.0,17.0,26.0,22.0,42.0,43.0,70.0,54.0,64.0,37.0,20.0,35.0,40.0,16.0,28.0,63.0,50.0,40.0,68.0,34.0,78.0,34.0,42.0,20.0,27.0,39.0,48.0,50.0,22.0,20.0,23.0,20.0,57.0,39.0,49.0,25.0,30.0,65.0,25.0,31.0,19.0,39.0,20.0,36.0,81.0,32.0,50.0,23.0,22.0,54.0,28.0,59.0,23.0,31.0,23.0,49.0,52.0,23.0,36.0,21.0,28.0,46.0,27.0,18.0,30.0,21.0,79.0,36.0,66.0,52.0,36.0,19.0,32.0,38.0,20.0,38.0,33.0,29.0,43.0,31.0,22.0,48.0,87.0,20.0,25.0,61.0,42.0,63.0,72.0,27.0,27.0,29.0,63.0,52.0,66.0,36.0,45.0,26.0,39.0,52.0,18.0,73.0,17.0,36.0,28.0,20.0,34.0,20.0,35.0,28.0,37.0,41.0,55.0,33.0,50.0,50.0,21.0,29.0,40.0,18.0,65.0,39.0,50.0,39.0,17.0,45.0,64.0,18.0,30.0,65.0,30.0,54.0,70.0,32.0,32.0,65.0,32.0,30.0,28.0,35.0,26.0,22.0,30.0,36.0,23.0,19.0,23.0,24.0,35.0,28.0,41.0,56.0,44.0,38.0,38.0,33.0,25.0,64.0,78.0,30.0,29.0,20.0,35.0,68.0,36.0,38.0,28.0,62.0,45.0,18.0,25.0,45.0,45.0,28.0,23.0,40.0,30.0,45.0,38.0,74.0,28.0,24.0,60.0,22.0,59.0,32.0,60.0,29.0,50.0,53.0,30.0,20.0,47.0,25.0,78.0,53.0,40.0,43.0,45.0,35.0,40.0,40.0,44.0,34.0,52.0,53.0,18.0,25.0,32.0,16.0,32.0,51.0,38.0,72.0,54.0,22.0,80.0,17.0,18.0,22.0,42.0,30.0,46.0,32.0,40.0,45.0,32.0,32.0,20.0,38.0,25.0,16.0,41.0,38.0,25.0,60.0,32.0,35.0,30.0,52.0,56.0,60.0,80.0,33.0,27.0,18.0,51.0,32.0,29.0,50.0,40.0,25.0,47.0,36.0,28.0,30.0,48.0,24.0,18.0,18.0,56.0,20.0,33.0,31.0,30.0,59.0,49.0,34.0,26.0,28.0,28.0,22.0,42.0,69.0,18.0,55.0,72.0,17.0,67.0,22.0,60.0,17.0,51.0,50.0,25.0,50.0,23.0,50.0,20.0,63.0,37.0,20.0,54.0,22.0,27.0,36.0,59.0,16.0,22.0,30.0,82.0,19.0,27.0,43.0,35.0,42.0,51.0,51.0,17.0,49.0,35.0,20.0,24.0,50.0,25.0,24.0,38.0,45.0,52.0,41.0,32.0,41.0,22.0,50.0,25.0,40.0,40.0,19.0,45.0,37.0,22.0,36.0,32.0,27.0,36.0,67.0,21.0,23.0,16.0,40.0,45.0,23.0,22.0,52.0,30.0,73.0,62.0,29.0,30.0,37.0,48.0,27.0,17.0,30.0,24.0,48.0,67.0,35.0,50.0,28.0,30.0,49.0,63.0,21.0,80.0,73.0,25.0,20.0,82.0,90.0,30.0,47.0,30.0,34.0,23.0,32.0,32.0,32.0,32.0,32.0,18.0,20.0,38.0,21.0,16.0,60.0,44.0,51.0,21.0,17.0,29.0,25.0,48.0,54.0,21.0,17.0,16.0,30.0,45.0,28.0,40.0,44.0,25.0,48.0,31.0,61.0,54.0,29.0,30.0,25.0,54.0,55.0,25.0,30.0,39.0,58.0,32.0,27.0,22.0,16.0,44.0,23.0,35.0,38.0,35.0,47.0,40.0,43.0,65.0,79.0,20.0,25.0,45.0,45.0,43.0,31.0,28.0,21.0,52.0,27.0,38.0,19.0,58.0,49.0,55.0,35.0,26.0,30.0,22.0,38.0,44.0,65.0,20.0,37.0,18.0,17.0,76.0,45.0,65.0,55.0,21.0,18.0,18.0,60.0,39.0,35.0,34.0,17.0,44.0,65.0,27.0,36.0,30.0,44.0,23.0,35.0,25.0,30.0,34.0,52.0,57.0,28.0,41.0,18.0,32.0,44.0,16.0,35.0,28.0,50.0,40.0,42.0,63.0,42.0,51.0,22.0,33.0,32.0,45.0,58.0,28.0,35.0,61.0,35.0,18.0,35.0,22.0,18.0,75.0,30.0,18.0,19.0,26.0,16.0,23.0,22.0,27.0,60.0,49.0,38.0,37.0,39.0,43.0,30.0,53.0,53.0,45.0,25.0,41.0,16.0,35.0,28.0,20.0,48.0,24.0,33.0,31.0,30.0,31.0,43.0,21.0,26.0,19.0,19.0,51.0,82.0,53.0,61.0,55.0,16.0,28.0,22.0,77.0,34.0,50.0,52.0,21.0,30.0,19.0,47.0,38.0,39.0,80.0,24.0,29.0,25.0,34.0,90.0,25.0,20.0,75.0,53.0,33.0,18.0,49.0,22.0,40.0,26.0,47.0,35.0,34.0,22.0,25.0,29.0,25.0,50.0,35.0,30.0,51.0,48.0,22.0,66.0,28.0,17.0,85.0,33.0,36.0,29.0,40.0,36.0,30.0,46.0,45.0,40.0,35.0,28.0,63.0,75.0,26.0,50.0,29.0,34.0,50.0,50.0,36.0,32.0,55.0,16.0,33.0,34.0,18.0,39.0,20.0,31.0,20.0,55.0,28.0,33.0,42.0,73.0,20.0,42.0,26.0,77.0,25.0,65.0,40.0,28.0,57.0,70.0,39.0,64.0,31.0,41.0,21.0,48.0,70.0,49.0,29.0,48.0,43.0,35.0,18.0,33.0,70.0,25.0,27.0,54.0,30.0,28.0,62.0,32.0,22.0,52.0,41.0,22.0,18.0,50.0,23.0,33.0,65.0,30.0,45.0,22.0,82.0,23.0,30.0,23.0,28.0,32.0,21.0,41.0,47.0,35.0,49.0,63.0,40.0,52.0,28.0,34.0,35.0,53.0,21.0,30.0,35.0,60.0,40.0,23.0,31.0,22.0,22.0,52.0,78.0,17.0,28.0,27.0,37.0,53.0,36.0,22.0,29.0,34.0,53.0,24.0,54.0,20.0,21.0,22.0,44.0,29.0,56.0,42.0,24.0,17.0,36.0,70.0,29.0,40.0,25.0,20.0,22.0,22.0,34.0,47.0,82.0,38.0,27.0,49.0,61.0,53.0,43.0,23.0,49.0,41.0,27.0,35.0,40.0,37.0,70.0,88.0,17.0,21.0,38.0,40.0,46.0,28.0,79.0,26.0,49.0,82.0,40.0,34.0,32.0,45.0,48.0,28.0,40.0,42.0,33.0,43.0,24.0,41.0,26.0,25.0,59.0,22.0,28.0,34.0,52.0,34.0,26.0,42.0,26.0,23.0,65.0,22.0,40.0,51.0,45.0,44.0,35.0,25.0,27.0,26.0,30.0,51.0,26.0,56.0,23.0,56.0,30.0,51.0,67.0,56.0,33.0,53.0,47.0,29.0,59.0,42.0,24.0,26.0,43.0,23.0,26.0,43.0,31.0,50.0,38.0,25.0,28.0,21.0,17.0,37.0,25.0,60.0,43.0,22.0,18.0,41.0,36.0,28.0,23.0,21.0,47.0,34.0,45.0,26.0,21.0,31.0,23.0,54.0,23.0,63.0,67.0,62.0,20.0,24.0,18.0,29.0,47.0,37.0,26.0,28.0,30.0,36.0,31.0,67.0,37.0,37.0,16.0,35.0,33.0,33.0,69.0,30.0,51.0,32.0,30.0,19.0,26.0,26.0,26.0,29.0,44.0,33.0,47.0,77.0,22.0,30.0,50.0,25.0,65.0,17.0,60.0,23.0,26.0,31.0,21.0,21.0,47.0,38.0,38.0,34.0,85.0,18.0,32.0,16.0,53.0,41.0,41.0,46.0,62.0,53.0,16.0,38.0,28.0,30.0,23.0,51.0,18.0,60.0,35.0,35.0,44.0,40.0,75.0,35.0,37.0,42.0,42.0,30.0,16.0,26.0,39.0,41.0,38.0,34.0,32.0,23.0,25.0,20.0,19.0,72.0,16.0,40.0,40.0,34.0,38.0,30.0,35.0,18.0,17.0,46.0,25.0,23.0,19.0,55.0,75.0,25.0,49.0,63.0,42.0,20.0,45.0,47.0,22.0,37.0,22.0,50.0,50.0,22.0,56.0,30.0,54.0,47.0,65.0,34.0,27.0,57.0,23.0,30.0,72.0,42.0,42.0,24.0,17.0,57.0,34.0,22.0,22.0,40.0,30.0,70.0,31.0,50.0,32.0,17.0,70.0,70.0,30.0,36.0,35.0,31.0,51.0,56.0,22.0,26.0,37.0,24.0,29.0,42.0,27.0,41.0,67.0,32.0,74.0,40.0,31.0,22.0,20.0,25.0,30.0,37.0,16.0,16.0,30.0,32.0,73.0,36.0,30.0,24.0,18.0,45.0,33.0,52.0,47.0,70.0,34.0,17.0,74.0,29.0,25.0,25.0,32.0,39.0,22.0,54.0,70.0,70.0,43.0,28.0,38.0,23.0,27.0,40.0,25.0,32.0,52.0,45.0,38.0,52.0,45.0,44.0,25.0,40.0,34.0,22.0,47.0,18.0,19.0,43.0,16.0,52.0,20.0,19.0,26.0,36.0,58.0,20.0,47.0,21.0,62.0,40.0,42.0,50.0,23.0,50.0,37.0,36.0,47.0,59.0,40.0,23.0,45.0,50.0,85.0,36.0,42.0,37.0,37.0,26.0,37.0,27.0,25.0,41.0,39.0,51.0,35.0,32.0,39.0,42.0,21.0,27.0,19.0,44.0,30.0,30.0,26.0,23.0,22.0,26.0,48.0,16.0,22.0,38.0,25.0,22.0,22.0,31.0,25.0,72.0,35.0,32.0,73.0,34.0,20.0,42.0,55.0,38.0,27.0,25.0,34.0,18.0,36.0,55.0,43.0,17.0,30.0,46.0,57.0,56.0,35.0,19.0,72.0,21.0,26.0,23.0,24.0,42.0,38.0,36.0,17.0,37.0,41.0,40.0,28.0,41.0,27.0,16.0,31.0,31.0,31.0,31.0,21.0,18.0,38.0,52.0,40.0,45.0,50.0,16.0,29.0,60.0,35.0,39.0,32.0,30.0,30.0,26.0,32.0,60.0,60.0,24.0,68.0,25.0,48.0,46.0,42.0,28.0,42.0,23.0,70.0,23.0,36.0,70.0,47.0,22.0,67.0,43.0,49.0,43.0,27.0,48.0,33.0,38.0,23.0,50.0,23.0,29.0,63.0,35.0,38.0,18.0,30.0,35.0,70.0,40.0,25.0,47.0,65.0,65.0,68.0,30.0,26.0,36.0,35.0,30.0,29.0,28.0,35.0,24.0,28.0,18.0,50.0,38.0,30.0,38.0,25.0,60.0,46.0,30.0,21.0,45.0,25.0,33.0,16.0,57.0,51.0,38.0,35.0,57.0,16.0,31.0,32.0,24.0,18.0,26.0,31.0,20.0,28.0,45.0,43.0,34.0,72.0,60.0,21.0,55.0,60.0,39.0,65.0,41.0,26.0,47.0,61.0,90.0,48.0,27.0,19.0,17.0,75.0,35.0,49.0,25.0,30.0,56.0,18.0,24.0,45.0,44.0,32.0,43.0,23.0,27.0,32.0,33.0,28.0,49.0,30.0,86.0,30.0,32.0,19.0,24.0,19.0,27.0,56.0,30.0,49.0,34.0,45.0,43.0,38.0,66.0,32.0,31.0,39.0,30.0,22.0,65.0,24.0,33.0,31.0,39.0,24.0,48.0,32.0,35.0,25.0,21.0,17.0,35.0,21.0,18.0,45.0,64.0,29.0,63.0,33.0,32.0,42.0,59.0,45.0,21.0,38.0,23.0,40.0,28.0,30.0,75.0,49.0,16.0,43.0,25.0,59.0,26.0,20.0,33.0,30.0,35.0,42.0,35.0,25.0,31.0,55.0,39.0,20.0,25.0,40.0,19.0,22.0,35.0,69.0,25.0,28.0,28.0,45.0,32.0,36.0,37.0,32.0,30.0,75.0,39.0,22.0,34.0,66.0,16.0,35.0,20.0,25.0,35.0,63.0,51.0,30.0,22.0,29.0,24.0,27.0,40.0,23.0,25.0,32.0,17.0,27.0,33.0,59.0,20.0,51.0,40.0,24.0,32.0,40.0,34.0,48.0,28.0,28.0,45.0,40.0,35.0,68.0,16.0,56.0,48.0,75.0,35.0,38.0,43.0,32.0,75.0,67.0,35.0,53.0,50.0,30.0,20.0,20.0,39.0,18.0,38.0,35.0,34.0,43.0,32.0,37.0,29.0,78.0,68.0,45.0,29.0,19.0,31.0,59.0,31.0,26.0,32.0,31.0,20.0,24.0,19.0,27.0,30.0,26.0,67.0,19.0,35.0,27.0,32.0,37.0,29.0,26.0,20.0,37.0,20.0,34.0,31.0,16.0,18.0,46.0,36.0,60.0,35.0,58.0,26.0,31.0,53.0,52.0,21.0,45.0,33.0,54.0,25.0,61.0,43.0,40.0,38.0,31.0,42.0,65.0,48.0,16.0,68.0,42.0,25.0,35.0,44.0,64.0,32.0,82.0,50.0,48.0,38.0,53.0,17.0,26.0,76.0,46.0,30.0,17.0,35.0,58.0,26.0,32.0,62.0,24.0,20.0,39.0,62.0,30.0,29.0,36.0,20.0,45.0,20.0,21.0,30.0,40.0,30.0,49.0,23.0,60.0,29.0,40.0,46.0,30.0,21.0,65.0,35.0,38.0,30.0,26.0,24.0,42.0,32.0,41.0,73.0,16.0,21.0,30.0,32.0,41.0,21.0,67.0,44.0,53.0,42.0,25.0,37.0,33.0,52.0,47.0,35.0,32.0,70.0,39.0,17.0,45.0,29.0,28.0,30.0,29.0,19.0,39.0,74.0,30.0,25.0,16.0,40.0,24.0,30.0,28.0,35.0,23.0,34.0,27.0,42.0,37.0,39.0,77.0,23.0,60.0,23.0,17.0,32.0,31.0,30.0,23.0,32.0,59.0,80.0,49.0,20.0,47.0,24.0,21.0,53.0,18.0,36.0,31.0,24.0,25.0,16.0,52.0,24.0,23.0,42.0,25.0,18.0,32.0,20.0,41.0,57.0,33.0,19.0,23.0,54.0,55.0,58.0,18.0,25.0,53.0,35.0,57.0,22.0,41.0,63.0,28.0,33.0,57.0,54.0,27.0,46.0,38.0,19.0,25.0,49.0,42.0,36.0,52.0,35.0,30.0,35.0,56.0,26.0,26.0,36.0,27.0,28.0,27.0,43.0,25.0,45.0,20.0,25.0,30.0,29.0,36.0,61.0,40.0,42.0,26.0,48.0,27.0,48.0,30.0,48.0,37.0,18.0,16.0,26.0,27.0,81.0,61.0,38.0,40.0,20.0,66.0,28.0,29.0,24.0,24.0,23.0,28.0,18.0,28.0,47.0,35.0,40.0,29.0,54.0,50.0,27.0,33.0,32.0,75.0,74.0,51.0,52.0,19.0,36.0,46.0,25.0,60.0,19.0,62.0,42.0,18.0,73.0,40.0,28.0,70.0,37.0,40.0,17.0,38.0,71.0,33.0,34.0,75.0,38.0,29.0,18.0,44.0,25.0,42.0,47.0,22.0,35.0,31.0,27.0,42.0,45.0,30.0,34.0,23.0,21.0,32.0,49.0,72.0,27.0,23.0,27.0,20.0,31.0,25.0,65.0,25.0,31.0,29.0,59.0,46.0,25.0,29.0,43.0,42.0,37.0,18.0,30.0,47.0,35.0,25.0,55.0,80.0,28.0,45.0,46.0,32.0,28.0,39.0,39.0,38.0,32.0,42.0,36.0,24.0,37.0,20.0,49.0,38.0,31.0,36.0,19.0,80.0,33.0,16.0,25.0,30.0,57.0,32.0,49.0,45.0,71.0,34.0,33.0,34.0,61.0,31.0,48.0,56.0,37.0,47.0,27.0,17.0,35.0,56.0,37.0,25.0,34.0,37.0,22.0,24.0,32.0,45.0,19.0,20.0,22.0,44.0,67.0,27.0,40.0,51.0,25.0,55.0,38.0,90.0,21.0,27.0,51.0,28.0,29.0,40.0,49.0,76.0,74.0,24.0,78.0,65.0,65.0,40.0,79.0,27.0,27.0,47.0,34.0,33.0,36.0,17.0,42.0,25.0,54.0,24.0,30.0,39.0,42.0,41.0,33.0,26.0,36.0,34.0,26.0,36.0,35.0,23.0,71.0,34.0,24.0,20.0,40.0,45.0,49.0,39.0,37.0,65.0,72.0,17.0,40.0,50.0,20.0,18.0,20.0,83.0,58.0,20.0,65.0,27.0,52.0,19.0,79.0,40.0,58.0,16.0,38.0,23.0,26.0,59.0,24.0,35.0,23.0,31.0,46.0,27.0,64.0,59.0,29.0,40.0,54.0,30.0,22.0,17.0,85.0,22.0,43.0,52.0,41.0,61.0,24.0,51.0,54.0,42.0,56.0,35.0,51.0,54.0,56.0,78.0,35.0,27.0,46.0,45.0,45.0,47.0,26.0,65.0,40.0,32.0,48.0,33.0,50.0,40.0,40.0,16.0,45.0,17.0,30.0,57.0,75.0,40.0,35.0,65.0,41.0,41.0,55.0,60.0,24.0,22.0,22.0,30.0,38.0,30.0,37.0,33.0,40.0,22.0,45.0,44.0,18.0,30.0,45.0,64.0,48.0,27.0,30.0,49.0,49.0,36.0,50.0,35.0,23.0,23.0,40.0,81.0,22.0,46.0,30.0,38.0,40.0,30.0,42.0,21.0,34.0,35.0,77.0,19.0,21.0,42.0,80.0,30.0,40.0,26.0,30.0,26.0,30.0,40.0,30.0,28.0,36.0,29.0,33.0,40.0,45.0,57.0,40.0,47.0,17.0,21.0,21.0,25.0,58.0,41.0,38.0,65.0,48.0,72.0,37.0,63.0,33.0,55.0,55.0,29.0,75.0,30.0,33.0,48.0,26.0,21.0,54.0,21.0,56.0,23.0,60.0,32.0,29.0,24.0,50.0,40.0,47.0,40.0,32.0,42.0,23.0,24.0,25.0,35.0,39.0,50.0,18.0,25.0,40.0,47.0,35.0,45.0,33.0,27.0,34.0,24.0,40.0,49.0,16.0,40.0,36.0,58.0,53.0,53.0,56.0,78.0,18.0,30.0,81.0,35.0,59.0,38.0,58.0,22.0,25.0,44.0,62.0,62.0,16.0,45.0,70.0,62.0,32.0,49.0,36.0,34.0,23.0,16.0,27.0,65.0,21.0,33.0,25.0,36.0,26.0,19.0,16.0,17.0,30.0,17.0,20.0,19.0,18.0,32.0,43.0,67.0,16.0,70.0,76.0,51.0,65.0,52.0,22.0,17.0,24.0,39.0,46.0,90.0,32.0,37.0,60.0,25.0,29.0,46.0,27.0,27.0,26.0,30.0,16.0,37.0,50.0,49.0,22.0,76.0,40.0,30.0,70.0,25.0,37.0,34.0,40.0,38.0,57.0,33.0,30.0,50.0,60.0,35.0,34.0,24.0,23.0,58.0,43.0,27.0,19.0,32.0,32.0,85.0,31.0,48.0,22.0,24.0,17.0,62.0,42.0,50.0,28.0,23.0,40.0,62.0,16.0,26.0,30.0,22.0,17.0,35.0,30.0,25.0,30.0,16.0,28.0,20.0,21.0,18.0,23.0,20.0,49.0,61.0,28.0,40.0,100.0,66.0,40.0,17.0,35.0,47.0,31.0,60.0,53.0,24.0,16.0,24.0,60.0,29.0,22.0,32.0,27.0,30.0,56.0,55.0,43.0,62.0,23.0,36.0,45.0,30.0,38.0,65.0,28.0,34.0,42.0,37.0,20.0,30.0,42.0,30.0,44.0,48.0,55.0,27.0,20.0,38.0,37.0,28.0,40.0,17.0,52.0,24.0,22.0,24.0,30.0,28.0,48.0,19.0,16.0,53.0,22.0,20.0,66.0,40.0,30.0,31.0,53.0,62.0,33.0,38.0,67.0,60.0,35.0,65.0,30.0,29.0,29.0,27.0,39.0,65.0,42.0,19.0,28.0,56.0,33.0,50.0,44.0,30.0,23.0,58.0,17.0,22.0,51.0,30.0,66.0,16.0,21.0,50.0,38.0,25.0,83.0,27.0,35.0,27.0,40.0,20.0,67.0,24.0,44.0,35.0,37.0,32.0,78.0,45.0,46.0,45.0,35.0,33.0,52.0,74.0,16.0,27.0,26.0,30.0,29.0,65.0,50.0,33.0,20.0,25.0,41.0,67.0,23.0,39.0,35.0,58.0,17.0,35.0,31.0,47.0,34.0,70.0,25.0,47.0,72.0,58.0,28.0,45.0,49.0,85.0,59.0,57.0,40.0,18.0,31.0,61.0,45.0,37.0,68.0,88.0,56.0,57.0,47.0,45.0,20.0,32.0,30.0,47.0,65.0,35.0,65.0,75.0,20.0,48.0,50.0,29.0,81.0,80.0,50.0,75.0,25.0,34.0,52.0,28.0,39.0,52.0,55.0,43.0,43.0,26.0,25.0,36.0,36.0,49.0,34.0,40.0,35.0,60.0,43.0,35.0,63.0,70.0,32.0,22.0,25.0,49.0,36.0,53.0,25.0,52.0,53.0,70.0,48.0,86.0,43.0,50.0,16.0,42.0,56.0,28.0,23.0,40.0,95.0,32.0,40.0,31.0,37.0,42.0,38.0,65.0,42.0,23.0,40.0,23.0,18.0,41.0,26.0,26.0,28.0,23.0,85.0,18.0,49.0,28.0,80.0,16.0,35.0,51.0,56.0,70.0,30.0,40.0,29.0,16.0,53.0,30.0,40.0,49.0,32.0,45.0,40.0,70.0,80.0,52.0,45.0,34.0,20.0,27.0,63.0,36.0,39.0,32.0,19.0,45.0,25.0,61.0,25.0,30.0,20.0,16.0,26.0,22.0,68.0,70.0,30.0,56.0,55.0,37.0,31.0,20.0,47.0,55.0,26.0,24.0,22.0,23.0,26.0,17.0,65.0,49.0,21.0,34.0,34.0,76.0,22.0,19.0,33.0,38.0,40.0,45.0,30.0,52.0,60.0,70.0,37.0,45.0,51.0,39.0,35.0,34.0,31.0,26.0,40.0,23.0,43.0,25.0,91.0,24.0,54.0,47.0,26.0,38.0,45.0,24.0,21.0,26.0,42.0,43.0,40.0,35.0,21.0,40.0,27.0,45.0,60.0,68.0,23.0,62.0,36.0,30.0,18.0,22.0,25.0,63.0,17.0,44.0,53.0,38.0,40.0,22.0,30.0,19.0,46.0,41.0,23.0,53.0,28.0,27.0,35.0,52.0,45.0,20.0,29.0,40.0,73.0,25.0,44.0,23.0,26.0,68.0,24.0,83.0,33.0,67.0,19.0,30.0,71.0,30.0,48.0,22.0,32.0,49.0,17.0,25.0,51.0,30.0,17.0,41.0,28.0,39.0,31.0,21.0,32.0,30.0,32.0,26.0,30.0,30.0,29.0,52.0,36.0,25.0,26.0,28.0,50.0,40.0,26.0,35.0,35.0,65.0,32.0,24.0,61.0,29.0,45.0,29.0,36.0,32.0,87.0,20.0,50.0,38.0,33.0,71.0,72.0,67.0,25.0,28.0,47.0,28.0,31.0,30.0,23.0,27.0,21.0,34.0,60.0,29.0,25.0,33.0,22.0,52.0,76.0,35.0,22.0,32.0,17.0,80.0,22.0,53.0,30.0,86.0,17.0,90.0,49.0,58.0,39.0,25.0,38.0,44.0,30.0,40.0,50.0,52.0,25.0,26.0,35.0,33.0,19.0,38.0,43.0,56.0,19.0,66.0,25.0,20.0,28.0,43.0,52.0,30.0,16.0,22.0,30.0,50.0,35.0,65.0,47.0,32.0,36.0,39.0,60.0,45.0,32.0,29.0,20.0,27.0,67.0,62.0,25.0,75.0,55.0,22.0,37.0,49.0,70.0,26.0,48.0,30.0,17.0,55.0,70.0,34.0,26.0,16.0,46.0,20.0,30.0,35.0,18.0,43.0,53.0,22.0,25.0,81.0,23.0,35.0,30.0,24.0,26.0,29.0,45.0,33.0,25.0,17.0,67.0,19.0,65.0,52.0,28.0,32.0,46.0,29.0,39.0,34.0,35.0,26.0,53.0,25.0,31.0,17.0,22.0,53.0,54.0,46.0,36.0,39.0,47.0,41.0,43.0,28.0,34.0,37.0,27.0,27.0,60.0,40.0,28.0,43.0,50.0,17.0,25.0,75.0,31.0,20.0,29.0,25.0,54.0,32.0,37.0,46.0,30.0,81.0,45.0,45.0,21.0,17.0,45.0,40.0,52.0,55.0,54.0,20.0,32.0,27.0,18.0,68.0,48.0,65.0,27.0,28.0,32.0,30.0,26.0,32.0,66.0,50.0,32.0,50.0,32.0,26.0,75.0,37.0,38.0,70.0,57.0,50.0,28.0,50.0,43.0,24.0,29.0,23.0,52.0,18.0,65.0,23.0,19.0,34.0,21.0,65.0,28.0,40.0,62.0,32.0,60.0,28.0,21.0,42.0,23.0,44.0,33.0,28.0,24.0,28.0,46.0,18.0,26.0,20.0,30.0,80.0,30.0,29.0,50.0,22.0,21.0,22.0,47.0,25.0,17.0,69.0,45.0,17.0,19.0,82.0,50.0,44.0,19.0,70.0,77.0,19.0,46.0,59.0,35.0,51.0,23.0,35.0,36.0,71.0,49.0,34.0,46.0,60.0,65.0,48.0,28.0,45.0,47.0,35.0,42.0,27.0,72.0,31.0,30.0,51.0,35.0,30.0,34.0,23.0,22.0,35.0,53.0,22.0,20.0,34.0,34.0,16.0,44.0,22.0,66.0,63.0,17.0,25.0,36.0,47.0,39.0,28.0,56.0,27.0,81.0,21.0,61.0,40.0,21.0,19.0,50.0,24.0,45.0,28.0,22.0,48.0,40.0,24.0,40.0,20.0,43.0,38.0,78.0,45.0,29.0,42.0,50.0,32.0,20.0,80.0,79.0,65.0,46.0,30.0,39.0,56.0,61.0,36.0,44.0,45.0,82.0,24.0,58.0,43.0,32.0,28.0,29.0,72.0,21.0,29.0,29.0,27.0,31.0,65.0,34.0,40.0,18.0,50.0,42.0,21.0,22.0,17.0,16.0,17.0,17.0,45.0,24.0,30.0,47.0,19.0,40.0,28.0,70.0,30.0,32.0,58.0,28.0,42.0,30.0,20.0,28.0,57.0,19.0,42.0,22.0,36.0,35.0,20.0,43.0,65.0,56.0,32.0,32.0,82.0,27.0,16.0,28.0,78.0,19.0,51.0,27.0,26.0,16.0,25.0,30.0,22.0,36.0,30.0,54.0,19.0,30.0,32.0,48.0,66.0,30.0,30.0,79.0,45.0,47.0,22.0,78.0,58.0,95.0,40.0,37.0,42.0,39.0,33.0,39.0,25.0,38.0,38.0,22.0,23.0,30.0,24.0,23.0,27.0,34.0,23.0,20.0,20.0,70.0,32.0,19.0,57.0,56.0,55.0,38.0,22.0,26.0,36.0,43.0,60.0,67.0,36.0,32.0,52.0,24.0,45.0,22.0,56.0,57.0,29.0,45.0,30.0,50.0,37.0,34.0,26.0,22.0,48.0,59.0,74.0,46.0,26.0,16.0,32.0,45.0,42.0,20.0,27.0,42.0,26.0,18.0,38.0,51.0,39.0,28.0,60.0,48.0,17.0,31.0,17.0,18.0,57.0,48.0,70.0,32.0,56.0,47.0,40.0,56.0,25.0,37.0,19.0,58.0,47.0,60.0,47.0,80.0,94.0,32.0,37.0,47.0,25.0,17.0,21.0,35.0,22.0,22.0,53.0,57.0,25.0,21.0,38.0,29.0,26.0,31.0,32.0,50.0,37.0,50.0,31.0,42.0,19.0,16.0,19.0,64.0,39.0,42.0,28.0,47.0,20.0,16.0,75.0,49.0,63.0,47.0,33.0,34.0,65.0,33.0,43.0,53.0,27.0,23.0,28.0,33.0,23.0,44.0,58.0,68.0,22.0,24.0,59.0,23.0,35.0,41.0,68.0,20.0,46.0,34.0,68.0,76.0,27.0,72.0,80.0,18.0,44.0,18.0,26.0,34.0,38.0,23.0,38.0,35.0,30.0,51.0,39.0,24.0,21.0,58.0,45.0,16.0,37.0,32.0,32.0,42.0,56.0,70.0,19.0,27.0,76.0,44.0,46.0,25.0,42.0,21.0,45.0,90.0,25.0,22.0,22.0,32.0,63.0,18.0,30.0,22.0,25.0,55.0,38.0,45.0,60.0,22.0,60.0,49.0,27.0,55.0,27.0,46.0,16.0,32.0,45.0,21.0,18.0,30.0,17.0,30.0,33.0,48.0,40.0,38.0,27.0,35.0,45.0,37.0,32.0,44.0,50.0,22.0,34.0,35.0,58.0,34.0,50.0,66.0,26.0,35.0,53.0,28.0,27.0,70.0,28.0,82.0,57.0,25.0,20.0,53.0,23.0,33.0,43.0,52.0,29.0,35.0,24.0,24.0,19.0,40.0,78.0,60.0,25.0,29.0,29.0,21.0,30.0,35.0,19.0,16.0,33.0,35.0,24.0,75.0,16.0,25.0,28.0,75.0,32.0,37.0,24.0,17.0,18.0,37.0,17.0,28.0,19.0,60.0,18.0,24.0,46.0,35.0,77.0,38.0,46.0,43.0,22.0,38.0,24.0,70.0,21.0,55.0,17.0,22.0,35.0,36.0,60.0,35.0,32.0,35.0,40.0,34.0,27.0,32.0,47.0,80.0,61.0,28.0,30.0,46.0,47.0,25.0,54.0,21.0,18.0,47.0,38.0,19.0,40.0,23.0,35.0,33.0,40.0,68.0,40.0,25.0,20.0,35.0,16.0,30.0,40.0,98.0,56.0,36.0,22.0,18.0,63.0,41.0,68.0,21.0,27.0,67.0,66.0,23.0,36.0,35.0,55.0,69.0,56.0,41.0,27.0,42.0,49.0,30.0,26.0,36.0,30.0,45.0,47.0,62.0,53.0,58.0,24.0,22.0,40.0,30.0,27.0,36.0,63.0,22.0,78.0,28.0,44.0,61.0,62.0,52.0,50.0,35.0,35.0,49.0,25.0,32.0,25.0,53.0,16.0,26.0,60.0,32.0,42.0,41.0,45.0,85.0,19.0,37.0,34.0,53.0,56.0,70.0,32.0,50.0,86.0,30.0,22.0,60.0,60.0,50.0,28.0,17.0,56.0,21.0,29.0,44.0,45.0,22.0,63.0,80.0,30.0,25.0,22.0,27.0,29.0,26.0,42.0,23.0,39.0,19.0,26.0,34.0,38.0,54.0,61.0,71.0,50.0,63.0,19.0,54.0,27.0,27.0,32.0,28.0,65.0,18.0,50.0,60.0,34.0,30.0,23.0,30.0,50.0,78.0,35.0,55.0,48.0,40.0,20.0,53.0,26.0,21.0,48.0,50.0,16.0,34.0,23.0,40.0,56.0,45.0,43.0,64.0,40.0,35.0,35.0,35.0,28.0,30.0,65.0,18.0,32.0,27.0,25.0,29.0,44.0,87.0,32.0,36.0,50.0,49.0,61.0,25.0,85.0,29.0,20.0,26.0,16.0,36.0,70.0,27.0,27.0,36.0,75.0,43.0,21.0,27.0,25.0,61.0,55.0,45.0,30.0,40.0,46.0,39.0,49.0,84.0,36.0,16.0,28.0,64.0,51.0,45.0,32.0,22.0,36.0,25.0,26.0,30.0,39.0,45.0,39.0,39.0,50.0,29.0,20.0,30.0,58.0,25.0,56.0,62.0,33.0,85.0,26.0,26.0,22.0,37.0,66.0,18.0,34.0,57.0,77.0,23.0,79.0,22.0,42.0,19.0,34.0,20.0,20.0,70.0,65.0,30.0,18.0,86.0,21.0,19.0,19.0,31.0,46.0,40.0,53.0,62.0,20.0,20.0,39.0,50.0,52.0,24.0,20.0,45.0,32.0,50.0,30.0,46.0,19.0,18.0,47.0,27.0,42.0,38.0,38.0,48.0,27.0,29.0,25.0,23.0,20.0,19.0,42.0,61.0,27.0,78.0,40.0,27.0,25.0,38.0,40.0,37.0,18.0,47.0,47.0,35.0,35.0,22.0,39.0,35.0,69.0,70.0,63.0,63.0,64.0,28.0,23.0,57.0,53.0,71.0,26.0,20.0,37.0,47.0,24.0,27.0,32.0,35.0,27.0,35.0,68.0,52.0,23.0,50.0,61.0,24.0,38.0,19.0,25.0,32.0,21.0,51.0,45.0,65.0,29.0,35.0,48.0,36.0,70.0,28.0,35.0,24.0,70.0,53.0,37.0,42.0,27.0,24.0,36.0,25.0,45.0,46.0,32.0,57.0,34.0,34.0,29.0,46.0,31.0,38.0,52.0,50.0,32.0,31.0,45.0,50.0,33.0,17.0,30.0,47.0,82.0,24.0,42.0,63.0,49.0,25.0,44.0,30.0,69.0,40.0,36.0,32.0,33.0,49.0,60.0,40.0,40.0,38.0,29.0,18.0,37.0,23.0,69.0,35.0,69.0,48.0,40.0,18.0,40.0,27.0,17.0,26.0,38.0,29.0,35.0,24.0,29.0,50.0,52.0,41.0,35.0,82.0,61.0,22.0,34.0,23.0,20.0,31.0,17.0,37.0,63.0,32.0,27.0,25.0,20.0,44.0,26.0,72.0,43.0,53.0,70.0,24.0,29.0,40.0,75.0,68.0,20.0,30.0,42.0,48.0,42.0,39.0,51.0,17.0,21.0,70.0,22.0,34.0,23.0,22.0,33.0,58.0,40.0,25.0,55.0,45.0,35.0,26.0,46.0,28.0,24.0,19.0,19.0,50.0,23.0,34.0,33.0,25.0,30.0,18.0,27.0,60.0,20.0,21.0,38.0,33.0,43.0,24.0,57.0,36.0,26.0,25.0,18.0,36.0,17.0,39.0,42.0,34.0,30.0,51.0,63.0,24.0,49.0,25.0,65.0,23.0,62.0,39.0,16.0,30.0,23.0,22.0,70.0,35.0,56.0,25.0,27.0,27.0,25.0,24.0,20.0,60.0,51.0,28.0,38.0,23.0,20.0,18.0,36.0,18.0,33.0,48.0,16.0,42.0,54.0,30.0,22.0,60.0,17.0,70.0,47.0,18.0,33.0,27.0,38.0,18.0,30.0,25.0,35.0,60.0,34.0,98.0,68.0,18.0,38.0,26.0,33.0,51.0,24.0,23.0,55.0,49.0,40.0,28.0,38.0,50.0,47.0,18.0,18.0,42.0,18.0,28.0,65.0,42.0,22.0,18.0,22.0,52.0,80.0,38.0,57.0,31.0,28.0,40.0,57.0,49.0,86.0,36.0,71.0,48.0,28.0,32.0,26.0,70.0,51.0,18.0,51.0,18.0,28.0,19.0,35.0,33.0,43.0,34.0,36.0,16.0,76.0,57.0,50.0,27.0,25.0,19.0,25.0,35.0,44.0,52.0,22.0,37.0,23.0,18.0,37.0,19.0,33.0,31.0,28.0,19.0,58.0,45.0,27.0,35.0,24.0,32.0,76.0,17.0,17.0,18.0,64.0,46.0,38.0,26.0,68.0,58.0,25.0,59.0,49.0,20.0,30.0,78.0,52.0,48.0,50.0,75.0,40.0,36.0,18.0,59.0,37.0,26.0,25.0,100.0,26.0,52.0,42.0,18.0,86.0,20.0,45.0,32.0,27.0,36.0,41.0,18.0,83.0,63.0,29.0,49.0,85.0,69.0,23.0,29.0,24.0,32.0,20.0,28.0,39.0,26.0,27.0,26.0,29.0,49.0,32.0,40.0,36.0,26.0,26.0,26.0,26.0,17.0,27.0,34.0,75.0,36.0,27.0,27.0,53.0,57.0,32.0,39.0,23.0,44.0,28.0,80.0,39.0,37.0,26.0,46.0,40.0,47.0,39.0,27.0,50.0,25.0,27.0,85.0,18.0,36.0,40.0,57.0,54.0,24.0,70.0,34.0,32.0,39.0,23.0,33.0,38.0,33.0,30.0,39.0,29.0,30.0,31.0,28.0,39.0,37.0,40.0,24.0,35.0,41.0,28.0,20.0,58.0,75.0,35.0,22.0,76.0,28.0,46.0,38.0,36.0,25.0,27.0,38.0,58.0,31.0,27.0,28.0,18.0,42.0,45.0,42.0,43.0,71.0,50.0,56.0,50.0,29.0,49.0,33.0,52.0,41.0,37.0,26.0,40.0,30.0,74.0,26.0,17.0,31.0,41.0,17.0,78.0,16.0,44.0,26.0,37.0,19.0,41.0,49.0,26.0,22.0,27.0,45.0,68.0,26.0,34.0,18.0,60.0,22.0,20.0,23.0,42.0,38.0,42.0,33.0,66.0,68.0,16.0,35.0,28.0,34.0,33.0,26.0,59.0,33.0,42.0,39.0,33.0,24.0,45.0,30.0,29.0,41.0,68.0,61.0,18.0,34.0,42.0,33.0,46.0,29.0,28.0,21.0,47.0,20.0,70.0,48.0,19.0,40.0,65.0,70.0,23.0,30.0,41.0,44.0,20.0,22.0,53.0,30.0,21.0,41.0,36.0,26.0,42.0,29.0,17.0,59.0,57.0,43.0,21.0,48.0,30.0,45.0,49.0,35.0,29.0,24.0,100.0,47.0,59.0,85.0,42.0,17.0,47.0,90.0,20.0,80.0,50.0,25.0,43.0,23.0,24.0,49.0,42.0,29.0,20.0,40.0,85.0,39.0,50.0,30.0,24.0,27.0,33.0,28.0,38.0,19.0,40.0,55.0,27.0,28.0,69.0,38.0,61.0,50.0,20.0,65.0,40.0,28.0,53.0,25.0,32.0,51.0,40.0,22.0,54.0,57.0,27.0,16.0,20.0,68.0,63.0,52.0,60.0,46.0,24.0,67.0,47.0,22.0,30.0,50.0,42.0,24.0,39.0,31.0,45.0,25.0,50.0,52.0,77.0,68.0,24.0,26.0,52.0,50.0,38.0,54.0,59.0,63.0,60.0,18.0,33.0,30.0,25.0,23.0,36.0,75.0,35.0,44.0,35.0,52.0,45.0,30.0,31.0,20.0,20.0,22.0,16.0,27.0,56.0,23.0,59.0,63.0,39.0,44.0,31.0,16.0,73.0,29.0,75.0,70.0,30.0,44.0,62.0,24.0,23.0,36.0,28.0,43.0,32.0,57.0,23.0,35.0,30.0,37.0,43.0,44.0,22.0,25.0,32.0,24.0,28.0,42.0,50.0,22.0,24.0,18.0,35.0,30.0,29.0,52.0,43.0,45.0,48.0,47.0,33.0,55.0,22.0,78.0,74.0,52.0,24.0,32.0,48.0,38.0,21.0,25.0,22.0,81.0,39.0,70.0,28.0,35.0,46.0,53.0,43.0,82.0,20.0,46.0,29.0,37.0,35.0,48.0,38.0,28.0,28.0,22.0,30.0,31.0,41.0,32.0,30.0,26.0,75.0,35.0,90.0,22.0,60.0,70.0,33.0,35.0,23.0,20.0,34.0,26.0,26.0,32.0,52.0,46.0,55.0,69.0,40.0,23.0,42.0,40.0,32.0,19.0,63.0,35.0,16.0,88.0,48.0,31.0,20.0,26.0,100.0,43.0,40.0,54.0,50.0,21.0,19.0,22.0,26.0,27.0,19.0,34.0,46.0,62.0,26.0,44.0,40.0,30.0,30.0,24.0,55.0,56.0,29.0,30.0,25.0,41.0,18.0,35.0,76.0,49.0,19.0,32.0,17.0,22.0,22.0,42.0,34.0,60.0,50.0,57.0,40.0,45.0,32.0,61.0,50.0,34.0,54.0,55.0,19.0,17.0,27.0,31.0,17.0,20.0,43.0,17.0,55.0,37.0,18.0,46.0,25.0,30.0,28.0,35.0,34.0,45.0,59.0,26.0,30.0,50.0,30.0,55.0,18.0,33.0,17.0,75.0,56.0,27.0,38.0,28.0,32.0,52.0,29.0,17.0,42.0,51.0,30.0,45.0,20.0,26.0,25.0,33.0,22.0,20.0,32.0,54.0,60.0,31.0,77.0,19.0,48.0,35.0,56.0,62.0,54.0,21.0,44.0,29.0,76.0,22.0,45.0,24.0,24.0,52.0,30.0,40.0,61.0,36.0,30.0,30.0,24.0,46.0,50.0,24.0,32.0,22.0,46.0,43.0,22.0,65.0,23.0,34.0,40.0,29.0,33.0,28.0,59.0,24.0,32.0,34.0,22.0,22.0,22.0,22.0,22.0,22.0,22.0,22.0,22.0,22.0,22.0,72.0,34.0,39.0,60.0,18.0,25.0,58.0,72.0,76.0,33.0,50.0,74.0,45.0,90.0,23.0,26.0,32.0,47.0,18.0,38.0,18.0,29.0,27.0,17.0,25.0,43.0,68.0,48.0,19.0,43.0,62.0,21.0,41.0,42.0,60.0,36.0,60.0,38.0,63.0,17.0,60.0,60.0,28.0,70.0,21.0,30.0,32.0,31.0,38.0,34.0,32.0,34.0,33.0,25.0,35.0,53.0,35.0,25.0,28.0,20.0,28.0,60.0,49.0,30.0,42.0,29.0,51.0,43.0,32.0,64.0,25.0,33.0,18.0,45.0,16.0,40.0,27.0,74.0,23.0,65.0,43.0,26.0,34.0,28.0,38.0,21.0,48.0,30.0,21.0,84.0,22.0,22.0,20.0,20.0,54.0,40.0,25.0,46.0,28.0,31.0,32.0,69.0,23.0,31.0,71.0,42.0,43.0,41.0,24.0,31.0,71.0,18.0,50.0,47.0,30.0,50.0,38.0,22.0,27.0,50.0,27.0,32.0,50.0,66.0,30.0,55.0,70.0,20.0,44.0,43.0,22.0,43.0,40.0,58.0,39.0,35.0,60.0,23.0,28.0,29.0,35.0,35.0,51.0,22.0,21.0,20.0,30.0,21.0,29.0,60.0,33.0,22.0,21.0,58.0,53.0,35.0,37.0,40.0,48.0,43.0,37.0,83.0,38.0,41.0,28.0,25.0,19.0,30.0,16.0,40.0,90.0,48.0,58.0,85.0,42.0,18.0,23.0,27.0,34.0,34.0,58.0,30.0,30.0,28.0,65.0,80.0,31.0,24.0,60.0,60.0,30.0,57.0,17.0,28.0,28.0,36.0,26.0,56.0,25.0,65.0,60.0,22.0,35.0,17.0,37.0,38.0,20.0,66.0,55.0,47.0,29.0,75.0,45.0,30.0,67.0,64.0,40.0,23.0,25.0,28.0,40.0,21.0,40.0,38.0,47.0,39.0,51.0,20.0,40.0,29.0,26.0,41.0,60.0,17.0,16.0,63.0,79.0,23.0,23.0,24.0,30.0,25.0,36.0,58.0,39.0,75.0,35.0,18.0,27.0,19.0,49.0,20.0,24.0,30.0,42.0,78.0,64.0,40.0,24.0,28.0,69.0,25.0,43.0,47.0,19.0,27.0,42.0,53.0,29.0,21.0,27.0,66.0,24.0,58.0,36.0,63.0,24.0,37.0,68.0,37.0,30.0,26.0,37.0,46.0,45.0,63.0,50.0,47.0,25.0,39.0,32.0,29.0,75.0,70.0,68.0,38.0,47.0,23.0,63.0,30.0,24.0,31.0,61.0,20.0,60.0,96.0,28.0,32.0,35.0,34.0,27.0,35.0,29.0,58.0,30.0,49.0,49.0,47.0,65.0,75.0,29.0,69.0,25.0,52.0,16.0,48.0,25.0,32.0,65.0,35.0,25.0,18.0,27.0,78.0,28.0,33.0,45.0,40.0,23.0,18.0,26.0,27.0,32.0,50.0,21.0,20.0,60.0,24.0,30.0,40.0,22.0,24.0,33.0,21.0,27.0,28.0,37.0,34.0,25.0,52.0,49.0,36.0,27.0,36.0,26.0,23.0,34.0,50.0,65.0,22.0,36.0,20.0,42.0,18.0,20.0,36.0,52.0,21.0,26.0,18.0,19.0,32.0,51.0,23.0,67.0,24.0,78.0,48.0,65.0,65.0,35.0,24.0,39.0,68.0,22.0,17.0,68.0,24.0,30.0,24.0,25.0,26.0,25.0,30.0,20.0,56.0,32.0,19.0,65.0,40.0,21.0,29.0,20.0,33.0,29.0,30.0,25.0,25.0,26.0,31.0,50.0,26.0,39.0,63.0,28.0,30.0,25.0,50.0,34.0,35.0,33.0,18.0,33.0,31.0,27.0,35.0,28.0,22.0,25.0,27.0,34.0,29.0,35.0,20.0,50.0,23.0,28.0,29.0,37.0,23.0,76.0,28.0,16.0,60.0,37.0,47.0,23.0,55.0,35.0,39.0,45.0,64.0,51.0,16.0,26.0,45.0,37.0,24.0,20.0,21.0,25.0,40.0,78.0,23.0,55.0,72.0,40.0,31.0,30.0,40.0,80.0,65.0,18.0,27.0,70.0,56.0,18.0,36.0,30.0,42.0,16.0,90.0,36.0,30.0,34.0,21.0,38.0,72.0,37.0,32.0,40.0,40.0,50.0,71.0,66.0,41.0,67.0,73.0,18.0,37.0,51.0,60.0,32.0,29.0,18.0,16.0,29.0,24.0,18.0,43.0,29.0,45.0,23.0,38.0,20.0,33.0,19.0,31.0,54.0,24.0,29.0,35.0,19.0,17.0,27.0,41.0,37.0,71.0,27.0,54.0,22.0,18.0,25.0,32.0,62.0,67.0,16.0,20.0,29.0,42.0,58.0,26.0,71.0,50.0,50.0,25.0,28.0,29.0,64.0,22.0,20.0,19.0,70.0,79.0,41.0,50.0,21.0,39.0,19.0,43.0,40.0,22.0,50.0,38.0,48.0,36.0,49.0,30.0,45.0,23.0,33.0,32.0,23.0,33.0,29.0,38.0,25.0,16.0,33.0,42.0,21.0,20.0,35.0,32.0,38.0,40.0,48.0,22.0,38.0,23.0,56.0,51.0,48.0,18.0,36.0,57.0,25.0,19.0,39.0,50.0,28.0,22.0,23.0,18.0,36.0,25.0,26.0,19.0,25.0,36.0,65.0,20.0,63.0,26.0,21.0,31.0,35.0,33.0,48.0,70.0,18.0,77.0,35.0,23.0,30.0,21.0,56.0,22.0,33.0,28.0,16.0,25.0,28.0,54.0,25.0,18.0,33.0,40.0,85.0,50.0,20.0,26.0,18.0,31.0,19.0,24.0,40.0,30.0,21.0,25.0,20.0,28.0,28.0,45.0,19.0,40.0,16.0,18.0,19.0,22.0,25.0,24.0,21.0,65.0,22.0,44.0,39.0,28.0,30.0,38.0,45.0,22.0,33.0,19.0,38.0,32.0,23.0,84.0,47.0,20.0,34.0,60.0,37.0,31.0,32.0,75.0,60.0,44.0,21.0,57.0,16.0,18.0,22.0,28.0,44.0,28.0,23.0,45.0,39.0,68.0,75.0,62.0,17.0,47.0,20.0,57.0,18.0,62.0,35.0,35.0,58.0,22.0,53.0,19.0,36.0,35.0,35.0,35.0,31.0,65.0,18.0,53.0,48.0,60.0,36.0,25.0,65.0,32.0,29.0,53.0,62.0,40.0,40.0,30.0,22.0,35.0,52.0,21.0,32.0,21.0,31.0,32.0,60.0,56.0,21.0,18.0,90.0,24.0,48.0,68.0,21.0,78.0,46.0,30.0,23.0,16.0,42.0,16.0,39.0,26.0,65.0,52.0,23.0,16.0,65.0,22.0,25.0,39.0,30.0,17.0,34.0,21.0,50.0,29.0,50.0,60.0,45.0,60.0,30.0,40.0,35.0,34.0,35.0,19.0,63.0,20.0,21.0,34.0,30.0,23.0,18.0,29.0,16.0,45.0,31.0,18.0,35.0,20.0,65.0,20.0,41.0,32.0,16.0,21.0,54.0,20.0,31.0,20.0,30.0,39.0,60.0,25.0,31.0,65.0,29.0,50.0,60.0,37.0,17.0,54.0,80.0,48.0,40.0,51.0,34.0,20.0,31.0,40.0,22.0,38.0,39.0,24.0,23.0,68.0,25.0,48.0,26.0,23.0,29.0,25.0,37.0,24.0,25.0,50.0,18.0,79.0,65.0,19.0,45.0,44.0,56.0,49.0,19.0,45.0,42.0,27.0,56.0,28.0,20.0,60.0,31.0,39.0,25.0,30.0,47.0,36.0,21.0,23.0,30.0,24.0,28.0,16.0,20.0,45.0,52.0,31.0,35.0,60.0,75.0,24.0,32.0,43.0,23.0,23.0,25.0,50.0,18.0,30.0,65.0,52.0,23.0,38.0,25.0,19.0,20.0,59.0,33.0,43.0,28.0,21.0,43.0,45.0,25.0,40.0,39.0,43.0,20.0,48.0,53.0,44.0,33.0,20.0,22.0,28.0,50.0,38.0,30.0,17.0,22.0,52.0,65.0,30.0,25.0,41.0,21.0,51.0,34.0,56.0,45.0,66.0,40.0,18.0,64.0,39.0,37.0,24.0,28.0,30.0,23.0,32.0,24.0,32.0,35.0,50.0,30.0,33.0,23.0,26.0,23.0,22.0,64.0,53.0,22.0,48.0,75.0,23.0,45.0,20.0,70.0,23.0,21.0,65.0,29.0,54.0,21.0,32.0,58.0,19.0,28.0,63.0,36.0,30.0,28.0,63.0,23.0,58.0,65.0,67.0,19.0,46.0,55.0,26.0,32.0,28.0,24.0,20.0,23.0,32.0,24.0,40.0,49.0,30.0,49.0,30.0,35.0,30.0,39.0,30.0,17.0,19.0,70.0,48.0,60.0,30.0,45.0,30.0,50.0,30.0,31.0,25.0,47.0,63.0,19.0,21.0,24.0,65.0,27.0,33.0,28.0,34.0,59.0,58.0,65.0,31.0,20.0,30.0,22.0,50.0,35.0,50.0,40.0,43.0,76.0,29.0,17.0,32.0,52.0,32.0,42.0,34.0,64.0,50.0,26.0,79.0,31.0,24.0,24.0,64.0,98.0,42.0,25.0,28.0,21.0,30.0,38.0,32.0,71.0,38.0,33.0,41.0,26.0,32.0,40.0,40.0,25.0,22.0,35.0,25.0,29.0,21.0,23.0,22.0,40.0,67.0,26.0,40.0,49.0,38.0,16.0,17.0,28.0,58.0,28.0,24.0,37.0,40.0,33.0,40.0,73.0,32.0,45.0,43.0,65.0,29.0,30.0,30.0,30.0,80.0,17.0,27.0,38.0,24.0,30.0,25.0,26.0,30.0,35.0,73.0,60.0,29.0,16.0,30.0,20.0,36.0,45.0,27.0,50.0,45.0,20.0,56.0,38.0,24.0,27.0,40.0,35.0,65.0,24.0,26.0,60.0,58.0,25.0,16.0,35.0,19.0,18.0,26.0,45.0,20.0,44.0,70.0,66.0,27.0,17.0,49.0,36.0,32.0,31.0,58.0,23.0,62.0,75.0,50.0,33.0,35.0,40.0,54.0,21.0,36.0,65.0,23.0,47.0,19.0,33.0,32.0,28.0,18.0,26.0,50.0,64.0,30.0,22.0,21.0,39.0,30.0,39.0,22.0,30.0,18.0,31.0,18.0,18.0,38.0,25.0,18.0,40.0,18.0,19.0,28.0,65.0,38.0,32.0,20.0,30.0,18.0,25.0,40.0,35.0,30.0,19.0,28.0,40.0,65.0,41.0,32.0,23.0,21.0,28.0,22.0,22.0,24.0,45.0,20.0,43.0,23.0,46.0,31.0,32.0,49.0,43.0,25.0,35.0,31.0,28.0,19.0,25.0,38.0,35.0,26.0,52.0,50.0,43.0,21.0,20.0,29.0,35.0,34.0,29.0,18.0,24.0,58.0,25.0,29.0,41.0,44.0,30.0,20.0,25.0,48.0,49.0,25.0,20.0,47.0,33.0,42.0,19.0,30.0,35.0,26.0,25.0,40.0,20.0,20.0,42.0,30.0,18.0,22.0,19.0,20.0,46.0,43.0,36.0,16.0,23.0,28.0,48.0,36.0,28.0,22.0,45.0,30.0,45.0,53.0,40.0,47.0,75.0,32.0,28.0,67.0,28.0,28.0,25.0,28.0,40.0,54.0,54.0,30.0,23.0,24.0,25.0,27.0,48.0,20.0,38.0,48.0,22.0,27.0,45.0,24.0,48.0,25.0,20.0,29.0,27.0,23.0,21.0,30.0,43.0,40.0,21.0,16.0,50.0,43.0,45.0,22.0,19.0,50.0,16.0,24.0,24.0,30.0,25.0,20.0,21.0,32.0,23.0,29.0,24.0,50.0,29.0,30.0,81.0,44.0,65.0,25.0,43.0,69.0,32.0,35.0,19.0,34.0,40.0,23.0,43.0,24.0,23.0,30.0,30.0,17.0,25.0,54.0,30.0,53.0,30.0,39.0,80.0,60.0,20.0,32.0,16.0,32.0,18.0,50.0,30.0,55.0,48.0,22.0,24.0,52.0,53.0,35.0,71.0,20.0,29.0,37.0,36.0,16.0,28.0,79.0,60.0,22.0,18.0,37.0,54.0,30.0,32.0,19.0,37.0,69.0,23.0,20.0,22.0,28.0,30.0,27.0,26.0,24.0,35.0,19.0,44.0,45.0,17.0,28.0,28.0,24.0,33.0,18.0,54.0,46.0,50.0,27.0,31.0,40.0,33.0,32.0,45.0,24.0,19.0,27.0,28.0,60.0,68.0,49.0,33.0,26.0,28.0,33.0,70.0,16.0,60.0,23.0,33.0,53.0,39.0,52.0,31.0,35.0,27.0,40.0,21.0,40.0,40.0,30.0,39.0,40.0,21.0,33.0,30.0,38.0,25.0,61.0,37.0,32.0,69.0,19.0,32.0,24.0,19.0,37.0,48.0,44.0,30.0,42.0,30.0,37.0,22.0,25.0,36.0,40.0,36.0,17.0,37.0,68.0,38.0,40.0,51.0,27.0,29.0,60.0,21.0,35.0,18.0,47.0,21.0,22.0,20.0,55.0,50.0,34.0,18.0,42.0,43.0,34.0,22.0,23.0,23.0,51.0,33.0,55.0,24.0,35.0,30.0,22.0,28.0,25.0,18.0,40.0,22.0,46.0,29.0,70.0,42.0,55.0,50.0,21.0,58.0,39.0,47.0,65.0,17.0,28.0,44.0,29.0,17.0,75.0,19.0,26.0,18.0,18.0,17.0,28.0,19.0,33.0,49.0,52.0,25.0,32.0,50.0,29.0,18.0,36.0,23.0,65.0,33.0,33.0,39.0,56.0,23.0,51.0,24.0,33.0,24.0,20.0,27.0,22.0,39.0,50.0,63.0,70.0,20.0,41.0,25.0,27.0,25.0,45.0,45.0,38.0,22.0,26.0,48.0,17.0,52.0,41.0,24.0,32.0,22.0,72.0,24.0,18.0,65.0,23.0,54.0,40.0,45.0,22.0,45.0,29.0,34.0,27.0,60.0,29.0,42.0,32.0,40.0,45.0,20.0,38.0,24.0,23.0,29.0,30.0,16.0,35.0,45.0,70.0,37.0,37.0,28.0,26.0,25.0,25.0,29.0,18.0,21.0,73.0,44.0,73.0,55.0,60.0,25.0,34.0,37.0,30.0,24.0,65.0,23.0,52.0,45.0,65.0,30.0,31.0,60.0,45.0,32.0,25.0,19.0,19.0,25.0,25.0,27.0,20.0,51.0,40.0,24.0,40.0,60.0,32.0,51.0,30.0,79.0,43.0,28.0,34.0,23.0,32.0,28.0,62.0,30.0,19.0,38.0,33.0,30.0,28.0,24.0,67.0,31.0,59.0,30.0,36.0,74.0,25.0,21.0,50.0,40.0,51.0,55.0,75.0,38.0,29.0,27.0,59.0,45.0,78.0,32.0,68.0,65.0,22.0,33.0,65.0,33.0,65.0,42.0,20.0,52.0,27.0,20.0,50.0,17.0,51.0,43.0,32.0,24.0,21.0,27.0,53.0,27.0,23.0,30.0,38.0,24.0,34.0,65.0,36.0,38.0,24.0,40.0,21.0,20.0,20.0,45.0,24.0,17.0,61.0,45.0,23.0,60.0,26.0,42.0,16.0,27.0,32.0,19.0,21.0,36.0,38.0,22.0,26.0,25.0,28.0,30.0,56.0,45.0,42.0,40.0,37.0,16.0,42.0,27.0,25.0,20.0,65.0,20.0,56.0,29.0,26.0,23.0,30.0,25.0,51.0,40.0,20.0,50.0,46.0,23.0,48.0,33.0,34.0,55.0,27.0,16.0,35.0,27.0,28.0,65.0,38.0,20.0,58.0,53.0,21.0,29.0,60.0,33.0,17.0,27.0,24.0,39.0,34.0,28.0,45.0,65.0,20.0,29.0,45.0,36.0,48.0,48.0,49.0,48.0,21.0,18.0,35.0,19.0,36.0,32.0,17.0,30.0,51.0,28.0,54.0,30.0,18.0,36.0,21.0,44.0,19.0,34.0,38.0,30.0,20.0,47.0,43.0,26.0,19.0,61.0,64.0,48.0,18.0,16.0,24.0,21.0,28.0,52.0,25.0,73.0,55.0,54.0,24.0,48.0,30.0,59.0,30.0,30.0,16.0,22.0,18.0,24.0,21.0,56.0,80.0,47.0,36.0,28.0,30.0,43.0,28.0,20.0,20.0,35.0,26.0,26.0,58.0,23.0,54.0,19.0,22.0,25.0,25.0,47.0,18.0,60.0,18.0,41.0,50.0,46.0,32.0,24.0,24.0,25.0,33.0,38.0,95.0,29.0,39.0,46.0,25.0,44.0,40.0,32.0,20.0,78.0,34.0,43.0,45.0,24.0,25.0,39.0,60.0,41.0,58.0,35.0,30.0,25.0,28.0,25.0,39.0,48.0,26.0,43.0,25.0,28.0,78.0,37.0,18.0,20.0,45.0,30.0,45.0,17.0,32.0,19.0,32.0,45.0,20.0,46.0,50.0,28.0,31.0,58.0,23.0,19.0,27.0,28.0,60.0,45.0,62.0,40.0,23.0,50.0,98.0,29.0,18.0,25.0,43.0,26.0,37.0,19.0,52.0,30.0,21.0,21.0,49.0,21.0,55.0,20.0,19.0,32.0,40.0,20.0,18.0,60.0,38.0,22.0,54.0,34.0,65.0,34.0,17.0,19.0,21.0,47.0,19.0,26.0,20.0,55.0,45.0,52.0,16.0,39.0,40.0,43.0,30.0,33.0,23.0,22.0,55.0,44.0,36.0,35.0,25.0,38.0,30.0,64.0,36.0,40.0,19.0,28.0,20.0,26.0,18.0,26.0,28.0,27.0,21.0,70.0,32.0,32.0,19.0,26.0,38.0,17.0,19.0,27.0,27.0,43.0,45.0,65.0,48.0,25.0,34.0,24.0,38.0,31.0,49.0,23.0,65.0,20.0,23.0,27.0,60.0,28.0,35.0,50.0,34.0,16.0,73.0,44.0,25.0,21.0,23.0,28.0,64.0,48.0,23.0,46.0,25.0,19.0,38.0,60.0,25.0,27.0,29.0,56.0,26.0,56.0,23.0,48.0,46.0,18.0,28.0,35.0,21.0,32.0,24.0,19.0,22.0,24.0,42.0,19.0,52.0,26.0,20.0,30.0,28.0,53.0,25.0,32.0,33.0,23.0,51.0,33.0,44.0,65.0,18.0,21.0,33.0,53.0,25.0,18.0,70.0,30.0,32.0,19.0,27.0,26.0,19.0,34.0,64.0,51.0,45.0,18.0,19.0,20.0,30.0,19.0,22.0,46.0,20.0,38.0,36.0,30.0,80.0,34.0,32.0,37.0,47.0,55.0,20.0,17.0,55.0,26.0,31.0,28.0,45.0,22.0,23.0,47.0,20.0,18.0,46.0,23.0,38.0,38.0,18.0,40.0,20.0,25.0,16.0,27.0,25.0,49.0,45.0,43.0,23.0,39.0,18.0,22.0,22.0,30.0,31.0,29.0,39.0,35.0,38.0,40.0,35.0,30.0,29.0,45.0,58.0,31.0,33.0,17.0,40.0,37.0,17.0,18.0,32.0,45.0,29.0,35.0,29.0,45.0,25.0,64.0,23.0,32.0,21.0,16.0,25.0,52.0,32.0,26.0,59.0,37.0,50.0,33.0,19.0,51.0,25.0,26.0,31.0,43.0,20.0,39.0,50.0,43.0,21.0,44.0,25.0,60.0,20.0,24.0,19.0,49.0,53.0,60.0,20.0,55.0,35.0,23.0,20.0,21.0,24.0,54.0,19.0,22.0,26.0,25.0,21.0,30.0,34.0,16.0,25.0,50.0,25.0,65.0,23.0,27.0,23.0,24.0,19.0,16.0,35.0,21.0,32.0,16.0,36.0,86.0,21.0,65.0,39.0,50.0,18.0,50.0,60.0,52.0,50.0,18.0,18.0,35.0,40.0,60.0,30.0,28.0,24.0,18.0,35.0,48.0,29.0,28.0,27.0,34.0,40.0,82.0,34.0,32.0,20.0,43.0,18.0,28.0,61.0,20.0,18.0,31.0,17.0,23.0,25.0,57.0,26.0,21.0,85.0,27.0,48.0,79.0,25.0,19.0,25.0,18.0,22.0,25.0,29.0,20.0,26.0,37.0,28.0,19.0,24.0,41.0,90.0,28.0,28.0,23.0,23.0,29.0,22.0,46.0,50.0,32.0,43.0,16.0,80.0,19.0,20.0,28.0,16.0,39.0,60.0,35.0,59.0,24.0,24.0,31.0,29.0,23.0,22.0,18.0,40.0,52.0,65.0,20.0,34.0,65.0,29.0,17.0,54.0,26.0,60.0,48.0,47.0,19.0,26.0,26.0,38.0,68.0,58.0,20.0,25.0,26.0,48.0,16.0,49.0,24.0,30.0,42.0,31.0,42.0,17.0,44.0,28.0,24.0,30.0,35.0,23.0,36.0,65.0,25.0,28.0,18.0,37.0,20.0,30.0,34.0,40.0,32.0,52.0,28.0,49.0,26.0,28.0,25.0,21.0,60.0,74.0,26.0,16.0,26.0,22.0,17.0,40.0,24.0,45.0,22.0,28.0,65.0,20.0,30.0,19.0,57.0,26.0,24.0,16.0,35.0,16.0,20.0,48.0,27.0,27.0,30.0,20.0],\"xaxis\":\"x\",\"y\":[2018,2018,2018,2018,2018,2018,2018,2018,2018,2018,2018,2018,2018,2018,2018,2018,2018,2018,2018,2018,2018,2018,2018,2018,2018,2018,2018,2018,2018,2018,2018,2018,2018,2018,2018,2018,2018,2018,2018,2018,2018,2018,2018,2018,2018,2018,2018,2018,2018,2018,2018,2018,2018,2018,2018,2018,2018,2018,2018,2018,2018,2018,2018,2018,2018,2018,2018,2018,2018,2018,2018,2018,2018,2018,2018,2018,2018,2018,2018,2018,2018,2018,2018,2018,2018,2018,2018,2018,2018,2018,2018,2018,2018,2018,2018,2018,2018,2018,2018,2018,2018,2018,2018,2018,2018,2018,2018,2018,2018,2018,2018,2018,2018,2018,2018,2018,2018,2018,2018,2018,2018,2018,2018,2018,2018,2018,2018,2018,2018,2018,2018,2018,2018,2018,2018,2018,2018,2018,2018,2018,2018,2018,2018,2018,2018,2018,2018,2018,2018,2018,2018,2018,2018,2018,2018,2018,2018,2018,2018,2018,2018,2018,2018,2018,2018,2018,2018,2018,2018,2018,2018,2018,2018,2018,2018,2018,2018,2018,2018,2018,2018,2018,2018,2018,2018,2018,2018,2018,2018,2018,2018,2018,2018,2018,2018,2018,2018,2018,2018,2018,2018,2018,2018,2018,2018,2018,2018,2018,2018,2018,2018,2018,2018,2029,2018,2018,2018,2018,2018,2018,2018,2018,2018,2018,2018,2018,2018,2018,2018,2018,2018,2018,2018,2018,2018,2018,2018,2018,2018,2018,2018,2018,2018,2018,2018,2018,2018,2018,2018,2018,2018,2018,2018,2018,2018,2018,2018,2018,2018,2018,2018,2018,2018,2018,2018,2018,2018,2018,2018,2018,2018,2018,2018,2018,2018,2018,2018,2018,2018,2018,2018,2018,2018,2018,2018,2018,2018,2018,2018,2018,2018,2018,2018,2018,2018,2018,2018,2018,2018,2018,2018,2018,2018,2018,2018,2018,2018,2018,2056,2018,2018,2018,2018,2018,2018,2018,2018,2018,2018,2018,2018,2018,2018,2018,2018,2018,2018,2018,2018,2018,2018,2018,2018,2018,2018,2018,2018,2018,2018,2018,2018,2018,2018,2018,2018,2018,2018,2018,2018,2018,2018,2018,2018,2018,2018,2018,2018,2018,2018,2018,2018,2018,2018,2018,2018,2018,2018,2018,2018,2018,2018,2018,2018,2018,2018,2018,2018,2018,2018,2018,2018,2018,2018,2018,2018,2018,2018,2018,2018,2018,2018,2018,2018,2018,2018,2018,2018,2018,2018,2018,2018,2018,2018,2018,2018,2018,2018,2018,2018,2018,2018,2018,2018,2018,2018,2018,2018,2018,2018,2018,2018,2018,2018,2018,2018,2018,2018,2018,2018,2018,2018,2018,2018,2018,2018,2018,2018,2018,2018,2018,2018,2018,2018,2018,2018,2018,2018,2018,2018,2018,2018,2018,2018,2018,2018,2018,2018,2018,2018,2018,2018,2018,2018,2018,2018,2018,2018,2018,2018,2018,2018,2018,2018,2018,2018,2018,2018,2018,2018,2018,2018,2018,2018,2018,2018,2018,2018,2018,2018,2018,2018,2018,2018,2018,2018,2018,2018,2018,2018,2018,2018,2018,2018,2018,2018,2018,2018,2018,2018,2018,2018,2018,2018,2018,2018,2018,2018,2018,2018,2018,2018,2018,2018,2018,2018,2018,2018,2018,2018,2018,2018,2018,2018,2018,2018,2018,2018,2018,2018,2018,2018,2018,2018,2018,2018,2018,2018,2018,2018,2018,2018,2018,2018,2018,2018,2018,2018,2018,2018,2018,2018,2018,2018,2018,2018,2018,2018,2018,2018,2018,2018,2018,2018,2018,2018,2018,2018,2018,2018,2018,2018,2018,2018,2018,2018,2018,2018,2018,2018,2018,2018,2018,2018,2018,2018,2018,2018,2018,2018,2018,2018,2018,2018,2018,2018,2018,2018,2018,2018,2018,2018,2018,2018,2018,2018,2018,2018,2018,2018,2018,2018,2018,2018,2018,2018,2018,2018,2018,2018,2018,2018,2018,2018,2018,2018,2018,2018,2018,2018,2018,2018,2018,2018,2018,2018,2018,2018,2018,2018,2018,2018,2018,2018,2018,2018,2018,2018,2018,2018,2018,2018,2018,2018,2018,2018,2018,2018,2018,2018,2018,2018,2018,2018,2018,2018,2018,2018,2018,2018,2018,2018,2018,2018,2018,2018,2018,2018,2018,2018,2018,2018,2018,2018,2018,2018,2018,2018,2018,2018,2018,2018,2018,2018,2018,2018,2018,2018,2018,2018,2018,2018,2018,2018,2018,2018,2018,2018,2018,2018,2018,2018,2018,2018,2018,2018,2018,2018,2018,2018,2018,2018,2018,2018,2018,2018,2018,2018,2018,2018,2018,2018,2018,2018,2018,2018,2018,2018,2018,2018,2018,2018,2018,2018,2018,2018,2018,2018,2018,2018,2018,2018,2018,2018,2018,2018,2018,2018,2018,2018,2018,2018,2018,2018,2018,2018,2018,2018,2018,2018,2018,2018,2018,2018,2018,2018,2018,2018,2018,2018,2018,2018,2018,2018,2018,2018,2018,2018,2018,2018,2018,2018,2018,2018,2018,2018,2018,2018,2018,2018,2018,2018,2018,2018,2018,2018,2018,2018,2018,2018,2018,2018,2018,2018,2018,2018,2018,2018,2018,2018,2018,2018,2018,2018,2018,2018,2018,2018,2018,2018,2018,2018,2018,2018,2018,2018,2018,2018,2018,2018,2018,2018,2018,2018,2018,2018,2018,2018,2018,2018,2018,2018,2018,2018,2018,2018,2018,2018,2018,2018,2018,2018,2018,2018,2018,2018,2018,2018,2018,2018,2018,2018,2018,2018,2018,2018,2018,2018,2018,2018,2018,2018,2018,2018,2018,2018,2018,2018,2018,2018,2018,2018,2018,2018,2018,2018,2018,2018,2018,2018,2018,2018,2018,2018,2018,2018,2018,2018,2018,2018,2018,2018,2018,2018,2018,2018,2018,2018,2018,2018,2018,2018,2018,2018,2018,2018,2018,2018,2018,2018,2018,2018,2018,2018,2018,2018,2018,2018,2018,2018,2018,2018,2018,2018,2018,2018,2018,2018,2018,2018,2018,2018,2018,2018,2018,2018,2018,2018,2018,2018,2018,2018,2018,2018,2018,2018,2018,2018,2018,2018,2018,2018,2018,2018,2018,2018,2018,2018,2018,2018,2018,2018,2018,2018,2018,2018,2018,2018,2018,2018,2018,2018,2018,2018,2018,2018,2018,2018,2018,2018,2018,2018,2018,2018,2018,2018,2018,2018,2018,2018,2018,2018,2018,2018,2018,2018,2018,2018,2018,2018,2018,2018,2018,2018,2018,2018,2018,2018,2018,2018,2018,2018,2018,2018,2018,2018,2018,2018,2018,2018,2018,2018,2018,2018,2018,2018,2018,2018,2018,2018,2018,2018,2018,2018,2018,2018,2018,2018,2018,2018,2018,2018,2018,2018,2018,2018,2018,2018,2018,2018,2018,2018,2018,2018,2018,2018,2018,2018,2018,2018,2018,2018,2018,2018,2018,2018,2018,2018,2018,2018,2018,2018,2018,2018,2018,2018,2018,2018,2018,2018,2018,2018,2018,2018,2018,2018,2018,2018,2018,2018,2018,2018,2018,2018,2018,2018,2018,2018,2018,2018,2018,2018,2018,2018,2018,2018,2018,2018,2018,2018,2018,2018,2018,2018,2018,2018,2018,2018,2018,2018,2018,2018,2018,2018,2018,2018,2018,2018,2018,2018,2018,2018,2018,2018,2018,2018,2018,2018,2018,2018,2018,2018,2018,2018,2018,2018,2018,2018,2018,2018,2018,2018,2018,2018,2018,2018,2018,2018,2018,2018,2018,2018,2018,2018,2018,2018,2018,2018,2018,2018,2018,2018,2018,2018,2018,2018,2018,2018,2018,2018,2018,2018,2018,2018,2018,2018,2018,2018,2018,2018,2018,2018,2018,2018,2018,2018,2018,2018,2018,2018,2018,2018,2018,2018,2018,2018,2018,2018,2018,2018,2018,2018,2018,2018,2018,2018,2018,2018,2018,2018,2018,2018,2018,2018,2018,2018,2018,2018,2018,2018,2018,2018,2018,2018,2018,2018,2018,2018,2018,2018,2018,2018,2018,2018,2018,2018,2018,2018,2018,2018,2018,2018,2018,2018,2018,2018,2018,2018,2018,2018,2018,2018,2018,2018,2018,2018,2018,2018,2018,2018,2018,2018,2018,2018,2018,2018,2018,2018,2018,2018,2018,2018,2018,2018,2018,2018,2018,2018,2018,2018,2018,2018,2018,2018,2018,2018,2018,2018,2018,2018,2018,2018,2018,2018,2018,2018,2018,2018,2018,2018,2018,2018,2018,2018,2018,2018,2018,2018,2018,2018,2018,2018,2018,2018,2018,2018,2018,2018,2018,2018,2018,2018,2018,2018,2018,2018,2018,2018,2018,2018,2018,2018,2018,2018,2018,2018,2018,2018,2018,2018,2018,2018,2018,2018,2018,2018,2018,2018,2018,2018,2018,2018,2018,2018,2018,2018,2018,2018,2018,2018,2018,2018,2018,2018,2018,2018,2018,2018,2018,2018,2018,2018,2018,2018,2018,2018,2018,2018,2018,2018,2018,2018,2018,2018,2018,2018,2018,2018,2018,2018,2018,2018,2018,2018,2018,2018,2018,2018,2018,2018,2018,2018,2018,2018,2018,2018,2018,2018,2018,2018,2018,2018,2018,2018,2018,2018,2018,2018,2018,2018,2018,2018,2018,2018,2018,2018,2018,2018,2018,2018,2018,2018,2018,2018,2018,2018,2018,2018,2018,2018,2018,2018,2018,2018,2018,2018,2018,2018,2018,2018,2018,2018,2018,2018,2018,2018,2018,2018,2018,2018,2018,2018,2018,2018,2018,2018,2018,2018,2018,2018,2018,2018,2018,2018,2018,2018,2018,2018,2018,2018,2018,2018,2018,2018,2018,2018,2018,2018,2018,2018,2018,2018,2018,2018,2018,2018,2018,2018,2018,2018,2018,2018,2018,2018,2018,2018,2018,2018,2018,2018,2018,2018,2018,2018,2018,2018,2018,2018,2018,2018,2018,2018,2018,2018,2018,2018,2018,2018,2018,2018,2018,2018,2018,2018,2018,2018,2018,2018,2018,2018,2018,2018,2018,2018,2018,2018,2018,2018,2018,2018,2018,2018,2018,2018,2018,2018,2018,2018,2018,2018,2018,2018,2018,2018,2018,2018,2018,2018,2018,2018,2018,2018,2018,2018,2018,2018,2018,2018,2018,2018,2018,2018,2018,2018,2018,2018,2018,2018,2018,2018,2018,2018,2018,2018,2018,2018,2018,2018,2018,2018,2018,2018,2018,2018,2018,2018,2018,2018,2018,2018,2018,2018,2018,2018,2018,2018,2018,2018,2018,2018,2018,2018,2018,2018,2018,2018,2018,2018,2018,2018,2018,2018,2018,2018,2018,2018,2018,2018,2018,2018,2018,2018,2018,2018,2018,2018,2018,2018,2018,2018,2018,2018,2018,2018,2018,2018,2018,2018,2018,2018,2018,2018,2018,2018,2018,2018,2018,2018,2018,2018,2018,2018,2018,2018,2018,2018,2018,2018,2018,2018,2018,2018,2018,2018,2018,2018,2018,2018,2018,2018,2018,2018,2018,2018,2018,2018,2018,2018,2018,2018,2018,2018,2018,2018,2018,2018,2018,2018,2018,2018,2018,2018,2018,2018,2018,2018,2018,2018,2018,2018,2018,2018,2018,2018,2018,2018,2018,2018,2018,2018,2018,2018,2018,2018,2018,2018,2018,2018,2018,2018,2018,2018,2018,2018,2018,2018,2018,2018,2018,2018,2018,2018,2018,2018,2018,2018,2018,2018,2018,2018,2018,2018,2018,2018,2018,2018,2018,2018,2018,2018,2018,2018,2018,2018,2018,2018,2018,2018,2018,2018,2018,2018,2018,2018,2018,2018,2018,2018,2018,2018,2018,2018,2018,2018,2018,2018,2018,2018,2018,2018,2018,2018,2018,2018,2018,2018,2018,2018,2018,2018,2018,2018,2018,2018,2018,2018,2018,2018,2018,2018,2018,2018,2018,2018,2018,2018,2018,2018,2018,2018,2018,2018,2018,2018,2018,2018,2018,2018,2018,2018,2018,2018,2018,2018,2018,2018,2018,2018,2018,2018,2018,2018,2018,2018,2018,2018,2018,2018,2018,2018,2018,2018,2018,2018,2018,2018,2018,2018,2018,2018,2018,2018,2018,2018,2018,2018,2018,2018,2018,2018,2018,2018,2018,2018,2018,2018,2018,2018,2018,2018,2018,2018,2018,2018,2018,2018,2018,2018,2018,2018,2018,2018,2018,2018,2018,2018,2018,2018,2018,2018,2018,2018,2018,2018,2018,2018,2018,2018,2018,2018,2018,2018,2018,2018,2018,2018,2018,2018,2018,2018,2018,2018,2018,2018,2018,2018,2018,2018,2018,2018,2018,2018,2018,2018,2018,2018,2018,2018,2018,2018,2018,2018,2018,2018,2018,2018,2018,2018,2018,2018,2018,2018,2018,2018,2018,2018,2018,2018,2018,2018,2018,2018,2018,2018,2018,2018,2018,2018,2018,2018,2018,2018,2018,2018,2018,2018,2018,2018,2018,2018,2018,2018,2018,2018,2018,2018,2018,2018,2018,2018,2018,2018,2018,2018,2018,2018,2018,2018,2018,2018,2018,2018,2018,2018,2018,2018,2018,2018,2018,2018,2018,2018,2018,2018,2018,2018,2018,2018,2018,2018,2018,2018,2018,2018,2018,2018,2018,2018,2018,2018,2018,2018,2018,2018,2018,2018,2018,2018,2018,2018,2018,2018,2018,2018,2018,2018,2018,2018,2018,2018,2018,2018,2018,2018,2018,2018,2018,2018,2018,2018,2018,2018,2018,2018,2018,2018,2018,2018,2018,2018,2018,2018,2018,2018,2018,2018,2018,2018,2018,2018,2018,2018,2018,2018,2018,2018,2018,2018,2018,2018,2018,2018,2018,2018,2018,2018,2018,2018,2018,2018,2018,2018,2018,2018,2018,2018,2018,2018,2018,2018,2018,2018,2018,2018,2018,2018,2018,2018,2018,2018,2018,2018,2018,2018,2018,2018,2018,2018,2018,2018,2018,2018,2018,2018,2018,2018,2018,2018,2018,2018,2018,2018,2018,2018,2018,2018,2018,2018,2018,2018,2018,2018,2018,2018,2018,2018,2018,2018,2018,2018,2018,2018,2018,2018,2018,2018,2018,2018,2018,2018,2018,2018,2018,2018,2018,2018,2018,2018,2018,2018,2018,2018,2018,2018,2018,2018,2018,2018,2018,2018,2018,2018,2018,2018,2018,2018,2018,2018,2018,2018,2018,2018,2018,2018,2018,2018,2018,2018,2018,2018,2018,2018,2018,2018,2018,2018,2018,2018,2018,2018,2018,2018,2018,2018,2018,2018,2018,2018,2018,2018,2018,2018,2018,2018,2018,2018,2018,2018,2018,2018,2018,2018,2018,2018,2018,2018,2018,2018,2018,2018,2018,2018,2018,2018,2018,2018,2018,2018,2018,2018,2018,2018,2018,2018,2018,2018,2018,2018,2018,2018,2018,2018,2018,2018,2018,2018,2018,2018,2018,2018,2018,2018,2018,2018,2018,2018,2018,2018,2018,2018,2018,2018,2018,2018,2018,2018,2018,2018,2018,2018,2018,2018,2018,2018,2018,2018,2018,2018,2018,2018,2018,2018,2018,2018,2018,2018,2018,2018,2018,2018,2018,2018,2018,2018,2018,2018,2018,2018,2018,2018,2018,2018,2018,2018,2018,2018,2018,2018,2018,2018,2018,2018,2018,2018,2018,2018,2018,2018,2018,2018,2018,2018,2018,2018,2018,2018,2018,2018,2018,2018,2018,2018,2018,2018,2018,2018,2018,2018,2018,2018,2018,2018,2018,2018,2018,2018,2018,2018,2018,2018,2018,2018,2018,2018,2018,2018,2018,2018,2018,2018,2018,2018,2018,2018,2018,2018,2018,2018,2018,2018,2018,2018,2018,2018,2018,2018,2018,2018,2018,2018,2018,2018,2018,2018,2018,2018,2018,2018,2018,2018,2018,2018,2018,2018,2018,2018,2018,2018,2018,2018,2018,2018,2018,2018,2018,2018,2018,2018,2018,2018,2018,2018,2018,2018,2018,2018,2018,2018,2018,2018,2018,2018,2018,2018,2018,2018,2018,2018,2018,2018,2018,2018,2018,2018,2018,2018,2018,2018,2018,2018,2018,2018,2018,2018,2018,2018,2018,2018,2018,2018,2018,2018,2018,2018,2018,2018,2018,2018,2018,2018,2018,2018,2018,2018,2018,2018,2018,2018,2018,2018,2018,2018,2018,2018,2018,2018,2018,2018,2018,2018,2018,2018,2018,2018,2018,2018,2018,2018,2018,2018,2018,2018,2018,2018,2018,2018,2018,2018,2018,2018,2018,2018,2018,2018,2018,2018,2018,2018,2018,2018,2018,2018,2018,2018,2018,2018,2018,2018,2018,2018,2018,2018,2018,2018,2018,2018,2018,2018,2018,2018,2018,2018,2018,2018,2018,2018,2018,2018,2018,2018,2018,2018,2018,2018,2018,2018,2018,2018,2018,2018,2018,2018,2018,2018,2018,2018,2018,2018,2018,2018,2018,2018,2018,2018,2018,2018,2018,2018,2018,2018,2018,2018,2018,2018,2018,2018,2018,2018,2018,2018,2018,2018,2018,2018,2018,2018,2018,2018,2018,2018,2018,2018,2018,2018,2018,2018,2018,2018,2018,2018,2018,2018,2018,2018,2018,2018,2018,2018,2018,2018,2018,2018,2018,2018,2018,2018,2018,2018,2018,2018,2018,2018,2018,2018,2018,2018,2018,2018,2018,2018,2018,2018,2018,2018,2018,2018,2018,2018,2018,2018,2018,2018,2018,2018,2018,2018,2018,2018,2018,2018,2018,2018,2018,2018,2018,2018,2018,2018,2018,2018,2018,2018,2018,2018,2018,2018,2018,2018,2018,2018,2018,2018,2018,2018,2018,2018,2018,2018,2018,2018,2018,2018,2018,2018,2018,2018,2018,2018,2018,2018,2018,2018,2018,2018,2018,2018,2018,2018,2018,2018,2018,2018,2018,2018,2018,2018,2018,2018,2018,2018,2018,2018,2018,2018,2018,2018,2018,2018,2018,2018,2018,2018,2018,2018,2018,2018,2018,2018,2018,2018,2018,2018,2018,2018,2018,2018,2018,2018,2018,2018,2018,2018,2018,2018,2018,2018,2018,2018,2018,2018,2018,2018,2018,2018,2018,2018,2018,2018,2018,2018,2018,2018,2018,2018,2018,2018,2018,2018,2018,2018,2018,2018,2018,2018,2018,2018,2018,2018,2018,2018,2018,2018,2018,2018,2018,2018,2018,2018,2018,2018,2018,2018,2018,2018,2018,2018,2018,2018,2018,2018,2018,2018,2018,2018,2018,2018,2018,2018,2018,2018,2018,2018,2018,2018,2018,2018,2018,2018,2018,2018,2018,2018,2018,2018,2018,2018,2018,2018,2018,2018,2018,2018,2018,2018,2018,2018,2018,2018,2018,2018,2018,2018,2018,2018,2018,2018,2018,2018,2018,2018,2018,2018,2018,2018,2018,2018,2018,2018,2018,2018,2018,2018,2018,2018,2018,2018,2018,2018,2018,2018,2018,2018,2018,2018,2018,2018,2018,2018,2018,2018,2018,2018,2018,2018,2018,2018,2018,2018,2018,2018,2018,2018,2018,2018,2018,2018,2018,2018,2018,2018,2018,2018,2018,2018,2018,2018,2018,2018,2018,2018,2018,2018,2018,2018,2018,2018,2018,2018,2018,2018,2018,2018,2018,2018,2018,2018,2018,2018,2018,2018,2018,2018,2018,2018,2018,2018,2018,2018,2018,2018,2018,2018,2018,2018,2018,2018,2018,2018,2018,2018,2018,2018,2018,2018,2018,2018,2018,2018,2018,2018,2018,2018,2018,2018,2018,2018,2018,2018,2018,2018,2018,2018,2018,2018,2018,2018,2018,2018,2018,2018,2018,2018,2018,2018,2018,2018,2018,2018,2018,2018,2018,2018,2018,2018,2018,2018,2018,2018,2018,2018,2018,2018,2018,2018,2018,2018,2018,2018,2018,2018,2018,2018,2018,2018,2018,2018,2018,2018,2018,2018,2018,2018,2018,2018,2018,2018,2018,2018,2018,2018,2018,2018,2018,2018,2018,2018,2018,2018,2018,2018,2018,2018,2018,2018,2018,2018,2018,2018,2018,2018,2018,2018,2018,2018,2018,2018,2018,2018,2018,2018,2018,2018,2018,2018,2018,2018,2018,2018,2018,2018,2018,2018,2018,2018,2018,2018,2018,2018,2018,2018,2018,2018,2018,2018,2018,2018,2018,2018,2018,2018,2018,2018,2018,2018,2018,2018,2018,2018,2018,2018,2018,2018,2018,2018,2018,2018,2018,2018,2018,2018,2018,2018,2018,2018,2018,2018,2018,2018,2018,2018,2018,2018,2018,2018,2018,2018,2018,2018,2018,2018,2018,2018,2018,2018,2018,2018,2018,2018,2018,2018,2018,2018,2018,2018,2018,2018,2018,2018,2018,2018,2018,2018,2018,2018,2018,2018,2018,2018,2018,2018,2018,2018,2018,2018,2018,2018,2018,2018,2018,2018,2018,2018,2018,2018,2018,2018,2018,2018,2018,2018,2018,2018,2018,2018,2018,2018,2018,2018,2018,2018,2018,2018,2018,2018,2018,2018,2018,2018,2018,2018,2018,2018,2018,2018,2018,2018,2018,2018,2018,2018,2018,2018,2018,2018,2018,2018,2018,2018,2018,2018,2018,2018,2018,2018,2018,2018,2018,2018,2018,2018,2018,2018,2018,2018,2018,2018,2018,2018,2018,2018,2018,2018,2018,2018,2018,2018,2018,2018,2018,2018,2018,2018,2018,2018,2018,2018,2018,2018,2018,2018,2018,2018,2018,2018,2018,2018,2018,2018,2018,2018,2018,2018,2018,2018,2018,2018,2018,2018,2018,2018,2018,2018,2018,2018,2018,2018,2018,2018,2018,2018,2018,2018,2018,2018,2018,2018,2018,2018,2018,2018,2018,2018,2018,2018,2018,2018,2018,2018,2018,2018,2018,2018,2018,2018,2018,2018,2018,2018,2018,2018,2018,2018,2018,2018,2018,2018,2018,2018,2018,2018,2018,2018,2018,2018,2018,2018,2018,2018,2018,2018,2018,2018,2018,2018,2018,2018,2018,2018,2018,2018,2018,2018,2018,2018,2018,2018,2018,2018,2018,2018,2018,2018,2018,2018,2018,2018,2018,2018,2018,2018,2018,2018,2018,2018,2018,2018,2018,2018,2018,2018,2018,2018,2018,2018,2018,2018,2018,2018,2018,2018,2018,2018,2018,2018,2018,2018,2018,2018,2018,2018,2018,2018,2018,2018,2018,2018,2018,2018,2018,2018,2018,2018,2018,2018,2018,2018,2018,2018,2018,2018,2018,2018,2018,2018,2018,2018,2018,2018,2018,2018,2018,2018,2018,2018,2018,2018,2018,2018,2018,2018,2018,2018,2018,2018,2018,2018,2018,2018,2018,2018,2018,2018,2018,2018,2018,2018,2018,2018,2018,2018,2018,2018,2018,2018,2018,2018,2018,2018,2018,2018,2018,2018,2018,2018,2018,2018,2018,2018,2018,2018,2018,2018,2018,2018,2018,2018,2018,2018,2018,2018,2018,2018,2018,2018,2018,2018,2018,2018,2018,2018,2018,2018,2018,2018,2018,2018,2018,2018,2018,2018,2018,2018,2018,2018,2018,2018,2018,2018,2018,2018,2018,2018,2018,2018,2018,2018,2018,2018,2018,2018,2018,2018,2018,2018,2018,2018,2018,2018,2018,2018,2018,2018,2018,2018,2018,2018,2018,2018,2018,2018,2018,2018,2018,2018,2018,2018,2018,2018,2018,2018,2018,2018,2018,2018,2018,2018,2018,2018,2018,2018,2018,2018,2018,2018,2018,2018,2018,2018,2018,2018,2018,2018,2018,2018,2018,2018,2018,2018,2018,2018,2018,2018,2018,2018,2018,2018,2018,2018,2018,2018,2018,2018,2018,2018,2018,2018,2018,2018,2018,2018,2018,2018,2018,2018,2018,2018,2018,2018,2018,2018,2018,2018,2018,2018,2018,2018,2018,2018,2018,2018,2018,2018,2018,2018,2018,2018,2018,2018,2018,2018,2018,2018,2018,2018,2018,2018,2018,2018,2018,2018,2018,2018,2018,2018,2018,2018,2018,2018,2018,2018,2018,2018,2018,2018,2018,2018,2018,2018,2018,2018,2018,2018,2018,2018,2018,2018,2018,2018,2018,2018,2018,2018,2018,2018,2018,2018,2018,2018,2018,2018,2018,2018,2018,2018,2018,2018,2018,2018,2018,2018,2018,2018,2018,2018,2018,2018,2018,2018,2018,2018,2018,2018,2018,2018,2018,2018,2018,2018,2018,2018,2018,2018,2018,2018,2018,2018,2018,2018,2018,2018,2018,2018,2018,2018,2018,2018,2018,2018,2018,2018,2018,2018,2018,2018,2018,2018,2018,2018,2018,2018,2018,2018,2018,2018,2018,2018,2018,2018,2018,2018,2018,2018,2018,2018,2018,2018,2018,2018,2018,2018,2018,2018,2018,2018,2018,2018,2018,2018,2018,2018,2018,2018,2018,2018,2018,2018,2018,2018,2018,2018,2018,2018,2018,2018,2018,2018,2018,2018,2018,2018,2018,2018,2018,2018,2018,2018,2018,2018,2018,2018,2018,2018,2018,2018,2018,2018,2018,2018,2018,2018,2018,2018,2018,2018,2018,2018,2018,2018,2018,2018,2018,2018,2018,2018,2018,2018,2018,2018,2018,2018,2018,2018,2018,2018,2018,2018,2018,2018,2018,2018,2018,2018,2018,2018,2018,2018,2018,2018,2018,2018,2018,2018,2018,2018,2018,2018,2018,2018,2018,2018,2018,2018,2018,2018,2018,2018,2018,2018,2018,2018,2018,2018,2018,2018,2018,2018,2018,2018,2018,2018,2018,2018,2018,2018,2018,2018,2018,2018,2018,2018,2018,2018,2018,2018,2018,2018,2018,2018,2018,2018,2018,2018,2018,2018,2018,2018,2018,2018,2018,2018,2018,2018,2018,2018,2018,2018,2018,2018,2018,2018,2018,2018,2018,2018,2018,2018,2018,2018,2018,2018,2018,2018,2018,2018,2018,2018,2018,2018,2018,2018,2018,2018,2018,2018,2018,2018,2018,2018,2018,2018,2018,2018,2018,2018,2018,2018,2018,2018,2018,2018,2018,2018,2018,2018,2018,2018,2018,2018,2018,2018,2018,2018,2018,2018,2018,2018,2018,2018,2018,2018,2018,2018,2018,2018,2018,2018,2018,2018,2018,2018,2018,2018,2018,2018,2018,2018,2018,2018,2018,2018,2018,2018,2018,2018,2018,2018,2018,2018,2018,2018,2018,2018,2018,2018,2018,2018,2018,2018,2018,2018,2018,2018,2018,2018,2018,2018,2018,2018,2018,2018,2018,2018,2018,2018,2018,2018,2018,2018,2018,2018,2018,2018,2018,2018,2018,2018,2018,2018,2018,2018,2018,2018,2018,2018,2018,2018,2018,2018,2018,2018,2018,2018,2018,2018,2018,2018,2018,2018,2018,2018,2018,2018,2018,2018,2018,2018,2018,2018,2018,2018,2018,2018,2018,2018,2018,2018,2018,2018,2018,2018,2018,2018,2018,2018,2018,2018,2018,2018,2018,2018,2018,2018,2018,2018,2018,2018,2018,2018,2018,2018,2018,2018,2018,2018,2018,2018,2018,2018,2018,2018,2018,2018,2018,2018,2018,2018,2018,2018,2018,2018,2018,2018,2018,2018,2018,2018,2018,2018,2018,2018,2018,2018,2018,2018,2018,2018,2018,2018,2018,2018,2018,2018,2018,2018,2018,2018,2018,2018,2018,2018,2018,2018,2018,2018,2018,2018,2018,2018,2018,2018,2018,2018,2018,2018,2018,2018,2018,2018,2018,2018,2018,2018,2018,2018,2018,2018,2018,2018,2018,2018,2018,2018,2018,2018,2018,2018,2018,2018,2018,2018,2018,2018,2018,2018,2018,2018,2018,2018,2018,2018,2018,2018,2018,2018,2018,2018,2018,2018,2018,2018,2018,2018,2018,2018,2018,2018,2018,2018,2018,2018,2018,2018,2018,2018,2018,2018,2018,2018,2018,2018,2018,2018,2018,2018,2018,2018,2018,2018,2018,2018,2018,2018,2018,2018,2018,2018,2018,2018,2018,2018,2018,2018,2018,2018,2018,2018,2018,2018,2018,2018,2018,2018,2018,2018,2018,2018,2018,2018,2018,2018,2018,2018,2018,2018,2018,2018,2018,2018,2018,2018,2018,2018,2018,2018,2018,2018,2018,2018,2018,2018,2018,2018,2018,2018,2018,2018,2018,2018,2018,2018,2018,2018,2018,2018,2018,2018,2018,2018,2018,2018,2018,2018,2018,2018,2018,2018,2018,2018,2018,2018,2018,2018,2018,2018,2018,2018,2018,2018,2018,2018,2018,2018,2018,2018,2018,2018,2018,2018,2018,2018,2018,2018,2018,2018,2018,2018,2018,2018,2018,2018,2018,2018,2018,2018,2018,2018,2018,2018,2018,2018,2018,2018,2018,2018,2018,2018,2018,2018,2018,2018,2018,2018,2018,2018,2018,2018,2018,2018,2018,2018,2018,2018,2018,2018,2018,2018,2018,2018,2018,2018,2018,2018,2018,2018,2018,2018,2018,2018,2018,2018,2018,2018,2018,2018,2018,2018,2018,2018,2018,2018,2018,2018,2018,2018,2018,2018,2018,2018,2018,2018,2018,2018,2018,2018,2018,2018,2018,2018,2018,2018,2018,2018,2018,2018,2018,2018,2018,2018,2018,2018,2018,2018,2018,2018,2018,2018,2018,2018,2018,2018,2018,2018,2018,2018,2018,2018,2018,2018,2018,2018,2018,2018,2018,2018,2018,2018,2018,2018,2018,2018,2018,2018,2018,2018,2018,2018,2018,2018,2018,2018,2018,2018,2018,2018,2018,2018,2018,2018,2018,2018,2018,2018,2018,2018,2018,2018,2018,2018,2018,2018,2018,2018,2018,2018,2018,2018,2018,2018,2018,2018,2018,2018,2018,2018,2018,2018,2018,2018,2018,2018,2018,2018,2018,2018,2018,2018,2018,2018,2018,2018,2018,2018,2018,2018,2018,2018,2018,2018,2018,2018,2018,2018,2018,2018,2018,2018,2018,2018,2018,2018,2018,2018,2018,2018,2018,2018,2018,2018,2018,2018,2018,2018,2018,2018,2018,2018,2018,2018,2018,2018,2018,2018,2018,2018,2018,2018,2018,2018,2018,2018,2018,2018,2018,2018,2018,2018,2018,2018,2018,2018,2018,2018,2018,2018,2018,2018,2018,2018,2018,2018,2018,2018,2018,2018,2018,2018,2018,2018,2018,2018,2018,2018,2018,2018,2018,2018,2018,2018,2018,2018,2018,2018,2018,2018,2018,2018,2018,2018,2018,2018,2018,2018,2018,2018,2018,2018,2018,2018,2018,2018,2018,2018,2018,2018,2018,2018,2018,2018,2018,2018,2018,2018,2018,2018,2018,2018,2018,2018,2018,2018,2018,2018,2018,2018,2018,2018,2018,2018,2018,2018,2018,2018,2018,2018,2018,2018,2018,2018,2018,2018,2018,2018,2018,2018,2018,2018,2018,2018,2018,2018,2018,2018,2018,2018,2018,2018,2018,2018,2018,2018,2018,2018,2018,2018,2018,2018,2018,2018,2018,2018,2018,2018,2018,2018,2018,2018,2018,2018,2018,2018,2018,2018,2018,2018,2018,2018,2018,2018,2018,2018,2018,2018,2018,2018,2018,2018,2018,2018,2018,2018,2018,2018,2018,2018,2018,2018,2018,2018,2018,2018,2018,2018,2018,2018,2018,2018,2018,2018,2018,2018,2018,2018,2018,2018,2018,2018,2018,2018,2018,2018,2018,2018,2018,2018,2018,2018,2018,2018,2018,2018,2018,2018,2018,2018,2018,2018,2018,2018,2018,2018,2018,2018,2018,2018,2018,2018,2018,2018,2018,2018,2018,2018,2018,2018,2018,2018,2018,2018,2018,2018,2018,2018,2018,2018,2018,2018,2018,2018,2018,2018,2018,2018,2018,2018,2018,2018,2018,2018,2018,2018,2018,2018,2018,2018,2018,2018,2018,2018,2018,2018,2018,2018,2018,2018,2018,2018,2018,2018,2018,2018,2018,2018,2018,2018,2018,2018,2018,2018,2018,2018,2018,2018,2018,2018,2018,2018,2018,2018,2018,2018,2018,2018,2018,2018,2018,2018,2018,2018,2018,2018,2018,2018,2018,2018,2018,2018,2018,2018,2018,2018,2018,2018,2018,2018,2018,2018,2018,2018,2018,2018,2018,2018,2018,2018,2018,2018,2018,2018,2018,2018,2018,2018,2018,2018,2018,2018,2018,2018,2018,2018,2018,2018,2018,2018,2018,2018,2018,2018,2018,2018,2018,2018,2018,2018,2018,2018,2018,2018,2018,2018,2018,2018,2018,2018,2018,2018,2018,2018,2018,2018,2018,2018,2018,2018,2018,2018,2018,2018,2018,2018,2018,2018,2018,2018,2018,2018,2018,2018,2018,2018,2018,2018,2018,2018,2018,2018,2018,2018,2018,2018,2018,2018,2018,2018,2018,2018,2018,2018,2018,2018,2018,2018,2018,2018,2018,2018,2018,2018,2018,2018,2018,2018,2018,2018,2018,2018,2018,2018,2018,2018,2018,2018,2018,2018,2018,2018,2018,2018,2018,2018,2018,2018,2018,2018,2018,2018,2018,2018,2018,2018,2018,2018,2018,2018,2018,2018,2018,2018,2018,2018,2018,2018,2018,2018,2018,2018,2018,2018,2018,2018,2018,2018,2018,2018,2018,2018,2018,2018,2018,2018,2018,2018,2018,2018,2018,2018,2018,2018,2018,2018,2018,2018,2018,2018,2018,2018,2018,2018,2018,2018,2018,2018,2018,2018,2018,2018,2018,2018,2018,2018,2018,2018,2018,2018,2018,2018,2018,2018,2018,2018,2018,2018,2018,2018,2018,2018,2018,2018,2018,2018,2018,2018,2018,2018,2018,2018,2018,2018,2018,2018,2018,2018,2018,2018,2018,2018,2018,2018,2018,2018,2018,2018,2018,2018,2018,2018,2018,2018,2018,2018,2018,2018,2018,2018,2018,2018,2018,2018,2018,2018,2018,2018,2018,2018,2018,2018,2018,2018,2018,2018,2018,2018,2018,2018,2018,2018,2018,2018,2018,2018,2018,2018,2018,2018,2018,2018,2018,2018,2018,2018,2018,2018,2018,2018,2018,2018,2018,2018,2018,2018,2018,2018,2018,2018,2018,2018,2018,2018,2018,2018,2018,2018,2018,2018,2018,2018,2018,2018,2018,2018,2018,2018,2018,2018,2018,2018,2018,2018,2018,2018,2018,2018,2018,2018,2018,2018,2018,2018,2018,2018,2018,2018,2018,2018,2018,2018,2018,2018,2018,2018,2018,2018,2018,2018,2018,2018,2018,2018,2018,2018,2018,2018,2018,2018,2018,2018,2018,2018,2018,2018,2018,2018,2018,2018,2018,2018,2018,2018,2018,2018,2018,2018,2018,2018,2018,2018,2018,2018,2018,2018,2018,2018,2018,2018,2018,2018,2018,2018,2018,2018,2018,2018,2018,2018,2018,2018,2018,2018,2018,2018,2018,2018,2018,2018,2018,2018,2018,2018,2018,2018,2018,2018,2018,2018,2018,2018,2018,2018,2018,2018,2018,2018,2018,2018,2018,2018,2018,2018,2018,2018,2018,2018,2018,2018,2018,2018,2018,2018,2018,2018,2018,2018,2018,2018,2018,2018,2018,2018,2018,2018,2018,2018,2018,2018,2018,2018,2018,2018,2018,2018,2018,2018,2018,2018,2018,2018,2018,2018,2018,2018,2018,2018,2018,2018,2018,2018,2018,2018,2018,2018,2018,2018,2018,2018,2018,2018,2018,2018,2018,2018,2018,2018,2018,2018,2018,2018,2018,2018,2018,2018,2018,2018,2018,2018,2018,2018,2018,2018,2018,2018,2018,2018,2018,2018,2018,2018,2018,2018,2018,2018,2018,2018,2018,2018,2018,2018,2018,2018,2018,2018,2018,2018,2018,2018,2018,2018,2018,2018,2018,2018,2018,2018,2018,2018,2018,2018,2018,2018,2018,2018,2018,2018,2018,2018,2018,2018,2018,2018,2018,2018,2018,2018,2018,2018,2018,2018,2018,2018,2018,2018,2018,2018,2018,2018,2018,2018,2018,2018,2018,2018,2018,2018,2018,2018,2018,2018,2018,2018,2018,2018,2018,2018,2018,2018,2018,2018,2018,2018,2018,2018,2018,2018,2018,2018,2018,2018,2018,2018,2018,2018,2018,2018,2018,2018,2018,2018,2018,2018,2018,2018,2018,2018,2018,2018,2018,2018,2018,2018,2018,2018,2018,2018,2018,2018,2018,2018,2018,2018,2018,2018,2018,2018,2018,2018,2018,2018,2018,2018,2018,2018,2018,2018,2018,2018,2018,2018,2018,2018,2018,2018,2018,2018,2018,2018,2018,2018,2018,2018,2018,2018,2018,2018,2018,2018,2018,2018,2018,2018,2018,2018,2018,2018,2018,2018,2018,2018,2018,2018,2018,2018,2018,2018,2018,2018,2018,2018,2018,2018,2018,2018,2018,2018,2018,2018,2018,2018,2018,2018,2018,2018,2018,2018,2018,2018,2018,2018,2018,2018,2018,2018,2018,2018,2018,2018,2018,2018,2018,2018,2018,2018,2018,2018,2018,2018,2018,2018,2018,2018,2018,2018,2018,2018,2018,2018,2018,2018,2018,2018,2018,2018,2018,2018,2018,2018,2018,2018,2018,2018,2018,2018,2018,2018,2018,2018,2018,2018,2018,2018,2018,2018,2018,2018,2018,2018,2018,2018,2018,2018,2018,2018,2018,2018,2018,2018,2018,2018,2018,2018,2018,2018,2018,2018,2018,2018,2018,2018,2018,2018,2018,2018,2018,2018,2018,2018,2018,2018,2018,2018,2018,2018,2018,2018,2018,2018,2018,2018,2018,2018,2018,2018,2018,2018,2018,2018,2018,2018,2018,2018,2018,2018,2018,2018,2018,2018,2018,2018,2018,2018,2018,2018,2018,2018,2018,2018,2018,2018,2018,2018,2018,2018,2018,2018,2018,2018,2018,2018,2018,2018,2018,2018,2018,2018,2018,2018,2018,2018,2018,2018,2018,2018,2018,2018,2018,2018,2018,2018,2018,2018,2018,2018,2018,2018,2018,2018,2018,2018,2018,2018,2018,2018,2018,2018,2018,2018,2018,2018,2018,2018,2018,2018,2018,2018,2018,2018,2018,2018,2018,2018,2018,2018,2018,2018,2018,2018,2018,2018,2018,2018,2018,2018,2018,2018,2018,2018,2018,2018,2018,2018,2018,2018,2018,2018,2018,2018,2018,2018,2018,2018,2018,2018,2018,2018,2018,2018,2018,2018,2018,2018,2018,2018,2018,2018,2018,2018,2018,2018,2018,2018,2018,2018,2018,2018,2018,2018,2018,2018,2018,2018,2018,2018,2018,2018,2018,2018,2018,2018,2018,2018,2018,2018,2018,2018,2018,2018,2018,2018,2018,2018,2018,2018,2018,2018,2018,2018,2018,2018,2018,2018,2018,2018,2018,2018,2018,2018,2018,2018,2018,2018,2018,2018,2018,2018,2018,2018,2018,2018,2018,2018,2018,2018,2018,2018,2018,2018,2018,2018,2018,2018,2018,2018,2018,2018,2018,2018,2018,2018,2018,2018,2018,2018,2018,2018,2018,2018,2018,2018,2018,2018,2018,2018,2018,2018,2018,2018,2018,2018,2018,2018,2018,2018,2018,2018,2018,2018,2018,2018,2018,2018,2018,2016,2016,2016,2016,2016,2016,2016,2016,2016,2016,2016,2016,2016,2016,2016,2016,2016,2016,2016,2016,2016,2016,2016,2016,2016,2016,2016,2016,2016,2016,2016,2016,2016,2016,2016,2016,2016,2016,2016,2016,2016,2016,2016,2016,2016,2016,2016,2016,2016,2016,2016,2016,2016,2016,2016,2016,2016,2016,2016,2016,2016,2016,2016,2016,2016,2016,2016,2016,2016,2016,2016,2016,2016,2016,2016,2016,2016,2016,2016,2016,2016,2016,2016,2016,2016,2016,2016,2016,2016,2016,2016,2016,2016,2016,2016,2016,2016,2016,2016,2016,2016,2016,2016,2016,2016,2016,2016,2016,2016,2016,2016,2016,2016,2016,2016,2016,2016,2016,2016,2016,2016,2016,2016,2016,2016,2016,2016,2016,2016,2016,2016,2016,2016,2016,2016,2016,2016,2016,2016,2016,2016,2016,2016,2016,2016,2016,2016,2016,2016,2016,2016,2016,2016,2016,2016,2016,2016,2016,2016,2016,2016,2016,2016,2016,2016,2016,2016,2016,2016,2016,2016,2016,2016,2016,2016,2016,2016,2016,2016,2016,2016,2016,2016,2016,2016,2016,2016,2016,2016,2016,2016,2016,2016,2016,2016,2016,2016,2016,2016,2016,2016,2016,2016,2016,2016,2016,2016,2016,2016,2016,2016,2016,2016,2016,2016,2016,2016,2016,2016,2016,2016,2016,2016,2016,2016,2016,2016,2016,2016,2016,2016,2016,2016,2016,2016,2016,2016,2016,2016,2016,2016,2016,2016,2016,2016,2016,2016,2016,2016,2016,2016,2016,2016,2016,2016,2016,2016,2016,2016,2016,2016,2016,2016,2016,2016,2016,2016,2016,2016,2016,2016,2016,2016,2016,2016,2016,2016,2016,2016,2016,2016,2016,2016,2016,2016,2016,2016,2016,2016,2016,2016,2016,2016,2016,2016,2016,2016,2016,2016,2016,2016,2016,2016,2016,2016,2016,2016,2016,2016,2016,2016,2016,2016,2016,2016,2016,2016,2016,2016,2016,2016,2016,2016,2016,2016,2016,2016,2016,2016,2016,2016,2016,2016,2016,2016,2016,2016,2016,2016,2016,2016,2016,2016,2016,2016,2016,2016,2016,2016,2016,2016,2016,2016,2016,2016,2016,2016,2016,2016,2016,2016,2016,2016,2016,2016,2016,2016,2016,2016,2016,2016,2016,2016,2016,2016,2016,2016,2016,2016,2016,2016,2016,2016,2016,2016,2016,2016,2016,2016,2016,2016,2016,2016,2016,2016,2016,2016,2016,2016,2016,2016,2016,2016,2016,2016,2016,2016,2016,2016,2016,2016,2016,2016,2016,2016,2016,2016,2016,2016,2016,2016,2016,2016,2016,2016,2016,2016,2016,2016,2016,2016,2016,2016,2016,2016,2016,2016,2016,2016,2016,2016,2016,2016,2016,2016,2016,2016,2016,2016,2016,2016,2016,2016,2016,2016,2016,2016,2016,2016,2016,2016,2016,2016,2016,2016,2016,2016,2016,2016,2016,2016,2016,2016,2016,2016,2016,2016,2016,2016,2016,2016,2016,2016,2016,2016,2016,2016,2016,2016,2016,2016,2016,2016,2016,2016,2016,2016,2016,2016,2016,2016,2016,2016,2016,2016,2016,2016,2016,2016,2016,2016,2016,2016,2016,2016,2016,2016,2016,2016,2016,2016,2016,2016,2016,2016,2016,2016,2016,2016,2016,2016,2016,2016,2016,2016,2016,2016,2016,2016,2016,2016,2016,2016,2016,2016,2016,2016,2016,2016,2016,2016,2016,2016,2016,2016,2016,2016,2016,2016,2016,2016,2016,2016,2016,2016,2016,2016,2016,2016,2016,2016,2016,2016,2016,2016,2016,2016,2016,2016,2016,2016,2016,2016,2016,2016,2016,2016,2016,2016,2016,2016,2016,2016,2016,2016,2016,2016,2016,2016,2016,2016,2016,2016,2016,2016,2016,2016,2016,2016,2016,2016,2016,2016,2016,2016,2016,2016,2016,2016,2016,2016,2016,2016,2016,2016,2016,2016,2016,2016,2016,2016,2016,2016,2016,2016,2016,2016,2016,2016,2016,2016,2016,2016,2016,2016,2016,2016,2016,2016,2016,2016,2016,2016,2016,2016,2016,2016,2016,2016,2016,2016,2016,2016,2016,2016,2016,2016,2016,2016,2016,2016,2016,2016,2016,2016,2016,2016,2016,2016,2016,2016,2016,2016,2016,2016,2016,2016,2016,2016,2016,2016,2016,2016,2016,2016,2016,2016,2016,2016,2016,2016,2016,2016,2016,2016,2016,2016,2016,2016,2016,2016,2016,2016,2016,2016,2016,2016,2016,2016,2016,2016,2016,2016,2016,2016,2016,2016,2016,2016,2016,2016,2016,2016,2016,2016,2016,2016,2016,2016,2016,2016,2016,2016,2016,2016,2016,2016,2016,2016,2016,2016,2016,2016,2016,2016,2016,2016,2016,2016,2016,2016,2016,2016,2016,2016,2016,2016,2016,2016,2016,2016,2016,2016,2016,2016,2016,2016,2016,2016,2016,2016,2016,2016,2016,2016,2016,2016,2016,2016,2016,2016,2016,2016,2016,2016,2016,2016,2016,2016,2016,2016,2016,2016,2016,2016,2016,2016,2016,2016,2016,2016,2016,2016,2016,2016,2016,2016,2016,2016,2016,2016,2016,2016,2016,2016,2016,2016,2016,2016,2016,2016,2016,2016,2016,2016,2016,2016,2016,2016,2016,2016,2016,2016,2016,2016,2016,2016,2016,2016,2016,2016,2016,2016,2016,2016,2016,2016,2016,2016,2016,2016,2016,2016,2016,2016,2016,2016,2016,2016,2016,2016,2016,2016,2016,2016,2016,2016,2016,2016,2016,2016,2016,2016,2016,2016,2016,2016,2016,2016,2016,2016,2016,2016,2016,2016,2016,2016,2016,2016,2016,2016,2016,2016,2016,2016,2016,2016,2016,2016,2016,2016,2016,2016,2016,2016,2016,2016,2016,2016,2016,2016,2016,2016,2016,2016,2016,2016,2016,2016,2016,2016,2016,2016,2016,2016,2016,2016,2016,2016,2016,2016,2016,2016,2016,2016,2016,2039,2016,2016,2016,2016,2016,2016,2016,2016,2016,2016,2016,2016,2016,2016,2016,2016,2016,2016,2016,2016,2016,2016,2016,2016,2016,2016,2016,2016,2016,2016,2016,2016,2016,2016,2016,2016,2016,2016,2016,2016,2016,2016,2016,2016,2016,2016,2016,2016,2016,2016,2016,2016,2016,2016,2016,2016,2016,2016,2016,2016,2016,2016,2016,2016,2016,2016,2016,2016,2016,2016,2016,2016,2016,2016,2016,2016,2016,2016,2016,2016,2016,2016,2016,2016,2016,2016,2016,2016,2016,2016,2016,2016,2016,2016,2016,2016,2016,2016,2016,2016,2016,2016,2016,2016,2016,2016,2016,2016,2016,2016,2016,2016,2016,2016,2016,2016,2016,2016,2016,2016,2016,2016,2016,2016,2016,2016,2016,2016,2016,2016,2016,2016,2016,2016,2016,2016,2016,2016,2016,2016,2016,2016,2016,2016,2016,2016,2016,2016,2016,2016,2016,2016,2016,2016,2016,2016,2016,2016,2016,2016,2016,2016,2016,2016,2016,2016,2016,2016,2016,2016,2016,2016,2016,2016,2016,2016,2016,2016,2016,2016,2016,2016,2016,2016,2016,2016,2016,2016,2016,2016,2016,2016,2016,2016,2016,2016,2016,2016,2016,2016,2016,2016,2016,2016,2016,2016,2016,2016,2016,2016,2016,2016,2016,2016,2016,2016,2016,2016,2016,2016,2016,2016,2016,2016,2016,2016,2016,2016,2016,2016,2016,2016,2016,2016,2016,2016,2016,2016,2016,2016,2016,2016,2016,2016,2016,2016,2016,2016,2016,2016,2016,2016,2016,2016,2016,2016,2016,2016,2016,2016,2016,2016,2016,2016,2016,2016,2016,2016,2016,2016,2016,2016,2016,2016,2016,2016,2016,2016,2016,2016,2016,2016,2016,2016,2016,2016,2016,2016,2016,2016,2016,2016,2016,2016,2016,2016,2016,2016,2016,2016,2016,2016,2016,2016,2016,2016,2016,2016,2016,2016,2016,2016,2016,2016,2016,2016,2016,2016,2016,2016,2016,2016,2016,2016,2016,2016,2016,2016,2016,2016,2016,2016,2016,2016,2016,2016,2016,2016,2016,2016,2016,2016,2016,2016,2016,2016,2016,2016,2016,2016,2016,2016,2016,2016,2016,2016,2016,2016,2016,2016,2016,2016,2016,2016,2016,2016,2016,2016,2016,2016,2016,2016,2016,2016,2016,2016,2016,2016,2016,2016,2016,2016,2016,2016,2016,2016,2016,2016,2016,2016,2016,2016,2016,2016,2016,2016,2016,2016,2016,2016,2016,2016,2016,2016,2016,2016,2016,2016,2016,2016,2016,2016,2016,2016,2016,2016,2016,2016,2016,2016,2016,2016,2016,2016,2016,2016,2016,2016,2016,2016,2016,2016,2016,2016,2016,2016,2016,2016,2016,2016,2016,2016,2016,2016,2016,2016,2016,2016,2016,2016,2016,2016,2016,2016,2016,2016,2016,2016,2016,2016,2016,2016,2016,2016,2016,2016,2016,2016,2016,2016,2016,2016,2016,2016,2016,2016,2016,2016,2016,2016,2016,2016,2016,2016,2016,2016,2016,2016,2016,2016,2016,2016,2016,2016,2016,2016,2016,2016,2016,2016,2016,2016,2016,2016,2016,2016,2016,2016,2016,2016,2016,2016,2016,2016,2016,2016,2016,2016,2016,2016,2016,2016,2016,2016,2016,2016,2016,2016,2016,2016,2016,2016,2016,2016,2016,2016,2016,2016,2016,2016,2016,2016,2016,2016,2016,2016,2016,2016,2016,2016,2016,2016,2016,2016,2016,2016,2016,2016,2016,2016,2016,2016,2016,2016,2016,2016,2016,2016,2016,2016,2016,2016,2016,2016,2016,2016,2016,2016,2016,2016,2016,2016,2016,2016,2016,2016,2016,2016,2016,2016,2016,2016,2016,2016,2016,2016,2016,2016,2016,2016,2016,2016,2016,2016,2016,2016,2016,2016,2016,2016,2016,2016,2016,2016,2016,2016,2016,2016,2016,2016,2016,2016,2016,2016,2016,2016,2016,2016,2016,2016,2016,2016,2016,2016,2016,2016,2016,2016,2016,2016,2016,2016,2016,2016,2016,2016,2016,2016,2016,2016,2016,2016,2016,2016,2016,2016,2016,2016,2016,2016,2016,2016,2016,2016,2016,2016,2016,2016,2016,2016,2016,2016,2016,2016,2016,2016,2016,2016,2016,2016,2016,2016,2016,2016,2016,2016,2016,2016,2016,2016,2016,2016,2016,2016,2016,2016,2016,2016,2016,2016,2016,2016,2016,2016,2016,2016,2016,2016,2016,2016,2016,2016,2016,2016,2016,2016,2016,2016,2016,2016,2016,2016,2016,2016,2016,2016,2016,2016,2016,2016,2016,2016,2016,2016,2016,2016,2016,2016,2016,2016,2016,2016,2016,2016,2016,2016,2016,2016,2016,2016,2016,2016,2016,2016,2016,2016,2016,2016,2016,2016,2016,2016,2016,2016,2016,2016,2016,2016,2016,2016,2016,2016,2016,2016,2016,2016,2016,2016,2016,2016,2016,2016,2016,2016,2016,2016,2016,2016,2016,2016,2016,2016,2016,2016,2016,2016,2016,2016,2016,2016,2016,2016,2016,2016,2016,2016,2016,2016,2016,2016,2016,2016,2016,2016,2016,2016,2016,2016,2016,2016,2016,2016,2016,2016,2016,2016,2016,2016,2016,2016,2016,2016,2016,2016,2016,2016,2016,2016,2016,2016,2016,2016,2016,2016,2016,2016,2016,2016,2016,2016,2016,2016,2016,2016,2016,2016,2016,2016,2016,2016,2016,2016,2016,2016,2016,2016,2016,2016,2016,2016,2016,2016,2016,2016,2016,2016,2016,2016,2016,2016,2016,2016,2016,2016,2016,2016,2016,2016,2016,2016,2016,2016,2016,2016,2016,2016,2016,2016,2016,2016,2016,2016,2016,2016,2016,2016,2016,2016,2016,2016,2016,2016,2016,2016,2016,2016,2016,2016,2016,2016,2016,2016,2016,2016,2016,2016,2016,2016,2016,2016,2016,2016,2016,2016,2016,2016,2016,2016,2016,2016,2016,2016,2016,2016,2016,2016,2016,2016,2016,2016,2016,2016,2016,2016,2016,2016,2016,2016,2016,2016,2016,2016,2016,2016,2016,2016,2016,2016,2016,2016,2016,2016,2016,2016,2016,2016,2016,2016,2016,2016,2016,2016,2016,2016,2016,2016,2016,2016,2016,2016,2016,2016,2016,2016,2016,2016,2016,2016,2016,2016,2016,2016,2016,2016,2016,2016,2016,2016,2016,2016,2016,2016,2016,2016,2016,2016,2016,2016,2016,2016,2016,2016,2016,2016,2016,2016,2016,2016,2016,2016,2016,2016,2016,2016,2016,2016,2016,2016,2016,2016,2016,2016,2016,2016,2016,2016,2016,2016,2016,2016,2016,2016,2016,2016,2016,2016,2016,2016,2016,2016,2016,2016,2016,2016,2016,2016,2016,2016,2016,2016,2016,2016,2016,2016,2016,2016,2016,2016,2016,2016,2016,2016,2016,2016,2016,2016,2016,2016,2016,2016,2016,2016,2016,2016,2016,2016,2016,2016,2016,2016,2016,2016,2016,2016,2016,2016,2016,2016,2016,2016,2016,2016,2016,2016,2016,2016,2016,2016,2016,2016,2016,2016,2016,2016,2016,2016,2016,2016,2016,2016,2016,2016,2016,2016,2016,2016,2016,2016,2016,2016,2016,2016,2016,2016,2016,2016,2016,2016,2016,2016,2016,2016,2016,2016,2016,2016,2016,2016,2016,2016,2016,2016,2016,2016,2016,2016,2016,2016,2016,2016,2016,2016,2016,2016,2016,2016,2016,2016,2016,2016,2016,2016,2016,2016,2016,2016,2016,2016,2016,2016,2016,2016,2016,2016,2016,2016,2016,2016,2016,2016,2016,2016,2016,2016,2016,2016,2016,2016,2016,2016,2016,2016,2016,2016,2016,2016,2016,2016,2016,2016,2016,2016,2016,2016,2016,2016,2016,2016,2016,2016,2016,2016,2016,2016,2016,2016,2016,2016,2016,2016,2016,2016,2016,2016,2016,2016,2016,2016,2016,2016,2016,2016,2016,2016,2016,2016,2016,2016,2016,2016,2016,2016,2016,2016,2016,2016,2016,2016,2016,2016,2016,2016,2016,2016,2016,2016,2016,2016,2016,2016,2016,2016,2016,2016,2016,2016,2016,2016,2016,2016,2016,2016,2016,2016,2016,2016,2016,2016,2016,2016,2016,2016,2016,2016,2016,2016,2016,2016,2016,2016,2016,2016,2016,2016,2016,2016,2016,2016,2016,2016,2016,2016,2016,2016,2016,2016,2016,2016,2016,2016,2016,2016,2016,2016,2016,2016,2016,2016,2016,2016,2016,2016,2016,2016,2016,2016,2016,2016,2016,2016,2016,2016,2016,2016,2016,2016,2016,2016,2016,2016,2016,2016,2016,2016,2016,2016,2016,2016,2016,2016,2016,2016,2016,2016,2016,2016,2016,2016,2016,2016,2016,2016,2016,2016,2016,2016,2016,2016,2016,2016,2016,2016,2016,2016,2016,2016,2016,2016,2016,2016,2016,2016,2016,2016,2016,2016,2016,2016,2016,2016,2016,2016,2016,2016,2016,2016,2016,2016,2016,2016,2016,2016,2016,2016,2016,2016,2016,2016,2016,2016,2016,2016,2016,2016,2016,2016,2016,2016,2016,2016,2016,2016,2016,2016,2016,2016,2016,2016,2016,2016,2016,2016,2016,2016,2016,2016,2016,2016,2016,2016,2016,2016,2016,2016,2016,2016,2016,2016,2016,2016,2016,2016,2016,2016,2016,2016,2016,2016,2016,2016,2016,2016,2016,2016,2016,2016,2016,2016,2016,2016,2016,2016,2016,2016,2016,2016,2016,2016,2016,2016,2016,2016,2016,2016,2016,2016,2016,2016,2016,2016,2016,2016,2016,2016,2016,2016,2016,2016,2016,2016,2016,2016,2016,2016,2016,2016,2016,2016,2016,2016,2016,2016,2016,2016,2016,2016,2016,2016,2016,2016,2016,2016,2016,2016,2016,2016,2016,2016,2016,2016,2016,2016,2016,2016,2016,2016,2016,2016,2016,2016,2016,2016,2016,2016,2016,2016,2016,2016,2016,2016,2016,2016,2016,2016,2016,2016,2016,2016,2016,2016,2016,2016,2016,2016,2016,2016,2016,2016,2016,2016,2016,2016,2016,2016,2016,2016,2016,2016,2016,2016,2016,2016,2016,2016,2016,2016,2016,2016,2016,2016,2016,2016,2016,2016,2016,2016,2016,2016,2016,2016,2016,2016,2016,2016,2016,2016,2016,2016,2016,2016,2016,2016,2016,2016,2016,2016,2016,2016,2016,2016,2016,2016,2016,2016,2016,2016,2016,2016,2016,2016,2016,2016,2016,2016,2016,2016,2016,2016,2016,2016,2016,2016,2016,2016,2016,2016,2016,2016,2016,2016,2016,2016,2016,2016,2016,2016,2016,2016,2016,2016,2016,2016,2016,2016,2016,2016,2016,2016,2016,2016,2016,2016,2016,2016,2016,2016,2016,2016,2016,2016,2016,2016,2016,2016,2016,2016,2016,2016,2016,2016,2016,2016,2016,2016,2016,2016,2016,2016,2016,2016,2016,2016,2016,2016,2016,2016,2016,2016,2016,2016,2016,2016,2016,2016,2016,2016,2016,2016,2016,2016,2016,2016,2016,2016,2016,2016,2016,2016,2016,2016,2016,2016,2016,2016,2016,2016,2016,2016,2016,2016,2016,2016,2016,2016,2016,2016,2016,2016,2016,2016,2016,2016,2016,2016,2016,2016,2016,2016,2016,2016,2016,2016,2016,2016,2016,2016,2016,2016,2016,2016,2016,2016,2016,2016,2016,2016,2016,2016,2016,2016,2016,2016,2016,2016,2016,2016,2016,2016,2016,2016,2016,2016,2016,2016,2016,2016,2016,2016,2016,2016,2016,2016,2016,2016,2016,2016,2016,2016,2016,2016,2016,2016,2016,2016,2016,2016,2016,2016,2016,2016,2016,2016,2016,2016,2016,2016,2016,2016,2016,2016,2016,2016,2016,2016,2016,2016,2016,2016,2016,2016,2016,2016,2016,2016,2016,2016,2016,2016,2016,2016,2016,2016,2016,2016,2016,2016,2016,2016,2016,2016,2016,2016,2016,2016,2016,2016,2016,2016,2016,2016,2016,2016,2016,2016,2016,2016,2016,2016,2016,2016,2016,2016,2016,2016,2016,2016,2016,2016,2016,2016,2016,2016,2016,2016,2016,2016,2016,2016,2016,2016,2016,2016,2016,2016,2016,2016,2016,2016,2016,2016,2016,2016,2016,2016,2016,2016,2016,2016,2016,2016,2016,2016,2016,2016,2016,2016,2016,2016,2016,2016,2016,2016,2016,2016,2016,2016,2016,2016,2016,2016,2016,2016,2016,2016,2016,2016,2016,2016,2016,2016,2016,2016,2016,2016,2016,2016,2016,2016,2016,2016,2016,2016,2016,2016,2016,2016,2016,2016,2016,2016,2016,2016,2016,2016,2016,2016,2016,2016,2016,2016,2016,2016,2016,2016,2016,2016,2016,2016,2016,2016,2016,2016,2016,2016,2016,2016,2016,2016,2016,2016,2016,2016,2016,2016,2016,2016,2016,2016,2016,2016,2016,2016,2016,2016,2016,2016,2016,2016,2016,2016,2016,2016,2016,2016,2016,2016,2016,2016,2016,2016,2016,2016,2016,2016,2016,2016,2016,2016,2016,2016,2016,2016,2016,2016,2016,2016,2016,2016,2016,2016,2016,2016,2016,2016,2016,2016,2016,2016,2016,2016,2016,2016,2016,2016,2016,2016,2016,2016,2016,2016,2016,2016,2016,2016,2016,2016,2016,2016,2016,2016,2016,2016,2016,2016,2016,2016,2016,2016,2016,2016,2016,2016,2016,2016,2016,2016,2016,2016,2016,2016,2016,2016,2016,2016,2016,2016,2016,2016,2016,2016,2016,2016,2016,2016,2016,2016,2016,2016,2016,2016,2016,2016,2016,2016,2016,2016,2016,2016,2016,2016,2016,2016,2016,2016,2016,2016,2016,2016,2016,2016,2016,2016,2016,2016,2016,2016,2016,2016,2016,2016,2016,2016,2016,2016,2016,2016,2016,2016,2016,2016,2016,2016,2016,2016,2016,2016,2016,2016,2016,2016,2016,2016,2016,2016,2016,2016,2016,2016,2016,2016,2016,2016,2016,2016,2016,2016,2016,2016,2016,2016,2016,2016,2016,2016,2016,2016,2016,2016,2016,2016,2016,2016,2016,2016,2016,2016,2016,2016,2016,2016,2016,2016,2016,2016,2016,2016,2016,2016,2016,2016,2016,2016,2016,2016,2016,2016,2016,2016,2016,2016,2016,2016,2016,2016,2016,2016,2016,2016,2016,2016,2016,2016,2016,2016,2016,2016,2016,2016,2016,2016,2016,2016,2016,2016,2016,2016,2016,2016,2016,2016,2016,2016,2016,2016,2016,2016,2016,2016,2016,2016,2016,2016,2016,2016,2016,2016,2016,2016,2016,2016,2016,2016,2016,2016,2016,2016,2016,2016,2016,2016,2016,2016,2016,2016,2016,2016,2016,2016,2016,2016,2016,2016,2016,2016,2016,2016,2016,2016,2016,2016,2016,2016,2016,2016,2016,2016,2016,2016,2016,2016,2016,2016,2016,2016,2016,2016,2016,2016,2016,2016,2016,2016,2016,2016,2016,2016,2016,2016,2016,2016,2016,2016,2016,2016,2016,2016,2016,2016,2016,2016,2016,2016,2016,2016,2016,2016,2016,2016,2016,2016,2016,2016,2016,2016,2016,2016,2016,2016,2016,2016,2016,2016,2016,2016,2016,2016,2016,2016,2016,2016,2016,2016,2016,2016,2016,2016,2016,2016,2016,2016,2016,2016,2016,2016,2016,2016,2016,2016,2016,2016,2016,2016,2016,2016,2016,2016,2016,2016,2016,2016,2016,2016,2016,2016,2016,2016,2016,2016,2016,2016,2016,2016,2016,2016,2016,2016,2016,2016,2016,2016,2016,2016,2016,2016,2016,2016,2016,2016,2016,2016,2016,2016,2016,2016,2016,2016,2016,2016,2016,2016,2016,2016,2016,2016,2016,2016,2016,2016,2016,2016,2016,2016,2016,2016,2016,2016,2016,2016,2016,2016,2016,2016,2016,2016,2016,2016,2016,2016,2016,2016,2016,2016,2016,2016,2016,2016,2016,2016,2016,2016,2016,2016,2016,2016,2016,2016,2016,2016,2016,2016,2016,2016,2016,2016,2016,2016,2016,2016,2016,2016,2016,2016,2016,2016,2016,2016,2016,2016,2016,2016,2016,2016,2016,2016,2016,2016,2016,2016,2016,2016,2016,2016,2016,2016,2016,2016,2016,2016,2016,2016,2016,2016,2016,2016,2016,2016,2016,2016,2016,2016,2016,2016,2016,2016,2016,2016,2016,2016,2016,2016,2016,2016,2016,2016,2016,2016,2016,2016,2016,2016,2016,2016,2016,2016,2016,2016,2016,2016,2016,2016,2016,2016,2016,2016,2016,2016,2016,2016,2016,2016,2016,2016,2016,2016,2016,2016,2016,2016,2016,2016,2016,2016,2016,2016,2016,2016,2016,2016,2016,2016,2016,2016,2016,2016,2016,2016,2016,2016,2016,2016,2016,2016,2016,2016,2016,2016,2016,2016,2016,2016,2016,2016,2016,2016,2016,2016,2016,2016,2016,2016,2016,2016,2016,2016,2016,2016,2016,2016,2016,2016,2016,2016,2016,2016,2016,2016,2016,2016,2016,2016,2016,2016,2016,2016,2016,2016,2016,2016,2016,2016,2016,2016,2016,2016,2016,2016,2016,2016,2016,2016,2016,2016,2016,2016,2016,2016,2016,2016,2016,2016,2016,2016,2016,2016,2016,2016,2016,2016,2016,2016,2016,2016,2016,2016,2016,2016,2016,2016,2016,2016,2016,2016,2016,2016,2016,2016,2016,2016,2016,2016,2016,2016,2016,2016,2016,2016,2016,2016,2016,2016,2016,2016,2016,2016,2016,2016,2016,2016,2016,2016,2016,2016,2016,2016,2016,2016,2016,2016,2016,2016,2016,2016,2016,2016,2016,2016,2016,2016,2016,2016,2016,2016,2016,2016,2016,2016,2016,2016,2016,2016,2016,2016,2016,2016,2016,2016,2016,2016,2016,2016,2016,2016,2016,2016,2016,2016,2016,2016,2016,2016,2016,2016,2016,2016,2016,2016,2016,2016,2016,2016,2016,2016,2016,2016,2016,2016,2016,2016,2016,2016,2016,2016,2016,2016,2016,2016,2016,2016,2016,2016,2016,2016,2016,2016,2016,2016,2016,2016,2016,2016,2016,2016,2016,2016,2016,2016,2016,2016,2016,2016,2016,2016,2016,2016,2016,2016,2016,2016,2016,2016,2016,2016,2016,2016,2016,2016,2016,2016,2016,2016,2016,2016,2016,2016,2016,2016,2016,2016,2016,2016,2016,2016,2016,2016,2016,2016,2016,2016,2016,2016,2016,2016,2016,2016,2016,2016,2016,2016,2016,2016,2016,2016,2016,2016,2016,2016,2016,2016,2016,2016,2016,2016,2016,2016,2016,2016,2016,2016,2016,2016,2016,2016,2016,2016,2016,2016,2016,2016,2016,2016,2016,2016,2016,2016,2016,2016,2016,2016,2016,2016,2016,2016,2016,2016,2016,2016,2016,2016,2016,2016,2016,2016,2016,2016,2016,2016,2016,2016,2016,2016,2016,2016,2016,2016,2016,2016,2016,2016,2016,2016,2016,2016,2016,2016,2016,2016,2016,2016,2016,2016,2016,2016,2016,2016,2016,2016,2016,2016,2016,2016,2016,2016,2016,2016,2016,2016,2016,2016,2016,2016,2016,2016,2016,2016,2016,2016,2016,2016,2016,2016,2016,2016,2016,2016,2016,2016,2016,2016,2016,2016,2016,2016,2016,2016,2016,2016,2016,2016,2016,2016,2016,2016,2016,2016,2016,2016,2016,2016,2016,2016,2016,2016,2016,2016,2016,2016,2016,2016,2016,2016,2016,2016,2016,2016,2016,2016,2016,2016,2016,2016,2016,2016,2016,2016,2016,2016,2016,2016,2016,2016,2016,2016,2016,2016,2016,2016,2016,2016,2016,2016,2016,2016,2016,2016,2016,2016,2016,2016,2016,2016,2016,2016,2016,2016,2016,2016,2016,2016,2016,2016,2016,2016,2016,2016,2016,2016,2016,2016,2016,2016,2016,2016,2016,2016,2016,2016,2016,2016,2016,2016,2016,2016,2016,2016,2016,2016,2016,2016,2016,2016,2016,2016,2016,2016,2016,2016,2016,2016,2016,2016,2016,2016,2016,2016,2016,2016,2016,2016,2016,2016,2016,2016,2016,2016,2016,2016,2016,2016,2016,2016,2016,2016,2016,2016,2016,2016,2016,2016,2016,2016,2016,2016,2016,2016,2016,2016,2016,2016,2016,2016,2016,2016,2016,2016,2016,2016,2016,2016,2016,2016,2016,2016,2016,2016,2016,2016,2016,2016,2016,2016,2016,2016,2016,2016,2016,2016,2016,2016,2016,2016,2016,2016,2016,2016,2016,2016,2016,2016,2016,2016,2016,2016,2016,2016,2016,2016,2016,2016,2016,2016,2016,2016,2016,2016,2016,2016,2016,2016,2016,2016,2016,2016,2016,2016,2016,2016,2016,2016,2016,2016,2016,2016,2016,2016,2016,2016,2016,2016,2016,2016,2016,2016,2016,2016,2016,2016,2016,2016,2016,2016,2016,2016,2016,2016,2016,2016,2016,2016,2016,2016,2016,2016,2016,2016,2016,2016,2016,2016,2016,2016,2016,2016,2016,2016,2016,2016,2016,2016,2016,2016,2016,2016,2016,2016,2016,2016,2016,2016,2016,2016,2016,2016,2016,2016,2016,2016,2016,2016,2016,2016,2016,2016,2016,2016,2016,2016,2016,2016,2016,2016,2016,2016,2016,2016,2016,2016,2016,2016,2016,2016,2016,2016,2016,2016,2016,2016,2016,2016,2016,2016,2016,2016,2016,2016,2016,2016,2016,2016,2016,2016,2016,2016,2016,2016,2016,2016,2016,2016,2016,2016,2016,2016,2016,2016,2016,2016,2016,2016,2016,2016,2016,2016,2016,2016,2016,2016,2016,2016,2016,2016,2016,2016,2016,2016,2016,2016,2016,2016,2016,2016,2016,2016,2016,2016,2016,2016,2016,2016,2016,2016,2016,2016,2016,2016,2016,2016,2016,2016,2016,2016,2016,2016,2016,2016,2016,2016,2016,2016,2016,2016,2016,2016,2016,2016,2016,2016,2016,2016,2016,2016,2016,2016,2016,2016,2016,2016,2016,2016,2016,2016,2016,2016,2016,2016,2016,2016,2016,2016,2016,2016,2016,2016,2016,2016,2016,2016,2016,2016,2016,2016,2016,2016,2016,2016,2016,2016,2016,2016,2016,2016,2016,2016,2016,2016,2016,2016,2016,2016,2016,2016,2016,2016,2016,2016,2016,2016,2016,2016,2016,2016,2016,2016,2016,2016,2016,2016,2016,2016,2016,2016,2016,2016,2016,2016,2016,2016,2016,2016,2016,2016,2016,2016,2016,2016,2016,2016,2016,2016,2016,2016,2016,2016,2016,2016,2016,2016,2016,2016,2016,2016,2016,2016,2016,2016,2016,2016,2016,2016,2016,2016,2016,2016,2016,2016,2016,2016,2016,2016,2016,2016,2016,2016,2016,2016,2016,2016,2016,2016,2016,2016,2016,2016,2016,2016,2016,2016,2016,2016,2016,2016,2016,2016,2016,2016,2016,2016,2016,2016,2016,2016,2016,2016,2016,2016,2016,2016,2016,2016,2016,2016,2016,2016,2016,2016,2016,2016,2016,2016,2016,2016,2016,2016,2016,2016,2016,2016,2016,2016,2016,2016,2016,2016,2016,2016,2016,2016,2016,2016,2016,2016,2016,2016,2016,2016,2016,2016,2016,2016,2016,2016,2016,2016,2016,2016,2016,2016,2016,2016,2016,2016,2016,2016,2016,2016,2016,2016,2016,2016,2016,2016,2016,2016,2016,2016,2016,2016,2016,2016,2016,2016,2016,2016,2016,2016,2016,2016,2016,2016,2016,2016,2016,2016,2016,2016,2016,2016,2016,2016,2016,2016,2016,2016,2016,2016,2016,2016,2016,2016,2016,2016,2016,2016,2016,2016,2016,2016,2016,2016,2016,2016,2016,2016,2016,2016,2016,2016,2016,2016,2016,2016,2016,2016,2016,2016,2016,2016,2016,2016,2016,2016,2016,2016,2016,2016,2016,2016,2016,2016,2016,2016,2016,2016,2016,2016,2016,2016,2016,2016,2016,2016,2016,2016,2016,2016,2016,2016,2016,2016,2016,2016,2016,2016,2016,2016,2016,2016,2016,2016,2016,2016,2016,2016,2016,2016,2016,2016,2016,2016,2016,2016,2016,2016,2016,2016,2016,2016,2016,2016,2016,2016,2016,2016,2016,2016,2016,2016,2016,2016,2016,2016,2016,2016,2016,2016,2016,2016,2016,2016,2016,2016,2016,2016,2016,2016,2016,2016,2016,2016,2016,2016,2016,2016,2016,2016,2016,2016,2016,2016,2016,2016,2016,2016,2016,2016,2016,2016,2016,2016,2016,2016,2016,2016,2016,2016,2016,2016,2016,2016,2016,2016,2016,2016,2016,2016,2016,2016,2016,2016,2016,2016,2016,2016,2016,2016,2016,2016,2016,2016,2016,2016,2016,2016,2016,2016,2016,2016,2016,2016,2016,2016,2016,2016,2016,2016,2016,2016,2016,2016,2016,2016,2016,2016,2016,2016,2016,2016,2016,2016,2016,2016,2016,2016,2016,2016,2016,2016,2016,2016,2016,2016,2016,2016,2016,2016,2016,2016,2016,2016,2016,2016,2016,2016,2016,2016,2016,2016,2016,2016,2016,2016,2016,2016,2016,2016,2016,2016,2016,2016,2016,2016,2016,2016,2016,2016,2016,2016,2016,2016,2016,2016,2016,2016,2016,2016,2016,2016,2016,2016,2016,2016,2016,2016,2016,2016,2016,2016,2016,2016,2016,2016,2016,2016,2016,2016,2016,2016,2016,2016,2016,2016,2016,2016,2016,2016,2016,2016,2016,2016,2016,2016,2016,2016,2016,2016,2016,2016,2016,2016,2016,2016,2016,2016,2016,2016,2016,2016,2016,2016,2016,2016,2016,2016,2016,2016,2016,2016,2016,2016,2016,2016,2016,2016,2016,2016,2016,2016,2016,2016,2016,2016,2016,2016,2016,2016,2016,2016,2016,2016,2016,2016,2016,2016,2016,2016,2016,2016,2016,2016,2016,2016,2016,2016,2016,2016,2016,2016,2016,2016,2016,2016,2016,2016,2016,2016,2016,2016,2016,2016,2016,2016,2016,2016,2016,2016,2016,2016,2016,2016,2016,2016,2016,2016,2016,2016,2016,2016,2016,2016,2016,2016,2016,2016,2016,2016,2016,2016,2016,2016,2016,2016,2016,2016,2016,2016,2016,2016,2016,2016,2016,2016,2016,2016,2016,2016,2016,2016,2016,2016,2016,2016,2016,2016,2016,2016,2016,2016,2016,2016,2016,2016,2016,2016,2016,2016,2016,2016,2016,2016,2016,2016,2016,2016,2016,2016,2016,2016,2016,2016,2016,2016,2016,2016,2016,2016,2016,2016,2016,2016,2016,2016,2016,2016,2016,2016,2016,2016,2016,2016,2016,2016,2016,2016,2016,2016,2016,2016,2016,2016,2016,2016,2016,2016,2016,2016,2016,2016,2016,2016,2016,2016,2016,2016,2016,2016,2016,2016,2016,2016,2016,2016,2016,2016,2016,2016,2016,2016,2016,2016,2016,2016,2016,2016,2016,2016,2016,2016,2016,2016,2016,2016,2016,2016,2016,2016,2016,2016,2016,2016,2016,2016,2016,2016,2016,2016,2016,2016,2016,2016,2016,2016,2016,2016,2016,2016,2016,2016,2016,2016,2016,2016,2016,2016,2016,2016,2016,2016,2016,2016,2016,2016,2016,2016,2016,2016,2016,2016,2016,2016,2016,2016,2016,2016,2016,2016,2016,2016,2016,2016,2016,2016,2016,2016,2016,2016,2016,2016,2016,2016,2016,2016,2016,2016,2016,2016,2016,2016,2016,2016,2016,2016,2016,2016,2016,2016,2016,2016,2016,2016,2016,2016,2016,2016,2016,2016,2016,2016,2016,2016,2016,2016,2016,2016,2016,2016,2016,2016,2016,2016,2016,2016,2016,2016,2016,2016,2016,2016,2016,2016,2016,2016,2016,2016,2016,2016,2016,2016,2016,2016,2016,2016,2016,2016,2016,2016,2016,2016,2016,2016,2016,2016,2016,2016,2016,2016,2016,2016,2016,2016,2016,2016,2016,2016,2016,2016,2016,2016,2016,2016,2016,2016,2016,2016,2016,2016,2016,2016,2016,2016,2016,2016,2016,2016,2016,2016,2016,2016,2016,2016,2016,2016,2016,2016,2016,2016,2016,2016,2016,2016,2016,2016,2016,2016,2016,2016,2016,2016,2016,2016,2016,2016,2016,2016,2016,2016,2016,2016,2016,2016,2016,2016,2016,2016,2016,2016,2016,2016,2016,2016,2016,2016,2016,2016,2016,2016,2016,2016,2016,2016,2016,2016,2016,2016,2016,2016,2016,2016,2016,2016,2016,2016,2016,2016,2016,2016,2016,2016,2016,2016,2016,2016,2016,2016,2016,2016,2016,2016,2016,2016,2016,2016,2016,2016,2016,2016,2016,2016,2016,2016,2016,2016,2016,2016,2016,2016,2016,2016,2016,2016,2016,2016,2016,2016,2016,2016,2016,2016,2016,2016,2016,2016,2016,2016,2016,2016,2016,2016,2016,2016,2016,2016,2016,2016,2016,2016,2016,2016,2016,2016,2016,2016,2016,2016,2016,2016,2016,2016,2016,2016,2016,2016,2016,2016,2016,2016,2016,2016,2016,2016,2016,2016,2016,2016,2016,2016,2016,2016,2016,2016,2016,2016,2016,2016,2016,2016,2016,2016,2016,2016,2016,2016,2016,2016,2016,2016,2016,2016,2016,2016,2016,2016,2016,2016,2016,2016,2016,2016,2016,2016,2016,2016,2016,2016,2016,2016,2016,2016,2016,2016,2016,2016,2016,2016,2016,2016,2016,2016,2016,2016,2016,2016,2016,2016,2016,2016,2016,2016,2016,2016,2016,2016,2016,2016,2016,2016,2016,2016,2016,2016,2016,2016,2016,2016,2016,2016,2016,2016,2016,2016,2016,2016,2016,2016,2016,2016,2016,2016,2016,2016,2016,2016,2016,2016,2016,2016,2016,2016,2016,2016,2016,2016,2016,2016,2016,2016,2016,2016,2016,2016,2016,2016,2016,2016,2016,2016,2016,2016,2016,2016,2016,2016,2016,2016,2016,2016,2016,2016,2016,2016,2016,2016,2016,2016,2016,2016,2016,2016,2016,2016,2016,2016,2016,2016,2016,2016,2016,2016,2016,2016,2016,2016,2016,2016,2016,2016,2016,2016,2016,2016,2016,2016,2016,2016,2016,2016,2016,2016,2016,2016,2016,2016,2016,2016,2016,2016,2016,2016,2016,2016,2016,2016,2016,2016,2016,2016,2016,2016,2016,2016,2016,2016,2016,2016,2016,2016,2016,2016,2016,2016,2016,2016,2016,2016,2016,2016,2016,2016,2016,2016,2016,2016,2016,2016,2016,2016,2016,2016,2016,2016,2016,2016,2016,2016,2016,2016,2016,2016,2016,2016,2016,2016,2016,2016,2016,2016,2016,2016,2016,2016,2016,2016,2016,2016,2016,2016,2016,2016,2016,2016,2016,2016,2016,2016,2016,2016,2016,2016,2016,2016,2016,2016,2016,2016,2016,2016,2016,2016,2016,2016,2016,2016,2016,2016,2016,2016,2016,2016,2016,2016,2016,2016,2016,2016,2016,2016,2016,2016,2016,2016,2016,2016,2016,2016,2016,2016,2016,2016,2016,2016,2016,2016,2016,2016,2016,2016,2016,2016,2016,2016,2016,2016,2016,2016,2016,2016,2016,2016,2016,2016,2016,2016,2016,2016,2016,2016,2016,2016,2016,2016,2016,2016,2016,2016,2016,2016,2016,2016,2016,2016,2016,2016,2016,2016,2016,2016,2016,2016,2016,2016,2016,2016,2016,2016,2016,2016,2016,2016,2016,2016,2016,2016,2016,2016,2016,2016,2016,2016,2016,2016,2016,2016,2016,2016,2016,2016,2016,2016,2016,2016,2016,2016,2016,2016,2016,2016,2016,2016,2016,2016,2016,2016,2016,2016,2016,2016,2016,2016,2016,2016,2016,2016,2016,2016,2016,2016,2016,2016,2016,2016,2016,2016,2016,2016,2016,2016,2016,2016,2016,2016,2016,2016,2016,2016,2016,2016,2016,2016,2016,2016,2016,2016,2016,2016,2016,2016,2016,2016,2016,2016,2016,2016,2016,2016,2016,2016,2016,2016,2016,2016,2016,2016,2016,2016,2016,2016,2016,2016,2016,2016,2016,2016,2016,2016,2016,2016,2016,2016,2016,2016,2016,2016,2016,2016,2016,2016,2016,2016,2016,2016,2016,2016,2016,2016,2016,2016,2016,2016,2016,2016,2016,2016,2016,2016,2016,2016,2016,2016,2016,2016,2016,2016,2016,2016,2016,2016,2016,2016,2016,2016,2016,2016,2016,2016,2016,2016,2016,2016,2016,2016,2016,2016,2016,2016,2016,2016,2016,2016,2016,2016,2016,2016,2016,2016,2016,2016,2016,2016,2016,2016,2016,2016,2016,2016,2016,2016,2016,2016,2016,2016,2016,2016,2016,2016,2016,2016,2016,2016,2016,2016,2016,2016,2016,2016,2016,2016,2016,2016,2016,2016,2016,2016,2016,2016,2016,2016,2016,2016,2016,2016,2016,2016,2016,2016,2016,2016,2016,2016,2016,2016,2016,2016,2016,2016,2016,2016,2016,2016,2016,2016,2016,2016,2016,2016,2016,2016,2016,2016,2016,2016,2016,2016,2016,2016,2016,2016,2016,2016,2016,2016,2016,2016,2016,2016,2016,2016,2016,2016,2016,2016,2016,2016,2016,2016,2016,2016,2016,2016,2016,2016,2016,2016,2016,2016,2016,2016,2016,2016,2016,2016,2016,2016,2016,2016,2016,2016,2016,2016,2016,2016,2016,2016,2016,2016,2016,2016,2016,2016,2016,2016,2016,2016,2016,2016,2016,2016,2016,2016,2016,2016,2016,2016,2016,2016,2016,2016,2016,2016,2016,2016,2016,2016,2016,2016,2016,2016,2016,2016,2016,2016,2016,2016,2016,2016,2016,2016,2016,2016,2016,2016,2016,2016,2016,2016,2016,2016,2016,2016,2016,2016,2016,2016,2016,2016,2016,2016,2016,2016,2016,2016,2016,2016,2016,2016,2016,2016,2016,2016,2016,2016,2016,2016,2016,2016,2016,2016,2016,2016,2016,2016,2016,2016,2016,2016,2016,2016,2016,2016,2016,2016,2016,2016,2016,2016,2016,2016,2016,2016,2016,2016,2016,2016,2016,2016,2016,2016,2016,2016,2016,2016,2016,2016,2016,2016,2016,2016,2016,2016,2016,2016,2016,2016,2016,2016,2016,2016,2016,2016,2016,2016,2016,2016,2016,2016,2016,2016,2016,2016,2016,2016,2016,2016,2016,2016,2016,2016,2016,2016,2016,2016,2016,2016,2016,2016,2016,2016,2016,2016,2016,2016,2016,2016,2016,2016,2016,2016,2016,2016,2016,2016,2016,2016,2016,2016,2016,2016,2016,2016,2016,2016,2016,2016,2016,2016,2016,2016,2016,2016,2016,2016,2016,2016,2016,2016,2016,2016,2016,2016,2016,2016,2016,2016,2016,2016,2016,2016,2016,2016,2016,2016,2016,2016,2016,2016,2016,2016,2016,2016,2016,2016,2016,2016,2016,2016,2016,2016,2016,2016,2016,2016,2016,2016,2016,2016,2016,2016,2016,2016,2016,2016,2016,2016,2016,2016,2016,2016,2016,2016,2016,2016,2016,2016,2016,2016,2016,2016,2016,2016,2016,2016,2016,2016,2016,2016,2016,2016,2016,2016,2016,2016,2016,2016,2016,2016,2016,2016,2016,2016,2016,2016,2016,2016,2016,2016,2016,2016,2016,2016,2016,2016,2016,2016,2016,2016,2016,2016,2016,2016,2016,2016,2016,2016,2016,2016,2016,2016,2016,2016,2016,2016,2016,2016,2016,2016,2016,2016,2016,2016,2016,2016,2016,2016,2016,2016,2016,2016,2016,2016,2016,2016,2016,2016,2016,2016,2016,2016,2016,2016,2016,2016,2016,2016,2016,2016,2016,2016,2016,2016,2016,2016,2016,2016,2016,2016,2016,2016,2016,2016,2016,2016,2016,2016,2016,2016,2016,2016,2016,2016,2016,2016,2016,2016,2016,2016,2016,2016,2016,2016,2016,2016,2016,2016,2016,2016,2016,2016,2016,2016,2016,2016,2016,2016,2016,2016,2016,2016,2016,2016,2016,2016,2016,2016,2016,2016,2016,2016,2016,2016,2016,2016,2016,2016,2016,2016,2016,2016,2016,2016,2016,2016,2016,2016,2016,2016,2016,2016,2016,2016,2016,2016,2016,2016,2016,2016,2016,2016,2016,2016,2016,2016,2016,2016,2016,2016,2016,2016,2016,2016,2016,2016,2016,2016,2016,2016,2016,2016,2016,2016,2016,2016,2016,2016,2016,2016,2016,2016,2016,2016,2016,2016,2016,2016,2016,2016,2016,2016,2016,2016,2016,2016,2016,2016,2016,2016,2016,2016,2016,2016,2016,2016,2016,2016,2016,2016,2016,2016,2016,2016,2016,2016,2016,2016,2016,2016,2016,2016,2016,2016,2016,2016,2016,2016,2016,2016,2016,2016,2016,2016,2016,2016,2016,2016,2016,2016,2016,2016,2016,2016,2016,2016,2016,2016,2016,2016,2016,2016,2016,2016,2016,2016,2016,2016,2016,2016,2016,2016,2016,2016,2016,2016,2016,2016,2016,2016,2016,2016,2016,2016,2016,2016,2016,2016,2016,2016,2016,2016,2016,2016,2016,2016,2016,2016,2016,2016,2016,2016,2016,2016,2016,2016,2016,2016,2016,2016,2016,2016,2016,2016,2016,2016,2016,2016,2016,2016,2016,2016,2016,2016,2016,2016,2016,2016,2016,2016,2016,2016,2016,2016,2016,2016,2016,2016,2016,2016,2016,2016,2016,2016,2016,2016,2016,2016,2016,2016,2016,2016,2016,2016,2016,2016,2016,2016,2016,2016,2016,2016,2016,2016,2016,2016,2016,2016,2016,2016,2016,2016,2016,2016,2016,2016,2016,2016,2016,2016,2016,2016,2016,2016,2016,2016,2016,2016,2016,2016,2016,2016,2016,2016,2016,2016,2016,2016,2016,2016,2016,2016,2016,2016,2016,2016,2016,2016,2016,2016,2016,2016,2016,2016,2016,2016,2016,2016,2016,2016,2016,2016,2016,2016,2016,2016,2016,2016,2016,2016,2016,2016,2016,2016,2016,2016,2016,2016,2016,2016,2016,2016,2016,2016,2016,2016,2016,2016,2016,2016,2016,2016,2016,2016,2016,2016,2016,2016,2016,2016,2016,2016,2016,2016,2016,2016,2016,2016,2016,2016,2016,2016,2016,2016,2016,2016,2016,2016,2016,2016,2016,2016,2016,2016,2016,2016,2016,2016,2016,2016,2016,2016,2016,2016,2016,2016,2016,2016,2016,2016,2016,2016,2016,2016,2016,2016,2016,2016,2016,2016,2016,2016,2016,2016,2016,2016,2016,2016,2016,2016,2016,2016,2016,2016,2016,2016,2016,2016,2016,2016,2016,2016,2016,2016,2016,2016,2016,2016,2016,2016,2016,2016,2016,2016,2016,2016,2016,2016,2016,2016,2016,2016,2016,2016,2016,2016,2016,2016,2016,2016,2016,2016,2016,2016,2016,2016,2016,2016,2016,2016,2016,2016,2016,2016,2016,2016,2016,2016,2016,2016,2016,2016,2016,2016,2016,2016,2016,2016,2016,2016,2016,2016,2016,2016,2016,2016,2016,2016,2016,2016,2016,2016,2016,2016,2016,2016,2016,2016,2016,2016,2016,2016,2016,2016,2016,2016,2016,2016,2016,2016,2016,2016,2016,2016,2016,2016,2016,2016,2016,2016,2016,2016,2016,2016,2016,2016,2016,2016,2016,2016,2016,2016,2016,2016,2016,2016,2016,2016,2016,2016,2016,2016,2016,2016,2016,2016,2016,2016,2016,2016,2016,2016,2016,2016,2016,2016,2016,2016,2016,2016,2016,2016,2016,2016,2016,2016,2016,2016,2016,2016,2016,2016,2016,2016,2016,2016,2016,2016,2016,2016,2016,2016,2016,2016,2016,2016,2016,2016,2016,2016,2016,2016,2016,2016,2016,2016,2016,2016,2016,2016,2016,2016,2016,2016,2016,2016,2016,2016,2016,2016,2016,2016,2016,2016,2016,2016,2016,2016,2016,2016,2016,2016,2016,2016,2016,2016,2016,2016,2016,2016,2016,2016,2016,2016,2016,2016,2016,2016,2016,2016,2016,2016,2016,2016,2016,2016,2016,2016,2016,2016,2016,2016,2016,2016,2016,2016,2016,2016,2016,2016,2016,2016,2016,2016,2016,2016,2016,2016,2016,2016,2016,2016,2016,2016,2016,2016,2016,2016,2016,2016,2016,2016,2016,2016,2016,2016,2016,2016,2016,2016,2016,2016,2016,2016,2016,2016,2016,2016,2016,2016,2016,2016,2016,2016,2016,2016,2016,2016,2016,2016,2016,2016,2016,2016,2016,2016,2016,2016,2016,2016,2016,2016,2016,2016,2016,2016,2016,2016,2016,2016,2016,2016,2016,2016,2016,2016,2016,2016,2016,2016,2016,2016,2016,2016,2016,2016,2016,2016,2016,2016,2016,2016,2016,2016,2016,2016,2016,2016,2016,2016,2016,2016,2016,2016,2016,2016,2016,2016,2016,2016,2016,2016,2016,2016,2016,2016,2016,2016,2016,2016,2016,2016,2016,2016,2016,2016,2016,2016,2016,2016,2016,2016,2016,2016,2016,2016,2016,2016,2016,2016,2016,2016,2016,2016,2016,2016,2016,2016,2016,2016,2016,2016,2016,2016,2016,2016,2016,2016,2016,2016,2016,2016,2016,2016,2016,2016,2016,2016,2016,2016,2016,2016,2016,2016,2016,2016,2016,2016,2016,2016,2016,2016,2016,2016,2016,2016,2016,2016,2016,2016,2016,2016,2016,2016,2016,2016,2016,2016,2016,2016,2016,2016,2016,2016,2016,2016,2016,2016,2016,2016,2016,2016,2016,2016,2016,2016,2016,2016,2016,2016,2016,2016,2016,2016,2016,2016,2016,2016,2016,2016,2016,2016,2016,2016,2016,2016,2016,2016,2016,2016,2016,2016,2016,2016,2016,2016,2016,2016,2016,2016,2016,2016,2016,2016,2016,2016,2016,2016,2016,2016,2016,2016,2016,2016,2016,2016,2016,2016,2016,2016,2016,2016,2016,2016,2016,2016,2016,2016,2016,2016,2016,2016,2016,2016,2016,2016,2016,2016,2016,2016,2016,2016,2016,2016,2016,2016,2016,2016,2016,2016,2016,2016,2016,2016,2016,2016,2016,2016,2016,2016,2016,2016,2016,2016,2016,2016,2016,2016,2016,2016,2016,2016,2016,2016,2016,2016,2016,2016,2016,2016,2016,2016,2016,2016,2016,2016,2016,2016,2016,2016,2016,2016,2016,2016,2016,2016,2016,2016,2016,2016,2016,2016,2016,2016,2016,2016,2016,2016,2016,2016,2016,2016,2016,2016,2016,2016,2016,2016,2016,2016,2016,2016,2016,2016,2016,2016,2016,2016,2016,2016,2016,2016,2016,2016,2016,2016,2016,2016,2016,2016,2016,2016,2016,2016,2016,2016,2016,2016,2016,2016,2016,2016,2016,2016,2016,2016,2016,2016,2016,2016,2016,2016,2016,2016,2016,2016,2016,2016,2016,2016,2016,2016,2016,2016,2016,2016,2016,2016,2016,2016,2016,2016,2016,2016,2016,2016,2016,2016,2016,2016,2016,2016,2016,2016,2016,2016,2016,2016,2016,2016,2016,2016,2016,2016,2016,2016,2016,2016,2016,2016,2016,2016,2016,2016,2016,2016,2016,2016,2016,2016,2016,2016,2016,2016,2016,2016,2016,2016,2016,2016,2016,2016,2016,2016,2016,2016,2016,2016,2016,2016,2016,2016,2016,2016,2016,2016,2016,2016,2016,2016,2016,2016,2016,2016,2016,2016,2016,2016,2016,2016,2016,2016,2016,2016,2016,2016,2016,2016,2016,2016,2016,2016,2016,2016,2016,2016,2016,2016,2016,2016,2016,2016,2016,2016,2016,2016,2016,2016,2016,2016,2016,2016,2016,2016,2016,2016,2016,2016,2016,2016,2016,2016,2016,2016,2016,2016,2016,2016,2016,2016,2016,2016,2016,2016,2016,2016,2016,2016,2016,2016,2016,2016,2016,2016,2016,2016,2016,2016,2016,2016,2016,2016,2016,2016,2016,2016,2016,2016,2016,2016,2016,2016,2016,2016,2016,2016,2016,2016,2016,2016,2016,2016,2016,2016,2016,2016,2016,2016,2016,2016,2016,2016,2016,2016,2016,2016,2016,2016,2016,2016,2016,2016,2016,2016,2016,2016,2016,2016,2016,2016,2016,2016,2016,2016,2016,2016,2016,2016,2016,2016,2016,2016,2016,2016,2016,2016,2016,2016,2016,2016,2016,2016,2016,2016,2016,2016,2016,2016,2016,2016,2016,2016,2016,2016,2016,2016,2016,2016,2016,2016,2016,2016,2016,2016,2016,2016,2016,2016,2016,2016,2016,2016,2016,2016,2016,2016,2016,2016,2016,2016,2016,2016,2016,2016,2016,2016,2016,2016,2016,2016,2016,2016,2016,2016,2016,2016,2016,2016,2016,2016,2016,2016,2016,2016,2016,2016,2016,2016,2016,2016,2016,2016,2016,2016,2016,2016,2016,2016,2016,2016,2016,2016,2016,2016,2016,2016,2016,2016,2016,2016,2016,2016,2016,2016,2016,2016,2016,2016,2016,2016,2016,2016,2016,2016,2016,2016,2016,2016,2016,2016,2016,2016,2016,2016,2016,2016,2016,2016,2016,2016,2016,2016,2016,2016,2016,2016,2016,2016,2016,2016,2016,2016,2016,2016,2016,2016,2016,2016,2016,2016,2016,2016,2016,2016,2016,2016,2016,2016,2016,2016,2016,2016,2016,2016,2016,2016,2016,2016,2016,2016,2016,2016,2016,2016,2016,2016,2016,2016,2016,2016,2016,2016,2016,2016,2016,2016,2016,2016,2016,2016,2016,2016,2016,2016,2016,2016,2016,2016,2016,2016,2016,2016,2016,2016,2016,2016,2016,2016,2016,2016,2016,2016,2016,2016,2016,2016,2016,2016,2016,2016,2016,2016,2016,2016,2016,2016,2016,2016,2016,2016,2016,2016,2016,2016,2016,2016,2016,2016,2016,2016,2016,2016,2016,2016,2016,2016,2016,2016,2016,2016,2016,2016,2016,2016,2016,2016,2016,2016,2016,2016,2016,2016,2016,2016,2016,2016,2016,2016,2016,2016,2016,2016,2016,2016,2016,2016,2016,2016,2016,2016,2016,2016,2016,2016,2016,2016,2016,2016,2016,2016,2016,2016,2016,2016,2016,2016,2016,2016,2016,2016,2016,2016,2016,2016,2016,2016,2016,2016,2016,2016,2016,2016,2016,2016,2016,2016,2016,2016,2016,2016,2016,2016,2016,2016,2016,2016,2016,2016,2016,2016,2016,2016,2016,2016,2016,2016,2016,2016,2016,2016,2016,2016,2016,2016,2016,2016,2016,2016,2016,2016,2016,2016,2016,2016,2016,2016,2016,2016,2016,2016,2016,2016,2016,2016,2016,2016,2016,2016,2016,2016,2016,2016,2016,2016,2016,2016,2016,2016,2016,2016,2016,2016,2016,2016,2016,2016,2016,2016,2016,2016,2016,2016,2016,2016,2016,2016,2016,2016,2016,2016,2016,2016,2016,2016,2016,2016,2016,2016,2016,2016,2016,2016,2016,2016,2016,2016,2016,2016,2016,2016,2016,2016,2016,2016,2016,2016,2016,2016,2016,2016,2016,2016,2016,2016,2016,2016,2016,2016,2016,2016,2016,2016,2016,2016,2016,2016,2016,2016,2016,2016,2016,2016,2016,2016,2016,2016,2016,2016,2016,2016,2016,2016,2016,2016,2016,2016,2016,2016,2016,2016,2016,2016,2016,2016,2016,2016,2016,2016,2016,2016,2016,2016,2016,2016,2016,2016,2016,2016,2016,2016,2016,2016,2016,2016,2016,2016,2016,2016,2016,2016,2016,2016,2016,2016,2016,2016,2016,2016,2016,2016,2016,2016,2016,2016,2016,2016,2016,2016,2016,2016,2016,2016,2016,2016,2016,2016,2016,2016,2016,2016,2016,2016,2016,2016,2016,2016,2016,2016,2016,2016,2016,2016,2016,2016,2016,2016,2016,2016,2016,2016,2016,2016,2016,2016,2016,2016,2016,2016,2016,2016,2016,2016,2016,2016,2016,2016,2016,2016,2016,2016,2016,2016,2016,2016,2016,2016,2016,2016,2016,2016,2016,2016,2016,2016,2016,2016,2016,2016,2016,2016,2016,2016,2016,2016,2016,2016,2016,2016,2016,2016,2016,2016,2016,2016,2016,2016,2016,2016,2016,2016,2016,2016,2016,2016,2016,2016,2016,2016,2016,2016,2016,2016,2016,2016,2016,2016,2016,2016,2016,2016,2016,2016,2016,2016,2016,2016,2016,2016,2016,2016,2016,2016,2016,2016,2016,2016,2016,2016,2016,2016,2016,2016,2016,2016,2016,2016,2016,2016,2016,2016,2016,2016,2016,2016,2016,2016,2016,2016,2016,2016,2016,2016,2016,2016,2016,2016,2016,2016,2016,2016,2016,2016,2016,2016,2016,2016,2016,2016,2016,2016,2016,2016,2016,2016,2016,2016,2016,2016,2016,2016,2016,2016,2016,2016,2016,2016,2016,2016,2016,2016,2016,2016,2016,2016,2016,2016,2016,2016,2016,2016,2016,2016,2016,2016,2016,2016,2016,2016,2016,2016,2016,2016,2016,2016,2016,2016,2016,2016,2016,2016,2016,2016,2016,2016,2016,2016,2016,2016,2016,2016,2016,2016,2016,2016,2016,2016,2016,2016,2016,2016,2016,2016,2016,2016,2016,2016,2016,2016,2016,2016,2016,2016,2016,2016,2016,2016,2016,2016,2016,2016,2016,2016,2016,2016,2016,2016,2016,2016,2016,2016,2016,2016,2016,2016,2016,2016,2016,2016,2016,2016,2016,2016,2016,2016,2016,2016,2016,2016,2016,2016,2016,2016,2016,2016,2016,2016,2016,2016,2016,2016,2016,2016,2016,2016,2016,2016,2016,2016,2016,2016,2016,2016,2016,2016,2016,2016,2016,2016,2016,2016,2016,2016,2016,2016,2016,2016,2016,2016,2016,2016,2016,2016,2016,2016,2016,2016,2016,2016,2016,2016,2016,2016,2016,2016,2016,2016,2017,2017,2017,2017,2017,2017,2017,2017,2017,2017,2017,2017,2017,2017,2017,2017,2017,2017,2017,2017,2017,2017,2017,2017,2017,2017,2017,2017,2017,2017,2017,2017,2017,2017,2017,2017,2017,2017,2017,2017,2017,2017,2017,2017,2017,2017,2017,2017,2017,2017,2017,2017,2017,2017,2017,2017,2017,2017,2017,2017,2017,2017,2017,2017,2017,2017,2017,2017,2017,2017,2017,2017,2017,2017,2017,2017,2017,2017,2017,2017,2017,2017,2017,2017,2017,2017,2017,2017,2017,2017,2017,2017,2017,2017,2017,2017,2017,2017,2017,2017,2017,2017,2017,2017,2017,2017,2017,2017,2017,2017,2017,2017,2017,2017,2017,2017,2017,2017,2017,2017,2017,2017,2017,2017,2017,2017,2017,2017,2017,2017,2017,2017,2017,2017,2017,2017,2017,2017,2017,2017,2017,2017,2017,2017,2017,2017,2017,2017,2017,2017,2017,2017,2017,2017,2017,2017,2017,2017,2017,2017,2017,2017,2017,2017,2017,2017,2017,2017,2017,2017,2017,2017,2017,2017,2017,2017,2017,2017,2017,2017,2017,2017,2017,2017,2017,2017,2017,2017,2017,2017,2017,2017,2017,2017,2017,2017,2017,2017,2017,2017,2017,2017,2017,2017,2017,2017,2017,2017,2017,2017,2017,2017,2017,2017,2017,2017,2017,2017,2017,2017,2017,2017,2017,2017,2017,2017,2017,2017,2017,2017,2017,2017,2017,2017,2017,2017,2017,2017,2017,2017,2017,2017,2017,2017,2017,2017,2017,2017,2017,2017,2017,2017,2017,2017,2017,2017,2017,2017,2017,2017,2017,2017,2017,2017,2017,2017,2017,2017,2017,2017,2017,2017,2017,2017,2017,2017,2017,2017,2017,2017,2017,2017,2017,2017,2017,2017,2017,2017,2017,2017,2017,2017,2017,2017,2017,2017,2017,2017,2017,2017,2017,2017,2017,2017,2017,2017,2017,2017,2017,2017,2017,2017,2017,2017,2017,2017,2017,2017,2017,2017,2017,2017,2017,2017,2017,2017,2017,2017,2017,2017,2017,2017,2017,2017,2017,2017,2017,2017,2017,2017,2017,2017,2017,2017,2017,2017,2017,2017,2017,2017,2017,2017,2017,2017,2017,2017,2017,2017,2017,2017,2017,2017,2017,2017,2017,2017,2017,2017,2017,2017,2017,2017,2017,2017,2017,2017,2017,2017,2017,2017,2017,2017,2017,2017,2017,2017,2017,2017,2017,2017,2017,2017,2017,2017,2017,2017,2017,2017,2017,2017,2017,2017,2017,2017,2017,2017,2017,2017,2017,2017,2017,2017,2017,2017,2017,2017,2017,2017,2017,2017,2017,2017,2017,2017,2017,2017,2017,2017,2017,2017,2017,2017,2017,2017,2017,2017,2017,2017,2017,2017,2017,2017,2017,2017,2017,2017,2017,2017,2017,2017,2017,2017,2017,2017,2017,2017,2017,2017,2017,2017,2017,2017,2017,2017,2017,2017,2017,2017,2017,2017,2017,2017,2017,2017,2017,2017,2017,2017,2017,2017,2017,2017,2017,2017,2017,2017,2017,2017,2017,2017,2017,2017,2017,2017,2017,2017,2017,2017,2017,2017,2017,2017,2017,2017,2017,2017,2017,2017,2017,2017,2017,2017,2017,2017,2017,2017,2017,2017,2017,2017,2017,2017,2017,2017,2017,2017,2017,2017,2017,2017,2017,2017,2017,2017,2017,2017,2017,2017,2017,2017,2017,2017,2017,2017,2017,2017,2017,2017,2017,2017,2017,2017,2017,2017,2017,2017,2017,2017,2017,2017,2017,2017,2017,2017,2017,2017,2017,2017,2017,2017,2017,2017,2017,2017,2017,2017,2017,2017,2017,2017,2017,2017,2017,2017,2017,2017,2017,2017,2017,2017,2017,2017,2017,2017,2017,2017,2017,2017,2017,2017,2017,2017,2017,2017,2017,2017,2017,2017,2017,2017,2017,2017,2017,2017,2017,2017,2017,2017,2017,2017,2017,2017,2017,2017,2017,2017,2017,2017,2017,2017,2017,2017,2017,2017,2017,2017,2017,2017,2017,2017,2017,2017,2017,2017,2017,2017,2017,2017,2017,2017,2017,2017,2017,2017,2017,2017,2017,2017,2017,2017,2017,2017,2017,2017,2017,2017,2017,2017,2017,2017,2017,2017,2017,2017,2017,2017,2017,2017,2017,2017,2017,2017,2017,2017,2017,2017,2017,2017,2017,2017,2017,2017,2017,2017,2017,2017,2017,2017,2017,2017,2017,2017,2017,2017,2017,2017,2017,2017,2017,2017,2017,2017,2017,2017,2017,2017,2017,2017,2017,2017,2017,2017,2017,2017,2017,2017,2017,2017,2017,2017,2017,2017,2017,2017,2017,2017,2017,2017,2017,2017,2017,2017,2017,2017,2017,2017,2017,2017,2017,2017,2017,2017,2017,2017,2017,2017,2017,2017,2017,2017,2017,2017,2017,2017,2017,2017,2017,2017,2017,2017,2017,2017,2017,2017,2017,2017,2017,2017,2017,2017,2017,2017,2017,2017,2017,2017,2017,2017,2017,2017,2017,2017,2017,2017,2017,2017,2017,2017,2017,2017,2017,2017,2017,2017,2017,2017,2017,2017,2017,2017,2017,2017,2017,2017,2017,2017,2017,2017,2017,2017,2017,2017,2017,2017,2017,2017,2017,2017,2017,2017,2017,2017,2017,2017,2017,2017,2017,2017,2017,2017,2017,2017,2017,2017,2017,2017,2017,2017,2017,2017,2017,2017,2017,2017,2017,2017,2017,2017,2017,2017,2017,2017,2017,2017,2017,2017,2017,2017,2017,2017,2017,2017,2017,2017,2017,2017,2017,2017,2017,2017,2017,2017,2017,2017,2017,2017,2017,2017,2017,2017,2017,2017,2017,2017,2017,2017,2017,2017,2017,2017,2017,2017,2017,2017,2017,2017,2017,2017,2017,2017,2017,2017,2017,2017,2017,2017,2017,2017,2017,2017,2017,2017,2017,2017,2017,2017,2017,2017,2017,2017,2017,2017,2017,2017,2017,2017,2017,2017,2017,2017,2017,2017,2017,2017,2017,2017,2017,2017,2017,2017,2017,2017,2017,2017,2017,2017,2017,2017,2017,2017,2017,2017,2017,2017,2017,2017,2017,2017,2017,2017,2017,2017,2017,2017,2017,2017,2017,2017,2017,2017,2017,2017,2017,2017,2017,2017,2017,2017,2017,2017,2017,2017,2017,2017,2017,2017,2017,2017,2017,2017,2017,2017,2017,2017,2017,2017,2017,2017,2017,2017,2017,2017,2017,2017,2017,2017,2017,2017,2017,2017,2017,2017,2017,2017,2017,2017,2017,2017,2017,2017,2017,2017,2017,2017,2017,2017,2017,2017,2017,2017,2017,2017,2017,2017,2017,2017,2017,2017,2017,2017,2017,2017,2017,2017,2017,2017,2017,2017,2017,2017,2017,2017,2017,2017,2017,2017,2017,2017,2017,2017,2017,2017,2017,2017,2017,2017,2017,2017,2017,2017,2017,2017,2017,2017,2017,2017,2017,2017,2017,2017,2017,2017,2017,2017,2017,2017,2017,2017,2017,2017,2017,2017,2017,2017,2017,2017,2017,2017,2017,2017,2017,2017,2017,2017,2017,2017,2017,2017,2017,2017,2017,2017,2017,2017,2017,2017,2017,2017,2017,2017,2017,2017,2017,2017,2017,2017,2017,2017,2017,2017,2017,2017,2017,2017,2017,2017,2017,2017,2017,2017,2017,2017,2017,2017,2017,2017,2017,2017,2017,2017,2017,2017,2017,2017,2017,2017,2017,2017,2017,2017,2017,2017,2017,2017,2017,2017,2017,2017,2017,2017,2017,2017,2017,2017,2017,2017,2017,2017,2017,2017,2017,2017,2017,2017,2017,2017,2017,2017,2017,2017,2017,2017,2017,2017,2017,2017,2017,2017,2017,2017,2017,2017,2017,2017,2017,2017,2017,2017,2017,2017,2017,2017,2017,2017,2017,2017,2017,2017,2017,2017,2017,2017,2017,2017,2017,2017,2017,2017,2017,2017,2017,2017,2017,2017,2017,2017,2017,2017,2017,2017,2017,2017,2017,2017,2017,2017,2017,2017,2017,2017,2017,2017,2017,2017,2017,2017,2017,2017,2017,2017,2017,2017,2017,2017,2017,2017,2017,2017,2017,2017,2017,2017,2017,2017,2017,2017,2017,2017,2017,2017,2017,2017,2017,2017,2017,2017,2017,2017,2017,2017,2017,2017,2017,2017,2017,2017,2017,2017,2017,2017,2017,2017,2017,2017,2017,2017,2017,2017,2017,2017,2017,2017,2017,2017,2017,2017,2017,2017,2017,2017,2017,2017,2017,2017,2017,2017,2017,2017,2017,2017,2017,2017,2017,2017,2017,2017,2017,2017,2017,2017,2017,2017,2017,2017,2017,2017,2017,2017,2017,2017,2017,2017,2017,2017,2017,2017,2017,2017,2017,2017,2017,2017,2017,2017,2017,2017,2017,2017,2017,2017,2017,2017,2017,2017,2017,2017,2017,2017,2017,2017,2017,2017,2017,2017,2017,2017,2017,2017,2017,2017,2017,2017,2017,2017,2017,2017,2017,2017,2017,2017,2017,2017,2017,2017,2017,2017,2017,2017,2017,2017,2017,2017,2017,2017,2017,2017,2017,2017,2017,2017,2017,2017,2017,2017,2017,2017,2017,2017,2017,2017,2017,2017,2017,2017,2017,2017,2017,2017,2017,2017,2017,2017,2017,2017,2017,2017,2017,2017,2017,2017,2017,2017,2017,2017,2017,2017,2017,2017,2017,2017,2017,2017,2017,2017,2017,2017,2017,2017,2017,2017,2017,2017,2017,2017,2017,2017,2017,2017,2017,2017,2017,2017,2017,2017,2017,2017,2017,2017,2017,2017,2017,2017,2017,2017,2017,2017,2017,2017,2017,2017,2017,2017,2017,2017,2017,2017,2017,2017,2017,2017,2017,2017,2017,2017,2017,2017,2017,2017,2017,2017,2017,2017,2017,2017,2017,2017,2017,2017,2017,2017,2017,2017,2017,2017,2017,2017,2017,2017,2017,2017,2017,2017,2017,2017,2017,2017,2017,2017,2017,2017,2017,2017,2017,2017,2017,2017,2017,2017,2017,2017,2017,2017,2017,2017,2017,2017,2017,2017,2017,2017,2017,2017,2017,2017,2017,2017,2017,2017,2017,2017,2017,2017,2017,2017,2017,2017,2017,2017,2017,2017,2017,2017,2017,2017,2017,2017,2017,2017,2017,2017,2017,2017,2017,2017,2017,2017,2017,2017,2017,2017,2017,2017,2017,2017,2017,2017,2017,2017,2017,2017,2017,2017,2017,2017,2017,2017,2017,2017,2017,2017,2017,2017,2017,2017,2017,2017,2017,2017,2017,2017,2017,2017,2017,2017,2017,2017,2017,2017,2017,2017,2017,2017,2017,2017,2017,2017,2017,2017,2017,2017,2017,2017,2017,2017,2017,2017,2017,2017,2017,2017,2017,2017,2017,2017,2017,2017,2017,2017,2017,2017,2017,2017,2017,2017,2017,2017,2017,2017,2017,2017,2017,2017,2017,2017,2017,2017,2017,2017,2017,2017,2017,2017,2017,2017,2017,2017,2017,2017,2017,2017,2017,2017,2017,2017,2017,2017,2017,2017,2017,2017,2017,2017,2017,2017,2017,2017,2017,2017,2017,2017,2017,2017,2017,2017,2017,2017,2017,2017,2017,2017,2017,2017,2017,2017,2017,2017,2017,2017,2017,2017,2017,2017,2017,2017,2017,2017,2017,2017,2017,2017,2017,2017,2017,2017,2017,2017,2017,2017,2017,2017,2017,2017,2017,2017,2017,2017,2017,2017,2017,2017,2017,2017,2017,2017,2017,2017,2017,2017,2017,2017,2017,2017,2017,2017,2017,2017,2017,2017,2017,2017,2017,2017,2017,2017,2017,2017,2017,2017,2017,2017,2017,2017,2017,2017,2017,2017,2017,2017,2017,2017,2017,2017,2017,2017,2017,2017,2017,2017,2017,2017,2017,2017,2017,2017,2017,2017,2017,2017,2017,2017,2017,2017,2017,2017,2017,2017,2017,2017,2017,2017,2017,2017,2017,2017,2017,2017,2017,2017,2017,2017,2017,2017,2017,2017,2017,2017,2017,2017,2017,2017,2017,2017,2017,2017,2017,2017,2017,2017,2017,2017,2017,2017,2017,2017,2017,2017,2017,2017,2017,2017,2017,2017,2017,2017,2017,2017,2017,2017,2017,2017,2017,2017,2017,2017,2017,2017,2017,2017,2017,2017,2017,2017,2017,2017,2017,2017,2017,2017,2017,2017,2017,2017,2017,2017,2017,2017,2017,2017,2017,2017,2017,2017,2017,2017,2017,2017,2017,2017,2017,2017,2017,2017,2017,2017,2017,2017,2017,2017,2017,2017,2017,2017,2017,2017,2017,2017,2017,2017,2017,2017,2017,2017,2017,2017,2017,2017,2017,2017,2017,2017,2017,2017,2017,2017,2017,2017,2017,2017,2017,2017,2017,2017,2017,2017,2017,2017,2017,2017,2017,2017,2017,2017,2017,2017,2017,2017,2017,2017,2017,2017,2017,2017,2017,2017,2017,2017,2017,2017,2017,2017,2017,2017,2017,2017,2017,2017,2017,2017,2017,2017,2017,2017,2017,2017,2017,2017,2017,2017,2017,2017,2017,2017,2017,2017,2017,2017,2017,2017,2017,2017,2017,2017,2017,2017,2017,2017,2017,2017,2017,2017,2017,2017,2017,2017,2017,2017,2017,2017,2017,2017,2017,2017,2017,2017,2017,2017,2017,2017,2017,2017,2017,2017,2017,2017,2017,2017,2017,2017,2017,2017,2017,2017,2017,2017,2017,2017,2017,2017,2017,2017,2017,2017,2017,2017,2017,2017,2017,2017,2017,2017,2017,2017,2017,2017,2017,2017,2017,2017,2017,2017,2017,2017,2017,2017,2017,2017,2017,2017,2017,2017,2017,2017,2017,2017,2017,2017,2017,2017,2017,2017,2017,2017,2017,2017,2017,2017,2017,2017,2017,2017,2017,2017,2017,2017,2017,2017,2017,2017,2017,2017,2017,2017,2017,2017,2017,2017,2017,2017,2017,2017,2017,2017,2017,2017,2017,2017,2017,2017,2017,2017,2017,2017,2017,2017,2017,2017,2017,2017,2017,2017,2017,2017,2017,2017,2017,2017,2017,2017,2017,2017,2017,2017,2017,2017,2017,2017,2017,2017,2017,2017,2017,2017,2017,2017,2017,2017,2017,2017,2017,2017,2017,2017,2017,2017,2017,2017,2017,2017,2017,2017,2017,2017,2017,2017,2017,2017,2017,2017,2017,2017,2017,2017,2017,2017,2017,2017,2017,2017,2017,2017,2017,2017,2017,2017,2017,2017,2017,2017,2017,2017,2017,2017,2017,2017,2017,2017,2017,2017,2017,2017,2017,2017,2017,2017,2017,2017,2017,2017,2017,2017,2017,2017,2017,2017,2017,2017,2017,2017,2017,2017,2017,2017,2017,2017,2017,2017,2017,2017,2017,2017,2017,2017,2017,2017,2017,2017,2017,2017,2017,2017,2017,2017,2017,2017,2017,2017,2017,2017,2017,2017,2017,2017,2017,2017,2017,2017,2017,2017,2017,2017,2017,2017,2017,2017,2017,2017,2017,2017,2017,2017,2017,2017,2017,2017,2017,2017,2017,2017,2017,2017,2017,2017,2017,2017,2017,2017,2017,2017,2017,2017,2017,2017,2017,2017,2017,2017,2017,2017,2017,2017,2017,2017,2017,2017,2017,2017,2017,2017,2017,2017,2017,2017,2017,2017,2017,2017,2017,2017,2017,2017,2017,2017,2017,2017,2017,2017,2017,2017,2017,2017,2017,2017,2017,2017,2017,2017,2017,2017,2017,2017,2017,2017,2017,2017,2017,2017,2017,2017,2017,2017,2017,2017,2017,2017,2017,2017,2017,2017,2017,2017,2017,2017,2017,2017,2017,2017,2017,2017,2017,2017,2017,2017,2017,2017,2017,2017,2017,2017,2017,2017,2017,2017,2017,2017,2017,2017,2017,2017,2017,2017,2017,2017,2017,2017,2017,2017,2017,2017,2017,2017,2017,2017,2017,2017,2017,2017,2017,2017,2017,2017,2017,2017,2017,2017,2017,2017,2017,2017,2017,2017,2017,2017,2017,2017,2017,2017,2017,2017,2017,2017,2017,2017,2017,2017,2017,2017,2017,2017,2017,2017,2017,2017,2017,2017,2017,2017,2017,2017,2017,2017,2017,2017,2017,2017,2017,2017,2017,2017,2017,2017,2017,2017,2017,2017,2017,2017,2017,2017,2017,2017,2017,2017,2017,2017,2017,2017,2017,2017,2017,2017,2017,2017,2017,2017,2017,2017,2017,2017,2017,2017,2017,2017,2017,2017,2017,2017,2017,2017,2017,2017,2017,2017,2017,2017,2017,2017,2017,2017,2017,2017,2017,2017,2017,2017,2017,2017,2017,2017,2017,2017,2017,2017,2017,2017,2017,2017,2017,2017,2017,2017,2017,2017,2017,2017,2017,2017,2017,2017,2017,2017,2017,2017,2017,2017,2017,2017,2017,2017,2017,2017,2017,2017,2017,2017,2017,2017,2017,2017,2017,2017,2017,2017,2017,2017,2017,2017,2017,2017,2017,2017,2017,2017,2017,2017,2017,2017,2017,2017,2017,2017,2017,2017,2017,2017,2017,2017,2017,2017,2017,2017,2017,2017,2017,2017,2017,2017,2017,2017,2017,2017,2017,2017,2017,2017,2017,2017,2017,2017,2017,2017,2017,2017,2017,2017,2017,2017,2017,2017,2017,2017,2017,2017,2017,2017,2017,2017,2017,2017,2017,2017,2017,2017,2017,2017,2017,2017,2017,2017,2017,2017,2017,2017,2017,2017,2017,2017,2017,2017,2017,2017,2017,2017,2017,2017,2017,2017,2017,2017,2017,2017,2017,2017,2017,2017,2017,2017,2017,2017,2017,2017,2017,2017,2017,2017,2017,2017,2017,2017,2017,2017,2017,2017,2017,2017,2017,2017,2017,2017,2017,2017,2017,2017,2017,2017,2017,2017,2017,2017,2017,2017,2017,2017,2017,2017,2017,2017,2017,2017,2017,2017,2017,2017,2017,2017,2017,2017,2017,2017,2017,2017,2017,2017,2017,2017,2017,2017,2017,2017,2017,2017,2017,2017,2017,2017,2017,2017,2017,2017,2017,2017,2017,2017,2017,2017,2017,2017,2017,2017,2017,2017,2017,2017,2017,2017,2017,2017,2017,2017,2017,2017,2017,2017,2017,2017,2017,2017,2017,2017,2017,2017,2017,2017,2017,2017,2017,2017,2017,2017,2017,2017,2017,2017,2017,2017,2017,2017,2017,2017,2017,2017,2017,2017,2017,2017,2017,2017,2017,2017,2017,2017,2017,2017,2017,2017,2017,2017,2017,2017,2017,2017,2017,2017,2017,2017,2017,2017,2017,2017,2017,2017,2017,2017,2017,2017,2017,2017,2017,2017,2017,2017,2017,2017,2017,2017,2017,2017,2017,2017,2017,2017,2017,2017,2017,2017,2017,2017,2017,2017,2017,2017,2017,2017,2017,2017,2017,2017,2017,2017,2017,2017,2017,2017,2017,2017,2017,2017,2017,2017,2017,2017,2017,2017,2017,2017,2017,2017,2017,2017,2017,2017,2017,2017,2017,2017,2017,2017,2017,2017,2017,2017,2017,2017,2017,2017,2017,2017,2017,2017,2017,2017,2017,2017,2017,2017,2017,2017,2017,2017,2017,2017,2017,2017,2017,2017,2017,2017,2017,2017,2017,2017,2017,2017,2017,2017,2017,2017,2017,2017,2017,2017,2017,2017,2017,2017,2017,2017,2017,2017,2017,2017,2017,2017,2017,2017,2017,2017,2017,2017,2017,2017,2017,2017,2017,2017,2017,2017,2017,2017,2017,2017,2017,2017,2017,2017,2017,2017,2017,2017,2017,2017,2017,2017,2017,2017,2017,2017,2017,2017,2017,2017,2017,2017,2017,2017,2017,2017,2017,2017,2017,2017,2017,2017,2017,2017,2017,2017,2017,2017,2017,2017,2017,2017,2017,2017,2017,2017,2017,2017,2017,2017,2017,2017,2017,2017,2017,2017,2017,2017,2017,2017,2017,2017,2017,2017,2017,2017,2017,2017,2017,2017,2017,2017,2017,2017,2017,2017,2017,2017,2017,2017,2017,2017,2017,2017,2017,2017,2017,2017,2017,2017,2017,2017,2017,2017,2017,2017,2017,2017,2017,2017,2017,2017,2017,2017,2017,2017,2017,2017,2017,2017,2017,2017,2017,2017,2017,2017,2017,2017,2017,2017,2017,2017,2017,2017,2017,2017,2017,2017,2017,2017,2017,2017,2017,2017,2017,2017,2017,2017,2017,2017,2017,2017,2017,2017,2017,2017,2017,2017,2017,2017,2017,2017,2017,2017,2017,2017,2017,2017,2017,2017,2017,2017,2017,2017,2017,2017,2017,2017,2017,2017,2017,2017,2017,2017,2017,2017,2017,2017,2017,2017,2017,2017,2017,2017,2017,2017,2017,2017,2017,2017,2017,2017,2017,2017,2017,2017,2017,2017,2017,2017,2017,2017,2017,2017,2017,2017,2017,2017,2017,2017,2017,2017,2017,2017,2017,2017,2017,2017,2017,2017,2017,2017,2017,2017,2017,2017,2017,2017,2017,2017,2017,2017,2017,2017,2017,2017,2017,2017,2017,2017,2017,2017,2017,2017,2017,2017,2017,2017,2017,2017,2017,2017,2017,2017,2017,2017,2017,2017,2017,2017,2017,2017,2017,2017,2017,2017,2017,2017,2017,2017,2017,2017,2017,2017,2017,2017,2017,2017,2017,2017,2017,2017,2017,2017,2017,2017,2017,2017,2017,2017,2017,2017,2017,2017,2017,2017,2017,2017,2017,2017,2017,2017,2017,2017,2017,2017,2017,2017,2017,2017,2017,2017,2017,2017,2017,2017,2017,2017,2017,2017,2017,2017,2017,2017,2017,2017,2017,2017,2017,2017,2017,2017,2017,2017,2017,2017,2017,2017,2017,2017,2017,2017,2017,2017,2017,2017,2017,2017,2017,2017,2017,2017,2017,2017,2017,2017,2017,2017,2017,2017,2017,2017,2017,2017,2017,2017,2017,2017,2017,2017,2017,2017,2017,2017,2017,2017,2017,2017,2017,2017,2017,2017,2017,2017,2017,2017,2017,2017,2017,2017,2017,2017,2017,2017,2017,2017,2017,2017,2017,2017,2017,2017,2017,2017,2017,2017,2017,2017,2017,2017,2017,2017,2017,2017,2017,2017,2017,2017,2017,2017,2017,2017,2017,2017,2017,2017,2017,2017,2017,2017,2017,2017,2017,2017,2017,2017,2017,2017,2017,2017,2017,2017,2017,2017,2017,2017,2017,2017,2017,2017,2017,2017,2017,2017,2017,2017,2017,2017,2017,2017,2017,2017,2017,2017,2017,2017,2017,2017,2017,2017,2017,2017,2017,2017,2017,2017,2017,2017,2017,2017,2017,2017,2017,2017,2017,2017,2017,2017,2017,2017,2017,2017,2017,2017,2017,2017,2017,2017,2017,2017,2017,2017,2017,2017,2017,2017,2017,2017,2017,2017,2017,2017,2017,2017,2017,2017,2017,2017,2017,2017,2017,2017,2017,2017,2017,2017,2017,2017,2017,2017,2017,2017,2017,2017,2017,2017,2017,2017,2017,2017,2017,2017,2017,2017,2017,2017,2017,2017,2017,2017,2017,2017,2017,2017,2017,2017,2017,2017,2017,2017,2017,2017,2017,2017,2017,2017,2017,2017,2017,2017,2017,2017,2017,2017,2017,2017,2017,2017,2017,2017,2017,2017,2017,2017,2017,2017,2017,2017,2017,2017,2017,2017,2017,2017,2017,2017,2017,2017,2017,2017,2017,2017,2017,2017,2017,2017,2017,2017,2017,2017,2017,2017,2017,2017,2017,2017,2017,2017,2017,2017,2017,2017,2017,2017,2017,2017,2017,2017,2017,2017,2017,2017,2017,2017,2017,2017,2017,2017,2017,2017,2017,2017,2017,2017,2017,2017,2017,2017,2017,2017,2017,2017,2017,2017,2017,2017,2017,2017,2017,2017,2017,2017,2017,2017,2017,2017,2017,2017,2017,2017,2017,2017,2017,2017,2017,2017,2017,2017,2017,2017,2017,2017,2017,2017,2017,2017,2017,2017,2017,2017,2017,2017,2017,2017,2017,2017,2017,2017,2017,2017,2017,2017,2017,2017,2017,2017,2017,2017,2017,2017,2017,2017,2017,2017,2017,2017,2017,2017,2017,2017,2017,2017,2017,2017,2017,2017,2017,2017,2017,2017,2017,2017,2017,2017,2017,2017,2017,2017,2017,2017,2017,2017,2017,2017,2017,2017,2017,2017,2017,2017,2017,2017,2017,2017,2017,2017,2017,2017,2017,2017,2017,2017,2017,2017,2017,2017,2017,2017,2017,2017,2017,2017,2017,2017,2017,2017,2017,2017,2017,2017,2017,2017,2017,2017,2017,2017,2017,2017,2017,2017,2017,2017,2017,2017,2017,2017,2017,2017,2017,2017,2017,2017,2017,2017,2017,2017,2017,2017,2017,2017,2017,2017,2017,2017,2017,2017,2017,2017,2017,2017,2017,2017,2017,2017,2017,2017,2017,2017,2017,2017,2017,2017,2017,2017,2017,2017,2017,2017,2017,2017,2017,2017,2017,2017,2017,2017,2017,2017,2017,2017,2017,2017,2017,2017,2017,2017,2017,2017,2017,2017,2017,2017,2017,2017,2017,2017,2017,2017,2017,2017,2017,2017,2017,2017,2017,2017,2017,2017,2017,2017,2017,2017,2017,2017,2017,2017,2017,2017,2017,2017,2017,2017,2017,2017,2017,2017,2017,2017,2017,2017,2017,2017,2017,2017,2017,2017,2017,2017,2017,2017,2017,2017,2017,2017,2017,2017,2017,2017,2017,2017,2017,2017,2017,2017,2017,2017,2017,2017,2017,2017,2017,2017,2017,2017,2017,2017,2017,2017,2017,2017,2017,2017,2017,2017,2017,2017,2017,2017,2017,2017,2017,2017,2017,2017,2017,2017,2017,2017,2017,2017,2017,2017,2017,2017,2017,2017,2017,2017,2017,2017,2017,2017,2017,2017,2017,2017,2017,2017,2017,2017,2017,2017,2017,2017,2017,2017,2017,2017,2017,2017,2017,2017,2017,2017,2017,2017,2017,2017,2017,2017,2017,2017,2017,2017,2017,2017,2017,2017,2017,2017,2017,2017,2017,2017,2017,2017,2017,2017,2017,2017,2017,2017,2017,2017,2017,2017,2017,2017,2017,2017,2017,2017,2017,2017,2017,2017,2017,2017,2017,2017,2017,2017,2017,2017,2017,2017,2017,2017,2017,2017,2017,2017,2017,2017,2017,2017,2017,2017,2017,2017,2017,2017,2017,2017,2017,2017,2017,2017,2017,2017,2017,2017,2017,2017,2017,2017,2017,2017,2017,2017,2017,2017,2017,2017,2017,2017,2017,2017,2017,2017,2017,2017,2017,2017,2017,2017,2017,2017,2017,2017,2017,2017,2017,2017,2017,2017,2017,2017,2017,2017,2017,2017,2017,2017,2017,2017,2017,2017,2017,2017,2017,2017,2017,2017,2017,2017,2017,2017,2017,2017,2017,2017,2017,2017,2017,2017,2017,2017,2017,2017,2017,2017,2017,2017,2017,2017,2017,2017,2017,2017,2017,2017,2017,2017,2017,2017,2017,2017,2017,2017,2017,2017,2017,2017,2017,2017,2017,2017,2017,2017,2017,2017,2017,2017,2017,2017,2017,2017,2017,2017,2017,2017,2017,2017,2017,2017,2017,2017,2017,2017,2017,2017,2017,2017,2017,2017,2017,2017,2017,2017,2017,2017,2017,2017,2017,2017,2017,2017,2017,2017,2017,2017,2017,2017,2017,2017,2017,2017,2017,2017,2017,2017,2017,2017,2017,2017,2017,2017,2017,2017,2017,2017,2017,2017,2017,2017,2017,2017,2017,2017,2017,2017,2017,2017,2017,2017,2017,2017,2017,2017,2017,2017,2017,2017,2017,2017,2017,2017,2017,2017,2017,2017,2017,2017,2017,2017,2017,2017,2017,2017,2017,2017,2017,2017,2017,2017,2017,2017,2017,2017,2017,2017,2017,2017,2017,2017,2017,2017,2017,2017,2017,2017,2017,2017,2017,2017,2017,2017,2017,2017,2017,2017,2017,2017,2017,2017,2017,2017,2017,2017,2017,2017,2017,2017,2017,2017,2017,2017,2017,2017,2017,2017,2017,2017,2017,2017,2017,2017,2017,2017,2017,2017,2017,2017,2017,2017,2017,2017,2017,2017,2017,2017,2017,2017,2017,2017,2017,2017,2017,2017,2017,2017,2017,2017,2017,2017,2017,2017,2017,2017,2017,2017,2017,2017,2017,2017,2017,2017,2017,2017,2017,2017,2017,2017,2017,2017,2017,2017,2017,2017,2017,2017,2017,2017,2017,2017,2017,2017,2017,2017,2017,2017,2017,2017,2017,2017,2017,2017,2017,2017,2017,2017,2017,2017,2017,2017,2017,2017,2017,2017,2017,2017,2017,2017,2017,2017,2017,2017,2017,2017,2017,2017,2017,2017,2017,2017,2017,2017,2017,2017,2017,2017,2017,2017,2017,2017,2017,2017,2017,2017,2017,2017,2017,2017,2017,2017,2017,2017,2017,2017,2017,2017,2017,2017,2017,2017,2017,2017,2017,2017,2017,2017,2017,2017,2017,2017,2017,2017,2017,2017,2017,2017,2017,2017,2017,2017,2017,2017,2017,2017,2017,2017,2017,2017,2017,2017,2017,2017,2017,2017,2017,2017,2017,2017,2017,2017,2017,2017,2017,2017,2017,2017,2017,2017,2017,2017,2017,2017,2017,2017,2017,2017,2017,2017,2017,2017,2017,2017,2017,2017,2017,2017,2017,2017,2017,2017,2017,2017,2017,2017,2017,2017,2017,2017,2017,2017,2017,2017,2017,2017,2017,2017,2017,2017,2017,2017,2017,2017,2017,2017,2017,2017,2017,2017,2017,2017,2017,2017,2017,2017,2017,2017,2017,2017,2017,2017,2017,2017,2017,2017,2017,2017,2017,2017,2017,2017,2017,2017,2017,2017,2017,2017,2017,2017,2017,2017,2017,2017,2017,2017,2017,2017,2017,2017,2017,2017,2017,2017,2017,2017,2017,2017,2017,2017,2017,2017,2017,2017,2017,2017,2017,2017,2017,2017,2017,2017,2017,2017,2017,2017,2017,2017,2017,2017,2017,2017,2017,2017,2017,2017,2017,2017,2017,2017,2017,2017,2017,2017,2017,2017,2017,2017,2017,2017,2017,2017,2017,2017,2017,2017,2017,2017,2017,2017,2017,2017,2017,2017,2017,2017,2017,2017,2017,2017,2017,2017,2017,2017,2017,2017,2017,2017,2017,2017,2017,2017,2017,2017,2017,2017,2017,2017,2017,2017,2017,2017,2017,2017,2017,2017,2017,2017,2017,2017,2017,2017,2017,2017,2017,2017,2017,2017,2017,2017,2017,2017,2017,2017,2017,2017,2017,2017,2017,2017,2017,2017,2017,2017,2017,2017,2017,2017,2017,2017,2017,2017,2017,2017,2017,2017,2017,2017,2017,2017,2017,2017,2017,2017,2017,2017,2017,2017,2017,2017,2017,2017,2017,2017,2017,2017,2017,2017,2017,2017,2017,2017,2017,2017,2017,2017,2017,2017,2017,2017,2017,2017,2017,2017,2017,2017,2017,2017,2017,2017,2017,2017,2017,2017,2017,2017,2017,2017,2017,2017,2017,2017,2017,2017,2017,2017,2017,2017,2017,2017,2017,2017,2017,2017,2017,2017,2017,2017,2017,2017,2017,2017,2017,2017,2017,2017,2017,2017,2017,2017,2017,2017,2017,2017,2017,2017,2017,2017,2017,2017,2017,2017,2017,2017,2017,2017,2017,2017,2017,2017,2017,2017,2017,2017,2017,2017,2017,2017,2017,2017,2017,2017,2017,2017,2017,2017,2017,2017,2017,2017,2017,2017,2017,2017,2017,2017,2017,2017,2017,2017,2017,2017,2017,2017,2017,2017,2017,2017,2017,2017,2017,2017,2017,2017,2017,2017,2017,2017,2017,2017,2017,2017,2017,2017,2017,2017,2017,2017,2017,2017,2017,2017,2017,2017,2017,2017,2017,2017,2017,2017,2017,2017,2017,2017,2017,2017,2017,2017,2017,2017,2017,2017,2017,2017,2017,2017,2017,2017,2017,2017,2017,2017,2017,2017,2017,2017,2017,2017,2017,2017,2017,2017,2017,2017,2017,2017,2017,2017,2017,2017,2017,2017,2017,2017,2017,2017,2017,2017,2017,2017,2017,2017,2017,2017,2017,2017,2017,2017,2017,2017,2017,2017,2017,2017,2017,2017,2017,2017,2017,2017,2017,2017,2017,2017,2017,2017,2017,2017,2017,2017,2017,2017,2017,2017,2017,2017,2017,2017,2017,2017,2017,2017,2017,2017,2017,2017,2017,2017,2017,2017,2017,2017,2017,2017,2017,2017,2017,2017,2017,2017,2017,2017,2017,2017,2017,2017,2017,2017,2017,2017,2017,2017,2017,2017,2017,2017,2017,2017,2017,2017,2017,2017,2017,2017,2017,2017,2017,2017,2017,2017,2017,2017,2017,2017,2017,2017,2017,2017,2017,2017,2017,2017,2017,2017,2017,2017,2017,2017,2017,2017,2017,2017,2017,2017,2017,2017,2017,2017,2017,2017,2017,2017,2017,2017,2017,2017,2017,2017,2017,2017,2017,2017,2017,2017,2017,2017,2017,2017,2017,2017,2017,2017,2017,2017,2017,2017,2017,2017,2017,2017,2017,2017,2017,2017,2017,2017,2017,2017,2017,2017,2017,2017,2017,2017,2017,2017,2017,2017,2017,2017,2017,2017,2017,2017,2017,2017,2017,2017,2017,2017,2017,2017,2017,2017,2017,2017,2017,2017,2017,2017,2017,2017,2017,2017,2017,2017,2017,2017,2017,2017,2017,2017,2017,2017,2017,2017,2017,2017,2017,2017,2017,2017,2017,2017,2017,2017,2017,2017,2017,2017,2017,2017,2017,2017,2017,2017,2017,2017,2017,2017,2017,2017,2017,2017,2017,2017,2017,2017,2017,2017,2017,2017,2017,2017,2017,2017,2017,2017,2017,2017,2017,2017,2017,2017,2017,2017,2017,2017,2017,2017,2017,2017,2017,2017,2017,2017,2017,2017,2017,2017,2017,2017,2017,2017,2017,2017,2017,2017,2017,2017,2017,2017,2017,2017,2017,2017,2017,2017,2017,2017,2017,2017,2017,2017,2017,2017,2017,2017,2017,2017,2017,2017,2017,2017,2017,2017,2017,2017,2017,2017,2017,2017,2017,2017,2017,2017,2017,2017,2017,2017,2017,2017,2017,2017,2017,2017,2017,2017,2017,2017,2017,2017,2017,2017,2017,2017,2017,2017,2017,2017,2017,2017,2017,2017,2017,2017,2017,2017,2017,2017,2017,2017,2017,2017,2017,2017,2017,2017,2017,2017,2017,2017,2017,2017,2017,2017,2017,2017,2017,2017,2017,2017,2017,2017,2017,2017,2017,2017,2017,2017,2017,2017,2017,2017,2017,2017,2017,2017,2017,2017,2017,2017,2017,2017,2017,2017,2017,2017,2017,2017,2017,2017,2017,2017,2017,2017,2017,2017,2017,2017,2017,2017,2017,2017,2017,2017,2017,2017,2017,2017,2017,2017,2017,2017,2017,2017,2017,2017,2017,2017,2017,2017,2017,2017,2017,2017,2017,2017,2017,2017,2017,2017,2017,2017,2017,2017,2017,2017,2017,2017,2017,2017,2017,2017,2017,2017,2017,2017,2017,2017,2017,2017,2017,2017,2017,2017,2017,2017,2017,2017,2017,2017,2017,2017,2017,2017,2017,2017,2017,2017,2017,2017,2017,2017,2017,2017,2017,2017,2017,2017,2017,2017,2017,2017,2017,2017,2017,2017,2017,2017,2017,2017,2017,2017,2017,2017,2017,2017,2017,2017,2017,2017,2017,2017,2017,2017,2017,2017,2017,2017,2017,2017,2017,2017,2017,2017,2017,2017,2017,2017,2017,2017,2017,2017,2017,2017,2017,2017,2017,2017,2017,2017,2017,2017,2017,2017,2017,2017,2017,2017,2017,2017,2017,2017,2017,2017,2017,2017,2017,2017,2017,2017,2017,2017,2017,2017,2017,2017,2017,2017,2017,2017,2017,2017,2017,2017,2017,2017,2017,2017,2017,2017,2017,2017,2017,2017,2017,2017,2017,2017,2017,2017,2017,2017,2017,2017,2017,2017,2017,2017,2017,2017,2017,2017,2017,2017,2017,2017,2017,2017,2017,2017,2017,2017,2017,2017,2017,2017,2017,2017,2017,2017,2017,2017,2017,2017,2017,2017,2017,2017,2017,2017,2017,2017,2017,2017,2017,2017,2017,2017,2017,2017,2017,2017,2017,2017,2017,2017,2017,2017,2017,2017,2017,2017,2017,2017,2017,2017,2017,2017,2017,2017,2017,2017,2017,2017,2017,2017,2017,2017,2017,2017,2017,2017,2017,2017,2017,2017,2017,2017,2017,2017,2017,2017,2017,2017,2017,2017,2017,2017,2017,2017,2017,2017,2017,2017,2017,2017,2017,2017,2017,2017,2017,2017,2017,2017,2017,2017,2017,2017,2017,2017,2017,2017,2017,2017,2017,2017,2017,2017,2017,2017,2017,2017,2017,2017,2017,2017,2017,2017,2017,2017,2017,2017,2017,2017,2017,2017,2017,2017,2017,2017,2017,2017,2017,2017,2017,2017,2017,2017,2017,2017,2017,2017,2017,2017,2017,2017,2017,2017,2017,2017,2017,2017,2017,2017,2017,2017,2017,2017,2017,2017,2017,2017,2017,2017,2017,2017,2017,2017,2017,2017,2017,2017,2017,2017,2017,2017,2017,2017,2017,2017,2017,2017,2017,2017,2017,2017,2017,2017,2017,2017,2017,2017,2017,2017,2017,2017,2017,2017,2017,2017,2017,2017,2017,2017,2017,2017,2017,2017,2017,2017,2017,2017,2017,2017,2017,2017,2017,2017,2017,2017,2017,2017,2017,2017,2017,2017,2017,2017,2017,2017,2017,2017,2017,2017,2017,2017,2017,2017,2017,2017,2017,2017,2017,2017,2017,2017,2017,2017,2017,2017,2017,2017,2017,2017,2017,2017,2017,2017,2017,2017,2017,2017,2017,2017,2017,2017,2017,2017,2017,2017,2017,2017,2017,2017,2017,2017,2017,2017,2017,2017,2017,2017,2017,2017,2017,2017,2017,2017,2017,2017,2017,2017,2017,2017,2017,2017,2017,2017,2017,2017,2017,2017,2017,2017,2017,2017,2017,2017,2017,2017,2017,2017,2017,2017,2017,2017,2017,2017,2017,2017,2017,2017,2017,2017,2017,2017,2017,2017,2017,2017,2017,2017,2017,2017,2017,2017,2017,2017,2017,2017,2017,2017,2017,2017,2017,2017,2017,2017,2017,2017,2017,2017,2017,2017,2017,2017,2017,2017,2017,2017,2017,2017,2017,2017,2017,2017,2017,2017,2017,2017,2017,2017,2017,2017,2017,2017,2017,2017,2017,2017,2017,2017,2017,2017,2017,2017,2017,2017,2017,2017,2017,2017,2017,2017,2017,2017,2017,2017,2017,2017,2017,2017,2017,2017,2017,2017,2017,2017,2017,2017,2017,2017,2017,2017,2017,2017,2017,2017,2017,2017,2017,2017,2017,2017,2017,2017,2017,2017,2017,2017,2017,2017,2017,2017,2017,2017,2017,2017,2017,2017,2017,2017,2017,2017,2017,2017,2017,2017,2017,2017,2017,2017,2017,2017,2017,2017,2017,2017,2017,2017,2017,2017,2017,2017,2017,2017,2017,2017,2017,2017,2017,2017,2017,2017,2017,2017,2017,2017,2017,2017,2017,2017,2017,2017,2017,2017,2017,2017,2017,2017,2017,2017,2017,2017,2017,2017,2017,2017,2017,2017,2017,2017,2017,2017,2017,2017,2017,2017,2017,2017,2017,2017,2017,2017,2017,2017,2017,2017,2017,2017,2017,2017,2017,2017,2017,2017,2017,2017,2017,2017,2017,2017,2017,2017,2017,2017,2017,2017,2017,2017,2017,2017,2017,2017,2017,2017,2017,2017,2017,2017,2017,2017,2017,2017,2017,2017,2017,2017,2017,2017,2017,2017,2017,2017,2017,2017,2017,2017,2017,2017,2017,2017,2017,2017,2017,2017,2017,2017,2017,2017,2017,2017,2017,2017,2017,2017,2017,2017,2017,2017,2017,2017,2017,2017,2017,2017,2017,2017,2017,2017,2017,2017,2017,2017,2017,2017,2017,2017,2017,2017,2017,2017,2017,2017,2017,2017,2017,2017,2017,2017,2017,2017,2017,2017,2017,2017,2017,2017,2017,2017,2017,2017,2017,2017,2017,2017,2017,2017,2017,2017,2017,2017,2017,2017,2017,2017,2017,2017,2017,2017,2017,2017,2017,2017,2017,2017,2017,2017,2017,2017,2017,2017,2017,2017,2017,2017,2017,2017,2017,2017,2017,2017,2017,2017,2017,2017,2017,2017,2017,2017,2017,2017,2017,2017,2017,2017,2017,2017,2017,2017,2017,2017,2017,2017,2017,2017,2017,2017,2017,2017,2017,2017,2017,2017,2017,2017,2017,2017,2017,2017,2017,2017,2017,2017,2017,2017,2017,2017,2017,2017,2017,2017,2017,2017,2017,2017,2017,2017,2017,2017,2017,2017,2017,2017,2017,2017,2017,2017,2017,2017,2017,2017,2017,2017,2017,2017,2017,2017,2017,2017,2017,2017,2017,2017,2017,2017,2017,2017,2017,2017,2017,2017,2017,2017,2017,2017,2017,2017,2017,2017,2017,2017,2017,2017,2017,2017,2017,2017,2017,2017,2017,2017,2017,2017,2017,2017,2017,2017,2017,2017,2017,2017,2017,2017,2017,2017,2017,2017,2017,2017,2017,2017,2017,2017,2017,2017,2017,2017,2017,2017,2017,2017,2017,2017,2017,2017,2017,2017,2017,2017,2017,2017,2017,2017,2017,2017,2017,2017,2017,2017,2017,2017,2017,2017,2017,2017,2017,2017,2017,2017,2017,2017,2017,2017,2017,2017,2017,2017,2017,2017,2017,2017,2017,2017,2017,2017,2017,2017,2017,2017,2017,2017,2017,2017,2017,2017,2017,2017,2017,2017,2017,2017,2017,2017,2017,2017,2017,2017,2017,2017,2017,2017,2017,2017,2017,2017,2017,2017,2017,2017,2017,2017,2017,2017,2017,2017,2017,2017,2017,2017,2017,2017,2017,2017,2017,2017,2017,2017,2017,2017,2017,2017,2017,2017,2017,2017,2017,2017,2017,2017,2017,2017,2017,2017,2017,2017,2017,2017,2017,2017,2017,2017,2017,2017,2017,2017,2017,2017,2017,2017,2017,2017,2017,2017,2017,2017,2017,2017,2017,2017,2017,2017,2017,2017,2017,2017,2017,2017,2017,2017,2017,2017,2017,2017,2017,2017,2017,2017,2017,2017,2017,2017,2017,2017,2017,2017,2017,2017,2017,2017,2017,2017,2017,2017,2017,2017,2017,2017,2017,2017,2017,2017,2017,2017,2017,2017,2017,2017,2017,2017,2017,2017,2017,2017,2017,2017,2017,2017,2017,2017,2017,2017,2017,2017,2017,2017,2017,2017,2017,2017,2017,2017,2017,2017,2018,2018,2018,2018,2018,2018,2018,2018,2018,2018,2018,2018,2018,2018,2018,2018,2018,2018,2018,2018,2018,2018,2018,2018,2018,2018,2018,2018,2018,2018,2018,2018,2018,2018,2018,2018,2018,2018,2018,2018,2018,2018,2018,2018,2018,2018,2018,2018,2018,2018,2018,2018,2018,2018,2018,2018,2018,2018,2018,2018,2018,2018,2018,2018,2018,2018,2018,2018,2018,2018,2018,2018,2018,2018,2018,2018,2018,2018,2018,2018,2018,2018,2018,2018,2018,2018,2018,2018,2018,2018,2018,2018,2018,2018,2018,2018,2018,2018,2018,2018,2018,2018,2018,2018,2018,2018,2018,2018,2018,2018,2018,2018,2018,2018,2018,2018,2018,2018,2018,2018,2018,2018,2018,2018,2018,2018,2018,2018,2018,2018,2018,2018,2018,2018,2018,2018,2018,2018,2018,2018,2018,2018,2018,2018,2018,2018,2018,2018,2018,2018,2018,2018,2018,2018,2018,2018,2018,2018,2018,2018,2018,2018,2018,2018,2018,2018,2018,2018,2018,2018,2018,2018,2018,2018,2018,2018,2018,2018,2018,2018,2018,2018,2018,2018,2018,2018,2018,2018,2018,2018,2018,2018,2018,2018,2018,2018,2018,2018,2018,2018,2018,2018,2018,2018,2018,2018,2018,2018,2018,2018,2018,2018,2018,2018,2018,2018,2018,2018,2018,2018,2018,2018,2018,2018,2018,2018,2018,2018,2018,2018,2018,2018,2018,2018,2018,2018,2018,2018,2018,2018,2018,2018,2018,2018,2018,2018,2018,2018,2018,2018,2018,2018,2018,2018,2018,2018,2018,2018,2018,2018,2018,2018,2018,2018,2018,2018,2018,2018,2018,2018,2018,2018,2018,2018,2018,2018,2018,2018,2018,2018,2018,2018,2018,2018,2018,2018,2018,2018,2018,2018,2018,2018,2018,2018,2018,2018,2018,2018,2018,2018,2018,2018,2018,2018,2018,2018,2018,2018,2018,2018,2018,2018,2018,2018,2018,2018,2018,2018,2018,2018,2018,2018,2018,2018,2018,2018,2018,2018,2018,2018,2018,2018,2018,2018,2018,2018,2018,2018,2018,2018,2018,2018,2018,2018,2018,2018,2018,2018,2018,2018,2018,2018,2018,2018,2018,2018,2018,2018,2018,2018,2018,2018,2018,2018,2018,2018,2018,2018,2018,2018,2018,2018,2018,2018,2018,2018,2018,2018,2018,2018,2018,2018,2018,2018,2018,2018,2018,2018,2018,2018,2018,2018,2018,2018,2018,2018,2018,2018,2018,2018,2018,2018,2018,2018,2018,2018,2018,2018,2018,2018,2018,2018,2018,2018,2018,2018,2018,2018,2018,2018,2018,2018,2018,2018,2018,2018,2018,2018,2018,2018,2018,2018,2018,2018,2018,2018,2018,2018,2018,2018,2018,2018,2018,2018,2018,2018,2018,2018,2018,2018,2018,2018,2018,2018,2018,2018,2018,2018,2018,2018,2018,2018,2018,2018,2018,2018,2018,2018,2018,2018,2018,2018,2018,2018,2018,2018,2018,2018,2018,2018,2018,2018,2018,2018,2018,2018,2018,2018,2018,2018,2018,2018,2018,2018,2018,2018,2018,2018,2018,2018,2018,2018,2018,2018,2018,2018,2018,2018,2018,2018,2018,2018,2018,2018,2018,2018,2018,2018,2018,2018,2018,2018,2018,2018,2018,2018,2018,2018,2018,2018,2018,2018,2018,2018,2018,2018,2018,2018,2018,2018,2018,2018,2018,2018,2018,2018,2018,2018,2018,2018,2018,2018,2018,2018,2018,2018,2018,2018,2018,2018,2018,2018,2018,2018,2018,2018,2018,2018,2018,2018,2018,2018,2018,2018,2018,2018,2018,2018,2018,2018,2018,2018,2018,2018,2018,2018,2018,2018,2018,2018,2018,2018,2018,2018,2018,2018,2018,2018,2018,2018,2018,2018,2018,2018,2018,2018,2018,2018,2018,2018,2018,2018,2018,2018,2018,2018,2018,2018,2018,2018,2018,2018,2018,2018,2018,2018,2018,2018,2018,2018,2018,2018,2018,2018,2018,2018,2018,2018,2018,2018,2018,2018,2018,2018,2018,2018,2018,2018,2018,2018,2018,2018,2018,2018,2018,2018,2018,2018,2018,2018,2018,2018,2018,2018,2018,2018,2018,2018,2018,2018,2018,2018,2018,2018,2018,2018,2018,2018,2018,2018,2018,2018,2018,2018,2018,2018,2018,2018,2018,2018,2018,2018,2018,2018,2018,2018,2018,2018,2018,2018,2018,2018,2018,2018,2018,2018,2018,2018,2018,2018,2018,2018,2018,2018,2018,2018,2018,2018,2018,2018,2018,2018,2018,2018,2018,2018,2018,2018,2018,2018,2018,2018,2018,2018,2018,2018,2018,2018,2018,2018,2018,2018,2018,2018,2018,2018,2018,2018,2018,2018,2018,2018,2018,2018,2018,2018,2018,2018,2018,2018,2018,2018,2018,2018,2018,2018,2018,2018,2018,2018,2018,2018,2018,2018,2018,2018,2018,2018,2018,2018,2018,2018,2018,2018,2018,2018,2018,2018,2018,2018,2018,2018,2018,2018,2018,2018,2018,2018,2018,2018,2018,2018,2018,2018,2018,2018,2018,2018,2018,2018,2018,2018,2018,2018,2018,2018,2018,2018,2018,2018,2018,2018,2018,2018,2018,2018,2018,2018,2018,2018,2018,2018,2018,2018,2018,2018,2018,2018,2018,2018,2018,2018,2018,2018,2018,2018,2018,2018,2018,2018,2018,2018,2018,2018,2018,2018,2018,2018,2018,2018,2018,2018,2018,2018,2018,2018,2018,2018,2018,2018,2018,2018,2018,2018,2018,2018,2018,2018,2018,2018,2018,2018,2018,2018,2018,2018,2018,2018,2018,2018,2018,2018,2018,2018,2018,2018,2018,2018,2018,2018,2018,2018,2018,2018,2018,2018,2018,2018,2018,2018,2018,2018,2018,2018,2018,2018,2018,2018,2018,2018,2018,2018,2018,2018,2018,2018,2018,2018,2018,2018,2018,2018,2018,2018,2018,2018,2018,2018,2018,2018,2018,2018,2018,2018,2018,2018,2018,2018,2018,2018,2018,2018,2018,2018,2018,2018,2018,2018,2018,2018,2018,2018,2018,2018,2018,2018,2018,2018,2018,2018,2018,2018,2018,2018,2018,2018,2018,2018,2018,2018,2018,2018,2018,2018,2018,2018,2018,2018,2018,2018,2018,2018,2018,2018,2018,2018,2018,2018,2018,2018,2018,2018,2018,2018,2018,2018,2018,2018,2018,2018,2018,2018,2018,2018,2018,2018,2018,2018,2018,2018,2018,2018,2018,2018,2018,2018,2018,2018,2018,2018,2018,2018,2018,2018,2018,2018,2018,2018,2018,2018,2018,2018,2018,2018,2018,2018,2018,2018,2018,2018,2018,2018,2018,2018,2018,2018,2018,2018,2018,2018,2018,2018,2018,2018,2018,2018,2018,2018,2018,2018,2018,2018,2018,2018,2018,2018,2018,2018,2018,2018,2018,2018,2018,2018,2018,2018,2018,2018,2018,2018,2018,2018,2018,2018,2018,2018,2018,2018,2018,2018,2018,2018,2018,2018,2018,2018,2018,2018,2018,2018,2018,2018,2018,2018,2018,2018,2018,2018,2018,2018,2018,2018,2018,2018,2018,2018,2018,2018,2018,2018,2018,2018,2018,2018,2018,2018,2018,2018,2018,2018,2018,2018,2018,2018,2018,2018,2018,2018,2018,2018,2018,2018,2018,2018,2018,2018,2018,2018,2018,2018,2018,2018,2018,2018,2018,2018,2018,2018,2018,2018,2018,2018,2018,2018,2018,2018,2018,2018,2018,2018,2018,2018,2018,2018,2018,2018,2018,2018,2018,2018,2018,2018,2018,2018,2018,2018,2018,2018,2018,2018,2018,2018,2018,2018,2018,2018,2018,2018,2018,2018,2018,2018,2018,2018,2018,2018,2018,2018,2018,2018,2018,2018,2018,2018,2018,2018,2018,2018,2018,2018,2018,2018,2018,2018,2018,2018,2018,2018,2018,2018,2018,2018,2018,2018,2018,2018,2018,2018,2018,2018,2018,2018,2018,2018,2018,2018,2018,2018,2018,2018,2018,2018,2018,2018,2018,2018,2018,2018,2018,2018,2018,2018,2018,2018,2018,2018,2018,2018,2018,2018,2018,2018,2018,2018,2018,2018,2018,2018,2018,2018,2018,2018,2018,2018,2018,2018,2018,2018,2018,2018,2018,2018,2018,2018,2018,2018,2018,2018,2018,2018,2018,2018,2018,2018,2018,2018,2018,2018,2018,2018,2018,2018,2018,2018,2018,2018,2018,2018,2018,2018,2018,2018,2018,2018,2018,2018,2018,2018,2018,2018,2018,2018,2018,2018,2018,2018,2018,2018,2018,2018,2018,2018,2018,2018,2018,2018,2018,2018,2018,2018,2018,2018,2018,2018,2018,2018,2018,2018,2018,2018,2018,2018,2018,2018,2018,2018,2018,2018,2018,2018,2018,2018,2018,2018,2018,2018,2018,2018,2018,2018,2018,2018,2018,2018,2018,2018,2018,2018,2018,2018,2018,2018,2018,2018,2018,2018,2018,2018,2018,2018,2018,2018,2018,2018,2018,2018,2018,2018,2018,2018,2018,2018,2018,2018,2018,2018,2018,2018,2018,2018,2018,2018,2018,2018,2018,2018,2018,2018,2018,2018,2018,2018,2018,2018,2018,2018,2018,2018,2018,2018,2018,2018,2018,2018,2018,2018,2018,2018,2018,2018,2018,2018,2018,2018,2018,2018,2018,2018,2018,2018,2018,2018,2018,2018,2018,2018,2018,2018,2018,2018,2018,2018,2018,2018,2018,2018,2018,2018,2018,2018,2018,2018,2018,2018,2018,2018,2018,2018,2018,2018,2018,2018,2018,2018,2018,2018,2018,2018,2018,2018,2018,2018,2018,2018,2018,2018,2018,2018,2018,2018,2018,2018,2018,2018,2018,2018,2018,2018,2018,2018,2018,2018,2018,2018,2018,2018,2018,2018,2018,2018,2018,2018,2018,2018,2018,2018,2018,2018,2018,2018,2018,2018,2018,2018,2018,2018,2018,2018,2018,2018,2018,2018,2018,2018,2018,2018,2018,2018,2018,2018,2018,2018,2018,2018,2018,2018,2018,2018,2018,2018,2018,2018,2018,2018,2018,2018,2018,2018,2018,2018,2018,2018,2018,2018,2018,2018,2018,2018,2018,2018,2018,2018,2018,2018,2018,2018,2018,2018,2018,2018,2018,2018,2018,2018,2018,2018,2018,2018,2018,2018,2018,2018,2018,2018,2018,2018,2018,2018,2018,2018,2018,2018,2018,2018,2018,2018,2018,2018,2018,2018,2018,2018,2018,2018,2018,2018,2018,2018,2018,2018,2018,2018,2018,2018,2018,2018,2018,2018,2018,2018,2018,2018,2018,2018,2018,2018,2018,2018,2018,2018,2018,2018,2018,2018,2018,2018,2018,2018,2018,2018,2018,2018,2018,2018,2018,2018,2018,2018,2018,2018,2018,2018,2018,2018,2018,2018,2018,2018,2018,2018,2018,2018,2018,2018,2018,2018,2018,2018,2018,2018,2018,2018,2018,2018,2018,2018,2018,2018,2018,2018,2018,2018,2018,2018,2018,2018,2018,2018,2018,2018,2018,2018,2018,2018,2018,2018,2018,2018,2018,2018,2018,2018,2018,2018,2018,2018,2018,2018,2018,2018,2018,2018,2018,2018,2018,2018,2018,2018,2018,2018,2018,2018,2018,2018,2018,2018,2018,2018,2018,2018,2018,2018,2018,2018,2018,2018,2018,2018,2018,2018,2018,2018,2018,2018,2018,2018,2018,2018,2018,2018,2018,2018,2018,2018,2018,2018,2018,2018,2018,2018,2018,2018,2018,2018,2018,2018,2018,2018,2018,2018,2018,2018,2018,2018,2018,2018,2018,2018,2018,2018,2018,2018,2018,2018,2018,2018,2018,2018,2018,2018,2018,2018,2018,2018,2018,2018,2018,2018,2018,2018,2018,2018,2018,2018,2018,2018,2018,2018,2018,2018,2018,2018,2018,2018,2018,2018,2018,2018,2018,2018,2018,2018,2018,2018,2018,2018,2018,2018,2018,2018,2018,2018,2018,2018,2018,2018,2018,2018,2018,2018,2018,2018,2018,2018,2018,2018,2018,2018,2018,2018,2018,2018,2018,2018,2018,2018,2018,2018,2018,2018,2018,2018,2018,2018,2018,2018,2018,2018,2018,2018,2018,2018,2018,2018,2018,2018,2018,2018,2018,2018,2018,2018,2018,2018,2018,2018,2018,2018,2018,2018,2018,2018,2018,2018,2018,2018,2018,2018,2018,2018,2018,2018,2018,2018,2018,2018,2018,2018,2018,2018,2018,2018,2018,2018,2018,2018,2018,2018,2018,2018,2018,2018,2018,2018,2018,2018,2018,2018,2018,2018,2018,2018,2018,2018,2018,2018,2018,2018,2018,2018,2018,2018,2018,2018,2018,2018,2018,2018,2018,2018,2018,2018,2018,2018,2018,2018,2018,2018,2018,2018,2018,2018,2018,2018,2018,2018,2018,2018,2018,2018,2018,2018,2018,2018,2018,2018,2018,2018,2018,2018,2018,2018,2018,2018,2018,2018,2018,2018,2018,2018,2018,2018,2018,2018,2018,2018,2018,2018,2018,2018,2018,2018,2018,2018,2018,2018,2018,2018,2018,2018,2018,2018,2018,2018,2018,2018,2018,2018,2018,2018,2018,2018,2018,2018,2018,2018,2018,2018,2018,2018,2018,2018,2018,2018,2018,2018,2018,2018,2018,2018,2018,2018,2018,2018,2018,2018,2018,2018,2018,2018,2018,2018,2018,2018,2018,2018,2018,2018,2018,2018,2018],\"yaxis\":\"y\",\"type\":\"scattergl\"}],                        {\"template\":{\"data\":{\"bar\":[{\"error_x\":{\"color\":\"#2a3f5f\"},\"error_y\":{\"color\":\"#2a3f5f\"},\"marker\":{\"line\":{\"color\":\"#E5ECF6\",\"width\":0.5},\"pattern\":{\"fillmode\":\"overlay\",\"size\":10,\"solidity\":0.2}},\"type\":\"bar\"}],\"barpolar\":[{\"marker\":{\"line\":{\"color\":\"#E5ECF6\",\"width\":0.5},\"pattern\":{\"fillmode\":\"overlay\",\"size\":10,\"solidity\":0.2}},\"type\":\"barpolar\"}],\"carpet\":[{\"aaxis\":{\"endlinecolor\":\"#2a3f5f\",\"gridcolor\":\"white\",\"linecolor\":\"white\",\"minorgridcolor\":\"white\",\"startlinecolor\":\"#2a3f5f\"},\"baxis\":{\"endlinecolor\":\"#2a3f5f\",\"gridcolor\":\"white\",\"linecolor\":\"white\",\"minorgridcolor\":\"white\",\"startlinecolor\":\"#2a3f5f\"},\"type\":\"carpet\"}],\"choropleth\":[{\"colorbar\":{\"outlinewidth\":0,\"ticks\":\"\"},\"type\":\"choropleth\"}],\"contour\":[{\"colorbar\":{\"outlinewidth\":0,\"ticks\":\"\"},\"colorscale\":[[0.0,\"#0d0887\"],[0.1111111111111111,\"#46039f\"],[0.2222222222222222,\"#7201a8\"],[0.3333333333333333,\"#9c179e\"],[0.4444444444444444,\"#bd3786\"],[0.5555555555555556,\"#d8576b\"],[0.6666666666666666,\"#ed7953\"],[0.7777777777777778,\"#fb9f3a\"],[0.8888888888888888,\"#fdca26\"],[1.0,\"#f0f921\"]],\"type\":\"contour\"}],\"contourcarpet\":[{\"colorbar\":{\"outlinewidth\":0,\"ticks\":\"\"},\"type\":\"contourcarpet\"}],\"heatmap\":[{\"colorbar\":{\"outlinewidth\":0,\"ticks\":\"\"},\"colorscale\":[[0.0,\"#0d0887\"],[0.1111111111111111,\"#46039f\"],[0.2222222222222222,\"#7201a8\"],[0.3333333333333333,\"#9c179e\"],[0.4444444444444444,\"#bd3786\"],[0.5555555555555556,\"#d8576b\"],[0.6666666666666666,\"#ed7953\"],[0.7777777777777778,\"#fb9f3a\"],[0.8888888888888888,\"#fdca26\"],[1.0,\"#f0f921\"]],\"type\":\"heatmap\"}],\"heatmapgl\":[{\"colorbar\":{\"outlinewidth\":0,\"ticks\":\"\"},\"colorscale\":[[0.0,\"#0d0887\"],[0.1111111111111111,\"#46039f\"],[0.2222222222222222,\"#7201a8\"],[0.3333333333333333,\"#9c179e\"],[0.4444444444444444,\"#bd3786\"],[0.5555555555555556,\"#d8576b\"],[0.6666666666666666,\"#ed7953\"],[0.7777777777777778,\"#fb9f3a\"],[0.8888888888888888,\"#fdca26\"],[1.0,\"#f0f921\"]],\"type\":\"heatmapgl\"}],\"histogram\":[{\"marker\":{\"pattern\":{\"fillmode\":\"overlay\",\"size\":10,\"solidity\":0.2}},\"type\":\"histogram\"}],\"histogram2d\":[{\"colorbar\":{\"outlinewidth\":0,\"ticks\":\"\"},\"colorscale\":[[0.0,\"#0d0887\"],[0.1111111111111111,\"#46039f\"],[0.2222222222222222,\"#7201a8\"],[0.3333333333333333,\"#9c179e\"],[0.4444444444444444,\"#bd3786\"],[0.5555555555555556,\"#d8576b\"],[0.6666666666666666,\"#ed7953\"],[0.7777777777777778,\"#fb9f3a\"],[0.8888888888888888,\"#fdca26\"],[1.0,\"#f0f921\"]],\"type\":\"histogram2d\"}],\"histogram2dcontour\":[{\"colorbar\":{\"outlinewidth\":0,\"ticks\":\"\"},\"colorscale\":[[0.0,\"#0d0887\"],[0.1111111111111111,\"#46039f\"],[0.2222222222222222,\"#7201a8\"],[0.3333333333333333,\"#9c179e\"],[0.4444444444444444,\"#bd3786\"],[0.5555555555555556,\"#d8576b\"],[0.6666666666666666,\"#ed7953\"],[0.7777777777777778,\"#fb9f3a\"],[0.8888888888888888,\"#fdca26\"],[1.0,\"#f0f921\"]],\"type\":\"histogram2dcontour\"}],\"mesh3d\":[{\"colorbar\":{\"outlinewidth\":0,\"ticks\":\"\"},\"type\":\"mesh3d\"}],\"parcoords\":[{\"line\":{\"colorbar\":{\"outlinewidth\":0,\"ticks\":\"\"}},\"type\":\"parcoords\"}],\"pie\":[{\"automargin\":true,\"type\":\"pie\"}],\"scatter\":[{\"marker\":{\"colorbar\":{\"outlinewidth\":0,\"ticks\":\"\"}},\"type\":\"scatter\"}],\"scatter3d\":[{\"line\":{\"colorbar\":{\"outlinewidth\":0,\"ticks\":\"\"}},\"marker\":{\"colorbar\":{\"outlinewidth\":0,\"ticks\":\"\"}},\"type\":\"scatter3d\"}],\"scattercarpet\":[{\"marker\":{\"colorbar\":{\"outlinewidth\":0,\"ticks\":\"\"}},\"type\":\"scattercarpet\"}],\"scattergeo\":[{\"marker\":{\"colorbar\":{\"outlinewidth\":0,\"ticks\":\"\"}},\"type\":\"scattergeo\"}],\"scattergl\":[{\"marker\":{\"colorbar\":{\"outlinewidth\":0,\"ticks\":\"\"}},\"type\":\"scattergl\"}],\"scattermapbox\":[{\"marker\":{\"colorbar\":{\"outlinewidth\":0,\"ticks\":\"\"}},\"type\":\"scattermapbox\"}],\"scatterpolar\":[{\"marker\":{\"colorbar\":{\"outlinewidth\":0,\"ticks\":\"\"}},\"type\":\"scatterpolar\"}],\"scatterpolargl\":[{\"marker\":{\"colorbar\":{\"outlinewidth\":0,\"ticks\":\"\"}},\"type\":\"scatterpolargl\"}],\"scatterternary\":[{\"marker\":{\"colorbar\":{\"outlinewidth\":0,\"ticks\":\"\"}},\"type\":\"scatterternary\"}],\"surface\":[{\"colorbar\":{\"outlinewidth\":0,\"ticks\":\"\"},\"colorscale\":[[0.0,\"#0d0887\"],[0.1111111111111111,\"#46039f\"],[0.2222222222222222,\"#7201a8\"],[0.3333333333333333,\"#9c179e\"],[0.4444444444444444,\"#bd3786\"],[0.5555555555555556,\"#d8576b\"],[0.6666666666666666,\"#ed7953\"],[0.7777777777777778,\"#fb9f3a\"],[0.8888888888888888,\"#fdca26\"],[1.0,\"#f0f921\"]],\"type\":\"surface\"}],\"table\":[{\"cells\":{\"fill\":{\"color\":\"#EBF0F8\"},\"line\":{\"color\":\"white\"}},\"header\":{\"fill\":{\"color\":\"#C8D4E3\"},\"line\":{\"color\":\"white\"}},\"type\":\"table\"}]},\"layout\":{\"annotationdefaults\":{\"arrowcolor\":\"#2a3f5f\",\"arrowhead\":0,\"arrowwidth\":1},\"autotypenumbers\":\"strict\",\"coloraxis\":{\"colorbar\":{\"outlinewidth\":0,\"ticks\":\"\"}},\"colorscale\":{\"diverging\":[[0,\"#8e0152\"],[0.1,\"#c51b7d\"],[0.2,\"#de77ae\"],[0.3,\"#f1b6da\"],[0.4,\"#fde0ef\"],[0.5,\"#f7f7f7\"],[0.6,\"#e6f5d0\"],[0.7,\"#b8e186\"],[0.8,\"#7fbc41\"],[0.9,\"#4d9221\"],[1,\"#276419\"]],\"sequential\":[[0.0,\"#0d0887\"],[0.1111111111111111,\"#46039f\"],[0.2222222222222222,\"#7201a8\"],[0.3333333333333333,\"#9c179e\"],[0.4444444444444444,\"#bd3786\"],[0.5555555555555556,\"#d8576b\"],[0.6666666666666666,\"#ed7953\"],[0.7777777777777778,\"#fb9f3a\"],[0.8888888888888888,\"#fdca26\"],[1.0,\"#f0f921\"]],\"sequentialminus\":[[0.0,\"#0d0887\"],[0.1111111111111111,\"#46039f\"],[0.2222222222222222,\"#7201a8\"],[0.3333333333333333,\"#9c179e\"],[0.4444444444444444,\"#bd3786\"],[0.5555555555555556,\"#d8576b\"],[0.6666666666666666,\"#ed7953\"],[0.7777777777777778,\"#fb9f3a\"],[0.8888888888888888,\"#fdca26\"],[1.0,\"#f0f921\"]]},\"colorway\":[\"#636efa\",\"#EF553B\",\"#00cc96\",\"#ab63fa\",\"#FFA15A\",\"#19d3f3\",\"#FF6692\",\"#B6E880\",\"#FF97FF\",\"#FECB52\"],\"font\":{\"color\":\"#2a3f5f\"},\"geo\":{\"bgcolor\":\"white\",\"lakecolor\":\"white\",\"landcolor\":\"#E5ECF6\",\"showlakes\":true,\"showland\":true,\"subunitcolor\":\"white\"},\"hoverlabel\":{\"align\":\"left\"},\"hovermode\":\"closest\",\"mapbox\":{\"style\":\"light\"},\"paper_bgcolor\":\"white\",\"plot_bgcolor\":\"#E5ECF6\",\"polar\":{\"angularaxis\":{\"gridcolor\":\"white\",\"linecolor\":\"white\",\"ticks\":\"\"},\"bgcolor\":\"#E5ECF6\",\"radialaxis\":{\"gridcolor\":\"white\",\"linecolor\":\"white\",\"ticks\":\"\"}},\"scene\":{\"xaxis\":{\"backgroundcolor\":\"#E5ECF6\",\"gridcolor\":\"white\",\"gridwidth\":2,\"linecolor\":\"white\",\"showbackground\":true,\"ticks\":\"\",\"zerolinecolor\":\"white\"},\"yaxis\":{\"backgroundcolor\":\"#E5ECF6\",\"gridcolor\":\"white\",\"gridwidth\":2,\"linecolor\":\"white\",\"showbackground\":true,\"ticks\":\"\",\"zerolinecolor\":\"white\"},\"zaxis\":{\"backgroundcolor\":\"#E5ECF6\",\"gridcolor\":\"white\",\"gridwidth\":2,\"linecolor\":\"white\",\"showbackground\":true,\"ticks\":\"\",\"zerolinecolor\":\"white\"}},\"shapedefaults\":{\"line\":{\"color\":\"#2a3f5f\"}},\"ternary\":{\"aaxis\":{\"gridcolor\":\"white\",\"linecolor\":\"white\",\"ticks\":\"\"},\"baxis\":{\"gridcolor\":\"white\",\"linecolor\":\"white\",\"ticks\":\"\"},\"bgcolor\":\"#E5ECF6\",\"caxis\":{\"gridcolor\":\"white\",\"linecolor\":\"white\",\"ticks\":\"\"}},\"title\":{\"x\":0.05},\"xaxis\":{\"automargin\":true,\"gridcolor\":\"white\",\"linecolor\":\"white\",\"ticks\":\"\",\"title\":{\"standoff\":15},\"zerolinecolor\":\"white\",\"zerolinewidth\":2},\"yaxis\":{\"automargin\":true,\"gridcolor\":\"white\",\"linecolor\":\"white\",\"ticks\":\"\",\"title\":{\"standoff\":15},\"zerolinecolor\":\"white\",\"zerolinewidth\":2}}},\"xaxis\":{\"anchor\":\"y\",\"domain\":[0.0,1.0],\"title\":{\"text\":\"x\"}},\"yaxis\":{\"anchor\":\"x\",\"domain\":[0.0,1.0],\"title\":{\"text\":\"y\"}},\"legend\":{\"tracegroupgap\":0},\"margin\":{\"t\":60}},                        {\"responsive\": true}                    ).then(function(){\n",
              "                            \n",
              "var gd = document.getElementById('d32ff4bd-7ab8-4c1a-bfe9-644ae7fc2bfc');\n",
              "var x = new MutationObserver(function (mutations, observer) {{\n",
              "        var display = window.getComputedStyle(gd).display;\n",
              "        if (!display || display === 'none') {{\n",
              "            console.log([gd, 'removed!']);\n",
              "            Plotly.purge(gd);\n",
              "            observer.disconnect();\n",
              "        }}\n",
              "}});\n",
              "\n",
              "// Listen for the removal of the full notebook cells\n",
              "var notebookContainer = gd.closest('#notebook-container');\n",
              "if (notebookContainer) {{\n",
              "    x.observe(notebookContainer, {childList: true});\n",
              "}}\n",
              "\n",
              "// Listen for the clearing of the current output cell\n",
              "var outputEl = gd.closest('.output');\n",
              "if (outputEl) {{\n",
              "    x.observe(outputEl, {childList: true});\n",
              "}}\n",
              "\n",
              "                        })                };                            </script>        </div>\n",
              "</body>\n",
              "</html>"
            ]
          },
          "metadata": {}
        }
      ]
    },
    {
      "cell_type": "markdown",
      "source": [
        "**Observation**\n",
        "\n",
        "\n",
        "*   The year 2029, 2039 and 2056 are outliers and have to be handled\n",
        "\n",
        "\n",
        "*   We can drop the 3 years\n",
        "\n",
        "\n",
        "\n"
      ],
      "metadata": {
        "id": "LNzjJBs4_uEs"
      }
    },
    {
      "cell_type": "code",
      "source": [
        "#Obtain the row with outliers\n",
        "outlier_years= fin_data[fin_data['year'] >2018] #|| fin_data[fin_data['year'] <2016]\n",
        "outlier_years"
      ],
      "metadata": {
        "id": "uBAYA86OEIFM",
        "colab": {
          "base_uri": "https://localhost:8080/",
          "height": 277
        },
        "outputId": "765dd0b0-5eb9-462c-aa70-4a0a83f130e5"
      },
      "execution_count": null,
      "outputs": [
        {
          "output_type": "execute_result",
          "data": {
            "text/plain": [
              "     country  year      uniqueid has_a_bank_account type_of_location  \\\n",
              "213    Kenya  2029  uniqueid_214                 No            Urban   \n",
              "308    Kenya  2056  uniqueid_309                Yes            Urban   \n",
              "7014  Rwanda  2039  uniqueid_947                 No            Rural   \n",
              "\n",
              "     cell_phone_access  household_size  respondent_age gender_of_respondent  \\\n",
              "213                Yes             6.0            16.0                 Male   \n",
              "308                Yes             4.0            40.0                 Male   \n",
              "7014               Yes             3.0            24.0               Female   \n",
              "\n",
              "     the_relationship_with_head           marital_status  level_of_educuation  \\\n",
              "213              Other relative     Single/Never Married  Secondary education   \n",
              "308           Head of Household  Married/Living together   Tertiary education   \n",
              "7014                     Spouse  Married/Living together    Primary education   \n",
              "\n",
              "                    type_of_job  \n",
              "213        Remittance Dependent  \n",
              "308   Formally employed Private  \n",
              "7014        Informally employed  "
            ],
            "text/html": [
              "\n",
              "  <div id=\"df-7eefcdeb-8447-409f-989c-2249b7ffbe1d\">\n",
              "    <div class=\"colab-df-container\">\n",
              "      <div>\n",
              "<style scoped>\n",
              "    .dataframe tbody tr th:only-of-type {\n",
              "        vertical-align: middle;\n",
              "    }\n",
              "\n",
              "    .dataframe tbody tr th {\n",
              "        vertical-align: top;\n",
              "    }\n",
              "\n",
              "    .dataframe thead th {\n",
              "        text-align: right;\n",
              "    }\n",
              "</style>\n",
              "<table border=\"1\" class=\"dataframe\">\n",
              "  <thead>\n",
              "    <tr style=\"text-align: right;\">\n",
              "      <th></th>\n",
              "      <th>country</th>\n",
              "      <th>year</th>\n",
              "      <th>uniqueid</th>\n",
              "      <th>has_a_bank_account</th>\n",
              "      <th>type_of_location</th>\n",
              "      <th>cell_phone_access</th>\n",
              "      <th>household_size</th>\n",
              "      <th>respondent_age</th>\n",
              "      <th>gender_of_respondent</th>\n",
              "      <th>the_relationship_with_head</th>\n",
              "      <th>marital_status</th>\n",
              "      <th>level_of_educuation</th>\n",
              "      <th>type_of_job</th>\n",
              "    </tr>\n",
              "  </thead>\n",
              "  <tbody>\n",
              "    <tr>\n",
              "      <th>213</th>\n",
              "      <td>Kenya</td>\n",
              "      <td>2029</td>\n",
              "      <td>uniqueid_214</td>\n",
              "      <td>No</td>\n",
              "      <td>Urban</td>\n",
              "      <td>Yes</td>\n",
              "      <td>6.0</td>\n",
              "      <td>16.0</td>\n",
              "      <td>Male</td>\n",
              "      <td>Other relative</td>\n",
              "      <td>Single/Never Married</td>\n",
              "      <td>Secondary education</td>\n",
              "      <td>Remittance Dependent</td>\n",
              "    </tr>\n",
              "    <tr>\n",
              "      <th>308</th>\n",
              "      <td>Kenya</td>\n",
              "      <td>2056</td>\n",
              "      <td>uniqueid_309</td>\n",
              "      <td>Yes</td>\n",
              "      <td>Urban</td>\n",
              "      <td>Yes</td>\n",
              "      <td>4.0</td>\n",
              "      <td>40.0</td>\n",
              "      <td>Male</td>\n",
              "      <td>Head of Household</td>\n",
              "      <td>Married/Living together</td>\n",
              "      <td>Tertiary education</td>\n",
              "      <td>Formally employed Private</td>\n",
              "    </tr>\n",
              "    <tr>\n",
              "      <th>7014</th>\n",
              "      <td>Rwanda</td>\n",
              "      <td>2039</td>\n",
              "      <td>uniqueid_947</td>\n",
              "      <td>No</td>\n",
              "      <td>Rural</td>\n",
              "      <td>Yes</td>\n",
              "      <td>3.0</td>\n",
              "      <td>24.0</td>\n",
              "      <td>Female</td>\n",
              "      <td>Spouse</td>\n",
              "      <td>Married/Living together</td>\n",
              "      <td>Primary education</td>\n",
              "      <td>Informally employed</td>\n",
              "    </tr>\n",
              "  </tbody>\n",
              "</table>\n",
              "</div>\n",
              "      <button class=\"colab-df-convert\" onclick=\"convertToInteractive('df-7eefcdeb-8447-409f-989c-2249b7ffbe1d')\"\n",
              "              title=\"Convert this dataframe to an interactive table.\"\n",
              "              style=\"display:none;\">\n",
              "        \n",
              "  <svg xmlns=\"http://www.w3.org/2000/svg\" height=\"24px\"viewBox=\"0 0 24 24\"\n",
              "       width=\"24px\">\n",
              "    <path d=\"M0 0h24v24H0V0z\" fill=\"none\"/>\n",
              "    <path d=\"M18.56 5.44l.94 2.06.94-2.06 2.06-.94-2.06-.94-.94-2.06-.94 2.06-2.06.94zm-11 1L8.5 8.5l.94-2.06 2.06-.94-2.06-.94L8.5 2.5l-.94 2.06-2.06.94zm10 10l.94 2.06.94-2.06 2.06-.94-2.06-.94-.94-2.06-.94 2.06-2.06.94z\"/><path d=\"M17.41 7.96l-1.37-1.37c-.4-.4-.92-.59-1.43-.59-.52 0-1.04.2-1.43.59L10.3 9.45l-7.72 7.72c-.78.78-.78 2.05 0 2.83L4 21.41c.39.39.9.59 1.41.59.51 0 1.02-.2 1.41-.59l7.78-7.78 2.81-2.81c.8-.78.8-2.07 0-2.86zM5.41 20L4 18.59l7.72-7.72 1.47 1.35L5.41 20z\"/>\n",
              "  </svg>\n",
              "      </button>\n",
              "      \n",
              "  <style>\n",
              "    .colab-df-container {\n",
              "      display:flex;\n",
              "      flex-wrap:wrap;\n",
              "      gap: 12px;\n",
              "    }\n",
              "\n",
              "    .colab-df-convert {\n",
              "      background-color: #E8F0FE;\n",
              "      border: none;\n",
              "      border-radius: 50%;\n",
              "      cursor: pointer;\n",
              "      display: none;\n",
              "      fill: #1967D2;\n",
              "      height: 32px;\n",
              "      padding: 0 0 0 0;\n",
              "      width: 32px;\n",
              "    }\n",
              "\n",
              "    .colab-df-convert:hover {\n",
              "      background-color: #E2EBFA;\n",
              "      box-shadow: 0px 1px 2px rgba(60, 64, 67, 0.3), 0px 1px 3px 1px rgba(60, 64, 67, 0.15);\n",
              "      fill: #174EA6;\n",
              "    }\n",
              "\n",
              "    [theme=dark] .colab-df-convert {\n",
              "      background-color: #3B4455;\n",
              "      fill: #D2E3FC;\n",
              "    }\n",
              "\n",
              "    [theme=dark] .colab-df-convert:hover {\n",
              "      background-color: #434B5C;\n",
              "      box-shadow: 0px 1px 3px 1px rgba(0, 0, 0, 0.15);\n",
              "      filter: drop-shadow(0px 1px 2px rgba(0, 0, 0, 0.3));\n",
              "      fill: #FFFFFF;\n",
              "    }\n",
              "  </style>\n",
              "\n",
              "      <script>\n",
              "        const buttonEl =\n",
              "          document.querySelector('#df-7eefcdeb-8447-409f-989c-2249b7ffbe1d button.colab-df-convert');\n",
              "        buttonEl.style.display =\n",
              "          google.colab.kernel.accessAllowed ? 'block' : 'none';\n",
              "\n",
              "        async function convertToInteractive(key) {\n",
              "          const element = document.querySelector('#df-7eefcdeb-8447-409f-989c-2249b7ffbe1d');\n",
              "          const dataTable =\n",
              "            await google.colab.kernel.invokeFunction('convertToInteractive',\n",
              "                                                     [key], {});\n",
              "          if (!dataTable) return;\n",
              "\n",
              "          const docLinkHtml = 'Like what you see? Visit the ' +\n",
              "            '<a target=\"_blank\" href=https://colab.research.google.com/notebooks/data_table.ipynb>data table notebook</a>'\n",
              "            + ' to learn more about interactive tables.';\n",
              "          element.innerHTML = '';\n",
              "          dataTable['output_type'] = 'display_data';\n",
              "          await google.colab.output.renderOutput(dataTable, element);\n",
              "          const docLink = document.createElement('div');\n",
              "          docLink.innerHTML = docLinkHtml;\n",
              "          element.appendChild(docLink);\n",
              "        }\n",
              "      </script>\n",
              "    </div>\n",
              "  </div>\n",
              "  "
            ]
          },
          "metadata": {},
          "execution_count": 20
        }
      ]
    },
    {
      "cell_type": "markdown",
      "source": [
        "**Observation**\n",
        "\n",
        "\n",
        "*  We have the respective rows for the 3 outliers; we can drop row 213, 308, 7014\n",
        "\n",
        "\n"
      ],
      "metadata": {
        "id": "UNPcxhcmEcRf"
      }
    },
    {
      "cell_type": "code",
      "source": [
        "#Drop the 3 rows with outliers\n",
        "fin_data.drop([213,308,7014], inplace=True, axis=0)"
      ],
      "metadata": {
        "id": "0PuJqBYS2rjP"
      },
      "execution_count": null,
      "outputs": []
    },
    {
      "cell_type": "code",
      "source": [
        "# Calculate statistical data\n",
        "fin_data.describe()"
      ],
      "metadata": {
        "id": "zAtgoJeqE5-n",
        "colab": {
          "base_uri": "https://localhost:8080/",
          "height": 300
        },
        "outputId": "8f1c7fd2-3f17-4730-a8aa-10fa824916ce"
      },
      "execution_count": null,
      "outputs": [
        {
          "output_type": "execute_result",
          "data": {
            "text/plain": [
              "               year  household_size  respondent_age\n",
              "count  23521.000000    23521.000000    23521.000000\n",
              "mean    2016.975894        3.680073       38.798350\n",
              "std        0.847348        2.279377       16.516497\n",
              "min     2016.000000        0.000000       16.000000\n",
              "25%     2016.000000        2.000000       26.000000\n",
              "50%     2017.000000        3.000000       35.000000\n",
              "75%     2018.000000        5.000000       49.000000\n",
              "max     2018.000000       21.000000      100.000000"
            ],
            "text/html": [
              "\n",
              "  <div id=\"df-dac13843-623c-4b30-bab7-d339ae5ba91d\">\n",
              "    <div class=\"colab-df-container\">\n",
              "      <div>\n",
              "<style scoped>\n",
              "    .dataframe tbody tr th:only-of-type {\n",
              "        vertical-align: middle;\n",
              "    }\n",
              "\n",
              "    .dataframe tbody tr th {\n",
              "        vertical-align: top;\n",
              "    }\n",
              "\n",
              "    .dataframe thead th {\n",
              "        text-align: right;\n",
              "    }\n",
              "</style>\n",
              "<table border=\"1\" class=\"dataframe\">\n",
              "  <thead>\n",
              "    <tr style=\"text-align: right;\">\n",
              "      <th></th>\n",
              "      <th>year</th>\n",
              "      <th>household_size</th>\n",
              "      <th>respondent_age</th>\n",
              "    </tr>\n",
              "  </thead>\n",
              "  <tbody>\n",
              "    <tr>\n",
              "      <th>count</th>\n",
              "      <td>23521.000000</td>\n",
              "      <td>23521.000000</td>\n",
              "      <td>23521.000000</td>\n",
              "    </tr>\n",
              "    <tr>\n",
              "      <th>mean</th>\n",
              "      <td>2016.975894</td>\n",
              "      <td>3.680073</td>\n",
              "      <td>38.798350</td>\n",
              "    </tr>\n",
              "    <tr>\n",
              "      <th>std</th>\n",
              "      <td>0.847348</td>\n",
              "      <td>2.279377</td>\n",
              "      <td>16.516497</td>\n",
              "    </tr>\n",
              "    <tr>\n",
              "      <th>min</th>\n",
              "      <td>2016.000000</td>\n",
              "      <td>0.000000</td>\n",
              "      <td>16.000000</td>\n",
              "    </tr>\n",
              "    <tr>\n",
              "      <th>25%</th>\n",
              "      <td>2016.000000</td>\n",
              "      <td>2.000000</td>\n",
              "      <td>26.000000</td>\n",
              "    </tr>\n",
              "    <tr>\n",
              "      <th>50%</th>\n",
              "      <td>2017.000000</td>\n",
              "      <td>3.000000</td>\n",
              "      <td>35.000000</td>\n",
              "    </tr>\n",
              "    <tr>\n",
              "      <th>75%</th>\n",
              "      <td>2018.000000</td>\n",
              "      <td>5.000000</td>\n",
              "      <td>49.000000</td>\n",
              "    </tr>\n",
              "    <tr>\n",
              "      <th>max</th>\n",
              "      <td>2018.000000</td>\n",
              "      <td>21.000000</td>\n",
              "      <td>100.000000</td>\n",
              "    </tr>\n",
              "  </tbody>\n",
              "</table>\n",
              "</div>\n",
              "      <button class=\"colab-df-convert\" onclick=\"convertToInteractive('df-dac13843-623c-4b30-bab7-d339ae5ba91d')\"\n",
              "              title=\"Convert this dataframe to an interactive table.\"\n",
              "              style=\"display:none;\">\n",
              "        \n",
              "  <svg xmlns=\"http://www.w3.org/2000/svg\" height=\"24px\"viewBox=\"0 0 24 24\"\n",
              "       width=\"24px\">\n",
              "    <path d=\"M0 0h24v24H0V0z\" fill=\"none\"/>\n",
              "    <path d=\"M18.56 5.44l.94 2.06.94-2.06 2.06-.94-2.06-.94-.94-2.06-.94 2.06-2.06.94zm-11 1L8.5 8.5l.94-2.06 2.06-.94-2.06-.94L8.5 2.5l-.94 2.06-2.06.94zm10 10l.94 2.06.94-2.06 2.06-.94-2.06-.94-.94-2.06-.94 2.06-2.06.94z\"/><path d=\"M17.41 7.96l-1.37-1.37c-.4-.4-.92-.59-1.43-.59-.52 0-1.04.2-1.43.59L10.3 9.45l-7.72 7.72c-.78.78-.78 2.05 0 2.83L4 21.41c.39.39.9.59 1.41.59.51 0 1.02-.2 1.41-.59l7.78-7.78 2.81-2.81c.8-.78.8-2.07 0-2.86zM5.41 20L4 18.59l7.72-7.72 1.47 1.35L5.41 20z\"/>\n",
              "  </svg>\n",
              "      </button>\n",
              "      \n",
              "  <style>\n",
              "    .colab-df-container {\n",
              "      display:flex;\n",
              "      flex-wrap:wrap;\n",
              "      gap: 12px;\n",
              "    }\n",
              "\n",
              "    .colab-df-convert {\n",
              "      background-color: #E8F0FE;\n",
              "      border: none;\n",
              "      border-radius: 50%;\n",
              "      cursor: pointer;\n",
              "      display: none;\n",
              "      fill: #1967D2;\n",
              "      height: 32px;\n",
              "      padding: 0 0 0 0;\n",
              "      width: 32px;\n",
              "    }\n",
              "\n",
              "    .colab-df-convert:hover {\n",
              "      background-color: #E2EBFA;\n",
              "      box-shadow: 0px 1px 2px rgba(60, 64, 67, 0.3), 0px 1px 3px 1px rgba(60, 64, 67, 0.15);\n",
              "      fill: #174EA6;\n",
              "    }\n",
              "\n",
              "    [theme=dark] .colab-df-convert {\n",
              "      background-color: #3B4455;\n",
              "      fill: #D2E3FC;\n",
              "    }\n",
              "\n",
              "    [theme=dark] .colab-df-convert:hover {\n",
              "      background-color: #434B5C;\n",
              "      box-shadow: 0px 1px 3px 1px rgba(0, 0, 0, 0.15);\n",
              "      filter: drop-shadow(0px 1px 2px rgba(0, 0, 0, 0.3));\n",
              "      fill: #FFFFFF;\n",
              "    }\n",
              "  </style>\n",
              "\n",
              "      <script>\n",
              "        const buttonEl =\n",
              "          document.querySelector('#df-dac13843-623c-4b30-bab7-d339ae5ba91d button.colab-df-convert');\n",
              "        buttonEl.style.display =\n",
              "          google.colab.kernel.accessAllowed ? 'block' : 'none';\n",
              "\n",
              "        async function convertToInteractive(key) {\n",
              "          const element = document.querySelector('#df-dac13843-623c-4b30-bab7-d339ae5ba91d');\n",
              "          const dataTable =\n",
              "            await google.colab.kernel.invokeFunction('convertToInteractive',\n",
              "                                                     [key], {});\n",
              "          if (!dataTable) return;\n",
              "\n",
              "          const docLinkHtml = 'Like what you see? Visit the ' +\n",
              "            '<a target=\"_blank\" href=https://colab.research.google.com/notebooks/data_table.ipynb>data table notebook</a>'\n",
              "            + ' to learn more about interactive tables.';\n",
              "          element.innerHTML = '';\n",
              "          dataTable['output_type'] = 'display_data';\n",
              "          await google.colab.output.renderOutput(dataTable, element);\n",
              "          const docLink = document.createElement('div');\n",
              "          docLink.innerHTML = docLinkHtml;\n",
              "          element.appendChild(docLink);\n",
              "        }\n",
              "      </script>\n",
              "    </div>\n",
              "  </div>\n",
              "  "
            ]
          },
          "metadata": {},
          "execution_count": 22
        }
      ]
    },
    {
      "cell_type": "markdown",
      "source": [
        "**Observation**\n",
        "*   Mean household_size=3.6\n",
        "*   Mean age=38.8\n",
        "*   Household size std=2.3\n",
        "*   Age std=16.5\n",
        "*   Max year has changed to 2018 from 2056\n",
        "*   This means we have dropped the year 2056 (0ne of the outliers)\n",
        "\n"
      ],
      "metadata": {
        "id": "W83YLTgSE_J2"
      }
    },
    {
      "cell_type": "code",
      "source": [
        "#Check the rows and columns\n",
        "fin_data.shape"
      ],
      "metadata": {
        "id": "5fm7tTrAcnbb",
        "colab": {
          "base_uri": "https://localhost:8080/"
        },
        "outputId": "f7ff4216-cbb2-4510-e274-b4ba3be3e94e"
      },
      "execution_count": null,
      "outputs": [
        {
          "output_type": "execute_result",
          "data": {
            "text/plain": [
              "(23521, 13)"
            ]
          },
          "metadata": {},
          "execution_count": 23
        }
      ]
    },
    {
      "cell_type": "markdown",
      "source": [
        "**Observation**\n",
        "We have dropped 3 rows\n",
        "\n",
        "*   Rows have reduced from 23343 to 23340\n",
        "*  Handled the outliers detected in the scatter plot\n",
        "\n",
        "\n"
      ],
      "metadata": {
        "id": "mGqGfMP1jhBc"
      }
    },
    {
      "cell_type": "markdown",
      "source": [
        "**UNIVARIATE ANALYSIS**\n",
        "\n",
        "    One variable analysis"
      ],
      "metadata": {
        "id": "Si96BfxpkbhW"
      }
    },
    {
      "cell_type": "code",
      "source": [
        "#afrequency distribution table to show the number of people with  bank aacounts\n",
        "fin_data['has_a_bank_account'].value_counts()"
      ],
      "metadata": {
        "colab": {
          "base_uri": "https://localhost:8080/"
        },
        "id": "N45EpyQFOpwm",
        "outputId": "786cfaf9-77f4-49b2-fe0b-55a72bb1c148"
      },
      "execution_count": null,
      "outputs": [
        {
          "output_type": "execute_result",
          "data": {
            "text/plain": [
              "No     20197\n",
              "Yes     3324\n",
              "Name: has_a_bank_account, dtype: int64"
            ]
          },
          "metadata": {},
          "execution_count": 24
        }
      ]
    },
    {
      "cell_type": "markdown",
      "source": [
        "**Observation**\n",
        "\n",
        "*   The majority of the respondents don't own bank accounts.\n",
        "\n"
      ],
      "metadata": {
        "id": "jpNu69FxVNGM"
      }
    },
    {
      "cell_type": "code",
      "source": [
        "#Frequency table to show the count of the respondents with bank accounts\n",
        "fin_data['cell_phone_access'].value_counts()\n"
      ],
      "metadata": {
        "colab": {
          "base_uri": "https://localhost:8080/"
        },
        "id": "U4-Ri2nMQFW7",
        "outputId": "941003d6-10b0-46fa-b232-806fdbff2ab9"
      },
      "execution_count": null,
      "outputs": [
        {
          "output_type": "execute_result",
          "data": {
            "text/plain": [
              "Yes    17449\n",
              "No      6072\n",
              "Name: cell_phone_access, dtype: int64"
            ]
          },
          "metadata": {},
          "execution_count": 25
        }
      ]
    },
    {
      "cell_type": "markdown",
      "source": [
        "**Observation**\n",
        "\n",
        "*   The majority of the respondents have access to cellphone\n",
        "\n"
      ],
      "metadata": {
        "id": "Bztuv5DJWC_W"
      }
    },
    {
      "cell_type": "code",
      "source": [
        "#Checking the count of the gender of the respondents\n",
        "fin_data['gender_of_respondent'].value_counts()"
      ],
      "metadata": {
        "colab": {
          "base_uri": "https://localhost:8080/"
        },
        "id": "HzGeGPmVSaRf",
        "outputId": "0ecd630b-3d3a-463a-dd15-83942c76f4b6"
      },
      "execution_count": null,
      "outputs": [
        {
          "output_type": "execute_result",
          "data": {
            "text/plain": [
              "Female    13875\n",
              "Male       9646\n",
              "Name: gender_of_respondent, dtype: int64"
            ]
          },
          "metadata": {},
          "execution_count": 26
        }
      ]
    },
    {
      "cell_type": "markdown",
      "source": [
        "**Observation**\n",
        "\n",
        "*   The majority of the respondents were female.\n",
        "\n",
        "\n"
      ],
      "metadata": {
        "id": "XfaYPgUQWhgE"
      }
    },
    {
      "cell_type": "code",
      "source": [
        "#Frequency table to show the count of population in rural and in urban areas\n",
        "fin_data['type_of_location'].value_counts()"
      ],
      "metadata": {
        "colab": {
          "base_uri": "https://localhost:8080/"
        },
        "id": "xSIc_J08S6z8",
        "outputId": "bb7ec228-96ca-4549-b6f5-c8f1878456ec"
      },
      "execution_count": null,
      "outputs": [
        {
          "output_type": "execute_result",
          "data": {
            "text/plain": [
              "Rural    14342\n",
              "Urban     9179\n",
              "Name: type_of_location, dtype: int64"
            ]
          },
          "metadata": {},
          "execution_count": 27
        }
      ]
    },
    {
      "cell_type": "markdown",
      "source": [
        "**Observation**\n",
        "\n",
        "*   Majority of the respondents reside in rural area.\n",
        "\n"
      ],
      "metadata": {
        "id": "n_3iiXbVW0x4"
      }
    },
    {
      "cell_type": "code",
      "source": [
        "#Frequency table to show the number of people in the different types of jobs.\n",
        "fin_data['type_of_job'].value_counts()"
      ],
      "metadata": {
        "colab": {
          "base_uri": "https://localhost:8080/"
        },
        "id": "zTRSNVYlTO1P",
        "outputId": "8e7a0012-a439-450d-c943-b0d10e3779e2"
      },
      "execution_count": null,
      "outputs": [
        {
          "output_type": "execute_result",
          "data": {
            "text/plain": [
              "Self employed                   6437\n",
              "Informally employed             5586\n",
              "Farming and Fishing             5442\n",
              "Remittance Dependent            2523\n",
              "Other Income                    1080\n",
              "Formally employed Private       1054\n",
              "No Income                        627\n",
              "Formally employed Government     387\n",
              "Government Dependent             259\n",
              "Dont Know/Refuse to answer       126\n",
              "Name: type_of_job, dtype: int64"
            ]
          },
          "metadata": {},
          "execution_count": 28
        }
      ]
    },
    {
      "cell_type": "markdown",
      "source": [
        "**Observation**\n",
        "\n",
        "*   Most are self employed and informally employed and others are farmers.\n",
        "\n",
        "\n",
        "\n"
      ],
      "metadata": {
        "id": "0r5Xqm73XF_R"
      }
    },
    {
      "cell_type": "code",
      "source": [
        "#Frequency table to the show the number of people in different level of education.\n",
        "fin_data['level_of_educuation'].value_counts()"
      ],
      "metadata": {
        "colab": {
          "base_uri": "https://localhost:8080/"
        },
        "id": "kpWgwpt0TeuY",
        "outputId": "fd11a9ca-f6ce-45d1-d7bb-14da880a102e"
      },
      "execution_count": null,
      "outputs": [
        {
          "output_type": "execute_result",
          "data": {
            "text/plain": [
              "Primary education                  12782\n",
              "No formal education                 4527\n",
              "Secondary education                 4219\n",
              "Tertiary education                  1155\n",
              "Vocational/Specialised training      803\n",
              "6                                     27\n",
              "Other/Dont know/RTA                    8\n",
              "Name: level_of_educuation, dtype: int64"
            ]
          },
          "metadata": {},
          "execution_count": 29
        }
      ]
    },
    {
      "cell_type": "markdown",
      "source": [
        "**Observation**\n",
        "\n",
        "*   The level of education for the majority of the population is primary education.\n",
        "\n"
      ],
      "metadata": {
        "id": "QndeeSO6X7xg"
      }
    },
    {
      "cell_type": "code",
      "source": [
        "#Visualize the count of the respondents with bank accounts in a bar plot\n",
        "#Distinguish how many were in rural and urban areas\n",
        "sns.countplot(fin_data.has_a_bank_account,hue=fin_data.type_of_location)\n",
        "plt.show()"
      ],
      "metadata": {
        "colab": {
          "base_uri": "https://localhost:8080/",
          "height": 371
        },
        "id": "nTTI4tK0vz5R",
        "outputId": "4570a4a2-abc2-4997-c183-3953de17b3d0"
      },
      "execution_count": null,
      "outputs": [
        {
          "output_type": "stream",
          "name": "stderr",
          "text": [
            "/usr/local/lib/python3.7/dist-packages/seaborn/_decorators.py:43: FutureWarning:\n",
            "\n",
            "Pass the following variable as a keyword arg: x. From version 0.12, the only valid positional argument will be `data`, and passing other arguments without an explicit keyword will result in an error or misinterpretation.\n",
            "\n"
          ]
        },
        {
          "output_type": "display_data",
          "data": {
            "text/plain": [
              "<Figure size 432x288 with 1 Axes>"
            ],
            "image/png": "[encoded data removed]"
          },
          "metadata": {
            "needs_background": "light"
          }
        }
      ]
    },
    {
      "cell_type": "markdown",
      "source": [
        "**Observation**        \n",
        "*   Most of the respondents don't have bank accounts\n",
        "*   Majority of those with no bank accounts reside in rural areas\n",
        "*  Only about 2,000 respondents had bank acounts in both rural and urban areas\n"
      ],
      "metadata": {
        "id": "SZw8b39xmSli"
      }
    },
    {
      "cell_type": "code",
      "source": [
        "##Visualize the count of the respondents with bank accounts\n",
        "#Distinguish their count based on their gender\n",
        "sns.countplot(fin_data.has_a_bank_account,hue=fin_data.gender_of_respondent)\n",
        "plt.show()"
      ],
      "metadata": {
        "colab": {
          "base_uri": "https://localhost:8080/",
          "height": 371
        },
        "id": "VxiiUu0vn9dz",
        "outputId": "186c8ed5-8314-4d3e-d71f-962fd7b24980"
      },
      "execution_count": null,
      "outputs": [
        {
          "output_type": "stream",
          "name": "stderr",
          "text": [
            "/usr/local/lib/python3.7/dist-packages/seaborn/_decorators.py:43: FutureWarning:\n",
            "\n",
            "Pass the following variable as a keyword arg: x. From version 0.12, the only valid positional argument will be `data`, and passing other arguments without an explicit keyword will result in an error or misinterpretation.\n",
            "\n"
          ]
        },
        {
          "output_type": "display_data",
          "data": {
            "text/plain": [
              "<Figure size 432x288 with 1 Axes>"
            ],
            "image/png": "[encoded data removed]"
          },
          "metadata": {
            "needs_background": "light"
          }
        }
      ]
    },
    {
      "cell_type": "markdown",
      "source": [
        "**Observation**\n",
        "\n",
        "*   There are more males with bank accounts than females\n",
        "*   More females did not have a bank account as compared to males\n",
        "*   Female count with no accounts are approximately 12,000\n",
        "*   Male count without account is about 8,0000\n",
        "\n",
        "\n",
        "\n"
      ],
      "metadata": {
        "id": "4FsLL7cSo161"
      }
    },
    {
      "cell_type": "code",
      "source": [
        "# Check the ditribution of the respondents' age\n",
        "# kde=True will enable the Kernel Density Plot along with the distplot\n",
        "# Visualize plots adjacent to each other\n",
        "#fig, axes= plt.subplots(1,2)\n",
        "sns.distplot(fin_data.respondent_age, hist=True, kde=True,color='g')\n",
        "plt.show()\n"
      ],
      "metadata": {
        "colab": {
          "base_uri": "https://localhost:8080/",
          "height": 373
        },
        "id": "2BRvDrGdq0VK",
        "outputId": "44eff0e7-3912-4083-c8a0-c303e30b8c66"
      },
      "execution_count": null,
      "outputs": [
        {
          "output_type": "stream",
          "name": "stderr",
          "text": [
            "/usr/local/lib/python3.7/dist-packages/seaborn/distributions.py:2619: FutureWarning:\n",
            "\n",
            "`distplot` is a deprecated function and will be removed in a future version. Please adapt your code to use either `displot` (a figure-level function with similar flexibility) or `histplot` (an axes-level function for histograms).\n",
            "\n"
          ]
        },
        {
          "output_type": "display_data",
          "data": {
            "text/plain": [
              "<Figure size 432x288 with 1 Axes>"
            ],
            "image/png": "[encoded data removed]"
          },
          "metadata": {
            "needs_background": "light"
          }
        }
      ]
    },
    {
      "cell_type": "markdown",
      "source": [
        "**Observation**\n",
        "*  Distribution starts from about 16 to 100\n",
        "*  The distribution is right-skewed i.e positively skewed(tail is on the right)\n",
        "*  The ditribution is leptokurtic; high degree peakedness; Kurtosis greater than 0\n",
        "*  This indicates the presence of outliers\n",
        "\n",
        "\n",
        "\n",
        "\n",
        "  \n",
        "\n",
        "\n",
        "\n"
      ],
      "metadata": {
        "id": "M2ruEzQfsvJU"
      }
    },
    {
      "cell_type": "code",
      "source": [
        "#Find out the range of the respondents age\n",
        "sns.boxplot(fin_data.respondent_age, color='r')\n",
        "plt.show()"
      ],
      "metadata": {
        "colab": {
          "base_uri": "https://localhost:8080/",
          "height": 371
        },
        "id": "5Le0A2aExb37",
        "outputId": "04d249dd-f462-45de-9142-c11f32da2b95"
      },
      "execution_count": null,
      "outputs": [
        {
          "output_type": "stream",
          "name": "stderr",
          "text": [
            "/usr/local/lib/python3.7/dist-packages/seaborn/_decorators.py:43: FutureWarning:\n",
            "\n",
            "Pass the following variable as a keyword arg: x. From version 0.12, the only valid positional argument will be `data`, and passing other arguments without an explicit keyword will result in an error or misinterpretation.\n",
            "\n"
          ]
        },
        {
          "output_type": "display_data",
          "data": {
            "text/plain": [
              "<Figure size 432x288 with 1 Axes>"
            ],
            "image/png": "[encoded data removed]"
          },
          "metadata": {
            "needs_background": "light"
          }
        }
      ]
    },
    {
      "cell_type": "markdown",
      "source": [
        "**Observation**\n",
        "*   The average age is about 38\n",
        "*   Minimum is about 20 and max 80\n",
        "*   Ages above 80 are outliers\n",
        "\n",
        "\n",
        "\n"
      ],
      "metadata": {
        "id": "cgl1RcXYyOxP"
      }
    },
    {
      "cell_type": "markdown",
      "source": [
        "**BIVARIATE ANALYSIS**\n",
        "\n",
        "\n",
        "> The relationship between 2 variables\n",
        "\n"
      ],
      "metadata": {
        "id": "y_Obn_myvs3m"
      }
    },
    {
      "cell_type": "markdown",
      "source": [
        "**Bar chart**"
      ],
      "metadata": {
        "id": "fWPixXqMzFwm"
      }
    },
    {
      "cell_type": "code",
      "source": [
        "# Bar chart of the \"household size\" vs \" respondent age\"\n",
        "# Use mean\n",
        "fin_data.groupby('household_size')['respondent_age'].mean().plot.bar(color='green', width=0.8,figsize=(12,5))\n",
        "plt.title('Grouped Household Sizes By Age')\n",
        "plt.xlabel('Household Size')\n",
        "plt.ylabel('Average Age')"
      ],
      "metadata": {
        "colab": {
          "base_uri": "https://localhost:8080/",
          "height": 338
        },
        "id": "v61D95VSnQuf",
        "outputId": "b3700d30-8a2c-4322-c9bc-14ea9494804e"
      },
      "execution_count": null,
      "outputs": [
        {
          "output_type": "execute_result",
          "data": {
            "text/plain": [
              "Text(0, 0.5, 'Average Age')"
            ]
          },
          "metadata": {},
          "execution_count": 34
        },
        {
          "output_type": "display_data",
          "data": {
            "text/plain": [
              "<Figure size 864x360 with 1 Axes>"
            ],
            "image/png": "[encoded data removed]"
          },
          "metadata": {
            "needs_background": "light"
          }
        }
      ]
    },
    {
      "cell_type": "markdown",
      "source": [
        "**Observation**\n",
        "\n",
        "\n",
        "*   Most respondents surveyed from the different households had an average age of 40 years.\n",
        "\n"
      ],
      "metadata": {
        "id": "GPZ8A8DKxa6W"
      }
    },
    {
      "cell_type": "code",
      "source": [
        "# Find the average mean size of the households surveyed in Kenya, Uganda, Tanzania, and Rwanda\n",
        "fin_data.groupby('country')['household_size'].mean().plot.bar(color='green', width=0.3,figsize=(12,5))\n",
        "plt.title('Average Household Size')\n",
        "plt.xlabel('Country')\n",
        "plt.ylabel('Average Household Size')"
      ],
      "metadata": {
        "colab": {
          "base_uri": "https://localhost:8080/",
          "height": 359
        },
        "id": "qcCH_Z4aoTCP",
        "outputId": "3913a89d-f4f7-4104-bd82-f05513fb6f21"
      },
      "execution_count": null,
      "outputs": [
        {
          "output_type": "execute_result",
          "data": {
            "text/plain": [
              "Text(0, 0.5, 'Average Household Size')"
            ]
          },
          "metadata": {},
          "execution_count": 35
        },
        {
          "output_type": "display_data",
          "data": {
            "text/plain": [
              "<Figure size 864x360 with 1 Axes>"
            ],
            "image/png": "[encoded data removed]"
          },
          "metadata": {
            "needs_background": "light"
          }
        }
      ]
    },
    {
      "cell_type": "markdown",
      "source": [
        "**Observation**\n",
        "\n",
        "\n",
        "*   The households surveyed in Kenya had an average of 4 respondents\n",
        "*   The households surveyed in Rwanda had an average of 5 respondents\n",
        "*   The households surveyed in Tanzania had an average of  about 2 respondents\n",
        "*  The households surveyed in Uganda had an average of 5 responspondents\n",
        "\n",
        "\n",
        "\n"
      ],
      "metadata": {
        "id": "Grt4Kofj9HtT"
      }
    },
    {
      "cell_type": "code",
      "source": [
        "#Scatterplot to show the gender and the corresponding age of the respondents in the various households\n",
        "# Specify with gender\n",
        "plt.figure(figsize= (12,8))\n",
        "sns.scatterplot(x='country', \n",
        "                y='respondent_age',\n",
        "                data=fin_data, \n",
        "                hue='gender_of_respondent')\n",
        "plt.title('Gender of The Respondents With Respect to Their Household Size & Age')\n",
        "plt.xlabel('country')\n",
        "plt.ylabel('respondent_age')\n",
        "plt.show()\n"
      ],
      "metadata": {
        "colab": {
          "base_uri": "https://localhost:8080/",
          "height": 448
        },
        "id": "NMhF5aW8o5-O",
        "outputId": "d1dd1136-c200-4458-b99d-1c0f3e70f6aa"
      },
      "execution_count": null,
      "outputs": [
        {
          "output_type": "display_data",
          "data": {
            "text/plain": [
              "<Figure size 864x576 with 1 Axes>"
            ],
            "image/png": "[encoded data removed]"
          },
          "metadata": {
            "needs_background": "light"
          }
        }
      ]
    },
    {
      "cell_type": "markdown",
      "source": [
        "**Observation**\n",
        "\n",
        "\n",
        "*\n",
        "*   \n",
        "\n"
      ],
      "metadata": {
        "id": "fJVVvCT8HpdB"
      }
    },
    {
      "cell_type": "markdown",
      "source": [
        "**CORRELATION**"
      ],
      "metadata": {
        "id": "XY-qKCXPyr5q"
      }
    },
    {
      "cell_type": "code",
      "source": [
        "##Check for the correlation between the respondents' household sizes and their age\n",
        "#fin_data.corr(method='pearson')\n",
        "fin_data['household_size'].corr(fin_data['respondent_age'])"
      ],
      "metadata": {
        "colab": {
          "base_uri": "https://localhost:8080/"
        },
        "outputId": "a0d9f824-e4f7-41cd-b1fd-6ec084369c7e",
        "id": "cO7beQ8dyn-J"
      },
      "execution_count": null,
      "outputs": [
        {
          "output_type": "execute_result",
          "data": {
            "text/plain": [
              "-0.11880245164961925"
            ]
          },
          "metadata": {},
          "execution_count": 45
        }
      ]
    },
    {
      "cell_type": "code",
      "source": [],
      "metadata": {
        "id": "1RhIUlZszTz_"
      },
      "execution_count": null,
      "outputs": []
    },
    {
      "cell_type": "code",
      "source": [
        "##Check for the correlation between years and the respondents' households sizes\n",
        "\n",
        "fin_data['household_size'].corr(fin_data['year'])"
      ],
      "metadata": {
        "colab": {
          "base_uri": "https://localhost:8080/"
        },
        "id": "8mylcFcazUP-",
        "outputId": "530bbc93-4529-4b94-82fe-557b1b2f2958"
      },
      "execution_count": null,
      "outputs": [
        {
          "output_type": "execute_result",
          "data": {
            "text/plain": [
              "-0.053126807960839656"
            ]
          },
          "metadata": {},
          "execution_count": 46
        }
      ]
    },
    {
      "cell_type": "markdown",
      "source": [
        "**Observation**\n",
        "\n",
        "\n",
        "*   There is no association between the respondents' household sizes and the years when the surveys were done\n",
        "\n"
      ],
      "metadata": {
        "id": "UvBz4PfRzUQB"
      }
    },
    {
      "cell_type": "code",
      "source": [
        "#Check for the correlation between years and the respondents' age\n",
        "fin_data['year'].corr(fin_data['respondent_age'])"
      ],
      "metadata": {
        "colab": {
          "base_uri": "https://localhost:8080/"
        },
        "id": "Rgdb1pb2zUQC",
        "outputId": "ed14ae17-8166-473f-b35b-9e2e56f888e0"
      },
      "execution_count": null,
      "outputs": [
        {
          "output_type": "execute_result",
          "data": {
            "text/plain": [
              "-0.018921469860580905"
            ]
          },
          "metadata": {},
          "execution_count": 47
        }
      ]
    },
    {
      "cell_type": "markdown",
      "source": [
        "**Observation**\n",
        "\n",
        "\n",
        "*   There is no association between the respondents' age and the years when the surveys took place\n",
        "\n"
      ],
      "metadata": {
        "id": "I-IUB7p-zUQD"
      }
    },
    {
      "cell_type": "code",
      "source": [
        "# Check for correlations between variables(numerical)\n",
        "# Use a heatmap '''annot=true to show the values\n",
        "# 1 to 1 correlation shows a strong relationship\n",
        "plt.figure(figsize= (12,6))\n",
        "sns.heatmap(fin_data.corr(),annot =True, cmap='YlOrBr')\n",
        "plt.title('Correlation Between Variables')\n",
        "#plt.xlabel('Respondent_age')\n",
        "#plt.ylabel('Household Size')\n",
        "plt.show()"
      ],
      "metadata": {
        "id": "BCJJYPTObrhQ",
        "colab": {
          "base_uri": "https://localhost:8080/",
          "height": 385
        },
        "outputId": "7bcf7a70-866f-4ac4-b200-b686747c3cbf"
      },
      "execution_count": null,
      "outputs": [
        {
          "output_type": "display_data",
          "data": {
            "text/plain": [
              "<Figure size 864x432 with 2 Axes>"
            ],
            "image/png": "[encoded data removed]"
          },
          "metadata": {
            "needs_background": "light"
          }
        }
      ]
    },
    {
      "cell_type": "markdown",
      "source": [
        "**Observation**\n",
        "\n",
        "\n",
        "*   Each 2 variables have a weak correlation\n",
        "*   The variables have a negative weak correlation\n",
        "*   \n",
        "\n",
        "\n",
        "\n"
      ],
      "metadata": {
        "id": "9tzRdEytQ5hD"
      }
    },
    {
      "cell_type": "code",
      "source": [
        "# Pairplot\n",
        "\n",
        "sns.pairplot(fin_data, hue='has_a_bank_account', palette='husl')\n",
        "plt.show()\n"
      ],
      "metadata": {
        "id": "UPCZEQZa2HWu",
        "colab": {
          "base_uri": "https://localhost:8080/",
          "height": 534
        },
        "outputId": "5423c8f8-8533-4b96-e27d-343cd2172404"
      },
      "execution_count": null,
      "outputs": [
        {
          "output_type": "display_data",
          "data": {
            "text/plain": [
              "<Figure size 651.125x540 with 12 Axes>"
            ],
            "image/png": "[encoded data removed]"
          },
          "metadata": {
            "needs_background": "light"
          }
        }
      ]
    },
    {
      "cell_type": "markdown",
      "source": [
        "**Observation**\n",
        "*   Respondents with bank accounts are between 20 to 75 years old.\n",
        "*   The number if those with accounts reduce with age;the elderly have fewer\n",
        "\n",
        "\n",
        "\n"
      ],
      "metadata": {
        "id": "uQ9DaiVfOTzC"
      }
    },
    {
      "cell_type": "code",
      "source": [
        "#Categorical plot\n",
        "# Respondent's age and phone access\n",
        "# A breakdown by the gender and location of the respondents\n",
        "sns.catplot(y='respondent_age', x='cell_phone_access', data=fin_data, kind= 'bar', hue='type_of_location',col='gender_of_respondent')\n",
        "plt.show()"
      ],
      "metadata": {
        "colab": {
          "base_uri": "https://localhost:8080/",
          "height": 369
        },
        "id": "OG1kRrM8fKRM",
        "outputId": "5d6e27d3-fcb5-43d2-f791-1085201cac14"
      },
      "execution_count": null,
      "outputs": [
        {
          "output_type": "display_data",
          "data": {
            "text/plain": [
              "<Figure size 809.375x360 with 2 Axes>"
            ],
            "image/png": "[encoded data removed]"
          },
          "metadata": {
            "needs_background": "light"
          }
        }
      ]
    },
    {
      "cell_type": "markdown",
      "source": [
        "**Observation**\n",
        "\n",
        "*  Females in rural areas have no access to phones as compared to those in urban ares\n",
        "*  More males in rural areas have no phone access than those in urban areas\n",
        "*   Both genders in rural areas have more access to phones than their counterparts in the urban areas\n",
        "\n",
        "\n"
      ],
      "metadata": {
        "id": "uOxKw_ffb7z5"
      }
    },
    {
      "cell_type": "code",
      "source": [
        "#Household size per country\n",
        "sns.catplot(x='has_a_bank_account', y='household_size', data=fin_data, kind= 'bar', hue='country')\n",
        "plt.show()  "
      ],
      "metadata": {
        "colab": {
          "base_uri": "https://localhost:8080/",
          "height": 369
        },
        "id": "6jfF2WDahh3O",
        "outputId": "074aaca4-806c-48ca-9e80-0d99591b1621"
      },
      "execution_count": null,
      "outputs": [
        {
          "output_type": "display_data",
          "data": {
            "text/plain": [
              "<Figure size 439.5x360 with 1 Axes>"
            ],
            "image/png": "[encoded data removed]"
          },
          "metadata": {
            "needs_background": "light"
          }
        }
      ]
    },
    {
      "cell_type": "markdown",
      "source": [
        "**Observation**\n",
        "\n",
        "\n",
        "*   Tanzania's household has an average of 2 respondents\n",
        "*  Rwanda's households with slightly above 4 people had bank accounts.\n",
        "\n"
      ],
      "metadata": {
        "id": "na1GZ5G2fin7"
      }
    },
    {
      "cell_type": "markdown",
      "source": [
        "**Multivariate Analysis**"
      ],
      "metadata": {
        "id": "cUcwtvvKVoHd"
      }
    },
    {
      "cell_type": "markdown",
      "source": [
        "Method of Choice Principal Component Analysis\n",
        "\n",
        "*  Use the same data type; convert categorical variables to numeric\n",
        "*  Convert categorical variables to numeric\n",
        "*  Project the initial data into reduced space using principal components\n",
        "*   Features with more variance is good;has more features for an algorithm to learn\n",
        "*   Data is skewed\n",
        "*  Models P(X)\n",
        "\n",
        "\n",
        "Reasons Dropping Linear Discriminant Analysis\n",
        "*  Data should be normally distributed;in this case it is skewed\n",
        "*  Each class should have idential covariance matrices\n",
        "*  Models P(X|Y)\n",
        "\n",
        "Reasons Factor Analysis\n",
        "*   Suited for highly correlated sets of numeric variables;in this case our variables have weak or no correlation\n",
        "*  Therefore, we cannot divide the variables based on their correlation into different groups, each represented by a factor\n",
        "\n",
        "\n",
        "\n",
        "\n",
        "\n",
        "\n",
        "\n",
        "\n",
        "\n",
        "\n",
        "\n",
        "\n",
        "\n"
      ],
      "metadata": {
        "id": "cnS_QLZkvwT2"
      }
    },
    {
      "cell_type": "code",
      "source": [
        "#We are recalling our dataset\n",
        "fin_data.head()"
      ],
      "metadata": {
        "colab": {
          "base_uri": "https://localhost:8080/",
          "height": 334
        },
        "id": "TuDUY3Oc9E9V",
        "outputId": "b4467589-2395-4d07-b160-f591549f9824"
      },
      "execution_count": null,
      "outputs": [
        {
          "output_type": "execute_result",
          "data": {
            "text/plain": [
              "   year  household_size  respondent_age  country_Kenya  country_Rwanda  \\\n",
              "0  2018             3.0            24.0              1               0   \n",
              "1  2018             5.0            70.0              1               0   \n",
              "2  2018             5.0            26.0              1               0   \n",
              "3  2018             5.0            34.0              1               0   \n",
              "4  2018             8.0            26.0              1               0   \n",
              "\n",
              "   country_Tanzania  country_Uganda  uniqueid_uniqueid_1  \\\n",
              "0                 0               0                    1   \n",
              "1                 0               0                    0   \n",
              "2                 0               0                    0   \n",
              "3                 0               0                    0   \n",
              "4                 0               0                    0   \n",
              "\n",
              "   uniqueid_uniqueid_10  uniqueid_uniqueid_100  ...  \\\n",
              "0                     0                      0  ...   \n",
              "1                     0                      0  ...   \n",
              "2                     0                      0  ...   \n",
              "3                     0                      0  ...   \n",
              "4                     0                      0  ...   \n",
              "\n",
              "   type_of_job_Dont Know/Refuse to answer  type_of_job_Farming and Fishing  \\\n",
              "0                                       0                                0   \n",
              "1                                       0                                0   \n",
              "2                                       0                                0   \n",
              "3                                       0                                0   \n",
              "4                                       0                                0   \n",
              "\n",
              "   type_of_job_Formally employed Government  \\\n",
              "0                                         0   \n",
              "1                                         0   \n",
              "2                                         0   \n",
              "3                                         0   \n",
              "4                                         0   \n",
              "\n",
              "   type_of_job_Formally employed Private  type_of_job_Government Dependent  \\\n",
              "0                                      0                                 0   \n",
              "1                                      0                                 1   \n",
              "2                                      0                                 0   \n",
              "3                                      1                                 0   \n",
              "4                                      0                                 0   \n",
              "\n",
              "   type_of_job_Informally employed  type_of_job_No Income  \\\n",
              "0                                0                      0   \n",
              "1                                0                      0   \n",
              "2                                0                      0   \n",
              "3                                0                      0   \n",
              "4                                1                      0   \n",
              "\n",
              "   type_of_job_Other Income  type_of_job_Remittance Dependent  \\\n",
              "0                         0                                 0   \n",
              "1                         0                                 0   \n",
              "2                         0                                 0   \n",
              "3                         0                                 0   \n",
              "4                         0                                 0   \n",
              "\n",
              "   type_of_job_Self employed  \n",
              "0                          1  \n",
              "1                          0  \n",
              "2                          1  \n",
              "3                          0  \n",
              "4                          0  \n",
              "\n",
              "[5 rows x 8778 columns]"
            ],
            "text/html": [
              "\n",
              "  <div id=\"df-bec6e02d-9e32-4953-89ec-229169cd9b12\">\n",
              "    <div class=\"colab-df-container\">\n",
              "      <div>\n",
              "<style scoped>\n",
              "    .dataframe tbody tr th:only-of-type {\n",
              "        vertical-align: middle;\n",
              "    }\n",
              "\n",
              "    .dataframe tbody tr th {\n",
              "        vertical-align: top;\n",
              "    }\n",
              "\n",
              "    .dataframe thead th {\n",
              "        text-align: right;\n",
              "    }\n",
              "</style>\n",
              "<table border=\"1\" class=\"dataframe\">\n",
              "  <thead>\n",
              "    <tr style=\"text-align: right;\">\n",
              "      <th></th>\n",
              "      <th>year</th>\n",
              "      <th>household_size</th>\n",
              "      <th>respondent_age</th>\n",
              "      <th>country_Kenya</th>\n",
              "      <th>country_Rwanda</th>\n",
              "      <th>country_Tanzania</th>\n",
              "      <th>country_Uganda</th>\n",
              "      <th>uniqueid_uniqueid_1</th>\n",
              "      <th>uniqueid_uniqueid_10</th>\n",
              "      <th>uniqueid_uniqueid_100</th>\n",
              "      <th>...</th>\n",
              "      <th>type_of_job_Dont Know/Refuse to answer</th>\n",
              "      <th>type_of_job_Farming and Fishing</th>\n",
              "      <th>type_of_job_Formally employed Government</th>\n",
              "      <th>type_of_job_Formally employed Private</th>\n",
              "      <th>type_of_job_Government Dependent</th>\n",
              "      <th>type_of_job_Informally employed</th>\n",
              "      <th>type_of_job_No Income</th>\n",
              "      <th>type_of_job_Other Income</th>\n",
              "      <th>type_of_job_Remittance Dependent</th>\n",
              "      <th>type_of_job_Self employed</th>\n",
              "    </tr>\n",
              "  </thead>\n",
              "  <tbody>\n",
              "    <tr>\n",
              "      <th>0</th>\n",
              "      <td>2018</td>\n",
              "      <td>3.0</td>\n",
              "      <td>24.0</td>\n",
              "      <td>1</td>\n",
              "      <td>0</td>\n",
              "      <td>0</td>\n",
              "      <td>0</td>\n",
              "      <td>1</td>\n",
              "      <td>0</td>\n",
              "      <td>0</td>\n",
              "      <td>...</td>\n",
              "      <td>0</td>\n",
              "      <td>0</td>\n",
              "      <td>0</td>\n",
              "      <td>0</td>\n",
              "      <td>0</td>\n",
              "      <td>0</td>\n",
              "      <td>0</td>\n",
              "      <td>0</td>\n",
              "      <td>0</td>\n",
              "      <td>1</td>\n",
              "    </tr>\n",
              "    <tr>\n",
              "      <th>1</th>\n",
              "      <td>2018</td>\n",
              "      <td>5.0</td>\n",
              "      <td>70.0</td>\n",
              "      <td>1</td>\n",
              "      <td>0</td>\n",
              "      <td>0</td>\n",
              "      <td>0</td>\n",
              "      <td>0</td>\n",
              "      <td>0</td>\n",
              "      <td>0</td>\n",
              "      <td>...</td>\n",
              "      <td>0</td>\n",
              "      <td>0</td>\n",
              "      <td>0</td>\n",
              "      <td>0</td>\n",
              "      <td>1</td>\n",
              "      <td>0</td>\n",
              "      <td>0</td>\n",
              "      <td>0</td>\n",
              "      <td>0</td>\n",
              "      <td>0</td>\n",
              "    </tr>\n",
              "    <tr>\n",
              "      <th>2</th>\n",
              "      <td>2018</td>\n",
              "      <td>5.0</td>\n",
              "      <td>26.0</td>\n",
              "      <td>1</td>\n",
              "      <td>0</td>\n",
              "      <td>0</td>\n",
              "      <td>0</td>\n",
              "      <td>0</td>\n",
              "      <td>0</td>\n",
              "      <td>0</td>\n",
              "      <td>...</td>\n",
              "      <td>0</td>\n",
              "      <td>0</td>\n",
              "      <td>0</td>\n",
              "      <td>0</td>\n",
              "      <td>0</td>\n",
              "      <td>0</td>\n",
              "      <td>0</td>\n",
              "      <td>0</td>\n",
              "      <td>0</td>\n",
              "      <td>1</td>\n",
              "    </tr>\n",
              "    <tr>\n",
              "      <th>3</th>\n",
              "      <td>2018</td>\n",
              "      <td>5.0</td>\n",
              "      <td>34.0</td>\n",
              "      <td>1</td>\n",
              "      <td>0</td>\n",
              "      <td>0</td>\n",
              "      <td>0</td>\n",
              "      <td>0</td>\n",
              "      <td>0</td>\n",
              "      <td>0</td>\n",
              "      <td>...</td>\n",
              "      <td>0</td>\n",
              "      <td>0</td>\n",
              "      <td>0</td>\n",
              "      <td>1</td>\n",
              "      <td>0</td>\n",
              "      <td>0</td>\n",
              "      <td>0</td>\n",
              "      <td>0</td>\n",
              "      <td>0</td>\n",
              "      <td>0</td>\n",
              "    </tr>\n",
              "    <tr>\n",
              "      <th>4</th>\n",
              "      <td>2018</td>\n",
              "      <td>8.0</td>\n",
              "      <td>26.0</td>\n",
              "      <td>1</td>\n",
              "      <td>0</td>\n",
              "      <td>0</td>\n",
              "      <td>0</td>\n",
              "      <td>0</td>\n",
              "      <td>0</td>\n",
              "      <td>0</td>\n",
              "      <td>...</td>\n",
              "      <td>0</td>\n",
              "      <td>0</td>\n",
              "      <td>0</td>\n",
              "      <td>0</td>\n",
              "      <td>0</td>\n",
              "      <td>1</td>\n",
              "      <td>0</td>\n",
              "      <td>0</td>\n",
              "      <td>0</td>\n",
              "      <td>0</td>\n",
              "    </tr>\n",
              "  </tbody>\n",
              "</table>\n",
              "<p>5 rows × 8778 columns</p>\n",
              "</div>\n",
              "      <button class=\"colab-df-convert\" onclick=\"convertToInteractive('df-bec6e02d-9e32-4953-89ec-229169cd9b12')\"\n",
              "              title=\"Convert this dataframe to an interactive table.\"\n",
              "              style=\"display:none;\">\n",
              "        \n",
              "  <svg xmlns=\"http://www.w3.org/2000/svg\" height=\"24px\"viewBox=\"0 0 24 24\"\n",
              "       width=\"24px\">\n",
              "    <path d=\"M0 0h24v24H0V0z\" fill=\"none\"/>\n",
              "    <path d=\"M18.56 5.44l.94 2.06.94-2.06 2.06-.94-2.06-.94-.94-2.06-.94 2.06-2.06.94zm-11 1L8.5 8.5l.94-2.06 2.06-.94-2.06-.94L8.5 2.5l-.94 2.06-2.06.94zm10 10l.94 2.06.94-2.06 2.06-.94-2.06-.94-.94-2.06-.94 2.06-2.06.94z\"/><path d=\"M17.41 7.96l-1.37-1.37c-.4-.4-.92-.59-1.43-.59-.52 0-1.04.2-1.43.59L10.3 9.45l-7.72 7.72c-.78.78-.78 2.05 0 2.83L4 21.41c.39.39.9.59 1.41.59.51 0 1.02-.2 1.41-.59l7.78-7.78 2.81-2.81c.8-.78.8-2.07 0-2.86zM5.41 20L4 18.59l7.72-7.72 1.47 1.35L5.41 20z\"/>\n",
              "  </svg>\n",
              "      </button>\n",
              "      \n",
              "  <style>\n",
              "    .colab-df-container {\n",
              "      display:flex;\n",
              "      flex-wrap:wrap;\n",
              "      gap: 12px;\n",
              "    }\n",
              "\n",
              "    .colab-df-convert {\n",
              "      background-color: #E8F0FE;\n",
              "      border: none;\n",
              "      border-radius: 50%;\n",
              "      cursor: pointer;\n",
              "      display: none;\n",
              "      fill: #1967D2;\n",
              "      height: 32px;\n",
              "      padding: 0 0 0 0;\n",
              "      width: 32px;\n",
              "    }\n",
              "\n",
              "    .colab-df-convert:hover {\n",
              "      background-color: #E2EBFA;\n",
              "      box-shadow: 0px 1px 2px rgba(60, 64, 67, 0.3), 0px 1px 3px 1px rgba(60, 64, 67, 0.15);\n",
              "      fill: #174EA6;\n",
              "    }\n",
              "\n",
              "    [theme=dark] .colab-df-convert {\n",
              "      background-color: #3B4455;\n",
              "      fill: #D2E3FC;\n",
              "    }\n",
              "\n",
              "    [theme=dark] .colab-df-convert:hover {\n",
              "      background-color: #434B5C;\n",
              "      box-shadow: 0px 1px 3px 1px rgba(0, 0, 0, 0.15);\n",
              "      filter: drop-shadow(0px 1px 2px rgba(0, 0, 0, 0.3));\n",
              "      fill: #FFFFFF;\n",
              "    }\n",
              "  </style>\n",
              "\n",
              "      <script>\n",
              "        const buttonEl =\n",
              "          document.querySelector('#df-bec6e02d-9e32-4953-89ec-229169cd9b12 button.colab-df-convert');\n",
              "        buttonEl.style.display =\n",
              "          google.colab.kernel.accessAllowed ? 'block' : 'none';\n",
              "\n",
              "        async function convertToInteractive(key) {\n",
              "          const element = document.querySelector('#df-bec6e02d-9e32-4953-89ec-229169cd9b12');\n",
              "          const dataTable =\n",
              "            await google.colab.kernel.invokeFunction('convertToInteractive',\n",
              "                                                     [key], {});\n",
              "          if (!dataTable) return;\n",
              "\n",
              "          const docLinkHtml = 'Like what you see? Visit the ' +\n",
              "            '<a target=\"_blank\" href=https://colab.research.google.com/notebooks/data_table.ipynb>data table notebook</a>'\n",
              "            + ' to learn more about interactive tables.';\n",
              "          element.innerHTML = '';\n",
              "          dataTable['output_type'] = 'display_data';\n",
              "          await google.colab.output.renderOutput(dataTable, element);\n",
              "          const docLink = document.createElement('div');\n",
              "          docLink.innerHTML = docLinkHtml;\n",
              "          element.appendChild(docLink);\n",
              "        }\n",
              "      </script>\n",
              "    </div>\n",
              "  </div>\n",
              "  "
            ]
          },
          "metadata": {},
          "execution_count": 59
        }
      ]
    },
    {
      "cell_type": "code",
      "source": [
        "#A look at the statistics summary\n",
        "fin_data.describe()"
      ],
      "metadata": {
        "colab": {
          "base_uri": "https://localhost:8080/",
          "height": 428
        },
        "id": "sWkzJkG5-J4G",
        "outputId": "287447aa-fc9d-4b37-ddaf-6965d3feb70f"
      },
      "execution_count": null,
      "outputs": [
        {
          "output_type": "execute_result",
          "data": {
            "text/plain": [
              "               year  household_size  respondent_age  country_Kenya  \\\n",
              "count  23521.000000    23521.000000    23521.000000   23521.000000   \n",
              "mean    2016.975894        3.680073       38.798350       0.257897   \n",
              "std        0.847348        2.279377       16.516497       0.437486   \n",
              "min     2016.000000        0.000000       16.000000       0.000000   \n",
              "25%     2016.000000        2.000000       26.000000       0.000000   \n",
              "50%     2017.000000        3.000000       35.000000       0.000000   \n",
              "75%     2018.000000        5.000000       49.000000       1.000000   \n",
              "max     2018.000000       21.000000      100.000000       1.000000   \n",
              "\n",
              "       country_Rwanda  country_Tanzania  country_Uganda  uniqueid_uniqueid_1  \\\n",
              "count    23521.000000      23521.000000    23521.000000          23521.00000   \n",
              "mean         0.371328          0.281451        0.089324              0.00017   \n",
              "std          0.483170          0.449716        0.285218              0.01304   \n",
              "min          0.000000          0.000000        0.000000              0.00000   \n",
              "25%          0.000000          0.000000        0.000000              0.00000   \n",
              "50%          0.000000          0.000000        0.000000              0.00000   \n",
              "75%          1.000000          1.000000        0.000000              0.00000   \n",
              "max          1.000000          1.000000        1.000000              1.00000   \n",
              "\n",
              "       uniqueid_uniqueid_10  uniqueid_uniqueid_100  ...  \\\n",
              "count           23521.00000            23521.00000  ...   \n",
              "mean                0.00017                0.00017  ...   \n",
              "std                 0.01304                0.01304  ...   \n",
              "min                 0.00000                0.00000  ...   \n",
              "25%                 0.00000                0.00000  ...   \n",
              "50%                 0.00000                0.00000  ...   \n",
              "75%                 0.00000                0.00000  ...   \n",
              "max                 1.00000                1.00000  ...   \n",
              "\n",
              "       type_of_job_Dont Know/Refuse to answer  \\\n",
              "count                            23521.000000   \n",
              "mean                                 0.005357   \n",
              "std                                  0.072996   \n",
              "min                                  0.000000   \n",
              "25%                                  0.000000   \n",
              "50%                                  0.000000   \n",
              "75%                                  0.000000   \n",
              "max                                  1.000000   \n",
              "\n",
              "       type_of_job_Farming and Fishing  \\\n",
              "count                     23521.000000   \n",
              "mean                          0.231368   \n",
              "std                           0.421716   \n",
              "min                           0.000000   \n",
              "25%                           0.000000   \n",
              "50%                           0.000000   \n",
              "75%                           0.000000   \n",
              "max                           1.000000   \n",
              "\n",
              "       type_of_job_Formally employed Government  \\\n",
              "count                              23521.000000   \n",
              "mean                                   0.016453   \n",
              "std                                    0.127214   \n",
              "min                                    0.000000   \n",
              "25%                                    0.000000   \n",
              "50%                                    0.000000   \n",
              "75%                                    0.000000   \n",
              "max                                    1.000000   \n",
              "\n",
              "       type_of_job_Formally employed Private  \\\n",
              "count                           23521.000000   \n",
              "mean                                0.044811   \n",
              "std                                 0.206893   \n",
              "min                                 0.000000   \n",
              "25%                                 0.000000   \n",
              "50%                                 0.000000   \n",
              "75%                                 0.000000   \n",
              "max                                 1.000000   \n",
              "\n",
              "       type_of_job_Government Dependent  type_of_job_Informally employed  \\\n",
              "count                      23521.000000                     23521.000000   \n",
              "mean                           0.011011                         0.237490   \n",
              "std                            0.104358                         0.425554   \n",
              "min                            0.000000                         0.000000   \n",
              "25%                            0.000000                         0.000000   \n",
              "50%                            0.000000                         0.000000   \n",
              "75%                            0.000000                         0.000000   \n",
              "max                            1.000000                         1.000000   \n",
              "\n",
              "       type_of_job_No Income  type_of_job_Other Income  \\\n",
              "count           23521.000000              23521.000000   \n",
              "mean                0.026657                  0.045916   \n",
              "std                 0.161082                  0.209308   \n",
              "min                 0.000000                  0.000000   \n",
              "25%                 0.000000                  0.000000   \n",
              "50%                 0.000000                  0.000000   \n",
              "75%                 0.000000                  0.000000   \n",
              "max                 1.000000                  1.000000   \n",
              "\n",
              "       type_of_job_Remittance Dependent  type_of_job_Self employed  \n",
              "count                      23521.000000               23521.000000  \n",
              "mean                           0.107266                   0.273670  \n",
              "std                            0.309458                   0.445851  \n",
              "min                            0.000000                   0.000000  \n",
              "25%                            0.000000                   0.000000  \n",
              "50%                            0.000000                   0.000000  \n",
              "75%                            0.000000                   1.000000  \n",
              "max                            1.000000                   1.000000  \n",
              "\n",
              "[8 rows x 8778 columns]"
            ],
            "text/html": [
              "\n",
              "  <div id=\"df-1a8ccbd4-6cd6-469f-bf5c-cff5a05ba0a2\">\n",
              "    <div class=\"colab-df-container\">\n",
              "      <div>\n",
              "<style scoped>\n",
              "    .dataframe tbody tr th:only-of-type {\n",
              "        vertical-align: middle;\n",
              "    }\n",
              "\n",
              "    .dataframe tbody tr th {\n",
              "        vertical-align: top;\n",
              "    }\n",
              "\n",
              "    .dataframe thead th {\n",
              "        text-align: right;\n",
              "    }\n",
              "</style>\n",
              "<table border=\"1\" class=\"dataframe\">\n",
              "  <thead>\n",
              "    <tr style=\"text-align: right;\">\n",
              "      <th></th>\n",
              "      <th>year</th>\n",
              "      <th>household_size</th>\n",
              "      <th>respondent_age</th>\n",
              "      <th>country_Kenya</th>\n",
              "      <th>country_Rwanda</th>\n",
              "      <th>country_Tanzania</th>\n",
              "      <th>country_Uganda</th>\n",
              "      <th>uniqueid_uniqueid_1</th>\n",
              "      <th>uniqueid_uniqueid_10</th>\n",
              "      <th>uniqueid_uniqueid_100</th>\n",
              "      <th>...</th>\n",
              "      <th>type_of_job_Dont Know/Refuse to answer</th>\n",
              "      <th>type_of_job_Farming and Fishing</th>\n",
              "      <th>type_of_job_Formally employed Government</th>\n",
              "      <th>type_of_job_Formally employed Private</th>\n",
              "      <th>type_of_job_Government Dependent</th>\n",
              "      <th>type_of_job_Informally employed</th>\n",
              "      <th>type_of_job_No Income</th>\n",
              "      <th>type_of_job_Other Income</th>\n",
              "      <th>type_of_job_Remittance Dependent</th>\n",
              "      <th>type_of_job_Self employed</th>\n",
              "    </tr>\n",
              "  </thead>\n",
              "  <tbody>\n",
              "    <tr>\n",
              "      <th>count</th>\n",
              "      <td>23521.000000</td>\n",
              "      <td>23521.000000</td>\n",
              "      <td>23521.000000</td>\n",
              "      <td>23521.000000</td>\n",
              "      <td>23521.000000</td>\n",
              "      <td>23521.000000</td>\n",
              "      <td>23521.000000</td>\n",
              "      <td>23521.00000</td>\n",
              "      <td>23521.00000</td>\n",
              "      <td>23521.00000</td>\n",
              "      <td>...</td>\n",
              "      <td>23521.000000</td>\n",
              "      <td>23521.000000</td>\n",
              "      <td>23521.000000</td>\n",
              "      <td>23521.000000</td>\n",
              "      <td>23521.000000</td>\n",
              "      <td>23521.000000</td>\n",
              "      <td>23521.000000</td>\n",
              "      <td>23521.000000</td>\n",
              "      <td>23521.000000</td>\n",
              "      <td>23521.000000</td>\n",
              "    </tr>\n",
              "    <tr>\n",
              "      <th>mean</th>\n",
              "      <td>2016.975894</td>\n",
              "      <td>3.680073</td>\n",
              "      <td>38.798350</td>\n",
              "      <td>0.257897</td>\n",
              "      <td>0.371328</td>\n",
              "      <td>0.281451</td>\n",
              "      <td>0.089324</td>\n",
              "      <td>0.00017</td>\n",
              "      <td>0.00017</td>\n",
              "      <td>0.00017</td>\n",
              "      <td>...</td>\n",
              "      <td>0.005357</td>\n",
              "      <td>0.231368</td>\n",
              "      <td>0.016453</td>\n",
              "      <td>0.044811</td>\n",
              "      <td>0.011011</td>\n",
              "      <td>0.237490</td>\n",
              "      <td>0.026657</td>\n",
              "      <td>0.045916</td>\n",
              "      <td>0.107266</td>\n",
              "      <td>0.273670</td>\n",
              "    </tr>\n",
              "    <tr>\n",
              "      <th>std</th>\n",
              "      <td>0.847348</td>\n",
              "      <td>2.279377</td>\n",
              "      <td>16.516497</td>\n",
              "      <td>0.437486</td>\n",
              "      <td>0.483170</td>\n",
              "      <td>0.449716</td>\n",
              "      <td>0.285218</td>\n",
              "      <td>0.01304</td>\n",
              "      <td>0.01304</td>\n",
              "      <td>0.01304</td>\n",
              "      <td>...</td>\n",
              "      <td>0.072996</td>\n",
              "      <td>0.421716</td>\n",
              "      <td>0.127214</td>\n",
              "      <td>0.206893</td>\n",
              "      <td>0.104358</td>\n",
              "      <td>0.425554</td>\n",
              "      <td>0.161082</td>\n",
              "      <td>0.209308</td>\n",
              "      <td>0.309458</td>\n",
              "      <td>0.445851</td>\n",
              "    </tr>\n",
              "    <tr>\n",
              "      <th>min</th>\n",
              "      <td>2016.000000</td>\n",
              "      <td>0.000000</td>\n",
              "      <td>16.000000</td>\n",
              "      <td>0.000000</td>\n",
              "      <td>0.000000</td>\n",
              "      <td>0.000000</td>\n",
              "      <td>0.000000</td>\n",
              "      <td>0.00000</td>\n",
              "      <td>0.00000</td>\n",
              "      <td>0.00000</td>\n",
              "      <td>...</td>\n",
              "      <td>0.000000</td>\n",
              "      <td>0.000000</td>\n",
              "      <td>0.000000</td>\n",
              "      <td>0.000000</td>\n",
              "      <td>0.000000</td>\n",
              "      <td>0.000000</td>\n",
              "      <td>0.000000</td>\n",
              "      <td>0.000000</td>\n",
              "      <td>0.000000</td>\n",
              "      <td>0.000000</td>\n",
              "    </tr>\n",
              "    <tr>\n",
              "      <th>25%</th>\n",
              "      <td>2016.000000</td>\n",
              "      <td>2.000000</td>\n",
              "      <td>26.000000</td>\n",
              "      <td>0.000000</td>\n",
              "      <td>0.000000</td>\n",
              "      <td>0.000000</td>\n",
              "      <td>0.000000</td>\n",
              "      <td>0.00000</td>\n",
              "      <td>0.00000</td>\n",
              "      <td>0.00000</td>\n",
              "      <td>...</td>\n",
              "      <td>0.000000</td>\n",
              "      <td>0.000000</td>\n",
              "      <td>0.000000</td>\n",
              "      <td>0.000000</td>\n",
              "      <td>0.000000</td>\n",
              "      <td>0.000000</td>\n",
              "      <td>0.000000</td>\n",
              "      <td>0.000000</td>\n",
              "      <td>0.000000</td>\n",
              "      <td>0.000000</td>\n",
              "    </tr>\n",
              "    <tr>\n",
              "      <th>50%</th>\n",
              "      <td>2017.000000</td>\n",
              "      <td>3.000000</td>\n",
              "      <td>35.000000</td>\n",
              "      <td>0.000000</td>\n",
              "      <td>0.000000</td>\n",
              "      <td>0.000000</td>\n",
              "      <td>0.000000</td>\n",
              "      <td>0.00000</td>\n",
              "      <td>0.00000</td>\n",
              "      <td>0.00000</td>\n",
              "      <td>...</td>\n",
              "      <td>0.000000</td>\n",
              "      <td>0.000000</td>\n",
              "      <td>0.000000</td>\n",
              "      <td>0.000000</td>\n",
              "      <td>0.000000</td>\n",
              "      <td>0.000000</td>\n",
              "      <td>0.000000</td>\n",
              "      <td>0.000000</td>\n",
              "      <td>0.000000</td>\n",
              "      <td>0.000000</td>\n",
              "    </tr>\n",
              "    <tr>\n",
              "      <th>75%</th>\n",
              "      <td>2018.000000</td>\n",
              "      <td>5.000000</td>\n",
              "      <td>49.000000</td>\n",
              "      <td>1.000000</td>\n",
              "      <td>1.000000</td>\n",
              "      <td>1.000000</td>\n",
              "      <td>0.000000</td>\n",
              "      <td>0.00000</td>\n",
              "      <td>0.00000</td>\n",
              "      <td>0.00000</td>\n",
              "      <td>...</td>\n",
              "      <td>0.000000</td>\n",
              "      <td>0.000000</td>\n",
              "      <td>0.000000</td>\n",
              "      <td>0.000000</td>\n",
              "      <td>0.000000</td>\n",
              "      <td>0.000000</td>\n",
              "      <td>0.000000</td>\n",
              "      <td>0.000000</td>\n",
              "      <td>0.000000</td>\n",
              "      <td>1.000000</td>\n",
              "    </tr>\n",
              "    <tr>\n",
              "      <th>max</th>\n",
              "      <td>2018.000000</td>\n",
              "      <td>21.000000</td>\n",
              "      <td>100.000000</td>\n",
              "      <td>1.000000</td>\n",
              "      <td>1.000000</td>\n",
              "      <td>1.000000</td>\n",
              "      <td>1.000000</td>\n",
              "      <td>1.00000</td>\n",
              "      <td>1.00000</td>\n",
              "      <td>1.00000</td>\n",
              "      <td>...</td>\n",
              "      <td>1.000000</td>\n",
              "      <td>1.000000</td>\n",
              "      <td>1.000000</td>\n",
              "      <td>1.000000</td>\n",
              "      <td>1.000000</td>\n",
              "      <td>1.000000</td>\n",
              "      <td>1.000000</td>\n",
              "      <td>1.000000</td>\n",
              "      <td>1.000000</td>\n",
              "      <td>1.000000</td>\n",
              "    </tr>\n",
              "  </tbody>\n",
              "</table>\n",
              "<p>8 rows × 8778 columns</p>\n",
              "</div>\n",
              "      <button class=\"colab-df-convert\" onclick=\"convertToInteractive('df-1a8ccbd4-6cd6-469f-bf5c-cff5a05ba0a2')\"\n",
              "              title=\"Convert this dataframe to an interactive table.\"\n",
              "              style=\"display:none;\">\n",
              "        \n",
              "  <svg xmlns=\"http://www.w3.org/2000/svg\" height=\"24px\"viewBox=\"0 0 24 24\"\n",
              "       width=\"24px\">\n",
              "    <path d=\"M0 0h24v24H0V0z\" fill=\"none\"/>\n",
              "    <path d=\"M18.56 5.44l.94 2.06.94-2.06 2.06-.94-2.06-.94-.94-2.06-.94 2.06-2.06.94zm-11 1L8.5 8.5l.94-2.06 2.06-.94-2.06-.94L8.5 2.5l-.94 2.06-2.06.94zm10 10l.94 2.06.94-2.06 2.06-.94-2.06-.94-.94-2.06-.94 2.06-2.06.94z\"/><path d=\"M17.41 7.96l-1.37-1.37c-.4-.4-.92-.59-1.43-.59-.52 0-1.04.2-1.43.59L10.3 9.45l-7.72 7.72c-.78.78-.78 2.05 0 2.83L4 21.41c.39.39.9.59 1.41.59.51 0 1.02-.2 1.41-.59l7.78-7.78 2.81-2.81c.8-.78.8-2.07 0-2.86zM5.41 20L4 18.59l7.72-7.72 1.47 1.35L5.41 20z\"/>\n",
              "  </svg>\n",
              "      </button>\n",
              "      \n",
              "  <style>\n",
              "    .colab-df-container {\n",
              "      display:flex;\n",
              "      flex-wrap:wrap;\n",
              "      gap: 12px;\n",
              "    }\n",
              "\n",
              "    .colab-df-convert {\n",
              "      background-color: #E8F0FE;\n",
              "      border: none;\n",
              "      border-radius: 50%;\n",
              "      cursor: pointer;\n",
              "      display: none;\n",
              "      fill: #1967D2;\n",
              "      height: 32px;\n",
              "      padding: 0 0 0 0;\n",
              "      width: 32px;\n",
              "    }\n",
              "\n",
              "    .colab-df-convert:hover {\n",
              "      background-color: #E2EBFA;\n",
              "      box-shadow: 0px 1px 2px rgba(60, 64, 67, 0.3), 0px 1px 3px 1px rgba(60, 64, 67, 0.15);\n",
              "      fill: #174EA6;\n",
              "    }\n",
              "\n",
              "    [theme=dark] .colab-df-convert {\n",
              "      background-color: #3B4455;\n",
              "      fill: #D2E3FC;\n",
              "    }\n",
              "\n",
              "    [theme=dark] .colab-df-convert:hover {\n",
              "      background-color: #434B5C;\n",
              "      box-shadow: 0px 1px 3px 1px rgba(0, 0, 0, 0.15);\n",
              "      filter: drop-shadow(0px 1px 2px rgba(0, 0, 0, 0.3));\n",
              "      fill: #FFFFFF;\n",
              "    }\n",
              "  </style>\n",
              "\n",
              "      <script>\n",
              "        const buttonEl =\n",
              "          document.querySelector('#df-1a8ccbd4-6cd6-469f-bf5c-cff5a05ba0a2 button.colab-df-convert');\n",
              "        buttonEl.style.display =\n",
              "          google.colab.kernel.accessAllowed ? 'block' : 'none';\n",
              "\n",
              "        async function convertToInteractive(key) {\n",
              "          const element = document.querySelector('#df-1a8ccbd4-6cd6-469f-bf5c-cff5a05ba0a2');\n",
              "          const dataTable =\n",
              "            await google.colab.kernel.invokeFunction('convertToInteractive',\n",
              "                                                     [key], {});\n",
              "          if (!dataTable) return;\n",
              "\n",
              "          const docLinkHtml = 'Like what you see? Visit the ' +\n",
              "            '<a target=\"_blank\" href=https://colab.research.google.com/notebooks/data_table.ipynb>data table notebook</a>'\n",
              "            + ' to learn more about interactive tables.';\n",
              "          element.innerHTML = '';\n",
              "          dataTable['output_type'] = 'display_data';\n",
              "          await google.colab.output.renderOutput(dataTable, element);\n",
              "          const docLink = document.createElement('div');\n",
              "          docLink.innerHTML = docLinkHtml;\n",
              "          element.appendChild(docLink);\n",
              "        }\n",
              "      </script>\n",
              "    </div>\n",
              "  </div>\n",
              "  "
            ]
          },
          "metadata": {},
          "execution_count": 60
        }
      ]
    },
    {
      "cell_type": "code",
      "source": [],
      "metadata": {
        "id": "UMPoLrcqHWeo"
      },
      "execution_count": null,
      "outputs": []
    },
    {
      "cell_type": "code",
      "source": [
        "from sklearn.preprocessing import StandardScaler\n",
        "scaler = StandardScaler()\n",
        "scaler.fit(fin_data[['household_size', 'respondent_age']])\n",
        "scaled_data = scaler.transform(fin_data[['household_size', 'respondent_age']])"
      ],
      "metadata": {
        "id": "Vv-I2QxY-ruP"
      },
      "execution_count": null,
      "outputs": []
    },
    {
      "cell_type": "code",
      "source": [
        "scaled_data = pd.DataFrame(scaled_data)"
      ],
      "metadata": {
        "id": "d5TsJ7dm_dbu"
      },
      "execution_count": null,
      "outputs": []
    },
    {
      "cell_type": "code",
      "source": [
        "fin_data = scaled_data.fillna(0)\n",
        "fin_data.head()"
      ],
      "metadata": {
        "colab": {
          "base_uri": "https://localhost:8080/",
          "height": 206
        },
        "id": "epaw9krf_qI_",
        "outputId": "40502c70-66f0-41a1-d428-c3ae0da51b57"
      },
      "execution_count": null,
      "outputs": [
        {
          "output_type": "execute_result",
          "data": {
            "text/plain": [
              "          0         1\n",
              "0 -0.298366 -0.895993\n",
              "1  0.579086  1.889160\n",
              "2  0.579086 -0.774899\n",
              "3  0.579086 -0.290525\n",
              "4  1.895263 -0.774899"
            ],
            "text/html": [
              "\n",
              "  <div id=\"df-9d10f243-b096-4599-bcc4-486dd2282ea1\">\n",
              "    <div class=\"colab-df-container\">\n",
              "      <div>\n",
              "<style scoped>\n",
              "    .dataframe tbody tr th:only-of-type {\n",
              "        vertical-align: middle;\n",
              "    }\n",
              "\n",
              "    .dataframe tbody tr th {\n",
              "        vertical-align: top;\n",
              "    }\n",
              "\n",
              "    .dataframe thead th {\n",
              "        text-align: right;\n",
              "    }\n",
              "</style>\n",
              "<table border=\"1\" class=\"dataframe\">\n",
              "  <thead>\n",
              "    <tr style=\"text-align: right;\">\n",
              "      <th></th>\n",
              "      <th>0</th>\n",
              "      <th>1</th>\n",
              "    </tr>\n",
              "  </thead>\n",
              "  <tbody>\n",
              "    <tr>\n",
              "      <th>0</th>\n",
              "      <td>-0.298366</td>\n",
              "      <td>-0.895993</td>\n",
              "    </tr>\n",
              "    <tr>\n",
              "      <th>1</th>\n",
              "      <td>0.579086</td>\n",
              "      <td>1.889160</td>\n",
              "    </tr>\n",
              "    <tr>\n",
              "      <th>2</th>\n",
              "      <td>0.579086</td>\n",
              "      <td>-0.774899</td>\n",
              "    </tr>\n",
              "    <tr>\n",
              "      <th>3</th>\n",
              "      <td>0.579086</td>\n",
              "      <td>-0.290525</td>\n",
              "    </tr>\n",
              "    <tr>\n",
              "      <th>4</th>\n",
              "      <td>1.895263</td>\n",
              "      <td>-0.774899</td>\n",
              "    </tr>\n",
              "  </tbody>\n",
              "</table>\n",
              "</div>\n",
              "      <button class=\"colab-df-convert\" onclick=\"convertToInteractive('df-9d10f243-b096-4599-bcc4-486dd2282ea1')\"\n",
              "              title=\"Convert this dataframe to an interactive table.\"\n",
              "              style=\"display:none;\">\n",
              "        \n",
              "  <svg xmlns=\"http://www.w3.org/2000/svg\" height=\"24px\"viewBox=\"0 0 24 24\"\n",
              "       width=\"24px\">\n",
              "    <path d=\"M0 0h24v24H0V0z\" fill=\"none\"/>\n",
              "    <path d=\"M18.56 5.44l.94 2.06.94-2.06 2.06-.94-2.06-.94-.94-2.06-.94 2.06-2.06.94zm-11 1L8.5 8.5l.94-2.06 2.06-.94-2.06-.94L8.5 2.5l-.94 2.06-2.06.94zm10 10l.94 2.06.94-2.06 2.06-.94-2.06-.94-.94-2.06-.94 2.06-2.06.94z\"/><path d=\"M17.41 7.96l-1.37-1.37c-.4-.4-.92-.59-1.43-.59-.52 0-1.04.2-1.43.59L10.3 9.45l-7.72 7.72c-.78.78-.78 2.05 0 2.83L4 21.41c.39.39.9.59 1.41.59.51 0 1.02-.2 1.41-.59l7.78-7.78 2.81-2.81c.8-.78.8-2.07 0-2.86zM5.41 20L4 18.59l7.72-7.72 1.47 1.35L5.41 20z\"/>\n",
              "  </svg>\n",
              "      </button>\n",
              "      \n",
              "  <style>\n",
              "    .colab-df-container {\n",
              "      display:flex;\n",
              "      flex-wrap:wrap;\n",
              "      gap: 12px;\n",
              "    }\n",
              "\n",
              "    .colab-df-convert {\n",
              "      background-color: #E8F0FE;\n",
              "      border: none;\n",
              "      border-radius: 50%;\n",
              "      cursor: pointer;\n",
              "      display: none;\n",
              "      fill: #1967D2;\n",
              "      height: 32px;\n",
              "      padding: 0 0 0 0;\n",
              "      width: 32px;\n",
              "    }\n",
              "\n",
              "    .colab-df-convert:hover {\n",
              "      background-color: #E2EBFA;\n",
              "      box-shadow: 0px 1px 2px rgba(60, 64, 67, 0.3), 0px 1px 3px 1px rgba(60, 64, 67, 0.15);\n",
              "      fill: #174EA6;\n",
              "    }\n",
              "\n",
              "    [theme=dark] .colab-df-convert {\n",
              "      background-color: #3B4455;\n",
              "      fill: #D2E3FC;\n",
              "    }\n",
              "\n",
              "    [theme=dark] .colab-df-convert:hover {\n",
              "      background-color: #434B5C;\n",
              "      box-shadow: 0px 1px 3px 1px rgba(0, 0, 0, 0.15);\n",
              "      filter: drop-shadow(0px 1px 2px rgba(0, 0, 0, 0.3));\n",
              "      fill: #FFFFFF;\n",
              "    }\n",
              "  </style>\n",
              "\n",
              "      <script>\n",
              "        const buttonEl =\n",
              "          document.querySelector('#df-9d10f243-b096-4599-bcc4-486dd2282ea1 button.colab-df-convert');\n",
              "        buttonEl.style.display =\n",
              "          google.colab.kernel.accessAllowed ? 'block' : 'none';\n",
              "\n",
              "        async function convertToInteractive(key) {\n",
              "          const element = document.querySelector('#df-9d10f243-b096-4599-bcc4-486dd2282ea1');\n",
              "          const dataTable =\n",
              "            await google.colab.kernel.invokeFunction('convertToInteractive',\n",
              "                                                     [key], {});\n",
              "          if (!dataTable) return;\n",
              "\n",
              "          const docLinkHtml = 'Like what you see? Visit the ' +\n",
              "            '<a target=\"_blank\" href=https://colab.research.google.com/notebooks/data_table.ipynb>data table notebook</a>'\n",
              "            + ' to learn more about interactive tables.';\n",
              "          element.innerHTML = '';\n",
              "          dataTable['output_type'] = 'display_data';\n",
              "          await google.colab.output.renderOutput(dataTable, element);\n",
              "          const docLink = document.createElement('div');\n",
              "          docLink.innerHTML = docLinkHtml;\n",
              "          element.appendChild(docLink);\n",
              "        }\n",
              "      </script>\n",
              "    </div>\n",
              "  </div>\n",
              "  "
            ]
          },
          "metadata": {},
          "execution_count": 65
        }
      ]
    },
    {
      "cell_type": "code",
      "source": [
        "from sklearn.decomposition import PCA\n",
        "logmodel = PCA(n_components=2)\n",
        "logmodel.fit(fin_data)\n",
        "pca_x = logmodel.transform(fin_data)"
      ],
      "metadata": {
        "id": "6GFv0_vr_6uq"
      },
      "execution_count": null,
      "outputs": []
    },
    {
      "cell_type": "code",
      "source": [
        "fin_data.shape"
      ],
      "metadata": {
        "colab": {
          "base_uri": "https://localhost:8080/"
        },
        "id": "GFSWNjhnAMTG",
        "outputId": "da9c492c-725e-4c07-9404-d649dabb97d6"
      },
      "execution_count": null,
      "outputs": [
        {
          "output_type": "execute_result",
          "data": {
            "text/plain": [
              "(23521, 2)"
            ]
          },
          "metadata": {},
          "execution_count": 67
        }
      ]
    },
    {
      "cell_type": "code",
      "source": [
        "pca_x.shape"
      ],
      "metadata": {
        "colab": {
          "base_uri": "https://localhost:8080/"
        },
        "id": "CNpsHv01ATrG",
        "outputId": "9d36ea28-0c56-4894-ee5a-b630d0fdb679"
      },
      "execution_count": null,
      "outputs": [
        {
          "output_type": "execute_result",
          "data": {
            "text/plain": [
              "(23521, 2)"
            ]
          },
          "metadata": {},
          "execution_count": 68
        }
      ]
    },
    {
      "cell_type": "code",
      "source": [
        "fin_data1 = pd.DataFrame(logmodel.components_, columns = ['household_size', 'respondent_age'])"
      ],
      "metadata": {
        "id": "CzEWvad6AhyZ"
      },
      "execution_count": null,
      "outputs": []
    },
    {
      "cell_type": "code",
      "source": [
        "plt.figure(figsize=(10,6))\n",
        "sns.heatmap(fin_data1)"
      ],
      "metadata": {
        "colab": {
          "base_uri": "https://localhost:8080/",
          "height": 393
        },
        "id": "A7HHNvhCApte",
        "outputId": "e517fdab-2189-49ec-f07e-98db5629ba24"
      },
      "execution_count": null,
      "outputs": [
        {
          "output_type": "execute_result",
          "data": {
            "text/plain": [
              "<matplotlib.axes._subplots.AxesSubplot at 0x7f80ee6b9350>"
            ]
          },
          "metadata": {},
          "execution_count": 77
        },
        {
          "output_type": "display_data",
          "data": {
            "text/plain": [
              "<Figure size 720x432 with 2 Axes>"
            ],
            "image/png": "[encoded data removed]"
          },
          "metadata": {
            "needs_background": "light"
          }
        }
      ]
    },
    {
      "cell_type": "code",
      "source": [
        "plt.figure(figsize=(10,6))\n",
        "ty=sns.scatterplot(pca_x[:,0], pca_x[:,1])\n",
        "sns.despine(left=True)\n",
        "ty.set_title('PCA Results')\n",
        "ty.set_ylabel('Second Principle Component ')\n",
        "ty.set_xlabel('First Principle Component ')"
      ],
      "metadata": {
        "colab": {
          "base_uri": "https://localhost:8080/",
          "height": 513
        },
        "id": "AGBO4VTLBtYX",
        "outputId": "137e1455-2c70-4ef5-fadc-0b7fb98aa8da"
      },
      "execution_count": null,
      "outputs": [
        {
          "output_type": "stream",
          "name": "stderr",
          "text": [
            "/usr/local/lib/python3.7/dist-packages/seaborn/_decorators.py:43: FutureWarning:\n",
            "\n",
            "Pass the following variables as keyword args: x, y. From version 0.12, the only valid positional argument will be `data`, and passing other arguments without an explicit keyword will result in an error or misinterpretation.\n",
            "\n"
          ]
        },
        {
          "output_type": "execute_result",
          "data": {
            "text/plain": [
              "Text(0.5, 0, 'First Principle Component ')"
            ]
          },
          "metadata": {},
          "execution_count": 78
        },
        {
          "output_type": "display_data",
          "data": {
            "text/plain": [
              "<Figure size 720x432 with 1 Axes>"
            ],
            "image/png": "[encoded data removed]"
          },
          "metadata": {
            "needs_background": "light"
          }
        }
      ]
    },
    {
      "cell_type": "code",
      "source": [
        "\n",
        "\n",
        "pca_x\n",
        "\n"
      ],
      "metadata": {
        "colab": {
          "base_uri": "https://localhost:8080/"
        },
        "id": "oXKhikZyCFn-",
        "outputId": "5215442c-9d8a-4703-82d5-d235c8e1831e"
      },
      "execution_count": null,
      "outputs": [
        {
          "output_type": "execute_result",
          "data": {
            "text/plain": [
              "array([[ 0.42258639, -0.84453902],\n",
              "       [-0.92636264,  1.74531371],\n",
              "       [ 0.95741211, -0.13846104],\n",
              "       ...,\n",
              "       [ 0.91459905, -0.09564798],\n",
              "       [ 1.40661172,  0.65324306],\n",
              "       [ 2.76542012,  1.15579021]])"
            ]
          },
          "metadata": {},
          "execution_count": 79
        }
      ]
    },
    {
      "cell_type": "code",
      "source": [
        "\n",
        "# we have library function to perform PCA\n",
        "# n_component ---tranform your fin_clean to two features(dimension)\n",
        "from sklearn.decomposition import PCA\n",
        "pca = PCA(n_components=6)   "
      ],
      "metadata": {
        "id": "EB1cxkDofkLb"
      },
      "execution_count": null,
      "outputs": []
    },
    {
      "cell_type": "code",
      "source": [
        "encode= {\"has_a_bank_account\": {\"Yes\":1, \"No\":0}, \"gender_of_respondent\":{\"Male\":1, \"Female\":0},\n",
        "         \"country\":{\"Kenya\":0,\"Uganda\":1,\"Tanzania\":2,\"Rwanda\":3},\n",
        "         \"cell_phone_access\":{\"Yes\":1,\"No\":0},\"type_of_location\": {\"Rural\":1,\"Urban\":0},\n",
        "         \"level_of_educuation\":{\"No formal education\":0,\"Primary education\":1,\"Secondary education\":2,\n",
        "                                \"Vocational/Specialised training\":3,\"Tertiary education\":4,\"Other/Don't know/RTA\":5},\n",
        "         \"the_relationship_with_head\":{\"Head of household\":0,\"Child\":1,\"Parent\":2,\"Spouse\":3,\"Other relative\":4,\"Other non-relatives\":5},\n",
        "         \"marital_status\":{\"Married/Living together\":0,\"Single/Never Married\":1,\"Divorced/Separated\":2,\"widowed\":3,\"Dont know\":4}}\n",
        "\n",
        "  \n",
        "    "
      ],
      "metadata": {
        "id": "VOIQcIi9kUmC"
      },
      "execution_count": null,
      "outputs": []
    },
    {
      "cell_type": "code",
      "source": [
        "# Once you fit/determine the number of components you want to apply in you data, then fit your scaled data\n",
        "pca.fit(fin_clean)"
      ],
      "metadata": {
        "id": "SC5_gJN1gZ4O"
      },
      "execution_count": null,
      "outputs": []
    },
    {
      "cell_type": "code",
      "source": [
        "# The next step is to now tranform  this data to its 2 components\n",
        "pca_transform = pca.transform(scaled_data)"
      ],
      "metadata": {
        "id": "bbyUoZI1gdro"
      },
      "execution_count": null,
      "outputs": []
    },
    {
      "cell_type": "code",
      "source": [
        "# In sklearn,variation is calculated  as \n",
        "# (measurement - mean)2/the number of measurement"
      ],
      "metadata": {
        "id": "5mNduDJTgfMc"
      },
      "execution_count": null,
      "outputs": []
    },
    {
      "cell_type": "code",
      "source": [
        "# Visualizing the 2 dimensions\n",
        "plt.figure(figsize=(8,6))\n",
        "plt.scatter(pca_transform[:,0],pca_transform[:,1],c=cancer_df['target'],cmap ='plasma')\n",
        "plt.xlabel('First component')\n",
        "plt.ylabel('Second component')"
      ],
      "metadata": {
        "id": "eUmK_krngsLu"
      },
      "execution_count": null,
      "outputs": []
    },
    {
      "cell_type": "code",
      "source": [
        "# Interpretating the compents"
      ],
      "metadata": {
        "id": "7MhF7pRKg0Gf"
      },
      "execution_count": null,
      "outputs": []
    },
    {
      "cell_type": "code",
      "source": [
        " # How do we tell how much each data point contribute to a compononent\n",
        " per_var = np.round(pca.explained_variance_ratio_*100,decimals= 1)\n",
        " labels = ['PC' + str(x) for  x in range(1, len(per_var)+1)]"
      ],
      "metadata": {
        "id": "urAENhRQg06f"
      },
      "execution_count": null,
      "outputs": []
    },
    {
      "cell_type": "code",
      "source": [
        "plt.figure(figsize=(14,6))\n",
        "\n",
        "plt.bar(x=range(1,len(per_var)+1),height=per_var,tick_label = labels)\n",
        "plt.ylabel('Percentatge of Explained Variance')\n",
        "plt.xlabel('Principal Componet')\n",
        "plt.title('Scree plot')\n",
        "plt.show()"
      ],
      "metadata": {
        "id": "KlAsYgeog7HJ"
      },
      "execution_count": null,
      "outputs": []
    }
  ]
}